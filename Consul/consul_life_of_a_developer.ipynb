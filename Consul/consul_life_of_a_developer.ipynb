{
 "cells": [
  {
   "cell_type": "markdown",
   "id": "807328ff-c6b1-404d-8ca1-5094c6ea1a44",
   "metadata": {},
   "source": []
  },
  {
   "cell_type": "markdown",
   "id": "bee6b00f-efac-4b6c-b7f4-e35beb5d550d",
   "metadata": {},
   "source": [
    "# Service Mesh - Environment Review"
   ]
  },
  {
   "cell_type": "markdown",
   "id": "ea9d9e10-661b-4af3-9387-f6ae7479c734",
   "metadata": {},
   "source": [
    "teaser: Learn about HashiCups\n",
    "\n",
    "<details><summary><h2>Lab Architecture</b></summary>\n",
    "\n",
    "<img src=\"https://raw.githubusercontent.com/hashicorp/field-workshops-consul/master/instruqt-tracks/consul-life-of-a-developer/assets/diagrams/application-architecture.png\">\n",
    "</details>\n",
    "\n",
    "---\n",
    "\n",
    "  In this assignment, take a few moments to review the lab and the overall architecture for HashiCups.\n",
    "You can see the repository for the HashiCups demo application here: https://github.com/hashicorp-demoapp. <br>\n",
    "\n",
    "\n",
    "You can also view the services already running in your primary Kube cluster.\n",
    "\n",
    "> Prometheus will be deployed in a future assignment. <br>"
   ]
  },
  {
   "cell_type": "markdown",
   "id": "e0de5cde-5d8f-4d79-92b9-23fafd3ae588",
   "metadata": {},
   "source": [
    "**QUICK FIXES**"
   ]
  },
  {
   "cell_type": "code",
   "execution_count": null,
   "id": "85d3808a-4290-4e50-8363-8ea2d54303a9",
   "metadata": {},
   "outputs": [],
   "source": [
    "chmod 600 /root/.kube/config\n",
    "kubectl config set-context k8s1 --namespace=default\n",
    "kubectl config set-context k8s2 --namespace=default"
   ]
  },
  {
   "cell_type": "markdown",
   "id": "8199a060-ab67-4efc-88d4-d0a7d177d5cf",
   "metadata": {},
   "source": [
    "Check the first k8s cluster - `k8s1`. <br>"
   ]
  },
  {
   "cell_type": "code",
   "execution_count": null,
   "id": "f9b7b529-8604-4c16-8006-0099e27da2bd",
   "metadata": {},
   "outputs": [],
   "source": [
    "kubectl config use-context k8s1\n",
    "kubectl get deployments\n",
    "kubectl get pods\n",
    "kubectl get svc"
   ]
  },
  {
   "cell_type": "markdown",
   "id": "28a78dd6-3d17-4b08-a17d-bc0e52e6e84c",
   "metadata": {},
   "source": [
    "Check the second k8s cluster - `k8s2`. <br>"
   ]
  },
  {
   "cell_type": "code",
   "execution_count": null,
   "id": "b086fc78-7fd6-4785-a1d9-053380aec938",
   "metadata": {},
   "outputs": [],
   "source": [
    "kubectl config use-context k8s2\n",
    "kubectl get deployments\n",
    "kubectl get pods\n",
    "kubectl get svc"
   ]
  },
  {
   "cell_type": "markdown",
   "id": "46ecde16-7b24-4752-bbfe-ef35b09e3ae5",
   "metadata": {},
   "source": [
    "In the next few assignments you will validate the Consul deployment."
   ]
  },
  {
   "cell_type": "markdown",
   "id": "76937d44-8b27-4bdf-a9be-cf2c78bd4844",
   "metadata": {},
   "source": [
    "**Command Summary**"
   ]
  },
  {
   "cell_type": "code",
   "execution_count": null,
   "id": "8563fd49-ec73-4e4c-8b0c-0fe01d33bf9c",
   "metadata": {},
   "outputs": [],
   "source": [
    "kubectl --context k8s1 get deployments\n",
    "kubectl --context k8s2 get deployments\n",
    "kubectl --context k8s1 get pods\n",
    "kubectl --context k8s2 get pods\n",
    "kubectl --context k8s1 get svc\n",
    "kubectl --context k8s2 get svc"
   ]
  },
  {
   "cell_type": "markdown",
   "id": "8e1e8018-ab2f-4969-ad1f-f7b2c92c8feb",
   "metadata": {},
   "source": [
    "# Service Mesh - Connect Your Runtimes - Part 1"
   ]
  },
  {
   "cell_type": "markdown",
   "id": "9f7cadd5-5bf4-4619-94fa-b17847993383",
   "metadata": {},
   "source": [
    "teaser: Connect Stateless K8s Cluster\n",
    "\n",
    "tabs:\n",
    "- title: K8s1 - Dashboard Token\n",
    "  type: code\n",
    "  hostname: workstation\n",
    "  path: /root/k8s1-dashboard-token.txt\n",
    "- title: K8s1 - Dashboard\n",
    "  type: service\n",
    "  hostname: k8s1\n",
    "  path: /api/v1/namespaces/kubernetes-dashboard/services/https:kubernetes-dashboard:/proxy/\n",
    "  port: 8001\n",
    "- title: Consul UI\n",
    "  type: service\n",
    "  hostname: workstation\n",
    "  path: /ui/\n",
    "  port: 8500\n",
    "- title: Helm Config\n",
    "  type: code\n",
    "  hostname: workstation\n",
    "  path: /root/helm\n",
    "- title: Vault UI\n",
    "  type: service\n",
    "  hostname: k8s1\n",
    "  path: /\n",
    "  port: 8200\n",
    "- title: K8s Deployment\n",
    "  type: code\n",
    "  hostname: workstation\n",
    "  path: /root/deployments\n",
    "\n",
    "---"
   ]
  },
  {
   "cell_type": "markdown",
   "id": "0b590b24-74b1-4712-8bbf-f7e20464d08c",
   "metadata": {},
   "source": [
    "You can see the complete guide on Kubernetes multi-cluster federation here:\n",
    "- https://www.consul.io/docs/k8s/installation/multi-cluster/kubernetes <br>"
   ]
  },
  {
   "cell_type": "markdown",
   "id": "30dc7a15-7edf-4e1d-99e4-6e6d314470c0",
   "metadata": {},
   "source": [
    "Start validating Consul on `k8s1` with Helm.\n",
    "> This cluster will run our stateless workloads.  <br>"
   ]
  },
  {
   "cell_type": "code",
   "execution_count": null,
   "id": "74f85c8a-ebff-445a-b2c2-4c00b5a17108",
   "metadata": {},
   "outputs": [],
   "source": [
    "kubectl config use-context k8s1\n",
    "helm status consul"
   ]
  },
  {
   "cell_type": "markdown",
   "id": "a75dee3d-7b9b-424a-b43f-d0796c6ec2c5",
   "metadata": {},
   "source": [
    "Sample Output\n",
    "```text\n",
    "...\n",
    "NAME: consul\n",
    "LAST DEPLOYED: Fri Sep  2 16:03:34 2022\n",
    "NAMESPACE: default\n",
    "STATUS: deployed\n",
    "REVISION: 1\n",
    "...\n",
    "```"
   ]
  },
  {
   "cell_type": "markdown",
   "id": "fbf2e743-ccd1-4bc0-8495-ca8faf68c029",
   "metadata": {},
   "source": [
    "Here are the commands that was used to deploy consul.\n",
    "```bash\n",
    "#k8s1\n",
    "kubectl config use-context k8s1\n",
    "helm install -f /root/helm/k8s1-consul-values.yaml consul hashicorp/consul \\\n",
    "  --version $CONSUL_HELM_VERSION --wait --debug\n",
    "kubectl get secret consul-federation -o yaml > consul-federation-secret.yaml\n",
    "```"
   ]
  },
  {
   "cell_type": "markdown",
   "id": "419c2fa5-d38f-4c65-94f0-00d763bb57f1",
   "metadata": {},
   "source": [
    "Check the pods. <br>"
   ]
  },
  {
   "cell_type": "code",
   "execution_count": null,
   "id": "0bad72ab-f224-4a98-a73d-e7d2a2f9603e",
   "metadata": {},
   "outputs": [],
   "source": [
    "kubectl get pods -l app=consul"
   ]
  },
  {
   "cell_type": "markdown",
   "id": "ae90b59c-cb16-4b0b-abd0-f1e3ff0101ba",
   "metadata": {},
   "source": [
    "Sample Output\n",
    "```text\n",
    "NAME                                          READY   STATUS    RESTARTS   AGE\n",
    "consul-webhook-cert-manager-cbd46f96d-82qlm   1/1     Running   0          27m\n",
    "consul-server-0                               1/1     Running   0          27m\n",
    "consul-controller-cc6b67fc6-6mcnw             1/1     Running   0          27m\n",
    "consul-connect-injector-568686765c-fszsm      1/1     Running   0          27m\n",
    "consul-connect-injector-568686765c-tpbfb      1/1     Running   0          27m\n",
    "consul-client-6ccrb                           1/1     Running   0          27m\n",
    "consul-sync-catalog-d948f55f8-9kb8j           1/1     Running   0          27m\n",
    "consul-mesh-gateway-b956b4566-m9sh7           2/2     Running   0          27m\n",
    "consul-ingress-gateway-658cb7b9f7-hdcmr       2/2     Running   0          27m\n",
    "```"
   ]
  },
  {
   "cell_type": "markdown",
   "id": "41e62300-80d6-4116-94d5-3d911cfc7f4c",
   "metadata": {},
   "source": [
    "Check the Consul API. <br>"
   ]
  },
  {
   "cell_type": "code",
   "execution_count": null,
   "id": "938ef78d-355e-4583-a655-0d0e57182ab6",
   "metadata": {},
   "outputs": [],
   "source": [
    "curl localhost:8500/v1/status/leader"
   ]
  },
  {
   "cell_type": "markdown",
   "id": "d7c19628-4748-4cc6-a710-0b2f51df7ac9",
   "metadata": {},
   "source": [
    "You can also see the Consul UI is now up. <br>"
   ]
  },
  {
   "cell_type": "markdown",
   "id": "d6ddf3b1-8a31-4d4b-8fe2-519ca75e930d",
   "metadata": {},
   "source": [
    "## Set up the proxy and mesh defaults for the mesh"
   ]
  },
  {
   "cell_type": "markdown",
   "id": "c1e3ec00-e65a-48b0-8709-09dd64061029",
   "metadata": {},
   "source": [
    "Review the configuration. <br>"
   ]
  },
  {
   "cell_type": "code",
   "execution_count": null,
   "id": "58382555-be36-4b90-898e-534d97648ec5",
   "metadata": {},
   "outputs": [],
   "source": [
    "printf \"\\n#==> Proxy defaults\\n\"\n",
    "cat deployments/config/proxy-defaults.yml\n",
    "\n",
    "printf \"\\n#==> Mesh defaults\\n\"\n",
    "cat deployments/config/mesh.yml"
   ]
  },
  {
   "cell_type": "markdown",
   "id": "e53d454c-4fee-4487-99ef-def17851eb64",
   "metadata": {},
   "source": [
    "Apply the config. <br>"
   ]
  },
  {
   "cell_type": "code",
   "execution_count": null,
   "id": "3982aac8-488c-4b94-ac79-135d371ea9a8",
   "metadata": {},
   "outputs": [],
   "source": [
    "kubectl apply -f deployments/config/proxy-defaults.yml\n",
    "kubectl apply -f deployments/config/mesh.yml"
   ]
  },
  {
   "cell_type": "markdown",
   "id": "54c8b883-a0b1-44f1-a52b-dca1565caa69",
   "metadata": {},
   "source": [
    "Sample Output\n",
    "```text\n",
    "proxydefaults.consul.hashicorp.com/global created\n",
    "mesh.consul.hashicorp.com/mesh created\n",
    "```"
   ]
  },
  {
   "cell_type": "markdown",
   "id": "8cd91e85-2314-4ffe-9aa8-4faca12ac630",
   "metadata": {},
   "source": [
    "In the next assignment you will federate with the other K8s clusters."
   ]
  },
  {
   "cell_type": "markdown",
   "id": "f05b7968-af52-4196-86bb-dcc0e85984c8",
   "metadata": {},
   "source": [
    "**Command Summary**"
   ]
  },
  {
   "cell_type": "markdown",
   "id": "4cc1a57d-df4b-4e93-a769-f77c70f97c07",
   "metadata": {},
   "source": [
    "kubectl config use-context k8s1\n",
    "kubectl apply -f deployments/config/proxy-defaults.yml\n",
    "kubectl apply -f deployments/config/mesh.yml"
   ]
  },
  {
   "cell_type": "markdown",
   "id": "6f3947d6-26dc-403c-b975-e4514814c021",
   "metadata": {},
   "source": [
    "**Verify**"
   ]
  },
  {
   "cell_type": "code",
   "execution_count": null,
   "id": "25fd42d8-695a-411d-a74a-0f86db89a715",
   "metadata": {},
   "outputs": [],
   "source": [
    "#check leader\n",
    "leader=$(curl -s -o /dev/null -w \"%{http_code}\" http://127.0.0.1:8500/v1/status/leader)\n",
    "if [ \"$leader\" != \"200\" ]; then\n",
    "  fail-message \"Your Consul cluster is does not have a leader.\"\n",
    "fi\n",
    "\n",
    "#check config\n",
    "if [ \"$(consul config read -kind proxy-defaults -name global | jq -r '.Config.protocol')\" != \"http\" ]; then\n",
    "  fail-message \"Default protocol is not http\"\n",
    "fi\n",
    "\n",
    "#check mesh\n",
    "if [ \"$(consul config read -kind mesh -name mesh | jq -r .TransparentProxy.MeshDestinationsOnly)\" != \"false\" ]; then\n",
    "  fail-message \"Mesh destination is not true\"\n",
    "fi"
   ]
  },
  {
   "cell_type": "markdown",
   "id": "277eafb2-6555-469e-9a45-a89aed2ef63f",
   "metadata": {},
   "source": []
  },
  {
   "cell_type": "markdown",
   "id": "37fbdab9-50a4-4353-a982-350815fcbca6",
   "metadata": {},
   "source": [
    "# Service Mesh - Connect Your Runtimes - Part 2"
   ]
  },
  {
   "cell_type": "markdown",
   "id": "1caed09a-c41c-4f00-84fc-5b1ea83b54ff",
   "metadata": {},
   "source": [
    "teaser: Connect Stateful K8s Cluster\n",
    "\n",
    "---"
   ]
  },
  {
   "cell_type": "markdown",
   "id": "f675b516-e4d1-438b-8a47-b12e2a014cfb",
   "metadata": {},
   "source": [
    "In this assignment you will validate the steps in this guide for the secondary cluster: https://www.consul.io/docs/k8s/installation/multi-cluster/kubernetes <br>"
   ]
  },
  {
   "cell_type": "markdown",
   "id": "7abe44d9-2960-4702-8dc0-8aec17c0dd76",
   "metadata": {},
   "source": [
    "Deploy Consul to `k8s2` cluster.\n",
    "\n",
    "> Consul has already been pre-deployed. Now, we just check the status."
   ]
  },
  {
   "cell_type": "code",
   "execution_count": null,
   "id": "cd35bbe3-c0fb-4e4d-9f1f-2eac1ee65dcd",
   "metadata": {},
   "outputs": [],
   "source": [
    "kubectl config use-context k8s2\n",
    "helm status consul"
   ]
  },
  {
   "cell_type": "markdown",
   "id": "2f86fe54-ad96-438a-92c0-11d37e1c12e6",
   "metadata": {},
   "source": [
    "Sample Output\n",
    "```text\n",
    "NAME: consul\n",
    "LAST DEPLOYED: Fri Sep  2 16:05:33 2022\n",
    "NAMESPACE: default\n",
    "STATUS: deployed\n",
    "REVISION: 1\n",
    "```"
   ]
  },
  {
   "cell_type": "markdown",
   "id": "c7ff0800-c249-41fd-8af2-49bb0272a25b",
   "metadata": {},
   "source": [
    "Here are the commands that was used to deploy consul.\n",
    "```bash\n",
    "#k8s2\n",
    "kubectl config use-context k8s2\n",
    "kubectl apply -f consul-federation-secret.yaml\n",
    "helm install -f /root/helm/k8s2-consul-values.yaml consul hashicorp/consul \\\n",
    "  --version $CONSUL_HELM_VERSION --wait --debug\n",
    "```"
   ]
  },
  {
   "cell_type": "markdown",
   "id": "01381834-9f52-4fb8-b81d-0ec35c1136e3",
   "metadata": {},
   "source": [
    "Check the pods. <br>"
   ]
  },
  {
   "cell_type": "code",
   "execution_count": null,
   "id": "03dac848-8c51-48de-96ba-712ce8d5398c",
   "metadata": {},
   "outputs": [],
   "source": [
    "kubectl get pods -l app=consul"
   ]
  },
  {
   "cell_type": "markdown",
   "id": "0908ad53-5ff8-4f06-b008-db97d6fdfd58",
   "metadata": {},
   "source": [
    "```text\n",
    "NAME                                          READY   STATUS    RESTARTS   AGE\n",
    "consul-webhook-cert-manager-cbd46f96d-86bhc   1/1     Running   0          24m\n",
    "consul-server-0                               1/1     Running   0          24m\n",
    "consul-controller-7dcf5f7c55-psqg4            1/1     Running   0          24m\n",
    "consul-client-lxwzl                           1/1     Running   0          24m\n",
    "consul-connect-injector-686764b98d-b2wd8      1/1     Running   0          24m\n",
    "consul-connect-injector-686764b98d-ztkxw      1/1     Running   0          24m\n",
    "consul-mesh-gateway-8487fc9b5f-gqf2m          2/2     Running   0          24m\n",
    "```"
   ]
  },
  {
   "cell_type": "markdown",
   "id": "0660119f-1793-4f8e-a22e-a84bd94ed332",
   "metadata": {},
   "source": [
    "Check that the Kubernetes clusters are federated."
   ]
  },
  {
   "cell_type": "code",
   "execution_count": null,
   "id": "da2cc07d-6459-4d8b-99a9-9bec42aaf327",
   "metadata": {},
   "outputs": [],
   "source": [
    "consul members -wan"
   ]
  },
  {
   "cell_type": "markdown",
   "id": "e9385f50-40cf-402e-95c6-ac0d2fc434fe",
   "metadata": {},
   "source": [
    "```text\n",
    "Node                  Address          Status  Type    Build   Protocol  DC    Partition  Segment\n",
    "consul-server-0.k8s1  10.42.0.32:8302  alive   server  1.11.4  2         k8s1  default    <all>\n",
    "consul-server-0.k8s2  10.42.0.21:8302  alive   server  1.11.4  2         k8s2  default    <all>\n",
    "```"
   ]
  },
  {
   "cell_type": "markdown",
   "id": "d4162e9f-9366-4566-b367-8e2b5e2c534a",
   "metadata": {},
   "source": [
    "In this new few assignments, you will deploy workloads to these clusters."
   ]
  },
  {
   "cell_type": "markdown",
   "id": "25107a22-ee49-4dcf-a059-d0dd7bd20ef0",
   "metadata": {},
   "source": []
  },
  {
   "cell_type": "markdown",
   "id": "f55b6fba-58a8-4079-957b-7d744c4c4199",
   "metadata": {},
   "source": [
    "**Command Summary**"
   ]
  },
  {
   "cell_type": "markdown",
   "id": "545d8ab7-8557-4e7d-b81d-3c4bb4b472e0",
   "metadata": {},
   "source": [
    "kubectl config use-context k8s2"
   ]
  },
  {
   "cell_type": "markdown",
   "id": "87e9b589-95cb-486e-a15a-c4a3d3ec5ff3",
   "metadata": {},
   "source": [
    "**Verify**"
   ]
  },
  {
   "cell_type": "code",
   "execution_count": null,
   "id": "c985c9b6-866c-4aa3-80b1-3ec30bd1977e",
   "metadata": {},
   "outputs": [],
   "source": [
    "#check leader\n",
    "leader=$(curl -s -o /dev/null -w \"%{http_code}\" http://127.0.0.1:8500/v1/status/leader?dc=k8s2)\n",
    "if [ \"$leader\" != \"200\" ]; then\n",
    "  fail-message \"Your Consul cluster is does not have a leader.\"\n",
    "fi"
   ]
  },
  {
   "cell_type": "markdown",
   "id": "9a9811ce-8c9e-431a-951f-be61369fd01b",
   "metadata": {},
   "source": []
  },
  {
   "cell_type": "markdown",
   "id": "604026f2-e388-4c85-bef8-a6e55c634d28",
   "metadata": {},
   "source": [
    "# Service Mesh - Deploy Your Application -  Stateful"
   ]
  },
  {
   "cell_type": "markdown",
   "id": "6018b086-373c-4bc7-8fd7-e0dd87954b72",
   "metadata": {},
   "source": [
    "teaser: Deploy Application Storage\n",
    "\n",
    "tabs:\n",
    "- title: K8s2 - Dashboard Token\n",
    "  type: code\n",
    "  hostname: workstation\n",
    "  path: /root/k8s2-dashboard-token.txt\n",
    "- title: K8s2 - Dashboard\n",
    "  type: service\n",
    "  hostname: k8s2\n",
    "  path: /api/v1/namespaces/kubernetes-dashboard/services/https:kubernetes-dashboard:/proxy/\n",
    "  port: 8001\n",
    "- title: K8s Deployment\n",
    "  type: code\n",
    "  hostname: workstation\n",
    "  path: /root/deployments/storage\n",
    "\n",
    "---"
   ]
  },
  {
   "cell_type": "markdown",
   "id": "11ada0ec-3099-4db7-bfca-34a9fbbd0fc1",
   "metadata": {},
   "source": [
    "In this assignment you will deploy the stateful storage of your application to the K8s2 cluster. <br>"
   ]
  },
  {
   "cell_type": "markdown",
   "id": "886e7b4f-41b2-4c85-b6f1-4abd748a340d",
   "metadata": {},
   "source": [
    "Deploy the stateful storage components."
   ]
  },
  {
   "cell_type": "code",
   "execution_count": null,
   "id": "0c63d14d-cf08-45bf-a2b0-1175f5044b53",
   "metadata": {},
   "outputs": [],
   "source": [
    "kubectl config use-context k8s2\n",
    "kubectl apply -f storage"
   ]
  },
  {
   "cell_type": "markdown",
   "id": "5318359b-badb-4b3b-abaa-a910dc4e0c42",
   "metadata": {},
   "source": [
    "Output\n",
    "```text\n",
    "service/payments-queue created\n",
    "serviceaccount/payments-queue created\n",
    "servicedefaults.consul.hashicorp.com/payments-queue created\n",
    "statefulset.apps/payments-queue created\n",
    "service/product-db created\n",
    "serviceaccount/product-db created\n",
    "servicedefaults.consul.hashicorp.com/product-db created\n",
    "statefulset.apps/product-db created\n",
    "serviceintentions.consul.hashicorp.com/product-db created\n",
    "serviceintentions.consul.hashicorp.com/payments-queue created\n",
    "```"
   ]
  },
  {
   "cell_type": "markdown",
   "id": "fe6824ac-d370-4187-bbbf-2b0c089dba08",
   "metadata": {},
   "source": [
    "Wait for the storage pods to be ready."
   ]
  },
  {
   "cell_type": "code",
   "execution_count": null,
   "id": "ec190886-594c-44f6-baeb-fc0b9297a968",
   "metadata": {},
   "outputs": [],
   "source": [
    "kubectl wait pod --selector=app=payments-queue  --for=condition=Ready\n",
    "kubectl wait pod --selector=app=product-db  --for=condition=Ready"
   ]
  },
  {
   "cell_type": "markdown",
   "id": "856cf1d5-3f7f-40df-88fa-303099c03e32",
   "metadata": {},
   "source": [
    "Output\n",
    "```text\n",
    "pod/payments-queue-0 condition met\n",
    "pod/product-db-0 condition met\n",
    "```"
   ]
  },
  {
   "cell_type": "markdown",
   "id": "ed3c8545-7d7b-452e-9038-f247295931fd",
   "metadata": {},
   "source": [
    "In the next assignment you will connect workloads on the other K8s cluster to the deployed storage tier."
   ]
  },
  {
   "cell_type": "markdown",
   "id": "49c8f9c0-3527-4fd6-8254-d34df5ce2eed",
   "metadata": {},
   "source": [
    "<b>Command Summary</b>"
   ]
  },
  {
   "cell_type": "markdown",
   "id": "21d3180f-93e6-46c8-b805-6f054c810912",
   "metadata": {},
   "source": [
    "```shell\n",
    "cd /root/deployments\n",
    "kubectl config use-context k8s2\n",
    "kubectl apply -f storage\n",
    "kubectl wait pod --selector=app=payments-queue  --for=condition=Ready\n",
    "kubectl wait pod --selector=app=product-db  --for=condition=Ready\n",
    "```"
   ]
  },
  {
   "cell_type": "markdown",
   "id": "2b5cf5ee-6fa8-4dd5-b6e2-6217ffddcf62",
   "metadata": {},
   "source": [
    "**Verify**"
   ]
  },
  {
   "cell_type": "code",
   "execution_count": null,
   "id": "774134e3-fbc0-4bf3-b0d7-3e9934f9d12a",
   "metadata": {},
   "outputs": [],
   "source": [
    "```shell\n",
    "#context\n",
    "kubectl config use-context k8s2\n",
    "\n",
    "#pods\n",
    "kubectl wait pod --for=condition=Ready --selector=app=payments-queue --timeout=30s\n",
    "if [ $? -ne 0 ]\n",
    "then\n",
    "  fail-message \"Payment Queue pod not deployed.\"\n",
    "fi\n",
    "kubectl wait pod --for=condition=Ready --selector=app=product-db --timeout=30s\n",
    "if [ $? -ne 0 ]\n",
    "then\n",
    "  fail-message \"Product DB pod not deployed.\"\n",
    "fi\n",
    "```"
   ]
  },
  {
   "cell_type": "markdown",
   "id": "e3a5c303-af69-4d5c-8465-4c2c69fe053b",
   "metadata": {},
   "source": []
  },
  {
   "cell_type": "markdown",
   "id": "67008cf9-a4ec-491e-8bb2-d5150b2d10ee",
   "metadata": {},
   "source": [
    "# Service Mesh - Deploy Your Application - Stateless"
   ]
  },
  {
   "cell_type": "markdown",
   "id": "42a83bfc-72fb-48c6-9c33-b6fe4a2d7562",
   "metadata": {},
   "source": [
    "teaser: Deploy reactive and API components\n",
    "\n",
    "tabs:\n",
    "\n",
    "- title: K8s1 - Dashboard Token\n",
    "  type: code\n",
    "  hostname: workstation\n",
    "  path: /root/k8s1-dashboard-token.txt\n",
    "- title: K8s1 - Dashboard\n",
    "  type: service\n",
    "  hostname: k8s1\n",
    "  path: /api/v1/namespaces/kubernetes-dashboard/services/https:kubernetes-dashboard:/proxy/\n",
    "  port: 8001\n",
    "- title: Consul UI\n",
    "  type: service\n",
    "  hostname: workstation\n",
    "  path: /ui/k8s1\n",
    "  port: 8500\n",
    "- title: K8s Deployment\n",
    "  type: code\n",
    "  hostname: workstation\n",
    "  path: /root/deployments/v1\n",
    "\n",
    "---"
   ]
  },
  {
   "cell_type": "markdown",
   "id": "bcfbf95e-10e7-4403-93a5-ba5ae6f7d666",
   "metadata": {},
   "source": [
    "In this assignment you will deploy the stateless components of your application to the K8s1 cluster. <br>"
   ]
  },
  {
   "cell_type": "markdown",
   "id": "4723ce65-2722-4c68-9d13-0667fc71d27c",
   "metadata": {},
   "source": [
    "Now deploy the frontend, public API, payments API, and product API components."
   ]
  },
  {
   "cell_type": "code",
   "execution_count": null,
   "id": "57c0ad76-6e7b-4cda-80a2-474af4351771",
   "metadata": {},
   "outputs": [],
   "source": [
    "kubectl config use-context k8s1\n",
    "kubectl apply -f v1"
   ]
  },
  {
   "cell_type": "markdown",
   "id": "ccbd77c1-78eb-4654-8367-9764c800eb3c",
   "metadata": {},
   "source": [
    "Output\n",
    "```text\n",
    "service/frontend created\n",
    "serviceaccount/frontend created\n",
    "configmap/nginx created\n",
    "deployment.apps/frontend created\n",
    "service/payments-api created\n",
    "serviceaccount/payments-api created\n",
    "configmap/payments-properties-conf-v1 created\n",
    "deployment.apps/payments-api-v1 created\n",
    "service/product-api created\n",
    "serviceaccount/product-api created\n",
    "configmap/conf created\n",
    "deployment.apps/product-api created\n",
    "service/public-api created\n",
    "serviceaccount/public-api created\n",
    "deployment.apps/public-api created\n",
    "serviceintentions.consul.hashicorp.com/frontend created\n",
    "serviceintentions.consul.hashicorp.com/public-api created\n",
    "serviceintentions.consul.hashicorp.com/product-api created\n",
    "serviceintentions.consul.hashicorp.com/payments-api created\n",
    "```"
   ]
  },
  {
   "cell_type": "markdown",
   "id": "77f068c6-cfe4-44b3-8842-fcf7b6409db1",
   "metadata": {},
   "source": [
    "Wait for the app tier to be ready."
   ]
  },
  {
   "cell_type": "code",
   "execution_count": null,
   "id": "e0f37d5b-016b-43d6-b26b-12aa191f380a",
   "metadata": {},
   "outputs": [],
   "source": [
    "kubectl wait pod --for=condition=Ready --selector=app=frontend\n",
    "kubectl wait pod --for=condition=Ready --selector=app=public-api\n",
    "kubectl wait pod --for=condition=Ready --selector=app=product-api\n",
    "kubectl wait pod --for=condition=Ready --selector=app=payments-api,version=v1 --timeout 90s"
   ]
  },
  {
   "cell_type": "markdown",
   "id": "20ac642b-8d88-4e02-a883-a9ed89a92a80",
   "metadata": {},
   "source": [
    "In the next assignment you will test the application, and the connectivity other K8s cluster."
   ]
  },
  {
   "cell_type": "markdown",
   "id": "152180b1-fceb-436c-9f08-98be587fb763",
   "metadata": {},
   "source": []
  },
  {
   "cell_type": "markdown",
   "id": "6f39e063-cf7d-4bc0-9884-e522c09996d3",
   "metadata": {},
   "source": [
    "**Command Summary**"
   ]
  },
  {
   "cell_type": "markdown",
   "id": "85d91bff-3bb4-41bf-9d69-e4bc54407b11",
   "metadata": {},
   "source": [
    "```shell\n",
    "cd /root/deployments\n",
    "\n",
    "#update the deployment for the instruqt sandbox\n",
    "sed -i \\\n",
    "  \"s,http://localhost,https://k8s1-8080-$_SANDBOX_ID.env.play.instruqt.com,g\" \\\n",
    "  /root/deployments/v1/frontend.yml\n",
    "\n",
    "kubectl config use-context k8s1\n",
    "kubectl apply -f v1\n",
    "kubectl wait pod --for=condition=Ready --selector=app=frontend\n",
    "kubectl wait pod --for=condition=Ready --selector=app=public-api\n",
    "kubectl wait pod --for=condition=Ready --selector=app=product-api\n",
    "kubectl wait pod --for=condition=Ready --selector=app=payments-api,version=v1 --timeout 90s\n",
    "```"
   ]
  },
  {
   "cell_type": "markdown",
   "id": "046406f9-517c-4d3f-898b-ccd72f7e8176",
   "metadata": {},
   "source": [
    "**Verify**"
   ]
  },
  {
   "cell_type": "code",
   "execution_count": null,
   "id": "30c5c220-3826-46cf-b521-e6111f0290b9",
   "metadata": {},
   "outputs": [],
   "source": [
    "kubectl config use-context k8s1\n",
    "\n",
    "kubectl wait pod --for=condition=Ready --selector=app=frontend\n",
    "if [ $? -ne 0 ]\n",
    "then\n",
    "  echo \"Frontend pod not deployed.\"\n",
    "fi\n",
    "kubectl wait pod --for=condition=Ready --selector=app=public-api\n",
    "if [ $? -ne 0 ]\n",
    "then\n",
    "  echo \"Public API pod not deployed.\"\n",
    "fi\n",
    "kubectl wait pod --for=condition=Ready --selector=app=product-api\n",
    "if [ $? -ne 0 ]\n",
    "then\n",
    "  echo \"Product API pod not deployed.\"\n",
    "fi\n",
    "kubectl wait pod --for=condition=Ready --selector=app=payments-api,version=v1\n",
    "if [ $? -ne 0 ]\n",
    "then\n",
    "  echo \"Payment API V1 pod not deployed.\"\n",
    "fi"
   ]
  },
  {
   "cell_type": "markdown",
   "id": "d7b914be-0ac8-436a-a787-b325c924fd23",
   "metadata": {},
   "source": []
  },
  {
   "cell_type": "markdown",
   "id": "6c00ebc8-347d-48fc-890f-8816fbab7feb",
   "metadata": {},
   "source": [
    "# Traffic Management: Ingress"
   ]
  },
  {
   "cell_type": "markdown",
   "id": "8e6331fc-b121-478c-bc38-69779465388a",
   "metadata": {},
   "source": [
    "teaser: Bring traffic into your mesh\n",
    "\n",
    "tabs:\n",
    "- title: K8s Deployment\n",
    "  type: code\n",
    "  hostname: workstation\n",
    "  path: /root/deployments/ingress\n",
    "\n",
    "---"
   ]
  },
  {
   "cell_type": "markdown",
   "id": "b97b7348-3a15-4075-be88-3463bf3b60ee",
   "metadata": {},
   "source": [
    "Review and apply the ingress config."
   ]
  },
  {
   "cell_type": "code",
   "execution_count": null,
   "id": "8cba8529-3b85-47eb-8a81-a2a9f7d90fda",
   "metadata": {},
   "outputs": [],
   "source": [
    "kubectl config use-context k8s1\n",
    "kubectl apply -f ingress/hashicups.yml"
   ]
  },
  {
   "cell_type": "markdown",
   "id": "236a6c07-433c-412d-a50b-6f73fa80edc9",
   "metadata": {},
   "source": [
    "Your ingress config is now in Consul. <br>"
   ]
  },
  {
   "cell_type": "code",
   "execution_count": null,
   "id": "68bce0f3-996f-4754-829f-92d024d1af51",
   "metadata": {},
   "outputs": [],
   "source": [
    "kubectl describe ingressgateway ingress-gateway\n",
    "consul config read -kind ingress-gateway -name ingress-gateway | jq"
   ]
  },
  {
   "cell_type": "markdown",
   "id": "ed64a300-0f9a-4c5c-9647-b024da07f518",
   "metadata": {},
   "source": [
    "In the next assignment you will configure request routing for this ingress gateway."
   ]
  },
  {
   "cell_type": "markdown",
   "id": "21732cca-af5a-44f0-bb7b-b2d2b2c0f950",
   "metadata": {},
   "source": []
  },
  {
   "cell_type": "markdown",
   "id": "8edf3aef-191a-4e1b-b5dc-7fb70d2410e3",
   "metadata": {},
   "source": [
    "**Command Summary**"
   ]
  },
  {
   "cell_type": "markdown",
   "id": "5f494bed-bace-4930-9f3f-79b27fd23656",
   "metadata": {},
   "source": [
    "```shell\n",
    "kubectl config use-context k8s1\n",
    "kubectl apply -f ingress/hashicups.yml\n",
    "```"
   ]
  },
  {
   "cell_type": "markdown",
   "id": "b7c4c473-f73d-4ce9-b6b2-c5b05f608334",
   "metadata": {},
   "source": [
    "**Verify**"
   ]
  },
  {
   "cell_type": "code",
   "execution_count": null,
   "id": "d78aa90f-db05-4ee4-b15f-76a37abcff5d",
   "metadata": {},
   "outputs": [],
   "source": [
    "#check config\n",
    "if [ \"$(consul config read -kind ingress-gateway -name ingress-gateway  | jq -r '.Listeners[0].Services[0].Name')\" != \"hashicups\" ]; then\n",
    "  fail-message \"Ingress Gateway not configured for Hashicups\"\n",
    "fi"
   ]
  },
  {
   "cell_type": "markdown",
   "id": "ce73b1b3-1485-4a85-af35-73b707f8e75c",
   "metadata": {},
   "source": []
  },
  {
   "cell_type": "markdown",
   "id": "bbbd2f04-aea3-4158-9ebc-7fddf14bbf58",
   "metadata": {},
   "source": [
    "# Traffic Management: Request Routing"
   ]
  },
  {
   "cell_type": "markdown",
   "id": "602ef791-fab1-42bb-94ca-08db6fb02fda",
   "metadata": {},
   "source": [
    "teaser: Apply advanced routing patterns\n",
    "\n",
    "tabs:\n",
    "\n",
    "- title: K8s1 - Dashboard Token\n",
    "  type: code\n",
    "  hostname: workstation\n",
    "  path: /root/k8s1-dashboard-token.txt\n",
    "- title: K8s1 - Dashboard\n",
    "  type: service\n",
    "  hostname: k8s1\n",
    "  path: /api/v1/namespaces/kubernetes-dashboard/services/https:kubernetes-dashboard:/proxy/\n",
    "  port: 8001\n",
    "- title: Consul UI\n",
    "  type: service\n",
    "  hostname: workstation\n",
    "  path: /ui/k8s1\n",
    "  port: 8500\n",
    "- title: K8s Deployment\n",
    "  type: code\n",
    "  hostname: workstation\n",
    "  path: /root/deployments/ingress\n",
    "- title: App\n",
    "  type: service\n",
    "  hostname: k8s1\n",
    "  path: /\n",
    "  port: 8080\n",
    "  new_window: true\n",
    "\n",
    "---"
   ]
  },
  {
   "cell_type": "markdown",
   "id": "2734ac16-72bb-4d61-8942-02227de8f666",
   "metadata": {},
   "source": [
    "Review the routes and apply the routing configuration.  <br>"
   ]
  },
  {
   "cell_type": "code",
   "execution_count": null,
   "id": "64b3e20e-f868-470c-b099-ec735c54b226",
   "metadata": {},
   "outputs": [],
   "source": [
    "kubectl config use-context k8s1\n",
    "kubectl apply -f ingress/service-router.yml"
   ]
  },
  {
   "cell_type": "markdown",
   "id": "58adcdfb-154d-42c8-8188-eb016c76c30d",
   "metadata": {},
   "source": [
    "Reload the App tab to see the application that is now served over the ingress gateway. <br>"
   ]
  },
  {
   "cell_type": "code",
   "execution_count": null,
   "id": "2cfa77f6-7c73-4c9d-81a6-0cd524b13983",
   "metadata": {},
   "outputs": [],
   "source": [
    "kubectl exec deploy/consul-ingress-gateway -c ingress-gateway -- \\\n",
    "  wget -qO- 127.0.0.1:19000/config_dump \\\n",
    "  | jq '[.. |.\"dynamic_route_configs\"? \\| select(. != null)[0]]'"
   ]
  },
  {
   "cell_type": "markdown",
   "id": "2611babd-7607-4439-b737-aef42dcd4fff",
   "metadata": {},
   "source": [
    "You can also inspect the clusters. <br>"
   ]
  },
  {
   "cell_type": "markdown",
   "id": "d1a16d9a-fac1-4108-841c-900ab84b1734",
   "metadata": {},
   "source": [
    "kubectl exec deploy/consul-ingress-gateway -c ingress-gateway -- wget -qO- 127.0.0.1:19000/clusters"
   ]
  },
  {
   "cell_type": "markdown",
   "id": "365723d0-1548-4bb5-b29c-760df3002bf8",
   "metadata": {},
   "source": [
    "In the next few assignments you will test HashiCups and use the traffic management capabilities of Consul to ship a new feature in this application."
   ]
  },
  {
   "cell_type": "markdown",
   "id": "c0d61670-9781-4f7e-80dc-c0d5f5bb5ed9",
   "metadata": {},
   "source": []
  },
  {
   "cell_type": "markdown",
   "id": "2a5e0faa-455b-48a5-98f3-9ee47285661d",
   "metadata": {},
   "source": [
    "**Command Summary**"
   ]
  },
  {
   "cell_type": "markdown",
   "id": "6cd24e46-6e66-4eff-bdf4-b28fcf5d2ff4",
   "metadata": {},
   "source": [
    "```shell\n",
    "kubectl config use-context k8s1\n",
    "kubectl apply -f ingress/service-router.yml\n",
    "```"
   ]
  },
  {
   "cell_type": "markdown",
   "id": "a83a128b-b9e1-44c5-9ec8-11974e9ff910",
   "metadata": {},
   "source": [
    "**Verify**"
   ]
  },
  {
   "cell_type": "code",
   "execution_count": null,
   "id": "457e45f8-3c36-4d6b-aaaf-b8784bc05994",
   "metadata": {},
   "outputs": [],
   "source": [
    "#context\n",
    "kubectl config use-context k8s1\n",
    "\n",
    "#check our routes\n",
    "if [ \"$(consul config read -kind service-router -name hashicups  | jq -r '.Routes[0].Destination.Service')\" != \"public-api\" ]; then\n",
    "  fail-message \"Public API route is not set.\"\n",
    "fi\n",
    "\n",
    "if [ \"$(consul config read -kind service-router -name hashicups  | jq -r '.Routes[1].Destination.Service')\" != \"frontend\" ]; then\n",
    "  fail-message \"Frontend route is not set.\"\n",
    "fi"
   ]
  },
  {
   "cell_type": "markdown",
   "id": "02b8e5cd-eba9-48b8-a7a4-378d62132790",
   "metadata": {},
   "source": []
  },
  {
   "cell_type": "markdown",
   "id": "cb69f545-098f-4b25-92b2-b4a8ac03cb0e",
   "metadata": {},
   "source": [
    "# Service Mesh - Test Your Application\n",
    "\n",
    "teaser: Test your deployment\n",
    "tabs:\n",
    "- title: App\n",
    "  type: service\n",
    "  hostname: k8s1\n",
    "  path: /\n",
    "  port: 8080\n",
    "  new_window: true\n",
    "- title: K8s Deployment\n",
    "  type: code\n",
    "  hostname: workstation\n",
    "  path: /root/deployments/v1\n",
    "\n",
    "---"
   ]
  },
  {
   "cell_type": "markdown",
   "id": "44cfd3e6-9089-4909-bd2f-c8007ba46d81",
   "metadata": {},
   "source": [
    "Your application should now be available. You can quickly test the APIs by exposing the public API as a NodePort services.\n",
    "\n",
    "> NodePort services are uncommon in production, but suitable for dev and test. <br>\n",
    "\n",
    "First, let's look at the differences for upstream services located in the same `k8s1` cluster, and services in a different cluster. <br>"
   ]
  },
  {
   "cell_type": "code",
   "execution_count": null,
   "id": "406b6e70-1702-4d8d-9f84-ac1d6ab81dc1",
   "metadata": {},
   "outputs": [],
   "source": [
    "kubectl config use-context k8s1"
   ]
  },
  {
   "cell_type": "markdown",
   "id": "8afd199b-13b1-4a11-938a-7257da3399ec",
   "metadata": {},
   "source": [
    "Same cluster: Public API <br>\n",
    "The address will be for a sidecar pod. <br>"
   ]
  },
  {
   "cell_type": "code",
   "execution_count": null,
   "id": "acc028a3-d864-44cf-ad06-6cfbd953f2b4",
   "metadata": {},
   "outputs": [],
   "source": [
    "kubectl exec deploy/public-api -c envoy-sidecar -- \\\n",
    "  wget -qO- 127.0.0.1:19000/clusters | grep product"
   ]
  },
  {
   "cell_type": "markdown",
   "id": "7db711aa-d41c-40a9-a8fb-dcc27cc792a2",
   "metadata": {},
   "source": [
    "External cluster: Payments API <br>\n",
    "The address will be for the local mesh gateway running in the cluster. <br>"
   ]
  },
  {
   "cell_type": "code",
   "execution_count": null,
   "id": "2062099a-54c7-496e-b67f-230224fad66e",
   "metadata": {},
   "outputs": [],
   "source": [
    "kubectl exec deploy/payments-api-v1 -c envoy-sidecar -- \\\n",
    "  wget -qO- 127.0.0.1:19000/clusters | grep payments-queue"
   ]
  },
  {
   "cell_type": "markdown",
   "id": "56020223-ed7b-4598-895f-0a69fdb4779b",
   "metadata": {},
   "source": [
    "The gateway will inspect the SNI headers and forward it along to the correct destination."
   ]
  },
  {
   "cell_type": "markdown",
   "id": "69b7abba-b91e-4b2c-b07f-25b044fd4e4d",
   "metadata": {},
   "source": [
    "Inspect the SNI value for this service now. <br>"
   ]
  },
  {
   "cell_type": "code",
   "execution_count": null,
   "id": "b4541340-fee0-40b8-8494-e2fdbcefa6fb",
   "metadata": {},
   "outputs": [],
   "source": [
    "kubectl exec deploy/payments-api-v1 -c envoy-sidecar -- \\\n",
    "  wget -qO- 127.0.0.1:19000/config_dump | jq '[.. |.\"dynamic_active_clusters\"? | select(. != null)[2]]'"
   ]
  },
  {
   "cell_type": "markdown",
   "id": "01257832-bead-4c52-8926-dc53982e79a2",
   "metadata": {},
   "source": [
    "Now that you understand the internals of the cross cluster routing, let's test the application so you can make sure it works. <br>"
   ]
  },
  {
   "cell_type": "code",
   "execution_count": null,
   "id": "d57df1d7-f841-4670-ac32-16724e338b1d",
   "metadata": {},
   "outputs": [],
   "source": [
    "kubectl describe svc consul-ingress-gateway\n",
    "ip=$(kubectl get svc consul-ingress-gateway -o json \\\n",
    "  | jq -r '.status.loadBalancer.ingress[0].ip')"
   ]
  },
  {
   "cell_type": "markdown",
   "id": "70a0308f-7a82-4075-a60f-fb10b64a7c90",
   "metadata": {},
   "source": [
    "Try the product API. <br>"
   ]
  },
  {
   "cell_type": "code",
   "execution_count": null,
   "id": "baed71f7-647e-42bf-ba61-7137e502f8a4",
   "metadata": {},
   "outputs": [],
   "source": [
    "curl -s -v http://${ip}:8080/api \\\n",
    "  -H 'Accept-Encoding: gzip, deflate, br' \\\n",
    "  -H 'Content-Type: application/json' \\\n",
    "  -H 'Accept: application/json' \\\n",
    "  -H 'Connection: keep-alive' \\\n",
    "  -H 'DNT: 1' \\\n",
    "  --data-binary '{\"query\":\"{\\n  coffees{id,name,price}\\n}\"}' \\\n",
    "  --compressed | jq"
   ]
  },
  {
   "cell_type": "markdown",
   "id": "b076483a-dfb3-4d1b-a896-25cfbe8907b1",
   "metadata": {},
   "source": [
    "Try the payment API. <br>"
   ]
  },
  {
   "cell_type": "code",
   "execution_count": null,
   "id": "4e1f0496-2c8d-4921-9527-15de6b2d6433",
   "metadata": {},
   "outputs": [],
   "source": [
    "curl -s -v http://${ip}:8080/api \\\n",
    "  -H 'Accept-Encoding: gzip, deflate, br' \\\n",
    "  -H 'Content-Type: application/json' \\\n",
    "  -H 'Accept: application/json' \\\n",
    "  -H 'Connection: keep-alive' \\\n",
    "  -H 'DNT: 1' \\\n",
    "  --data-binary '{\"query\":\"mutation{ pay(details:{ name: \\\"nic\\\", type: \\\"mastercard\\\", number: \\\"1234123-0123123\\\", expiry:\\\"10/02\\\", cv2: 1231, amount: 12.23 }){id, card_plaintext, card_ciphertext, message } }\"}' \\\n",
    "  --compressed | jq"
   ]
  },
  {
   "cell_type": "markdown",
   "id": "999a145b-2d11-4881-947c-bcc7ab6dd237",
   "metadata": {},
   "source": [
    "You should have received a 200 status code from the app API.  <br>\n",
    "\n",
    "Optionally, you can review the data directly in the storage tier.\n",
    "There will be at least one payment in the queue after running the above APIs."
   ]
  },
  {
   "cell_type": "markdown",
   "id": "d2a41915-cc05-4d25-a917-0b764e62d9fd",
   "metadata": {},
   "source": [
    "Switch to the other K8s cluster. <br>"
   ]
  },
  {
   "cell_type": "code",
   "execution_count": null,
   "id": "fe74cfe3-b519-40b5-8b40-ae48d079b617",
   "metadata": {},
   "outputs": [],
   "source": [
    "kubectl config use-context k8s2"
   ]
  },
  {
   "cell_type": "markdown",
   "id": "2429c63d-ea46-43cc-bb2d-b4656513bffd",
   "metadata": {},
   "source": [
    "Check the payment queue. <br>"
   ]
  },
  {
   "cell_type": "code",
   "execution_count": null,
   "id": "4ac20e48-3f04-4fc1-b470-acabe4f1eeec",
   "metadata": {},
   "outputs": [],
   "source": [
    "kubectl exec statefulset/payments-queue -- redis-cli KEYS '*'"
   ]
  },
  {
   "cell_type": "markdown",
   "id": "36037b12-58e7-4855-803c-64714e1d09ee",
   "metadata": {},
   "source": [
    "Check the database. <br>"
   ]
  },
  {
   "cell_type": "code",
   "execution_count": null,
   "id": "83d88a25-57a5-4a03-b9d8-81bab90e4ab1",
   "metadata": {},
   "outputs": [],
   "source": [
    "kubectl exec statefulset/product-db -- \\\n",
    "  env PGPASSWORD=postgres psql -U postgres -d products \\\n",
    "  -c 'SELECT * FROM coffees' -a"
   ]
  },
  {
   "cell_type": "markdown",
   "id": "6985dd6c-92d3-4a39-9b63-e0d9ed051b15",
   "metadata": {},
   "source": [
    "In the next few assignments you will be introduced to more advanced traffic management patterns."
   ]
  },
  {
   "cell_type": "markdown",
   "id": "4e9994ec-ff4f-4b66-8c9c-f341e495af41",
   "metadata": {},
   "source": []
  },
  {
   "cell_type": "markdown",
   "id": "a9d3716d-eadf-4ef3-b82f-728056570d71",
   "metadata": {},
   "source": [
    "**Verify**"
   ]
  },
  {
   "cell_type": "code",
   "execution_count": null,
   "id": "776b5020-e7f1-4cbe-9536-b9ae8b58509e",
   "metadata": {},
   "outputs": [],
   "source": [
    "#context\n",
    "kubectl config use-context k8s1\n",
    "\n",
    "#check the gateway\n",
    "ip=$(kubectl get svc consul-ingress-gateway -o json | jq -r '.status.loadBalancer.ingress[0].ip')\n",
    "if [ -z \"$ip\" ]; then\n",
    "  fail-message \"Ingress Gateway IP not set.\"\n",
    "fi\n",
    "\n",
    "#get the ingress gateway\n",
    "kubectl describe svc consul-ingress-gateway\n",
    "ip=$(kubectl get svc consul-ingress-gateway -o json | jq -r '.status.loadBalancer.ingress[0].ip')\n",
    "\n",
    "#check product\n",
    "product=$(curl -s -o /dev/null -w \"%{http_code}\" http://${ip}:8080/api \\\n",
    "-H 'Accept-Encoding: gzip, deflate, br' \\\n",
    "-H 'Content-Type: application/json' \\\n",
    "-H 'Accept: application/json' \\\n",
    "-H 'Connection: keep-alive' \\\n",
    "-H 'DNT: 1' \\\n",
    "--data-binary '{\"query\":\"{\\n  coffees{id,name,price}\\n}\"}' \\\n",
    "--compressed)\n",
    "if [ \"$product\" != \"200\" ]; then\n",
    "  fail-message \"Product API did not return a 200.\"\n",
    "fi\n",
    "\n",
    "#check payment\n",
    "payment=$(curl -s -o /dev/null -w \"%{http_code}\" http://${ip}:8080/api \\\n",
    "-H 'Accept-Encoding: gzip, deflate, br' \\\n",
    "-H 'Content-Type: application/json' \\\n",
    "-H 'Accept: application/json' \\\n",
    "-H 'Connection: keep-alive' \\\n",
    "-H 'DNT: 1' \\\n",
    "--data-binary '{\"query\":\"mutation{ pay(details:{ name: \\\"nic\\\", type: \\\"mastercard\\\", number: \\\"1234123-0123123\\\", expiry:\\\"10/02\\\", cv2: 1231, amount: 12.23 }){id, card_plaintext, card_ciphertext, message } }\"}' \\\n",
    "--compressed)\n",
    "if [ \"$payment\" != \"200\" ]; then\n",
    "  fail-message \"Payment API did not return a 200.\"\n",
    "fi"
   ]
  },
  {
   "cell_type": "markdown",
   "id": "d93cd000-e808-4e4e-a469-a629950acc3c",
   "metadata": {},
   "source": [
    "**Command Summary**"
   ]
  },
  {
   "cell_type": "markdown",
   "id": "8d148cfe-8996-400c-b19f-964e15c13120",
   "metadata": {},
   "source": []
  },
  {
   "cell_type": "markdown",
   "id": "2af05500-52fd-46f2-9c0f-71c0a7f65d1a",
   "metadata": {},
   "source": [
    "---\n",
    "slug: service-mesh-service-discovery\n",
    "id: 6g4ky4xdgapb\n",
    "type: challenge\n",
    "title: 'Service Mesh: Service Discovery'\n",
    "teaser: Scale up & Scale Down\n",
    "tabs:\n",
    "- title: App\n",
    "  type: service\n",
    "  hostname: k8s1\n",
    "  path: /\n",
    "  port: 8080\n",
    "  new_window: true\n",
    "- title: Workstation\n",
    "  type: terminal\n",
    "  hostname: workstation\n",
    "- title: Consul UI\n",
    "  type: service\n",
    "  hostname: workstation\n",
    "  path: /ui\n",
    "  port: 8500\n",
    "- title: K8s Deployment\n",
    "  type: code\n",
    "  hostname: workstation\n",
    "  path: /root/deployments\n",
    "- title: Lab Architecture\n",
    "  type: website\n",
    "  url: https://htmlpreview.github.io/?https://raw.githubusercontent.com/hashicorp/field-workshops-consul/master/instruqt-tracks/consul-life-of-a-developer/assets/diagrams/diagrams.html\n",
    "difficulty: basic\n",
    "timelimit: 500\n",
    "---\n",
    "Service Discovery is a important component of Service Mesh, and K8s is one of many platforms Consul supports native service discovery.\n",
    "Understanding of the low level data plane is not required, but it can be helpful to get a deeper understanding of the mesh at work!\n",
    "\n",
    "When running on K8s, Consul can consume K8s probes to determine if an instance is healthy or not to receive traffic.\n",
    "You will test this workflow below. <br>\n",
    "\n",
    "Add add curl to the payments api pods. <br>\n",
    "\n",
    "```\n",
    "kubectl config use-context k8s1\n",
    "kubectl exec deploy/payments-api-v1 -c payments-api -- apk add curl\n",
    "```\n",
    "\n",
    "First let's look at the health check on *one* of our payments API pods. It will be passing. <br>\n",
    "\n",
    "```\n",
    "kubectl exec deploy/payments-api-v1 -c payments-api -- curl -s 127.0.0.1:8080/actuator/health | jq\n",
    "```\n",
    "\n",
    "Check the downstream service view of the payments-api upstream. You will see two services, and their pod IPs.\n",
    "\n",
    "```\n",
    "kubectl exec deploy/public-api -c envoy-sidecar -- wget -qO- 127.0.0.1:19000/clusters | grep payments-api\n",
    "```\n",
    "\n",
    "We can use the chaos library on our payments service to simulate an application failure on one of our payments pods, and then look at its health check.\n",
    "\n",
    "\n",
    "```\n",
    "kubectl exec deploy/payments-api-v1 -c payments-api -- curl -s -X POST localhost:8080/actuator/chaosmonkey/enable\n",
    "sleep 15\n",
    "```\n",
    "\n",
    "Check the health check endpoint. <br>\n",
    "\n",
    "```\n",
    "kubectl exec deploy/payments-api-v1 -c payments-api -- curl -s 127.0.0.1:8080/actuator/health | jq\n",
    "```\n",
    "\n",
    "Check the K8s probe. <br>\n",
    "\n",
    "```\n",
    "kubectl get pod --selector=app=payments-api,version=v1 -o json | jq .items[0].status.conditions\n",
    "```\n",
    "\n",
    "Check the status in Consul. <br>\n",
    "\n",
    "```\n",
    "curl -s http://127.0.0.1:8500/v1/health/checks/payments-api | jq\n",
    "```\n",
    "\n",
    "This failure will remove this instance from the data plane. You will see this reflected in Envoy's health flag.\n",
    "The flag will prevent this instance from receiving traffic, and the value will be `/failed_eds_health` <br>\n",
    "\n",
    "Check the downstream service for this flag. <br>\n",
    "\n",
    "```\n",
    "kubectl exec deploy/public-api -c envoy-sidecar -- wget -qO- 127.0.0.1:19000/clusters | grep payments-api\n",
    "```\n",
    "\n",
    "Your payments service will now fail.\n",
    "\n",
    "```\n",
    "ip=$(kubectl get svc consul-ingress-gateway -o json | jq -r '.status.loadBalancer.ingress[0].ip')\n",
    "curl -s -v http://${ip}:8080/api \\\n",
    "-H 'Accept-Encoding: gzip, deflate, br' \\\n",
    "-H 'Content-Type: application/json' \\\n",
    "-H 'Accept: application/json' \\\n",
    "-H 'Connection: keep-alive' \\\n",
    "-H 'DNT: 1' \\\n",
    "--data-binary '{\"query\":\"mutation{ pay(details:{ name: \\\"nic\\\", type: \\\"mastercard\\\", number: \\\"1234123-0123123\\\", expiry:\\\"10/02\\\", cv2: 1231, amount: 12.23 }){id, card_plaintext, card_ciphertext, message } }\"}' \\\n",
    "--compressed | jq\n",
    "```\n",
    "\n",
    "Scale the deployment to bring a heathly instance online, and wait for the pod to start. Consul will transparently shift traffic away from the failed pod.\n",
    "\n",
    "```\n",
    "kubectl scale deployment.v1.apps/payments-api-v1 --replicas=2\n",
    "sleep 60\n",
    "```\n",
    "\n",
    "Check the status in Consul. You will two sets of service checks. One of the sets will be healthy. <br>\n",
    "\n",
    "```\n",
    "curl -s http://127.0.0.1:8500/v1/health/checks/payments-api | jq\n",
    "```\n",
    "\n",
    "Now check the upstream service.\n",
    "\n",
    "```\n",
    "kubectl exec deploy/public-api -c envoy-sidecar -- wget -qO- 127.0.0.1:19000/clusters | grep payments-api | grep health_flags\n",
    "```\n",
    "\n",
    "Try your payments service again. <br>\n",
    "\n",
    "```\n",
    "ip=$(kubectl get svc consul-ingress-gateway -o json | jq -r '.status.loadBalancer.ingress[0].ip')\n",
    "curl -s -v http://${ip}:8080/api \\\n",
    "-H 'Accept-Encoding: gzip, deflate, br' \\\n",
    "-H 'Content-Type: application/json' \\\n",
    "-H 'Accept: application/json' \\\n",
    "-H 'Connection: keep-alive' \\\n",
    "-H 'DNT: 1' \\\n",
    "--data-binary '{\"query\":\"mutation{ pay(details:{ name: \\\"nic\\\", type: \\\"mastercard\\\", number: \\\"1234123-0123123\\\", expiry:\\\"10/02\\\", cv2: 1231, amount: 12.23 }){id, card_plaintext, card_ciphertext, message } }\"}' \\\n",
    "--compressed | jq\n",
    "```\n",
    "\n",
    "You can run a graceful restart of the deployment to cycle away the bad pod. You can proceed to the next challenge during the rollout.\n",
    "\n",
    "```\n",
    "kubectl rollout restart deployment/payments-api-v1\n",
    "```\n",
    "\n",
    "You will introduce more advanced traffic management in the next few assignments.\n"
   ]
  },
  {
   "cell_type": "markdown",
   "id": "fdc4e06f-4de1-4b69-a29a-0faebd2bd0f8",
   "metadata": {},
   "source": []
  },
  {
   "cell_type": "code",
   "execution_count": null,
   "id": "cbda74b7-0d8a-4c73-a1ef-c4242fbd6fda",
   "metadata": {},
   "outputs": [],
   "source": [
    "#context\n",
    "kubectl config use-context k8s1\n",
    "\n",
    "#get the ingress gateway\n",
    "kubectl describe svc consul-ingress-gateway\n",
    "ip=$(kubectl get svc consul-ingress-gateway -o json | jq -r '.status.loadBalancer.ingress[0].ip')\n",
    "\n",
    "#check product\n",
    "product=$(curl -s -o /dev/null -w \"%{http_code}\" http://${ip}:8080/api \\\n",
    "  -H 'Accept-Encoding: gzip, deflate, br' \\\n",
    "  -H 'Content-Type: application/json' \\\n",
    "  -H 'Accept: application/json' \\\n",
    "  -H 'Connection: keep-alive' \\\n",
    "  -H 'DNT: 1' \\\n",
    "  --data-binary '{\"query\":\"{\\n  coffees{id,name,price}\\n}\"}' \\\n",
    "  --compressed)\n",
    "if [ \"$product\" != \"200\" ]; then\n",
    "  fail-message \"Product API did not return a 200.\"\n",
    "fi\n",
    "\n",
    "#check payments\n",
    "payment=$(curl -s -o /dev/null -w \"%{http_code}\" http://${ip}:8080/api \\\n",
    "  -H 'Accept-Encoding: gzip, deflate, br' \\\n",
    "  -H 'Content-Type: application/json' \\\n",
    "  -H 'Accept: application/json' \\\n",
    "  -H 'Connection: keep-alive' \\\n",
    "  -H 'DNT: 1' \\\n",
    "  --data-binary '{\"query\":\"mutation{ pay(details:{ name: \\\"nic\\\", type: \\\"mastercard\\\", number: \\\"1234123-0123123\\\", expiry:\\\"10/02\\\", cv2: 1231, amount: 12.23 }){id, card_plaintext, card_ciphertext, message } }\"}' \\\n",
    "  --compressed)\n",
    "if [ \"$payment\" != \"200\" ]; then\n",
    "  fail-message \"Payment API did not return a 200.\"\n",
    "fi"
   ]
  },
  {
   "cell_type": "markdown",
   "id": "adaf0048-19c7-48ae-a81b-b07acf8834a5",
   "metadata": {},
   "source": [
    "**Command Summary**"
   ]
  },
  {
   "cell_type": "markdown",
   "id": "75283997-9b52-46a1-9c5a-84340665293b",
   "metadata": {},
   "source": [
    "```shell\n",
    "#context\n",
    "kubectl config use-context k8s1\n",
    "\n",
    "#chaos\n",
    "kubectl exec deploy/payments-api-v1 -c payments-api -- apk add curl\n",
    "kubectl exec deploy/payments-api-v1 -c payments-api -- curl -s -X POST localhost:8080/actuator/chaosmonkey/enable\n",
    "sleep 15\n",
    "\n",
    "#scale\n",
    "kubectl scale deployment.v1.apps/payments-api-v1 --replicas=2\n",
    "sleep 60\n",
    "\n",
    "#restart\n",
    "kubectl rollout restart deployment/payments-api-v1\n",
    "```"
   ]
  },
  {
   "cell_type": "markdown",
   "id": "37d37e17-46f3-4783-81de-138f407b617b",
   "metadata": {},
   "source": []
  },
  {
   "cell_type": "markdown",
   "id": "74f80a68-d303-48fb-96aa-21e15a510bbe",
   "metadata": {},
   "source": []
  },
  {
   "cell_type": "markdown",
   "id": "cd67ee68-a43a-4082-9a9c-36ecb011e43f",
   "metadata": {},
   "source": [
    "# Appendix"
   ]
  },
  {
   "cell_type": "markdown",
   "id": "a2b5a86e-6ec8-4c24-8380-187315612c4b",
   "metadata": {},
   "source": [
    "- Setup scripts - https://github.com/hashicorp/field-workshops-consul/blob/master/instruqt-tracks/consul-life-of-a-developer/track_scripts/setup-workstation"
   ]
  }
 ],
 "metadata": {
  "kernelspec": {
   "display_name": "Bash",
   "language": "bash",
   "name": "bash"
  },
  "language_info": {
   "codemirror_mode": "shell",
   "file_extension": ".sh",
   "mimetype": "text/x-sh",
   "name": "bash"
  }
 },
 "nbformat": 4,
 "nbformat_minor": 5
}
