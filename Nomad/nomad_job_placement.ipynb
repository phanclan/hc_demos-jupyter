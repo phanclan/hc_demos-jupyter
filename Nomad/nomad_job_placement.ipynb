{
 "cells": [
  {
   "cell_type": "markdown",
   "id": "8ee470ad-15ae-4290-9edf-e6bb50654532",
   "metadata": {},
   "source": [
    "# Nomad Advanced Job Placement"
   ]
  },
  {
   "cell_type": "markdown",
   "id": "a346b8e4-0656-4974-87a0-0b77cc4d1b52",
   "metadata": {},
   "source": [
    "teaser: |\n",
    "Explore advanced Nomad job placement strategies with Constraints, Affinities, and Spread.\n",
    "\n",
    "description: |-\n",
    "This track will show how you can control job placement in Nomad with:\n",
    "- [Constraints](https://www.nomadproject.io/docs/job-specification/constraint/)\n",
    "- [Affinities](https://www.nomadproject.io/docs/job-specification/affinity/)\n",
    "- and [Spread](https://www.nomadproject.io/docs/job-specification/spread/)\n",
    "- illustrating the flexibility of Nomad in this area.\n",
    "\n",
    "You will also learn about Nomad's [Variable Interpolation](https://www.nomadproject.io/docs/runtime/interpolation/) that allow applications deployed by Nomad to do things like use listen on ports dynamically selected by Nomad.\n",
    "\n",
    "You will deploy a Nomad cluster and run Nomad jobs that deploy a web application and [Traefik](https://containo.us/traefik/), which will provide load balancing across multiple instances of the application.\n",
    "\n",
    "Before running this track, we suggest you run the **Nomad Basics** and **Nomad Simple Cluster** tracks.\n",
    "\n",
    "<img src=https://storage.googleapis.com/instruqt-hashicorp-tracks/logo/nomad.png width=100>\n"
   ]
  },
  {
   "cell_type": "markdown",
   "id": "90a76430-cab3-4568-8625-24d6db1e9eef",
   "metadata": {},
   "source": [
    "# Prep"
   ]
  },
  {
   "cell_type": "markdown",
   "id": "72343bd8-0355-4435-b61b-b16dcb757fdd",
   "metadata": {},
   "source": [
    "## AWS Credentials"
   ]
  },
  {
   "cell_type": "markdown",
   "id": "1535c140-da94-4462-b6d9-686865a60b67",
   "metadata": {},
   "source": [
    "Set your AWS Credentials. I got one from Instruqt terminal with this command.\n",
    "\n",
    "```bash\n",
    "env | grep -iE \"^aws.*access\" | xargs -I{} echo export {}\n",
    "```"
   ]
  },
  {
   "cell_type": "code",
   "execution_count": null,
   "id": "d25f6063-6b61-44fe-be02-7d41432c7ec4",
   "metadata": {},
   "outputs": [],
   "source": [
    "unset AWS_ACCESS_KEY_ID AWS_SECRET_ACCESS_KEY\n",
    "export AWS_DEFAULT_REGION=us-west-2\n",
    "export AWS_REGION=$AWS_DEFAULT_REGION\n",
    "export AWS_ACCESS_KEY_ID=\n",
    "export AWS_SECRET_ACCESS_KEY=\n",
    "export TF_VAR_aws_access_key_id=$AWS_ACCESS_KEY_ID\n",
    "export TF_VAR_aws_secret_access_key=$AWS_SECRET_ACCESS_KEY\n",
    "export TF_INPUT=false\n",
    "\n",
    "printf \"%s\\n\" \"==> Creds:\" \"$AWS_REGION\" \"$AWS_ACCESS_KEY_ID\" \"$AWS_SECRET_ACCESS_KEY\""
   ]
  },
  {
   "cell_type": "markdown",
   "id": "d4e61f37-0867-4733-bef9-e23e9ac7f711",
   "metadata": {},
   "source": [
    "Create default VPC if needed."
   ]
  },
  {
   "cell_type": "code",
   "execution_count": null,
   "id": "dd411b6b-fa71-413a-a5cb-9ed5a508e3fb",
   "metadata": {},
   "outputs": [],
   "source": [
    "aws configure set region us-west-2 --profile default"
   ]
  },
  {
   "cell_type": "code",
   "execution_count": null,
   "id": "96d22da8-2b30-49a1-90c0-934f52848096",
   "metadata": {},
   "outputs": [],
   "source": [
    "aws ec2 create-default-vpc > /dev/null || true\n",
    "\n",
    "# printf \"\\n==> Create VPC - Nomad\\n\"\n",
    "# if [[ -z $(aws ec2 describe-vpcs \\\n",
    "#   | jq -r '.[] | .[] | select(.IsDefault == false ) | .VpcId ') ]]; then\n",
    "#   echo \"Creating VPC\"\n",
    "#   aws ec2 create-vpc \\\n",
    "#     --cidr-block 172.33.0.0/24 \\\n",
    "#     --tag-specification ResourceType=vpc,Tags=['{Key=Name,Value=Nomad}']\n",
    "# fi\n",
    "\n",
    "printf \"\\n#==> Show VPC ids\\n\"\n",
    "aws ec2 describe-vpcs \\\n",
    "  | jq -r '.[] | .[] | select(.IsDefault == true ) | .VpcId '"
   ]
  },
  {
   "cell_type": "markdown",
   "id": "a5528e4e-3ad2-4a50-9602-d36199ca0337",
   "metadata": {},
   "source": [
    "## Clone Repo"
   ]
  },
  {
   "cell_type": "code",
   "execution_count": null,
   "id": "7c1e9d43-3da6-477e-95a9-b86bce654705",
   "metadata": {},
   "outputs": [],
   "source": [
    "pushd /tmp >/dev/null\n",
    "git clone https://github.com/phanclan/nomad_terraform\n",
    "# cp -r /tmp/nomad/terraform /tmp/Nomad\n",
    "popd >/dev/null"
   ]
  },
  {
   "cell_type": "code",
   "execution_count": null,
   "id": "6c1113ac-79df-499d-9733-7ae01da5ea76",
   "metadata": {},
   "outputs": [],
   "source": [
    "# rm -rf /tmp/Nomad/{ssh_key,cluster} \n",
    "\n",
    "mkdir -p /tmp/nomad_terraform/ssh_key\n",
    "# mkdir -p /tmp/nomad_terraform/cluster"
   ]
  },
  {
   "cell_type": "markdown",
   "id": "e95caf06-df24-4e0e-a15c-b19fa26009ec",
   "metadata": {},
   "source": [
    "## create terragrunt.hcl - ssh_key"
   ]
  },
  {
   "cell_type": "code",
   "execution_count": null,
   "id": "3f849c9b-0ab9-4510-a27a-4954bd510c8d",
   "metadata": {
    "tags": []
   },
   "outputs": [],
   "source": [
    "cat > /tmp/nomad_terraform/ssh_key/terragrunt.hcl <<\"EOL\"\n",
    "terraform {\n",
    "  source = \"tfr:///cloudposse/key-pair/aws?version=0.18.3\"\n",
    "  extra_arguments \"plan\" {\n",
    "    commands = [ \"plan\", ]\n",
    "    arguments = [\n",
    "      \"-input=false\",\n",
    "    ]\n",
    "  }\n",
    "  extra_arguments \"apply\" {\n",
    "    commands = [ \"apply\", \"destroy\" ]\n",
    "    arguments = [\n",
    "      \"-input=false\",\n",
    "      \"-auto-approve\"\n",
    "    ]\n",
    "  }\n",
    "}\n",
    "\n",
    "# Indicate the input values to use for the variables of the module.\n",
    "inputs = {\n",
    "  ssh_public_key_path       = \"/tmp/nomad_terraform/ssh_key\"\n",
    "  generate_ssh_key     = true\n",
    "  name                 = \"aws-key-pair\"\n",
    "}\n",
    "EOL"
   ]
  },
  {
   "cell_type": "code",
   "execution_count": null,
   "id": "47da2dfe-c227-4888-92e5-a42ea69839cf",
   "metadata": {
    "tags": []
   },
   "outputs": [],
   "source": [
    "pushd /tmp/nomad_terraform/ssh_key >/dev/null\n",
    "time terragrunt apply > tf_apply_ssh_key_out.txt 2>&1 &\n",
    "popd >/dev/null"
   ]
  },
  {
   "cell_type": "code",
   "execution_count": null,
   "id": "8d08d980-6fc0-47fd-a332-18cbe96e5381",
   "metadata": {
    "tags": []
   },
   "outputs": [],
   "source": [
    "tail /tmp/nomad_terraform/ssh_key/tf_apply_ssh_key_out.txt"
   ]
  },
  {
   "cell_type": "code",
   "execution_count": null,
   "id": "7c332ddd-9518-4312-94f5-c58139661a8b",
   "metadata": {},
   "outputs": [],
   "source": [
    "pushd /tmp/nomad_terraform/ssh_key >/dev/null\n",
    "printf \"private key: $(terragrunt output -raw private_key_filename)\"\n",
    "popd >/dev/null"
   ]
  },
  {
   "cell_type": "markdown",
   "id": "b6df67e0-7c45-4a67-a741-f02c29d4207f",
   "metadata": {},
   "source": [
    "## create terragrunt.hcl - cluster"
   ]
  },
  {
   "cell_type": "markdown",
   "id": "e8ee9fe6-adec-4483-a9f0-4e7585e86e82",
   "metadata": {},
   "source": [
    "### packer"
   ]
  },
  {
   "cell_type": "code",
   "execution_count": null,
   "id": "84d57aa2-c045-4262-95e3-e54c01c3980d",
   "metadata": {},
   "outputs": [],
   "source": [
    "pushd /tmp/nomad_terraform/aws >/dev/null\n",
    "cat > packer.json <<EOL\n",
    "{\n",
    "  \"builders\": [{\n",
    "    \"type\": \"amazon-ebs\",\n",
    "    \"region\": \"us-west-2\",\n",
    "    \"source_ami_filter\": {\n",
    "      \"filters\": {\n",
    "        \"virtualization-type\": \"hvm\",\n",
    "        \"architecture\": \"x86_64\",\n",
    "        \"name\": \"ubuntu/images/hvm-ssd/ubuntu-focal-20.04-amd64-server-*\",\n",
    "        \"root-device-type\": \"ebs\"\n",
    "      },\n",
    "      \"owners\": [\"099720109477\"],\n",
    "      \"most_recent\": true\n",
    "    },\n",
    "    \"instance_type\": \"m5.large\",\n",
    "    \"ssh_username\": \"ubuntu\",\n",
    "    \"ami_name\": \"hashistack {{timestamp}}\"\n",
    "  }],\n",
    "  \"provisioners\":  [\n",
    "  {\n",
    "    \"type\": \"shell\",\n",
    "    \"inline\": [\n",
    "      \"sudo mkdir /ops\",\n",
    "      \"sudo chmod 777 /ops\"\n",
    "    ]\n",
    "  },\n",
    "  {\n",
    "    \"type\": \"file\",\n",
    "    \"source\": \"../shared\",\n",
    "    \"destination\": \"/ops\"\n",
    "  },\n",
    "  {\n",
    "    \"type\": \"file\",\n",
    "    \"source\": \"../examples\",\n",
    "    \"destination\": \"/ops\"\n",
    "  },\n",
    "  {\n",
    "    \"type\": \"shell\",\n",
    "    \"script\": \"../shared/scripts/setup_new.sh\",\n",
    "    \"environment_vars\": [\n",
    "      \"INSTALL_NVIDIA_DOCKER=false\"\n",
    "    ]\n",
    "  }]\n",
    "}\n",
    "EOL\n",
    "popd >/dev/null"
   ]
  },
  {
   "cell_type": "markdown",
   "id": "3a5fd7f2-f9ea-47fb-9419-d48312c61929",
   "metadata": {},
   "source": [
    "#### packer build"
   ]
  },
  {
   "cell_type": "markdown",
   "id": "e5cede9a-79ed-46b2-b368-e3ecac6cf889",
   "metadata": {},
   "source": [
    "> My build time was ~6 minutes."
   ]
  },
  {
   "cell_type": "code",
   "execution_count": null,
   "id": "3f0dc8c9-7239-4265-bd3c-afd4761d5d7c",
   "metadata": {},
   "outputs": [],
   "source": [
    "pushd /tmp/nomad_terraform/aws >/dev/null\n",
    "time packer build packer.json > /tmp/packer_nomad_out.txt 2>&1\n",
    "popd >/dev/null"
   ]
  },
  {
   "cell_type": "code",
   "execution_count": null,
   "id": "3baa161b-a8c8-4b4d-933b-6d2c6eafd053",
   "metadata": {
    "tags": []
   },
   "outputs": [],
   "source": [
    "tail -n 30 /tmp/packer_nomad_out.txt"
   ]
  },
  {
   "cell_type": "markdown",
   "id": "e22a3f2d-a9b0-4fa8-b28e-111a637eaf32",
   "metadata": {},
   "source": [
    "### terraform configs"
   ]
  },
  {
   "cell_type": "markdown",
   "id": "e4c4ec2b-a717-4da8-b20c-8cfabdd19d2d",
   "metadata": {},
   "source": [
    "Get the ami id for your `ami` variable. Copy it for the next step."
   ]
  },
  {
   "cell_type": "code",
   "execution_count": null,
   "id": "d69007f2-0329-4531-ae6a-94fdf86a6d8f",
   "metadata": {},
   "outputs": [],
   "source": [
    "grep ami /tmp/packer_nomad_out.txt | tail -n 1 | awk '{print $NF}'"
   ]
  },
  {
   "cell_type": "markdown",
   "id": "cbf8107a-d829-4c9e-893f-1efd38ef9e6d",
   "metadata": {},
   "source": [
    "Customize the inputs below. Use the `ami` value above"
   ]
  },
  {
   "cell_type": "code",
   "execution_count": null,
   "id": "a91750b9-cde2-4699-8d74-38ab1c23c4ee",
   "metadata": {
    "tags": []
   },
   "outputs": [],
   "source": [
    "cat > /tmp/nomad_terraform/aws/env/terragrunt.hcl <<\"EOL\"\n",
    "terraform {\n",
    "  #source = \"git::https://github.com/hashicorp/nomad.git//terraform/aws/modules/hashistack\"\n",
    "  extra_arguments \"plan\" {\n",
    "    commands = [ \"plan\", ]\n",
    "    arguments = [\n",
    "      \"-input=false\",\n",
    "    ]\n",
    "  }\n",
    "  extra_arguments \"apply\" {\n",
    "    commands = [ \"apply\", \"destroy\", ]\n",
    "    arguments = [\n",
    "      \"-input=false\",\n",
    "      \"-auto-approve\"\n",
    "    ]\n",
    "  }\n",
    "}\n",
    "\n",
    "generate \"versions\" {\n",
    "  path = \"versions.tf\"\n",
    "  if_exists = \"overwrite\"\n",
    "  contents = <<EOF\n",
    "terraform {\n",
    "  # required_version = \"~1.1.0\"\n",
    "  required_providers{\n",
    "    aws = {\n",
    "      source = \"hashicorp/aws\"\n",
    "      version = \"~> 3.75.2\"\n",
    "    }\n",
    "  }\n",
    "}\n",
    "EOF\n",
    "}\n",
    "\n",
    "generate \"provider\" {\n",
    "  path = \"provider.tf\"\n",
    "  if_exists = \"overwrite\"\n",
    "  contents = <<EOF\n",
    "provider \"aws\" {\n",
    "  region = \"us-west-2\"   # region to deploy the resources into\n",
    "}\n",
    "EOF\n",
    "}\n",
    "\n",
    "#// Indicate the input values to use for the variables of the module.\n",
    "inputs = {\n",
    "  name          = \"pphan\"\n",
    "  region        = \"us-west-2\"\n",
    "  ami           = \"ami-0dbf7c569799e75d0\"   #<==---\n",
    "  server_instance_type  = \"m5.large\"\n",
    "  client_instance_type  = \"m5.xlarge\"\n",
    "  server_count  = 3\n",
    "  client_count  = 1\n",
    "  key_name      = \"aws-key-pair\"\n",
    "  whitelist_ip  = \"98.234.158.216/32\"\n",
    "  root_block_device_size = 16\n",
    "  nomad_binary           = \"none\"\n",
    "#   consul_version = \"1.13.1\"\n",
    "#   nomad_version  = \"1.3.5\"\n",
    "#   owner          = \"pphan\"\n",
    "#   vpc_id         = \"vpc-0a3da3e09494785db\"\n",
    "#   #//optional\n",
    "#   public_ip      = true\n",
    "#   #consul_config = {}\n",
    "#   tags = {\n",
    "#     Terraform   = \"true\"\n",
    "#     Environment = \"root\"\n",
    "#     Name        = \"Terragrunt-${path_relative_to_include()}\"\n",
    "#   }\n",
    "}\n",
    "\n",
    "EOL\n",
    "echo done"
   ]
  },
  {
   "cell_type": "code",
   "execution_count": null,
   "id": "caca99ef-3a38-476e-8be6-e34ea2793edb",
   "metadata": {},
   "outputs": [],
   "source": [
    "cat > /tmp/nomad_terraform/aws/env/main.tf <<\"EOL\"\n",
    "module \"hashistack\" {\n",
    "  source = \"../modules/hashistack\"\n",
    "  name                   = var.name\n",
    "  region                 = var.region\n",
    "  ami                    = var.ami\n",
    "  server_instance_type   = var.server_instance_type\n",
    "  client_instance_type   = var.client_instance_type\n",
    "  key_name               = var.key_name\n",
    "  server_count           = var.server_count\n",
    "  client_count           = var.client_count\n",
    "  retry_join             = var.retry_join\n",
    "  nomad_binary           = var.nomad_binary\n",
    "  root_block_device_size = var.root_block_device_size\n",
    "  whitelist_ip           = var.whitelist_ip\n",
    "}\n",
    "\n",
    "variable \"name\" {\n",
    "  description = \"Used to name various infrastructure components\"\n",
    "}\n",
    "variable \"whitelist_ip\" {\n",
    "  description = \"IP to whitelist for the security groups (set 0.0.0.0/0 for world)\"\n",
    "}\n",
    "variable \"region\" {}\n",
    "variable \"ami\" {}\n",
    "variable \"server_instance_type\" {}\n",
    "variable \"client_instance_type\" {}\n",
    "variable \"root_block_device_size\" {}\n",
    "variable \"key_name\" {}\n",
    "variable \"server_count\" {}\n",
    "variable \"client_count\" {}\n",
    "variable \"retry_join\" {\n",
    "  type = map(string)\n",
    "  default = {\n",
    "    provider  = \"aws\"\n",
    "    tag_key   = \"ConsulAutoJoin\"\n",
    "    tag_value = \"auto-join\"\n",
    "  }\n",
    "}\n",
    "variable \"nomad_binary\" {}\n",
    "EOL"
   ]
  },
  {
   "cell_type": "code",
   "execution_count": null,
   "id": "374909fa-4eda-4bf7-bc5a-51b38f26f214",
   "metadata": {},
   "outputs": [],
   "source": [
    "cat > /tmp/nomad_terraform/aws/env/outputs.tf <<\"EOL\"\n",
    "output \"IP_Addresses\" {\n",
    "  value = <<CONFIGURATION\n",
    "Client public IPs: ${join(\", \", module.hashistack.client_public_ips)}\n",
    "Server public IPs: ${join(\", \", module.hashistack.server_public_ips)}\n",
    "To connect, add your private key and SSH into any client or server with\n",
    "`ssh ubuntu@PUBLIC_IP`. You can test the integrity of the cluster by running:\n",
    "  $ consul members\n",
    "  $ nomad server members\n",
    "  $ nomad node status\n",
    "If you see an error message like the following when running any of the above\n",
    "commands, it usually indicates that the configuration script has not finished\n",
    "executing:\n",
    "\"Error querying servers: Get http://127.0.0.1:4646/v1/agent/members: dial tcp\n",
    "127.0.0.1:4646: getsockopt: connection refused\"\n",
    "Simply wait a few seconds and rerun the command if this occurs.\n",
    "The Nomad UI can be accessed at http://${module.hashistack.server_lb_ip}:4646/ui.\n",
    "The Consul UI can be accessed at http://${module.hashistack.server_lb_ip}:8500/ui.\n",
    "Set the following for access from the Nomad CLI:\n",
    "  export NOMAD_ADDR=http://${module.hashistack.server_lb_ip}:4646\n",
    "CONFIGURATION\n",
    "}\n",
    "output \"consul_http_addr\" {\n",
    "  value = \"http://${module.hashistack.server_lb_ip}:8500\"\n",
    "}\n",
    "output \"nomad_addr\" {\n",
    "  value = \"http://${module.hashistack.server_lb_ip}:4646\"\n",
    "}\n",
    "output \"client_public_ips_2\" {\n",
    "  value = module.hashistack.client_public_ips_2\n",
    "}\n",
    "EOL"
   ]
  },
  {
   "cell_type": "markdown",
   "id": "59a8c574-abcc-46a8-9c6a-3417bffb8769",
   "metadata": {},
   "source": [
    "#### extra clients"
   ]
  },
  {
   "cell_type": "markdown",
   "id": "0680cc46-3c19-463a-80a2-f9541ddd46d6",
   "metadata": {},
   "source": [
    "- https://aws.amazon.com/ec2/spot/pricing/\n"
   ]
  },
  {
   "cell_type": "code",
   "execution_count": null,
   "id": "0a1691c5-68fa-44c4-ba1c-bee0c89549aa",
   "metadata": {},
   "outputs": [],
   "source": [
    "cat > /tmp/nomad_terraform/aws/modules/hashistack/client2.tf <<\"EOL\"\n",
    "resource \"aws_spot_instance_request\" \"client2\" {\n",
    "  ami                    = var.ami\n",
    "  spot_price             = \"0.14\" #<==---spot\n",
    "  wait_for_fulfillment   = true   #<==---spot\n",
    "  instance_type          = \"m5.large\"\n",
    "  key_name               = var.key_name\n",
    "  vpc_security_group_ids = [aws_security_group.primary.id]\n",
    "  count                  = 2\n",
    "  depends_on             = [aws_instance.server]\n",
    "  ipv6_address_count     = 0\n",
    "  ipv6_addresses         = []\n",
    "\n",
    "  # instance tags\n",
    "  tags = merge(\n",
    "    {\n",
    "      \"Name\" = \"${var.name}-client-${count.index}\"\n",
    "    },\n",
    "    {\n",
    "      \"${var.retry_join.tag_key}\" = \"${var.retry_join.tag_value}\"\n",
    "    },\n",
    "  )\n",
    "\n",
    "  root_block_device {\n",
    "    volume_type           = \"gp3\"\n",
    "    volume_size           = var.root_block_device_size\n",
    "    delete_on_termination = \"true\"\n",
    "  }\n",
    "\n",
    "  ebs_block_device {\n",
    "    device_name           = \"/dev/xvdd\"\n",
    "    volume_type           = \"gp3\"\n",
    "    volume_size           = \"50\"\n",
    "    delete_on_termination = \"true\"\n",
    "  }\n",
    "\n",
    "  user_data = templatefile(\"${path.root}/user-data-client.sh\",\n",
    "    {\n",
    "      region = var.region\n",
    "      retry_join = chomp(\n",
    "        join(\n",
    "          \" \",\n",
    "          formatlist(\"%s=%s \", keys(var.retry_join), values(var.retry_join)),\n",
    "        ),\n",
    "      )\n",
    "      nomad_binary = var.nomad_binary\n",
    "    }\n",
    "  )\n",
    "  iam_instance_profile = aws_iam_instance_profile.instance_profile.name\n",
    "}\n",
    "output \"client_public_ips_2\" {\n",
    "  value = aws_spot_instance_request.client2[*].public_ip\n",
    "}\n",
    "EOL"
   ]
  },
  {
   "cell_type": "markdown",
   "id": "528aa30b-78fe-4c7d-a22b-53df67cbe8cb",
   "metadata": {},
   "source": [
    "### copy user-data scripts"
   ]
  },
  {
   "cell_type": "code",
   "execution_count": null,
   "id": "dd315ede-cd36-4ecd-b6df-718ef8a4c4c6",
   "metadata": {},
   "outputs": [],
   "source": [
    "pushd /tmp/nomad_terraform/aws/env >/dev/null\n",
    "cp ./us-east/user-data-*.sh .\n",
    "popd >/dev/null"
   ]
  },
  {
   "cell_type": "markdown",
   "id": "84b35a25-4573-476c-ba96-9ff82c13db6c",
   "metadata": {},
   "source": [
    "### terraform init"
   ]
  },
  {
   "cell_type": "markdown",
   "id": "4b584253-ac09-499f-988d-5f4e78592803",
   "metadata": {},
   "source": [
    "This takes a minute. It's quick because packer did all the hard work creating the golden image."
   ]
  },
  {
   "cell_type": "code",
   "execution_count": null,
   "id": "a475c96c-b37b-4712-b9c7-b2fc95449563",
   "metadata": {},
   "outputs": [],
   "source": [
    "pushd /tmp/nomad_terraform/aws/env >/dev/null\n",
    "terragrunt init -upgrade -force-copy\n",
    "popd >/dev/null"
   ]
  },
  {
   "cell_type": "markdown",
   "id": "2a471312-f45f-4868-afdd-664ea4283fa5",
   "metadata": {},
   "source": [
    "### terraform apply"
   ]
  },
  {
   "cell_type": "code",
   "execution_count": null,
   "id": "84b015a1-a1cb-419b-8a06-3b9ecc352b17",
   "metadata": {},
   "outputs": [],
   "source": [
    "pushd /tmp/nomad_terraform/aws/env\n",
    "time terragrunt apply > /tmp/tf_apply_nomad_out.txt 2>&1\n",
    "popd"
   ]
  },
  {
   "cell_type": "code",
   "execution_count": null,
   "id": "6803e332-2e13-4367-9d4a-c2e1ea79d1f3",
   "metadata": {
    "tags": []
   },
   "outputs": [],
   "source": [
    "tail -n 50 /tmp/tf_apply_nomad_out.txt"
   ]
  },
  {
   "cell_type": "markdown",
   "id": "74afaf3d-6705-4dba-8c07-becf3a760fd5",
   "metadata": {},
   "source": [
    "## set nomad and consul variables"
   ]
  },
  {
   "cell_type": "code",
   "execution_count": null,
   "id": "0b302033-f542-426d-ab8e-d6007ee8b298",
   "metadata": {},
   "outputs": [],
   "source": [
    "pushd /tmp/nomad_terraform/aws/env >/dev/null\n",
    "export NOMAD_ADDR=$(terragrunt output -raw nomad_addr)\n",
    "export CONSUL_HTTP_ADDR=$(terragrunt output -raw consul_http_addr)\n",
    "export VAULT_ADDR=http://pphan-server-lb-920687407.us-west-2.elb.amazonaws.com:8200\n",
    "\n",
    "printf \"%s\\n\" \"Nomad UI: $NOMAD_ADDR\" \"Consul UI:$CONSUL_HTTP_ADDR\"\n",
    "popd >/dev/null"
   ]
  },
  {
   "cell_type": "code",
   "execution_count": null,
   "id": "5243f268-fd30-4d5c-b01e-2f751e700047",
   "metadata": {},
   "outputs": [],
   "source": [
    "pushd /tmp/nomad_terraform/aws/env >/dev/null\n",
    "terragrunt output -json client_public_ips_2 | jq -r .[0]\n",
    "# export NOMAD_ADDR=$(terragrunt output -raw nomad_addr)\n",
    "# export NOMAD_ADDR=http://pphan-server-lb-2092905469.us-west-2.elb.amazonaws.com:4646\n",
    "# printf \"%s\\n\" \"Nomad UI: $NOMAD_ADDR\" \"Consul UI:$CONSUL_HTTP_ADDR\"\n",
    "popd >/dev/null"
   ]
  },
  {
   "cell_type": "markdown",
   "id": "7ab2cb7e-f5f9-4c93-b4fe-e1767a505543",
   "metadata": {},
   "source": [
    "- slug: verify-nomad-cluster-health"
   ]
  },
  {
   "cell_type": "markdown",
   "id": "92c4f147-76a6-4d3c-a38e-17d3401b2388",
   "metadata": {},
   "source": [
    "# Verify the Health of Your Nomad Cluster"
   ]
  },
  {
   "cell_type": "markdown",
   "id": "00f80b02-7300-4f76-910c-11186fadb1c0",
   "metadata": {
    "tags": []
   },
   "source": [
    "teaser: |\n",
    "    Verify the health of the Nomad cluster that has been deployed for you.\n",
    "\n",
    "## notes:\n",
    "\n",
    "In this challenge, you will verify the health of the Nomad cluster that has been deployed for you by the track's setup scripts. This will include checking the health of a Consul cluster that has been set up on the same VMs.\n",
    "\n",
    "In later challenges, you will run Nomad jobs that deploy a web application and the Traefik load balancer. You will then update them using Nomad's various options for controlling job placement.\n",
    "\n",
    "---"
   ]
  },
  {
   "cell_type": "markdown",
   "id": "23f293b5-e809-4fb9-8d01-c1121b59fc2c",
   "metadata": {},
   "source": [
    "In this challenge, you will verify the health of the Nomad cluster that has been deployed for you by the track's setup scripts. This will include checking the health of a Consul cluster that has been set up on the same VMs.\n",
    "\n",
    "The cluster is running:\n",
    "- 3 Nomad/Consul server\n",
    "- 3 Consul clients\n",
    "- 1 Nomad xlarge client\n",
    "- 2 Nomad large clients\n",
    "\n",
    "They are using software versions:\n",
    "| Software | Version |\n",
    "| --- | --- |\n",
    "| Nomad | 1.3.4 |\n",
    "| Consul | 1.12.4 |"
   ]
  },
  {
   "cell_type": "markdown",
   "id": "7cb97be6-8a41-4c76-8cc5-fd4bfa4c5562",
   "metadata": {},
   "source": [
    "First, verify that all 6 Consul agents are running and connected to the cluster:"
   ]
  },
  {
   "cell_type": "code",
   "execution_count": null,
   "id": "afc1a5d3-c4a0-4327-8d31-2792820c6d42",
   "metadata": {},
   "outputs": [],
   "source": [
    "consul members"
   ]
  },
  {
   "cell_type": "markdown",
   "id": "fe744766-350d-4a97-bceb-f55ba28ee7a8",
   "metadata": {},
   "source": [
    "You should see 6 Consul agents with the \"`alive`\" status.\n",
    "\n",
    "```\n",
    "Node              Address             Status  Type    Build   Protocol  DC   Partition  Segment\n",
    "ip-172-31-32-161  172.31.32.161:8301  alive   server  1.12.2  2         dc1  default    <all>\n",
    "ip-172-31-35-92   172.31.35.92:8301   alive   server  1.12.2  2         dc1  default    <all>\n",
    "ip-172-31-46-21   172.31.46.21:8301   alive   server  1.12.2  2         dc1  default    <all>\n",
    "ip-172-31-36-155  172.31.36.155:8301  alive   client  1.12.2  2         dc1  default    <default>\n",
    "ip-172-31-38-164  172.31.38.164:8301  alive   client  1.12.2  2         dc1  default    <default>\n",
    "ip-172-31-46-251  172.31.46.251:8301  alive   client  1.12.2  2         dc1  default    <default>\n",
    "```"
   ]
  },
  {
   "cell_type": "markdown",
   "id": "05b4758f-20f7-4185-adf0-8467f2f7b75b",
   "metadata": {},
   "source": [
    "Check that the Nomad server is running:"
   ]
  },
  {
   "cell_type": "code",
   "execution_count": null,
   "id": "3cff1cfa-adf7-4e0a-9216-9bf9a1c1ffc3",
   "metadata": {},
   "outputs": [],
   "source": [
    "nomad server members"
   ]
  },
  {
   "cell_type": "markdown",
   "id": "4131db0c-1f04-4be3-9f3b-d708872203b1",
   "metadata": {},
   "source": [
    "You should see 3 Nomad servers with the \"`alive`\" status.\n",
    "```\n",
    "Name                     Address        Port  Status  Leader  Raft Version  Build  Datacenter  Region\n",
    "ip-172-31-32-161.global  172.31.32.161  4648  alive   false   3             1.3.1  dc1         global\n",
    "ip-172-31-35-92.global   172.31.35.92   4648  alive   false   3             1.3.1  dc1         global\n",
    "ip-172-31-46-21.global   172.31.46.21   4648  alive   true    3             1.3.1  dc1         global\n",
    "```"
   ]
  },
  {
   "cell_type": "markdown",
   "id": "27ae8020-4a13-4072-81aa-88d5114b1c2b",
   "metadata": {},
   "source": [
    "Check the status of the Nomad client nodes:"
   ]
  },
  {
   "cell_type": "code",
   "execution_count": null,
   "id": "a29d7a1d-0762-406f-a67c-022ba091a1d4",
   "metadata": {},
   "outputs": [],
   "source": [
    "nomad node status"
   ]
  },
  {
   "cell_type": "markdown",
   "id": "63b77ed5-b136-436d-9776-3e3d35fa33bb",
   "metadata": {},
   "source": [
    "You should see 3 Nomad clients with the \"`ready`\" status.\n",
    "\n",
    "```\n",
    "ID        DC   Name              Class   Drain  Eligibility  Status\n",
    "ba90fa7e  dc1  ip-172-31-36-155  <none>  false  eligible     ready\n",
    "48d0b218  dc1  ip-172-31-38-164  <none>  false  eligible     ready\n",
    "6f750cb2  dc1  ip-172-31-46-251  <none>  false  eligible     ready\n",
    "```"
   ]
  },
  {
   "cell_type": "markdown",
   "id": "2f4caa52-4460-4aa1-9d81-79b8f11dfcf6",
   "metadata": {},
   "source": [
    "You can also check the status of the Nomad server and clients in the Nomad and Consul UIs."
   ]
  },
  {
   "cell_type": "code",
   "execution_count": null,
   "id": "bd8cafdd-29c8-49bd-bf3b-a9d8137bd8fd",
   "metadata": {},
   "outputs": [],
   "source": [
    "printf \"%s\\n\" \"Consul UI: $CONSUL_HTTP_ADDR\" \"Nomad UI: $NOMAD_ADDR\""
   ]
  },
  {
   "cell_type": "markdown",
   "id": "245b7691-f673-4647-8eb2-0ea5301979c6",
   "metadata": {},
   "source": [
    "In the next challenge, you will run jobs that deploy a web application and the Traefik load balancer.\n",
    "\n",
    "---"
   ]
  },
  {
   "cell_type": "markdown",
   "id": "6b7b1153-6993-4936-a4f1-b8e295d935a5",
   "metadata": {},
   "source": [
    "- slug: deploy-the-jobs\n",
    "\n",
    "# Deploy a Web Application and Traefik with Nomad"
   ]
  },
  {
   "cell_type": "markdown",
   "id": "41ac6e3b-ca75-44c3-ae15-79eef9435009",
   "metadata": {},
   "source": [
    "teaser: |\n",
    "Deploy a web application and Traefik with Nomad jobs.\n",
    "\n",
    "## notes:\n",
    "\n",
    "In this challenge, you will run Nomad jobs that deploy a web application and [Traefik](https://containo.us/traefik/), which will serve as a load balancer in front of multiple instances of the web app.\n",
    "\n",
    "In later challenges, you will learn about Nomad Spread, Constraints, and Affinities.\n",
    "\n",
    "---"
   ]
  },
  {
   "cell_type": "markdown",
   "id": "5f678f3b-03a8-420a-a490-9098dc02e707",
   "metadata": {},
   "source": [
    "In this challenge, you will run two Nomad jobs:\n",
    "* The first will deploy 6 instances of a web app.\n",
    "* The second will run Traefik as a load balancer for the web app."
   ]
  },
  {
   "cell_type": "markdown",
   "id": "a49b531b-13c6-4a6c-bffe-e951b622465a",
   "metadata": {},
   "source": [
    "## Inspect the webapp.nomad Job.\n",
    "\n",
    "Let's begin by inspecting the Nomad jobs and getting familiar with what you're going to deploy."
   ]
  },
  {
   "cell_type": "markdown",
   "id": "d72465ac-f05c-4171-8948-374bcba2072b",
   "metadata": {},
   "source": [
    "Inspect the \"`webapp.nomad`\" job specification file."
   ]
  },
  {
   "cell_type": "code",
   "execution_count": null,
   "id": "e71c45d0-ebca-4c0e-a0dd-4ccd31c9d904",
   "metadata": {},
   "outputs": [],
   "source": [
    "mkdir -p /tmp/nomad_terraform/jobs\n",
    "cat > /tmp/nomad_terraform/jobs/webapp.nomad <<-EOF\n",
    "job \"webapp\" {\n",
    "  datacenters = [\"dc1\"]\n",
    "  group \"webapp\" {\n",
    "    count = 6\n",
    "    network {\n",
    "      port  \"http\" {}\n",
    "    }\n",
    "    task \"server\" {\n",
    "      env {\n",
    "        PORT    = \"\\${NOMAD_PORT_http}\"\n",
    "        NODE_IP = \"\\${NOMAD_IP_http}\"\n",
    "      }\n",
    "      driver = \"docker\"\n",
    "      config {\n",
    "        image = \"hashicorp/demo-webapp-lb-guide\"\n",
    "        ports = [\"http\"]\n",
    "      }\n",
    "      resources {\n",
    "        cpu    = 20\n",
    "        memory = 678\n",
    "      }\n",
    "      service {\n",
    "        name = \"webapp\"\n",
    "        port = \"http\"\n",
    "        tags = [\n",
    "          \"traefik.tags=service\",\n",
    "          \"traefik.frontend.rule=PathPrefixStrip:/myapp\",\n",
    "        ]\n",
    "        check {\n",
    "          type     = \"http\"\n",
    "          path     = \"/\"\n",
    "          interval = \"2s\"\n",
    "          timeout  = \"2s\"\n",
    "        }\n",
    "      }\n",
    "    }\n",
    "  }\n",
    "}\n",
    "EOF"
   ]
  },
  {
   "cell_type": "markdown",
   "id": "aa55a13a-6a1a-40f5-b70a-c8bdc4fa7f14",
   "metadata": {},
   "source": [
    "- This will deploy 6 instances of our web app to your Nomad cluster since the `count` of the \"`webapp`\" task group is set to 6.\n",
    "- Note, however, that we have not yet used any of the job placement stanzas mentioned in this track's description.\n",
    "    - So, Nomad is free to place the 6 instances wherever it wants.\n",
    "\n",
    "Since the job specification does not specify a static port to use, Nomad will select a dynamic port for each web app instance.\n",
    "- This allows us to run more than one instance of the web app on each Nomad client.\n",
    "- In contrast, if we had specified a static port, we could only have run one instance per Nomad client.\n",
    "\n",
    "Since we are using dynamic ports, each instance of the web app has to listen on the right port.\n",
    "- The job enables them to do that with [variable interpolation](https://nomadproject.io/docs/runtime/interpolation/)\n",
    "- the job sets the `PORT` and `NODE_IP` environment variables to `${NOMAD_PORT_http}` and `${NOMAD_IP_http}` respectively.\n",
    "- When each instance of the web app starts, it can read those environment variables and bind to the correct IP and port.\n",
    "    - This is achieved in combination with the [port parameters](https://nomadproject.io/docs/job-specification/network/#port-parameters) in the network stanza of the job specification."
   ]
  },
  {
   "cell_type": "markdown",
   "id": "98495c08-9d4d-4ce6-86f2-b19f9bccd990",
   "metadata": {},
   "source": [
    "## Run the webapp.nomad Job"
   ]
  },
  {
   "cell_type": "markdown",
   "id": "10afde63-ab17-405a-9041-9010c9bcf8f2",
   "metadata": {},
   "source": [
    "Navigate to the `/tmp/nomad_terraform/jobs` directory:"
   ]
  },
  {
   "cell_type": "code",
   "execution_count": null,
   "id": "f61394a9-65c2-41c2-b8c6-28316da0fbe5",
   "metadata": {},
   "outputs": [],
   "source": [
    "cd /tmp/nomad_terraform/jobs"
   ]
  },
  {
   "cell_type": "markdown",
   "id": "89a2af81-a4f1-40af-9a4d-d5c9457ff248",
   "metadata": {},
   "source": [
    "Run the \"`webapp.nomad`\" job with this command on the \"`Server`\" tab:"
   ]
  },
  {
   "cell_type": "code",
   "execution_count": null,
   "id": "7e531d2d-68e9-4809-9a49-ff5f47fcf922",
   "metadata": {},
   "outputs": [],
   "source": [
    "nomad job run webapp.nomad > /tmp/nomad_job_run.txt 2>&1 &"
   ]
  },
  {
   "cell_type": "code",
   "execution_count": null,
   "id": "5e759222-6892-4d02-a9eb-c0d0edb2a7cd",
   "metadata": {},
   "outputs": [],
   "source": [
    "tail -n 50 /tmp/nomad_job_run.txt"
   ]
  },
  {
   "cell_type": "markdown",
   "id": "eef16442-c617-4e8b-b72b-dd7a2ba09750",
   "metadata": {},
   "source": [
    "This should return something like this:\n",
    "\n",
    "```\n",
    "==> Monitoring evaluation \"a05672bc\"\n",
    "Evaluation triggered by job \"webapp\"\n",
    "Evaluation within deployment: \"5692a28d\"\n",
    "Allocation \"6bc9d9e6\" created: node \"33fd8505\", group \"webapp\"\n",
    "Allocation \"1b90c684\" created: node \"3006bb6d\", group \"webapp\"\n",
    "Allocation \"56b0671c\" created: node \"2f4a35ac\", group \"webapp\"\n",
    "Evaluation status changed: \"pending\" -> \"complete\"\n",
    "==> Evaluation \"a05672bc\" finished with status \"complete\"\n",
    "```"
   ]
  },
  {
   "cell_type": "markdown",
   "id": "372237e3-ea62-4869-b04e-a1beefa853b1",
   "metadata": {},
   "source": [
    "### Verify"
   ]
  },
  {
   "cell_type": "markdown",
   "id": "9f218abe-8215-4d7e-b8c1-d9133fb1bda2",
   "metadata": {},
   "source": [
    "You can check the status of the job by selecting the \"`webapp`\" job on the \"Nomad UI\" tab."
   ]
  },
  {
   "cell_type": "code",
   "execution_count": null,
   "id": "f5524c12-961a-424a-8e3a-b78d48342ab5",
   "metadata": {},
   "outputs": [],
   "source": [
    "printf \"%s\\n\" \"Nomad UI: $NOMAD_ADDR\""
   ]
  },
  {
   "cell_type": "markdown",
   "id": "5eb2f4fc-08f0-406b-bf6e-951d10f9815a",
   "metadata": {},
   "source": [
    "After about 1 minute, you should see that the job has 6 healthy allocations, each representing a single instance of the web app."
   ]
  },
  {
   "cell_type": "markdown",
   "id": "adcc2aa1-306f-4f44-babd-0699d6f61c5d",
   "metadata": {},
   "source": [
    "Check the status of the job with the Nomad CLI:"
   ]
  },
  {
   "cell_type": "code",
   "execution_count": null,
   "id": "324c8f60-d478-4b1d-bfb0-5c95239becb5",
   "metadata": {},
   "outputs": [],
   "source": [
    "nomad job status webapp"
   ]
  },
  {
   "cell_type": "markdown",
   "id": "0726e52d-a40b-4e1d-a9c2-3546305526cb",
   "metadata": {},
   "source": [
    "You can also inspect the \"`Consul UI`\" tab to see the health of the web app instances that have all been registered as services in Consul."
   ]
  },
  {
   "cell_type": "code",
   "execution_count": null,
   "id": "b9ef7082-1f52-44fb-af01-43fbbb082c45",
   "metadata": {},
   "outputs": [],
   "source": [
    "printf \"%s\\n\" \"Consul UI: $CONSUL_HTTP_ADDR\""
   ]
  },
  {
   "cell_type": "markdown",
   "id": "b659737c-6c53-4f38-ad51-373d69c7a4c9",
   "metadata": {},
   "source": [
    "- Click on the \"`webapp`\" service.\n",
    "    - Note how the instances are spread across the clients.\n",
    "- They might or might not be evenly distributed since we did not specify any job placement stanzas."
   ]
  },
  {
   "cell_type": "markdown",
   "id": "4e3adb2c-e945-4edc-ae16-1a7826d4739f",
   "metadata": {},
   "source": [
    "## Inspect the traefik.nomad Job"
   ]
  },
  {
   "cell_type": "markdown",
   "id": "d74e3b75-8d9d-4740-b79c-c04ff79feca7",
   "metadata": {},
   "source": [
    "Inspect the \"`traefik.nomad`\" job specification file."
   ]
  },
  {
   "cell_type": "code",
   "execution_count": null,
   "id": "9209d6db-19ed-4d2e-a239-e54d5663c3a7",
   "metadata": {},
   "outputs": [],
   "source": [
    "cat > /tmp/nomad_terraform/jobs/traefik.nomad <<-EOF\n",
    "job \"traefik\" {\n",
    "  region      = \"global\"\n",
    "  datacenters = [\"dc1\"]\n",
    "  type        = \"service\"\n",
    "  group \"traefik\" {\n",
    "    count = 1\n",
    "    network {\n",
    "      port \"http\" {\n",
    "        static = 8080\n",
    "      }\n",
    "      port \"api\" {\n",
    "        static = 8081\n",
    "      }\n",
    "    }\n",
    "    task \"traefik\" {\n",
    "      driver = \"docker\"\n",
    "      config {\n",
    "        image        = \"traefik:1.7\"\n",
    "        network_mode = \"host\"\n",
    "        volumes = [\n",
    "          \"local/traefik.toml:/etc/traefik/traefik.toml\",\n",
    "        ]\n",
    "      }\n",
    "      template {\n",
    "        data = <<EOD\n",
    "[entryPoints]\n",
    "    [entryPoints.http]\n",
    "    address = \":8080\"\n",
    "    [entryPoints.traefik]\n",
    "    address = \":8081\"\n",
    "[api]\n",
    "    dashboard = true\n",
    "# Enable Consul Catalog configuration backend.\n",
    "[consulCatalog]\n",
    "endpoint = \"127.0.0.1:8500\"\n",
    "domain = \"consul.localhost\"\n",
    "prefix = \"traefik\"\n",
    "constraints = [\"tag==service\"]\n",
    "EOD\n",
    "        destination = \"local/traefik.toml\"\n",
    "      }\n",
    "      resources {\n",
    "        cpu    = 250\n",
    "        memory = 128\n",
    "      }\n",
    "      service {\n",
    "        name = \"traefik\"\n",
    "        check {\n",
    "          name     = \"alive\"\n",
    "          type     = \"tcp\"\n",
    "          port     = \"http\"\n",
    "          interval = \"10s\"\n",
    "          timeout  = \"2s\"\n",
    "        }\n",
    "      }\n",
    "    }\n",
    "  }\n",
    "}\n",
    "EOF"
   ]
  },
  {
   "cell_type": "markdown",
   "id": "f3fdb49d-53a6-4a06-b9c7-cf3f9b511eff",
   "metadata": {},
   "source": [
    "What does this job file do?\n",
    "- This will deploy a Docker container that runs Traefik\n",
    "- Traefik proxies all requests to the web app instances on port `8080` to their dynamic ports allocated by Nomad.\n",
    "- This job uses Nomad's [template](https://www.nomadproject.io/docs/job-specification/template/) stanza to write out a Traefik configuration file, \"`traefik.toml`\"\n",
    "    - Traefik will read this when started.\n",
    "    - The template includes Traefik's [constraints config](https://docs.traefik.io/providers/consul-catalog/#constraints) for Consul's services catalog with this setting:\n",
    "\n",
    "```\n",
    "constraints = [\"tag==service\"]\n",
    "```\n",
    "\n",
    "If you look back at the \"`webapp.nomad`\" job specification, on line 34 you will see that the same service tag was specified in the `tags` section of the registration of the web app with Consul.\n",
    "\n",
    "```\n",
    "tags = [\n",
    "\"traefik.tags=service\",\n",
    "\"traefik.frontend.rule=PathPrefixStrip:/myapp\",\n",
    "]\n",
    "```\n",
    "\n",
    "We think it's pretty cool that:\n",
    "- Nomad deploys both jobs\n",
    "- and registers them as Consul services\n",
    "- and that Traefik then uses the registrations of the web app instances with Consul to determine how to direct traffic to them."
   ]
  },
  {
   "cell_type": "markdown",
   "id": "cfca852b-82ee-4a42-b0b9-da212e45f4a0",
   "metadata": {},
   "source": [
    "## Run the traefik.nomad Job\n",
    "\n",
    "Run the \"`traefik.nomad`\" job with this command on the \"`Server`\" tab:"
   ]
  },
  {
   "cell_type": "code",
   "execution_count": null,
   "id": "947a58a3-e9c4-497e-b51c-eb6b8980a83c",
   "metadata": {},
   "outputs": [],
   "source": [
    "nomad job run traefik.nomad > /tmp/nomad_job_run_traefik.txt 2>&1 &"
   ]
  },
  {
   "cell_type": "code",
   "execution_count": null,
   "id": "a13fcc6e-c4c8-498a-a257-34aef94f161b",
   "metadata": {},
   "outputs": [],
   "source": [
    "time head -n 10 /tmp/nomad_job_run_traefik.txt"
   ]
  },
  {
   "cell_type": "markdown",
   "id": "b6d19d05-8ccc-4cff-acaf-0225851e26be",
   "metadata": {},
   "source": [
    "This should return something like this:\n",
    "\n",
    "```\n",
    "==> Monitoring evaluation \"6765c131\"\n",
    "    Evaluation triggered by job \"traefik\"\n",
    "    Evaluation within deployment: \"d15e6190\"\n",
    "    Allocation \"0e36e38a\" created: node \"44d88b4b\", group \"traefik\"\n",
    "    Evaluation status changed: \"pending\" -> \"complete\"\n",
    "==> Evaluation \"6765c131\" finished with status \"complete\"\n",
    "```"
   ]
  },
  {
   "cell_type": "markdown",
   "id": "e85d14d9-d5e5-4c22-b5a3-76f2b8542df3",
   "metadata": {},
   "source": [
    "As before, you can check the status of the job by selecting the \"`traefik`\" job on the \"Nomad UI\" tab."
   ]
  },
  {
   "cell_type": "markdown",
   "id": "61b63de5-4345-4768-965f-cb82ac6da268",
   "metadata": {},
   "source": [
    "Check the status of the job with the Nomad CLI by running this command on the \"`Server`\" tab:"
   ]
  },
  {
   "cell_type": "code",
   "execution_count": null,
   "id": "805f86c8-3df4-4a49-b319-4d7f2c0101c8",
   "metadata": {},
   "outputs": [],
   "source": [
    "nomad job status traefik"
   ]
  },
  {
   "cell_type": "markdown",
   "id": "17eebfa6-c185-4729-aaf2-7808e6be8bac",
   "metadata": {},
   "source": [
    "**NEED TO MAKE APPLICABLE OUTSIDE OF INSTRUQT**\n",
    "\n",
    "Unfortunately, you cannot load the web app or Traefik UIs yet because we have not exposed Instruqt tabs for them.\n",
    "- We would have had to add tabs exposing port `8081` on all 3 Nomad clients in order to expose the Traefik dashboard since we could not predict in advance which Nomad client Traefik would be deployed to with the current \"`traefik.nomad`\" job specification.\n",
    "\n",
    "We will fix this in the next challenge."
   ]
  },
  {
   "cell_type": "markdown",
   "id": "db293194-4bd7-438a-95ff-8346175dbcc0",
   "metadata": {},
   "source": [
    "\n",
    "---"
   ]
  },
  {
   "cell_type": "markdown",
   "id": "5b77bdc0-1a1c-4510-abcb-224361057ee5",
   "metadata": {},
   "source": [
    "- slug: use-constraint\n",
    "\n",
    "# Use Nomad's Constraint Stanza"
   ]
  },
  {
   "cell_type": "markdown",
   "id": "a9fe8ba1-20c8-4ba0-9261-aed02ff019a0",
   "metadata": {},
   "source": [
    "teaser: |\n",
    "\n",
    "Use Nomad's constraint stanza to tightly control the placement of the Traefik job."
   ]
  },
  {
   "cell_type": "markdown",
   "id": "6767fc91-9f45-40df-ba39-e93eeaba7a96",
   "metadata": {},
   "source": [
    "## notes:\n",
    "\n",
    "In this challenge, you will update the Traefik job to run on a specific Nomad client node so that you can visit the Traefik Dashboard on a new Instruqt tab.\n",
    "\n",
    "You will do this by using Nomad's [constraint](https://www.nomadproject.io/docs/job-specification/constraint/) stanza that allows Nomad operators to tightly control the placement of a job's allocations."
   ]
  },
  {
   "cell_type": "markdown",
   "id": "599e1a96-041f-4699-ac89-fe949225918a",
   "metadata": {},
   "source": [
    "assignment:\n",
    "\n",
    "In this challenge, you will use Nomad's [constraint](https://www.nomadproject.io/docs/job-specification/constraint/) stanza to restrict Traefik to run on a specific Nomad client.\n",
    "\n",
    "We will be using a constraint that filters on a [node variable](https://www.nomadproject.io/docs/runtime/interpolation/#node-variables) of the Nomad client nodes, but you could also use [client metadata](https://www.nomadproject.io/docs/configuration/client#custom-metadata-network-speed-and-node-class)."
   ]
  },
  {
   "cell_type": "markdown",
   "id": "2c56f6b5-3ddc-41c0-861c-7c81dcb23d2b",
   "metadata": {},
   "source": [
    "Please navigate back to the `/tmp/nomad_terraform/jobs` directory on the \"`Server`\" tab:"
   ]
  },
  {
   "cell_type": "code",
   "execution_count": null,
   "id": "556c4c40-7d46-485c-a90d-aad302e00d6d",
   "metadata": {},
   "outputs": [],
   "source": [
    "cd /tmp/nomad_terraform/jobs"
   ]
  },
  {
   "cell_type": "markdown",
   "id": "1376d7ec-e8e0-4e26-8d0b-6f1293c41858",
   "metadata": {},
   "source": [
    "## Edit the traefik.nomad Job Specification"
   ]
  },
  {
   "cell_type": "markdown",
   "id": "75d28d8a-9fe2-46a3-a58c-0aa8099f3105",
   "metadata": {},
   "source": [
    "Edit the \"`traefik.nomad`\" job specification file on the \"`Jobs`\" tab, making the following changes:"
   ]
  },
  {
   "cell_type": "markdown",
   "id": "15cdc90c-4885-4fdf-b7fe-f0e2cc8183fe",
   "metadata": {},
   "source": [
    "First, grab a node to deploy the job to."
   ]
  },
  {
   "cell_type": "code",
   "execution_count": null,
   "id": "9f2bf3fa-0a10-4320-a379-8ca6620e38cc",
   "metadata": {},
   "outputs": [],
   "source": [
    "TRAEFIK_NODE=$(nomad node status | tail -n 1 | awk '{print $3}')\n",
    "echo $TRAEFIK_NODE"
   ]
  },
  {
   "cell_type": "markdown",
   "id": "672a3c8a-2e55-417b-8db2-028665d0c221",
   "metadata": {},
   "source": [
    "Find the line with `count = 1` and add the following constraint stanza after it:\n",
    "\n",
    "```go\n",
    "constraint {\n",
    "  attribute = \"${node.unique.name}\"\n",
    "  value     = \"client1\"\n",
    "}\n",
    "```"
   ]
  },
  {
   "cell_type": "markdown",
   "id": "071256f6-ce53-4501-8bc1-9662526410b4",
   "metadata": {},
   "source": [
    "If you prefer, you can do the editing with this command on the \"`Server`\" tab:"
   ]
  },
  {
   "cell_type": "code",
   "execution_count": null,
   "id": "2385938c-78d7-45ef-8d5f-cd97025ca7c0",
   "metadata": {
    "tags": []
   },
   "outputs": [],
   "source": [
    "mv traefik.nomad.bak_$(date +%Y%m%d) traefik.nomad\n",
    "ls -lrt\n",
    "sed -i\".bak_$(date +%Y%m%d)\" \"s/count = 1/count = 1\\n\\n\\\n",
    "      constraint { \\n \\\n",
    "        attribute = \\\"\\${node.unique.name}\\\"\\n \\\n",
    "        value     = \\\"${TRAEFIK_NODE}\\\"\\n \\\n",
    "      }/g\" \\\n",
    "  traefik.nomad\n",
    "cat traefik.nomad"
   ]
  },
  {
   "cell_type": "markdown",
   "id": "1b555db8-6217-42ff-ac2e-8da4c7523b6b",
   "metadata": {},
   "source": [
    "## Re-run the traefik.nomad Job"
   ]
  },
  {
   "cell_type": "markdown",
   "id": "1807788b-06aa-4d5a-8115-aa904d4013b2",
   "metadata": {},
   "source": [
    "Next, re-run the \"`traefik.nomad`\" job with this command on the \"Server\" tab:"
   ]
  },
  {
   "cell_type": "code",
   "execution_count": null,
   "id": "3ea98283-44a7-4126-beb4-73823d08565d",
   "metadata": {},
   "outputs": [],
   "source": [
    "time nomad job run traefik.nomad > /tmp/nomad_job_run_traefik.txt 2>&1 &"
   ]
  },
  {
   "cell_type": "code",
   "execution_count": null,
   "id": "cb188c37-15d5-4c57-b895-4d7f2921a4f8",
   "metadata": {
    "tags": []
   },
   "outputs": [],
   "source": [
    "(head ; tail) < /tmp/nomad_job_run_traefik.txt\n"
   ]
  },
  {
   "cell_type": "markdown",
   "id": "3c1898c8-8ec4-4482-ad1b-447716bb008b",
   "metadata": {},
   "source": [
    "This should return something like this:<br>\n",
    "```\n",
    "==> Monitoring evaluation \"63a2e467\"\n",
    "    Evaluation triggered by job \"traefik\"\n",
    "    Evaluation within deployment: \"662516d9\"\n",
    "    Allocation \"b42c964c\" created: node \"99187f90\", group \"traefik\"\n",
    "    Evaluation status changed: \"pending\" -> \"complete\"\n",
    "==> Evaluation \"63a2e467\" finished with status \"complete\"\n",
    "```"
   ]
  },
  {
   "cell_type": "markdown",
   "id": "92d503f4-48c3-4e41-b8d1-d57a173fad83",
   "metadata": {},
   "source": [
    "## Verify"
   ]
  },
  {
   "cell_type": "markdown",
   "id": "2ad50c50-8256-416e-ab8e-919dd49f4c74",
   "metadata": {},
   "source": [
    "- Look at the \"`traefik`\" job in the Nomad UI\n",
    "  - You will see that there is 1 allocation currently `running`.\n",
    "  - Click on the ID of that allocation in the `Client` column.\n",
    "  - You will be taken to the \"`client1`\" node.\n",
    "\n",
    "This shows that the `constraint` worked as desired."
   ]
  },
  {
   "cell_type": "code",
   "execution_count": null,
   "id": "d6e78e2b-28d0-4c74-80e2-a7218a824cb0",
   "metadata": {
    "tags": []
   },
   "outputs": [],
   "source": [
    "#DEBUGGING\n",
    "nomad node status\n",
    "nomad job status traefik"
   ]
  },
  {
   "cell_type": "markdown",
   "id": "48603eb3-4b60-40ba-80ec-99404b470891",
   "metadata": {},
   "source": [
    "### **NEED TO ADD RULE TO ALLOW ALL FROM MY IP**\n",
    "\n",
    "**FOR TESTING ONLY**"
   ]
  },
  {
   "cell_type": "markdown",
   "id": "a78dbf78-a784-49ed-9c5a-20a6f038421e",
   "metadata": {},
   "source": [
    "Now, you can visit the Traefik dashboard on the \"`Traefik UI`\" tab."
   ]
  },
  {
   "cell_type": "code",
   "execution_count": null,
   "id": "675bc3f4-bdb0-45e2-baf0-245923308535",
   "metadata": {},
   "outputs": [],
   "source": [
    "TRAEFIK_NODE_PUBLIC=$(aws ec2 describe-instances \\\n",
    "  | jq -r \".Reservations[].Instances[] \\\n",
    "  | select(.PrivateDnsName | contains(\\\"${TRAEFIK_NODE}\\\")) | .PublicIpAddress\")\n",
    "\n",
    "echo Traefik UI: http://${TRAEFIK_NODE_PUBLIC}:8081"
   ]
  },
  {
   "cell_type": "markdown",
   "id": "50cfd02c-49e1-400f-9822-0041ce811fa4",
   "metadata": {},
   "source": [
    "- You can see the URLs for the 6 instances of the web app that it has registered.\n",
    "- This URL was pre-configured to point to the `${TRAEFIK_NODE}`, since we set it in advance with `constraint`.\n",
    "- It accesses that node on port `8081` which is Traefik's admin port.\n",
    "\n",
    "Right-click any of those URLs in the \"`backend-webapp`\" table\n",
    "- Select \"`Copy Link Address`\".\n",
    "- Then run a command like this\n",
    "```shell\n",
    "curl <your_url>\n",
    "```\n",
    "    - where `<your_url>` is the URL you copied."
   ]
  },
  {
   "cell_type": "code",
   "execution_count": null,
   "id": "86c44b2a-f534-4343-ae6e-46a259b2c4e2",
   "metadata": {},
   "outputs": [],
   "source": [
    "ssh -i /tmp/nomad_terraform/ssh_key/aws-key-pair \\\n",
    "  -o \"StrictHostKeyChecking no\" ubuntu@${TRAEFIK_NODE_PUBLIC} \\\n",
    "  curl -s http://172.31.18.225:27198/"
   ]
  },
  {
   "cell_type": "markdown",
   "id": "7a7f3e1d-2505-4cf0-a494-2f46c4e938c4",
   "metadata": {},
   "source": [
    "- You should see something like this:<br>\n",
    "`Welcome! You are on node 10.132.0.66:20478`"
   ]
  },
  {
   "cell_type": "markdown",
   "id": "9895cd29-4f67-424c-9866-7e2e5d4531d8",
   "metadata": {},
   "source": [
    "By specifying the IP and the port that Nomad dynamically selected, you are hitting one of the webapp allocations directly just as Traefik does."
   ]
  },
  {
   "cell_type": "markdown",
   "id": "b510e571-8808-4a55-9f05-20d1d22d6ec0",
   "metadata": {},
   "source": [
    "Next, run the following `curl` command:"
   ]
  },
  {
   "cell_type": "code",
   "execution_count": null,
   "id": "abc18449-8233-4cb0-8aeb-803d706e0844",
   "metadata": {},
   "outputs": [],
   "source": [
    "curl http://${TRAEFIK_NODE_PUBLIC}:8080/myapp"
   ]
  },
  {
   "cell_type": "markdown",
   "id": "cd6aedd6-10c0-43d8-a87d-b8216930c340",
   "metadata": {},
   "source": [
    "This will return a similar message.\n",
    "\n",
    "In this case, you are actually hitting Traefik on Nomad client 1 and it is load balancing your request to one of the 6 webapp instances."
   ]
  },
  {
   "cell_type": "markdown",
   "id": "dc615e23-de85-44bf-a14d-7006c285162d",
   "metadata": {},
   "source": [
    "If you repeat the command a few times, you will see that the IP and port returned are different each time."
   ]
  },
  {
   "cell_type": "code",
   "execution_count": null,
   "id": "58c8dbab-0876-4efd-ab73-e996587912e4",
   "metadata": {},
   "outputs": [],
   "source": [
    "for i in {1..6}; do\n",
    "curl http://${TRAEFIK_NODE_PUBLIC}:8080/myapp\n",
    "done"
   ]
  },
  {
   "cell_type": "markdown",
   "id": "9d643204-deee-4eaf-b6ce-4b8dce23fa76",
   "metadata": {},
   "source": [
    "You can also visit the web app on the \"`Web App UI`\" tab.\n",
    "- This tab also points to the `nomad-client-1` node but listens on port `8080` which is what Traefik is using to load balance requests to the web app.\n",
    "- You will see the same message that the `curl` command gave.\n",
    "- If you click the Instruqt refresh button (clockwise arrow) to the right of the \"`Web App UI`\" tab, the IP and port displayed will also change.\n",
    "\n",
    "In the next challenge, you will use Nomad's spread stanza to distribute the allocations of your \"`webapp.nomad`\" job evenly across your 3 Nomad clients.\n",
    "\n",
    "---"
   ]
  },
  {
   "cell_type": "markdown",
   "id": "4a982961-d8b1-4071-a6fb-07f459c3da5e",
   "metadata": {},
   "source": [
    "- slug: use-spread\n",
    "  \n",
    "# Use Nomad's Spread stanza"
   ]
  },
  {
   "cell_type": "markdown",
   "id": "5fa4b144-47cf-4e7d-889f-928cb55df868",
   "metadata": {},
   "source": [
    "  teaser: |\n",
    "    Use Nomad's spread stanza to distribute load evenly across your Nomad clients."
   ]
  },
  {
   "cell_type": "markdown",
   "id": "113648bd-6cf3-42e4-996d-a9e9652d6b4c",
   "metadata": {},
   "source": [
    "## notes:\n",
    "\n",
    "In this challenge, you will update the logic that Nomad uses to distribute allocations of the web app to the 3 Nomad clients in your cluster.\n",
    "\n",
    "Specifically, you will use the [spread](https://www.nomadproject.io/docs/job-specification/spread/) stanza to evenly distribute allocations of the web app across all 3 Nomad clients."
   ]
  },
  {
   "cell_type": "markdown",
   "id": "c21efb52-117f-4c42-ad67-f2f122bfe7c3",
   "metadata": {},
   "source": [
    "assignment: |-\n",
    "\n",
    "In this challenge, you will use Nomad's [spread](https://www.nomadproject.io/docs/job-specification/spread/) stanza to spread the \"`webapp.nomad`\" job's allocations evenly across the 3 Nomad clients of your cluster.\n",
    "\n",
    "This demonstrates how Nomad can increase the failure tolerance of applications.\n",
    "\n",
    "The `spread` stanza allows operators to spread allocations over datacenters, availability zones, or even racks in a physical datacenter. By default, when using `spread`, the scheduler will attempt to place allocations equally among the available values of the given target."
   ]
  },
  {
   "cell_type": "markdown",
   "id": "e7877d4d-6ef4-40a5-97e4-619cd64cc0a7",
   "metadata": {},
   "source": [
    "## Edit the webapp.nomad Job"
   ]
  },
  {
   "cell_type": "markdown",
   "id": "ae66ab1f-c324-4fa1-9a51-f47d7290a9e9",
   "metadata": {},
   "source": [
    "Navigate back to the `/tmp/nomad/jobs` directory on the \"`Server`\" tab:"
   ]
  },
  {
   "cell_type": "code",
   "execution_count": null,
   "id": "1debe1b0-51aa-4781-ba87-a332a5028e70",
   "metadata": {},
   "outputs": [],
   "source": [
    "cd /tmp/nomad_terraform/jobs"
   ]
  },
  {
   "cell_type": "markdown",
   "id": "d08207b1-9127-4c28-aecf-1ddde1f24efb",
   "metadata": {},
   "source": [
    "Edit the \"`webapp.nomad`\" job specification file on the \"`Jobs`\" tab, making the following changes:\n",
    "\n",
    "Find the line that has `count = 6` and add the following spread stanza after it:\n",
    "\n",
    "```go\n",
    "spread {\n",
    "  attribute = \"${node.unique.name}\"\n",
    "}\n",
    "```"
   ]
  },
  {
   "cell_type": "markdown",
   "id": "9dab10cd-afae-43e0-b033-3200740c76b1",
   "metadata": {},
   "source": [
    "If you prefer, you can do the editing with this command on the \"`Server`\" tab:"
   ]
  },
  {
   "cell_type": "code",
   "execution_count": null,
   "id": "fc036e5f-7df2-455b-835f-9c33a6663ec4",
   "metadata": {},
   "outputs": [],
   "source": [
    "mv webapp.nomad.bak_$(date +%Y%m%d) webapp.nomad\n",
    "ls -lrt\n",
    "\n",
    "sed -i\".bak_$(date +%Y%m%d)\" \\\n",
    "  's/count = 6/count = 6\\n\\\n",
    "    spread { \\\n",
    "      attribute = \"${node.unique.name}\" \\\n",
    "    }/g' \\\n",
    "  webapp.nomad\n",
    "head -n 10  webapp.nomad"
   ]
  },
  {
   "cell_type": "markdown",
   "id": "fcedd2b4-02e7-42e4-9354-ea576fbee9ca",
   "metadata": {},
   "source": [
    "**NOTE**:\n",
    "- We do not specify a `value` the way we did in the `constraint` stanza in the last challenge.\n",
    "- The whole point here is to spread allocations evenly across all Nomad clients based on their names.\n",
    "\n",
    "**PP - ADD MORE INFO**"
   ]
  },
  {
   "cell_type": "markdown",
   "id": "c69eaf1a-574a-414a-b43c-a57957d9f2a6",
   "metadata": {},
   "source": [
    "You can view the current allocations for the \"`webapp`\" job.\n",
    "- select the `webapp` job in the Nomad UI\n",
    "- click on the \"`Allocations`\" tab under the job\n",
    "- In the Nomad UI, focus on the \"`Client`\" column.\n",
    "- CLI\n",
    "    - or by running `nomad job status webapp`\n",
    "    - and looking at the \"`Allocations`\" section at the bottom of the output.\n",
    "    ```text\n",
    "    ...\n",
    "    Allocations\n",
    "    ID        Node ID   Task Group  Version  Desired  Status   Created    Modified\n",
    "    36655ee2  69bb47a1  webapp      0        run      running  13m8s ago  12m29s ago\n",
    "    37ea648c  71670de6  webapp      0        run      running  13m8s ago  12m32s ago\n",
    "    49874897  f3d852dd  webapp      0        run      running  13m8s ago  12m33s ago\n",
    "    73498c1a  71670de6  webapp      0        run      running  13m8s ago  12m31s ago\n",
    "    90263f17  69bb47a1  webapp      0        run      running  13m8s ago  12m30s ago\n",
    "    cddf807a  69bb47a1  webapp      0        run      running  13m8s ago  12m28s ago    \n",
    "    ```\n",
    "    - Focus on the \"`Node ID`\" column. The allocations might or might not be evenly distributed across the 3 Nomad clients"
   ]
  },
  {
   "cell_type": "markdown",
   "id": "bc528850-cb70-4ece-9812-9617b9ad6215",
   "metadata": {},
   "source": [
    "## Re-run the webapp.nomad job"
   ]
  },
  {
   "cell_type": "markdown",
   "id": "2a197402-50dd-48b7-8429-784a4cbe6f0b",
   "metadata": {},
   "source": [
    "Now let's re-run the \"`webapp.nomad`\" job and see the changes that occur:"
   ]
  },
  {
   "cell_type": "code",
   "execution_count": null,
   "id": "3aa77da4-2162-467d-9e1b-d5807efdfd61",
   "metadata": {},
   "outputs": [],
   "source": [
    "time nomad job run webapp.nomad > /tmp/nomad_job_run.txt 2>&1 &"
   ]
  },
  {
   "cell_type": "code",
   "execution_count": null,
   "id": "ce738801-65f8-428e-8ecb-bee74d0c24a3",
   "metadata": {},
   "outputs": [],
   "source": [
    "(head -n 10 ; echo ; tail -n 15) < /tmp/nomad_job_run.txt"
   ]
  },
  {
   "cell_type": "markdown",
   "id": "e4cddebc-0ae5-4848-b3a9-9253621ae30e",
   "metadata": {},
   "source": [
    "- Monitor the new deployment of the job in the Nomad UI\n",
    "- Or by periodically re-running `nomad job status webapp`.\n",
    "- Pay particular attention to `running` allocations."
   ]
  },
  {
   "cell_type": "code",
   "execution_count": null,
   "id": "21a6fecd-4b88-4d61-9ed7-c25d7112ef5b",
   "metadata": {},
   "outputs": [],
   "source": [
    "nomad job status webapp"
   ]
  },
  {
   "cell_type": "markdown",
   "id": "9dc332f8-feb9-4126-9763-c7962b5ec11c",
   "metadata": {},
   "source": [
    "After all six allocations are healthy, you should see 2 webapp allocations on each Nomad client."
   ]
  },
  {
   "cell_type": "markdown",
   "id": "c8eec81c-bb42-4b21-a709-1353ba819fa2",
   "metadata": {},
   "source": [
    "Sample Output\n",
    "```shell\n",
    "Allocations\n",
    "ID        Node ID   Task Group  Version  Desired  Status    Created     Modified\n",
    "6d4e5a11  69bb47a1  webapp      1        run      running   8m ago      7m48s ago\n",
    "83dd87eb  71670de6  webapp      1        run      running   8m16s ago   8m1s ago\n",
    "c74711fe  f3d852dd  webapp      1        run      running   8m29s ago   8m17s ago\n",
    "2e6adccf  69bb47a1  webapp      1        run      running   8m44s ago   8m31s ago\n",
    "1fdb24b9  71670de6  webapp      1        run      running   8m58s ago   8m45s ago\n",
    "a1340eb4  f3d852dd  webapp      1        run      running   9m13s ago   9m ago\n",
    "36655ee2  69bb47a1  webapp      0        stop     complete  23m33s ago  8m ago\n",
    "73498c1a  71670de6  webapp      0        stop     complete  23m33s ago  8m58s ago\n",
    "90263f17  69bb47a1  webapp      0        stop     complete  23m33s ago  8m43s ago\n",
    "37ea648c  71670de6  webapp      0        stop     complete  23m33s ago  8m15s ago\n",
    "49874897  f3d852dd  webapp      0        stop     complete  23m33s ago  8m29s ago\n",
    "cddf807a  69bb47a1  webapp      0        stop     complete  23m33s ago  9m13s ago\n",
    "```\n",
    "\n",
    "This shows that the `spread` stanza caused Nomad to spread the allocations evenly as expected.\n",
    "\n",
    "In the next challenge, you will use the `affinity` stanza to express your preference on where Nomad should run the webapp allocations.\n",
    "\n",
    "---"
   ]
  },
  {
   "cell_type": "markdown",
   "id": "14045856-f766-42f3-a2ad-9701b39c536a",
   "metadata": {},
   "source": [
    "- slug: use-affinity\n",
    "\n",
    "# Use Nomad's Affinity Stanza"
   ]
  },
  {
   "cell_type": "markdown",
   "id": "ea47bc04-9b61-4fd1-9363-29a99c9d84e7",
   "metadata": {},
   "source": [
    "teaser: |\n",
    "Use Nomad's affinity stanza to to loosely control the placement of jobs."
   ]
  },
  {
   "cell_type": "markdown",
   "id": "10f9deff-bb5b-42c3-9879-3539ee046828",
   "metadata": {},
   "source": [
    "## notes:\n",
    "\n",
    "In this challenge, you will use Nomad's [affinity](https://www.nomadproject.io/docs/job-specification/affinity/) stanza to loosely control the placement of the \"`webapp`\" job.\n",
    "\n",
    "You will specify a preference on where Nomad should run the job's allocations but let Nomad make the final decision which will factor in your affinity preferences along with Nomad's default job anti-affinity and bin packing algorithms."
   ]
  },
  {
   "cell_type": "markdown",
   "id": "1e1bf002-8116-476c-9340-93bac156bee4",
   "metadata": {},
   "source": [
    "assignment:\n",
    "\n",
    "In this challenge, you will use Nomad's [affinity](https://www.nomadproject.io/docs/job-specification/affinity/) stanza to loosely control the placement of the \"`webapp`\" job. You will specify a preference on where Nomad should run the job's allocations but let Nomad make the final decision.\n",
    "\n",
    "The `affinity` stanza allows operators to express placement preference for a set of nodes. Affinities may be expressed on attributes or client metadata. Additionally, affinities may be specified at the `job`, `group`, or `task` levels for ultimate flexibility.\n",
    "\n",
    "For this challenge we will be utilizing the underlying host machine type to choose where to run the allocations of the \"`webapp`\" job. The machine types are as follows:\n",
    "\n",
    "| client | gcp type | aws type |\n",
    "| ------- | --- | --- |\n",
    "| client1 | n1-standard-2 | platform.aws.instance-type m5.xlarge\n",
    "| client2 | n1-standard-1 | platform.aws.instance-type m5.large\n",
    "| client3 | n1-standard-1 | platform.aws.instance-type m5.large\n",
    "\n",
    "https://discuss.hashicorp.com/t/list-out-all-platform-variables/1731/4"
   ]
  },
  {
   "cell_type": "markdown",
   "id": "a2c3c8d0-2623-440c-88f8-08f977bb0be8",
   "metadata": {},
   "source": [
    "## Edit the webapp.nomad Job"
   ]
  },
  {
   "cell_type": "markdown",
   "id": "ce47ea88-81a7-4d08-9a5e-9a4c8d0d2005",
   "metadata": {},
   "source": [
    "Please navigate back to the `/root/nomad/jobs` directory on the \"`Server`\" tab:"
   ]
  },
  {
   "cell_type": "code",
   "execution_count": null,
   "id": "6655c283-d0ce-4613-89cd-3f60a404f539",
   "metadata": {},
   "outputs": [],
   "source": [
    "cd /tmp/nomad_terraform/jobs"
   ]
  },
  {
   "cell_type": "markdown",
   "id": "7907ce41-6ce9-4bbd-b55b-f8a4074934f0",
   "metadata": {},
   "source": [
    "Edit the \"`webapp.nomad`\" job specification file on the \"`Jobs`\" tab, making the following changes:\n",
    "\n",
    "Find the spread stanza and replace it with the following affinity stanza:\n",
    "```go\n",
    "affinity {\n",
    "  attribute = \"${attr.platform.gce.machine-type}\"\n",
    "  value     = \"n1-standard-2\"\n",
    "  weight    = 100\n",
    "}\n",
    "```\n",
    "\n",
    "This tells Nomad that you would like it to deploy all allocations of the \"`webapp`\" job to the \"`client1`\" node\n",
    "- since that is the only Nomad client using the \"`n1-standard-2`\" machine type.\n",
    "- We have set the `weight` of the affinity stanza to the highest possible value, `100`."
   ]
  },
  {
   "cell_type": "markdown",
   "id": "5aa8fa29-e121-497f-8f1f-0e7bae9fee4b",
   "metadata": {},
   "source": [
    "If you prefer, you can do the editing with these commands on the \"`Server`\" tab:"
   ]
  },
  {
   "cell_type": "code",
   "execution_count": null,
   "id": "1511ce44-a3d4-4aeb-99e1-ff020b8ed17f",
   "metadata": {},
   "outputs": [],
   "source": [
    "mv webapp.nomad.bak2_$(date +%Y%m%d) webapp.nomad\n",
    "sed -i\".bak2_$(date +%Y%m%d)\" '6,8d' webapp.nomad   #delete spread\n",
    "\n",
    "sed -i \\\n",
    "  's/count = 6/count = 6\\n\\\n",
    "      affinity { \\\n",
    "        attribute = \"${attr.platform.aws.instance-type}\" \\\n",
    "        value     = \"m5.xlarge\" \\\n",
    "        weight    = 100 \\\n",
    "      }/g' \\\n",
    "  webapp.nomad\n",
    "head -n 20 webapp.nomad"
   ]
  },
  {
   "cell_type": "markdown",
   "id": "7a9be957-dd94-46c9-9769-617fb7b23f81",
   "metadata": {},
   "source": [
    "**NOTE**: Negative weights can be specified to indicate \"`anti-affinities`\".\n",
    "\n",
    "To make it easier to track the new deployment of the \"`webapp`\" job, let's first stop it with this command:"
   ]
  },
  {
   "cell_type": "code",
   "execution_count": null,
   "id": "0017cf3e-3c9b-4440-beab-460d08918e21",
   "metadata": {},
   "outputs": [],
   "source": [
    "nomad job stop -purge webapp"
   ]
  },
  {
   "cell_type": "markdown",
   "id": "da7a33a4-20f3-4d76-a9d7-f3103d6581e1",
   "metadata": {},
   "source": [
    "This will completely remove the \"webapp\" job from the list of jobs in the Nomad UI."
   ]
  },
  {
   "cell_type": "markdown",
   "id": "313c6448-df29-4d3e-b0c2-0fb5a0914cb2",
   "metadata": {},
   "source": [
    "## Re-run the webapp.nomad job with affinity"
   ]
  },
  {
   "cell_type": "markdown",
   "id": "aa9acc4d-0bca-4e1e-a8d9-16899d2bbe92",
   "metadata": {},
   "source": [
    "Now, let's re-run the \"`webapp`\" job again:"
   ]
  },
  {
   "cell_type": "code",
   "execution_count": null,
   "id": "d19df582-03f1-4d7f-9340-10d5d39bcebc",
   "metadata": {},
   "outputs": [],
   "source": [
    "time nomad job run webapp.nomad > /tmp/nomad_job_run.txt 2>&1 &"
   ]
  },
  {
   "cell_type": "code",
   "execution_count": null,
   "id": "c5a92271-5dda-4b99-b6af-994f862ca5ae",
   "metadata": {},
   "outputs": [],
   "source": [
    "(head -n 10;tail -n 10) < /tmp/nomad_job_run.txt\n",
    "# cat /tmp/nomad_job_run.txt | (sed -u 10q; echo; tail -n 2)"
   ]
  },
  {
   "cell_type": "markdown",
   "id": "9c1a1398-03e5-4cee-8292-11b1775deb7e",
   "metadata": {},
   "source": [
    "### Verify"
   ]
  },
  {
   "cell_type": "markdown",
   "id": "ef53bc28-b7e6-4be9-8deb-d443c98fe997",
   "metadata": {},
   "source": [
    "The job should deploy 6 new allocations, but probably will not deploy all of them to the \"`client1`\" node as you had requested.\n",
    "\n",
    "You can check where the allocations were actually deployed by inspecting the \"`webapp`\" job in the the Nomad UI and looking at the \"`Allocations`\" tab of the job.\n",
    "- You can sort the allocations by clicking on the \"`Status`\" column header until all the running allocations are at the top."
   ]
  },
  {
   "cell_type": "markdown",
   "id": "044e133f-be99-4a13-a756-71863e349c51",
   "metadata": {},
   "source": [
    "Check its status with the Nomad CLI using this command:"
   ]
  },
  {
   "cell_type": "code",
   "execution_count": null,
   "id": "eb75deb5-69c8-4b18-a639-cbf24c69587f",
   "metadata": {},
   "outputs": [],
   "source": [
    "nomad job status webapp"
   ]
  },
  {
   "cell_type": "markdown",
   "id": "926ba32e-25e7-43aa-a039-c0d2ddcf08fc",
   "metadata": {},
   "source": [
    "Get detailed information on how Nomad decided where to deploy one of the allocations that was deployed to `client1`:\n",
    "\n",
    "```shell\n",
    "nomad alloc status -verbose <alloc>\n",
    "```\n",
    "\n",
    "- replace `<alloc>` with one of the allocation IDs in the first column of the \"`Allocations`\" section at the bottom of the output for which the corresponding Node ID matches the ID of the \"`client1`\" node."
   ]
  },
  {
   "cell_type": "code",
   "execution_count": null,
   "id": "50bb7552-026c-4f1e-af98-5a05007df1b6",
   "metadata": {},
   "outputs": [],
   "source": [
    "nomad alloc status -verbose $(nomad job status webapp | tail -n 5 \\\n",
    "  | sort -k 2 | sed -n '3p' | awk '{print $1}')"
   ]
  },
  {
   "cell_type": "markdown",
   "id": "c02f249c-0550-4e1e-b2d0-b1edf139e3d8",
   "metadata": {},
   "source": [
    "- You can determine the Node ID of `client1` on the `Clients` section of the Nomad UI."
   ]
  },
  {
   "cell_type": "markdown",
   "id": "023f2f48-468f-492a-8eba-b487b556098f",
   "metadata": {},
   "source": [
    "If you look at the \"`Placement Metrics`\" section at the bottom, you will see various scores for each of the 3 Nomad clients. See this [section](https://www.nomadproject.io/docs/job-specification/affinity/#example-placement-metadata) for an explanation of the scores.\n",
    "\n",
    "Sample Output\n",
    "```text\n",
    "Placement Metrics\n",
    "Node                    binpack  job-anti-affinity  node-affinity  node-reschedule-penalty  final score\n",
    "e4818dac-a9a3-500c-...  0.458    -0.833             1              0                        0.208\n",
    "0acc8763-ee83-4ad6-...  0.203    0                  0              0                        0.203\n",
    "e42317e7-510d-95a0-...  0.203    0                  0              0                        0.203\n",
    "```\n",
    "\n",
    "The placement score is affected by the following factors.\n",
    "\n",
    "- `bin-packing` - Scores nodes according to how well they fit requirements.\n",
    "    - Optimizes for using minimal number of nodes.\n",
    "- `job-anti-affinity` - A penalty added for additional instances of the same job on a node, used to avoid having too many instances of a job on the same node.\n",
    "- `node-reschedule-penalty` - Used when the job is being rescheduled.\n",
    "    - Nomad adds a penalty to avoid placing the job on a node where it has failed to run before.\n",
    "- `node-affinity` - Used when the criteria specified in the affinity stanza matches the node."
   ]
  },
  {
   "cell_type": "markdown",
   "id": "ffd0446c-3697-40ca-a53c-211f09f012dc",
   "metadata": {},
   "source": [
    "There are several reasons why Nomad might not deploy all allocations according to your `affinity` stanza's preferences:\n",
    "* Nomad automatically applies a job anti-affinity rule which discourages co-locating multiple instances of a task group.\n",
    "* Nomad applies a bin packing algorithm that attempts to optimize the resource utilization and density of applications in order to leave large blocks of resources available on some Nomad clients in case a future job attempts to schedule allocations that require large amounts of memory and CPU.\n",
    "\n",
    "You can read more about both of these concepts in Nomad's [Scheduling](https://www.nomadproject.io/docs/internals/scheduling/scheduling/) documentation.\n",
    "\n",
    "Congratulations on completing the Nomad Advanced Job Placement track!"
   ]
  },
  {
   "cell_type": "markdown",
   "id": "dd9e3da3-89ef-4549-ad68-c91f7618a14f",
   "metadata": {},
   "source": [
    "## Command Summary"
   ]
  },
  {
   "cell_type": "code",
   "execution_count": null,
   "id": "0ec2b154-40b1-4dab-8f24-22afb6119b0d",
   "metadata": {},
   "outputs": [],
   "source": [
    "nomad job stop -purge webapp\n",
    "nomad job run webapp.nomad\n",
    "nomad job status webapp\n",
    "nomad alloc status -verbose $(nomad job status webapp | tail -n 5 \\\n",
    "  | sort -k 2 | sed -n '3p' | awk '{print $1}')"
   ]
  },
  {
   "cell_type": "markdown",
   "id": "af3a5407-24ae-4ed1-8ce6-81118bc58bdf",
   "metadata": {},
   "source": [
    "# Preemption"
   ]
  },
  {
   "cell_type": "markdown",
   "id": "0bd00120-9652-4b88-9a76-84d4a6e260ee",
   "metadata": {},
   "source": [
    "Teaser: Enable and use preemption for service and batch jobs in Nomad to keep critical jobs running by evicting lower priority work.\n"
   ]
  },
  {
   "cell_type": "markdown",
   "id": "e7f3cb8e-35f7-403b-8962-a69124021df7",
   "metadata": {},
   "source": [
    "Preemption allows Nomad to evict running allocations to place allocations of a\n",
    "higher priority. Allocations of a job that are blocked temporarily go into\n",
    "\"`pending`\" status until the cluster has additional capacity to run them.\n",
    "\n",
    "> Preemption is useful when operators need to run relatively higher priority tasks sooner even under resource contention across the cluster.\n",
    "\n",
    "\n",
    "> - Nomad v0.9.0 added Preemption for [system](https://www.nomadproject.io/docs/schedulers#system) jobs.\n",
    ">- Nomad v0.9.3 [Enterprise](https://www.nomadproject.io/docs/enterprise) added preemption for [service](https://www.nomadproject.io/docs/schedulers#service) and [batch](https://www.nomadproject.io/docs/schedulers#service) jobs.\n",
    ">- Nomad v0.12.0 made preemption an open source feature for all three job types.\n",
    "\n",
    "Preemption is enabled by default for system jobs. It can be enabled for service\n",
    "and batch jobs by sending a [payload](https://www.nomadproject.io/api-docs/operator#sample-payload-1) with the\n",
    "appropriate options specified to the [scheduler configuration](https://www.nomadproject.io/api-docs/operator#update-scheduler-configuration) API endpoint."
   ]
  },
  {
   "cell_type": "markdown",
   "id": "316be21d-318e-4f62-98cd-1e19600520e4",
   "metadata": {},
   "source": [
    "## Create a job with low priority - webserver.nomad\n",
    "\n",
    "Start by creating a job with relatively lower priority into your Nomad cluster.\n",
    "One of the allocations from this job will be preempted in a subsequent\n",
    "deployment when there is a resource contention in the cluster."
   ]
  },
  {
   "cell_type": "markdown",
   "id": "8a4e9b2e-fb41-4f91-a3b0-9e52490be566",
   "metadata": {},
   "source": [
    "Create the \"`webserver.nomad`\" job specification file."
   ]
  },
  {
   "cell_type": "code",
   "execution_count": null,
   "id": "6469cebe-a19c-432b-80c4-cde230834ef0",
   "metadata": {},
   "outputs": [],
   "source": [
    "cat > /tmp/nomad_terraform/jobs/webserver.nomad <<-EOF\n",
    "job \"webserver\" {\n",
    "  datacenters = [\"dc1\"]\n",
    "  type        = \"service\"\n",
    "  priority    = 40\n",
    "\n",
    "  group \"webserver\" {\n",
    "    count = 3\n",
    "    network {\n",
    "      port \"http\" {\n",
    "        to = 80\n",
    "      }\n",
    "    }\n",
    "\n",
    "    service {\n",
    "      name = \"apache-webserver\"\n",
    "      port = \"http\"\n",
    "\n",
    "      check {\n",
    "        name     = \"alive\"\n",
    "        type     = \"http\"\n",
    "        path     = \"/\"\n",
    "        interval = \"10s\"\n",
    "        timeout  = \"2s\"\n",
    "      }\n",
    "    }\n",
    "\n",
    "    task \"apache\" {\n",
    "      driver = \"docker\"\n",
    "\n",
    "      config {\n",
    "        image = \"httpd:latest\"\n",
    "        ports = [\"http\"]\n",
    "      }\n",
    "\n",
    "      resources {\n",
    "        memory = 4000 #600\n",
    "      }\n",
    "    }\n",
    "  }\n",
    "}\n",
    "EOF"
   ]
  },
  {
   "cell_type": "markdown",
   "id": "25ad4dce-04c0-4d8e-9cac-e66526615d2b",
   "metadata": {},
   "source": [
    "**NOTE**\n",
    "- The [count](https://www.nomadproject.io/docs/job-specification/group#count) is 3 and that each allocation is specifying 4000 MB\n",
    "of [memory](https://www.nomadproject.io/docs/job-specification/resources#memory).\n",
    "- Remember that 2 nodes only has 8 GB of RAM and 1 node has 16GB of RAM."
   ]
  },
  {
   "cell_type": "markdown",
   "id": "47c2ae6f-c86c-4327-bd7b-70a5ee391f75",
   "metadata": {},
   "source": [
    "## Run the low priority job\n",
    "\n",
    "Use the [`nomad job run`](https://www.nomadproject.io/docs/commands/job/run) command to start the `webserver.nomad` job."
   ]
  },
  {
   "cell_type": "code",
   "execution_count": null,
   "id": "876f54c5-17d3-45fb-bdb8-d64a26cde163",
   "metadata": {},
   "outputs": [],
   "source": [
    "nomad job run /tmp/nomad_terraform/jobs/webserver.nomad \\\n",
    "  > /tmp/nomad_job_run_webserver.txt 2>&1 &"
   ]
  },
  {
   "cell_type": "code",
   "execution_count": null,
   "id": "34087bdd-1298-4454-be62-fbd17b387826",
   "metadata": {
    "tags": []
   },
   "outputs": [],
   "source": [
    "(head -n 10; echo ; tail) < /tmp/nomad_job_run_webserver.txt"
   ]
  },
  {
   "cell_type": "markdown",
   "id": "59cf1648-f26b-4aca-8299-b2a1abb424f6",
   "metadata": {},
   "source": [
    "Check the status of the `webserver` job using the [`nomad job status`](https://www.nomadproject.io/docs/commands/job/status) command at this point and verify that an allocation has been placed on each client node in the cluster."
   ]
  },
  {
   "cell_type": "code",
   "execution_count": null,
   "id": "c482b5c5-adf0-454e-b5c5-9dc0d953cc1c",
   "metadata": {
    "tags": []
   },
   "outputs": [],
   "source": [
    "nomad job status webserver"
   ]
  },
  {
   "cell_type": "markdown",
   "id": "16c7b415-cd8b-4168-81f8-d669404c40ca",
   "metadata": {
    "tags": []
   },
   "source": [
    "## Create a job with high priority\n",
    "\n",
    "Create another job with a [priority](https://www.nomadproject.io/docs/job-specification/job#priority) greater than the \"`webserver`\" job."
   ]
  },
  {
   "cell_type": "markdown",
   "id": "681bd492-21ad-4a0c-8098-172702994611",
   "metadata": {
    "tags": []
   },
   "source": [
    "Copy the following into a file named `redis.nomad`."
   ]
  },
  {
   "cell_type": "code",
   "execution_count": null,
   "id": "666a2349-fc6e-4ac3-b018-62e72e3acff0",
   "metadata": {},
   "outputs": [],
   "source": [
    "cat > /tmp/nomad_terraform/jobs/redis.nomad <<-EOF\n",
    "\n",
    "job \"redis\" {\n",
    "  datacenters = [\"dc1\"]\n",
    "  type        = \"service\"\n",
    "  priority    = 80\n",
    "\n",
    "  group \"cache1\" {\n",
    "    count = 2\n",
    "\n",
    "    network {\n",
    "      port \"db\" {\n",
    "        to = 6379\n",
    "      }\n",
    "    }\n",
    "\n",
    "    service {\n",
    "      name = \"redis-cache\"\n",
    "      port = \"db\"\n",
    "\n",
    "      check {\n",
    "        name     = \"alive\"\n",
    "        type     = \"tcp\"\n",
    "        interval = \"10s\"\n",
    "        timeout  = \"2s\"\n",
    "      }\n",
    "    }\n",
    "\n",
    "    task \"redis\" {\n",
    "      driver = \"docker\"\n",
    "\n",
    "      config {\n",
    "        image = \"redis:latest\"\n",
    "        ports = [\"db\"]\n",
    "      }\n",
    "\n",
    "      resources {\n",
    "        memory = 7000 #700\n",
    "      }\n",
    "    }\n",
    "  }\n",
    "}\n",
    "EOF\n"
   ]
  },
  {
   "cell_type": "markdown",
   "id": "1f65da3e-9ef4-4a79-be43-dec51f318ffc",
   "metadata": {},
   "source": [
    "**NOTE**\n",
    "- This job has a priority of `80` (greater than the priority of the `webserver` job from earlier)\n",
    "- This job requires 7000 MB of memory.\n",
    "- This allocation will create a resource contention in the cluster since each node only has 8 GB of memory with a 4000 MB allocation already placed on it."
   ]
  },
  {
   "cell_type": "markdown",
   "id": "16687c3b-a280-468e-a4c0-51c7ab92a108",
   "metadata": {},
   "source": [
    "## Observe a run before and after enabling preemption"
   ]
  },
  {
   "cell_type": "markdown",
   "id": "4370cfa0-71bf-4627-87c7-3808051d27b7",
   "metadata": {},
   "source": [
    "### Try to run `redis.nomad`"
   ]
  },
  {
   "cell_type": "markdown",
   "id": "0232ae52-8b92-4ed4-9712-cc3cd0ef32ff",
   "metadata": {},
   "source": [
    "Remember that preemption for service and batch jobs is [not enabled by\n",
    "default](https://www.nomadproject.io/api-docs/operator#preemptionconfig-1). This means that the `redis` job will be queued due\n",
    "to resource contention in the cluster. You can verify the resource contention\n",
    "before actually registering your job by running the [`nomad job plan` command](https://www.nomadproject.io/docs/commands/job/plan).\n",
    "\n",
    "```shell\n",
    "$ nomad job plan redis.nomad\n",
    "+ Job: \"redis\"\n",
    "+ Task Group: \"cache1\" (1 create)\n",
    "  + Task: \"redis\" (forces create)\n",
    "\n",
    "Scheduler dry-run:\n",
    "- WARNING: Failed to place all allocations.\n",
    "  Task Group \"cache1\" (failed to place 1 allocation):\n",
    "    * Resources exhausted on 3 nodes\n",
    "    * Dimension \"memory\" exhausted on 3 nodes\n",
    "...\n",
    "```"
   ]
  },
  {
   "cell_type": "code",
   "execution_count": null,
   "id": "592aa818-ca7e-4d0a-a346-3b95b4f1cccb",
   "metadata": {},
   "outputs": [],
   "source": [
    "nomad job plan redis.nomad"
   ]
  },
  {
   "cell_type": "markdown",
   "id": "90ba397a-524f-49c9-8353-489ae9877aec",
   "metadata": {},
   "source": [
    "Run the `redis.nomad` job with the [`nomad job run` command](https://www.nomadproject.io/docs/commands/job/run). Observe that the\n",
    "allocation was queued.\n",
    "\n",
    "```shell\n",
    "$ nomad job run redis.nomad\n",
    "==> Monitoring evaluation \"3c6593b4\"\n",
    "    Evaluation triggered by job \"redis\"\n",
    "    Evaluation within deployment: \"ae55a4aa\"\n",
    "    Evaluation status changed: \"pending\" -> \"complete\"\n",
    "==> Evaluation \"3c6593b4\" finished with status \"complete\" but failed to place all allocations:\n",
    "    Task Group \"cache1\" (failed to place 1 allocation):\n",
    "      * Resources exhausted on 3 nodes\n",
    "      * Dimension \"memory\" exhausted on 3 nodes\n",
    "    Evaluation \"249fd21b\" waiting for additional capacity to place remainder   <==---\n",
    "```"
   ]
  },
  {
   "cell_type": "code",
   "execution_count": null,
   "id": "0001857b-24c2-4ab0-890c-d6b7ac006a55",
   "metadata": {},
   "outputs": [],
   "source": [
    "nomad job run /tmp/nomad_terraform/jobs/redis.nomad \\\n",
    "  > /tmp/nomad_job_run_redis.txt 2>&1 &"
   ]
  },
  {
   "cell_type": "code",
   "execution_count": null,
   "id": "61662355-79c7-46d3-a693-6370eb25b8b9",
   "metadata": {},
   "outputs": [],
   "source": [
    "(head -n 10; echo ; tail) < /tmp/nomad_job_run_redis.txt"
   ]
  },
  {
   "cell_type": "markdown",
   "id": "257113be-406f-4e35-b3d1-9a349f854e19",
   "metadata": {},
   "source": [
    "You can also verify the allocation has been queued by now by fetching the status\n",
    "of the job using the [`nomad job status` command](https://www.nomadproject.io/docs/commands/job/status)."
   ]
  },
  {
   "cell_type": "code",
   "execution_count": null,
   "id": "958c6cdd-f7b1-4f4c-a4a0-c9607d49b88f",
   "metadata": {},
   "outputs": [],
   "source": [
    "nomad job status redis"
   ]
  },
  {
   "cell_type": "markdown",
   "id": "16961b36-34a9-4a89-a427-3485018cdbc3",
   "metadata": {},
   "source": [
    "```shell\n",
    "ID            = redis\n",
    "Name          = redis\n",
    "Submit Date   = 2022-09-09T11:15:51-07:00\n",
    "Type          = service\n",
    "Priority      = 80\n",
    "...\n",
    "Placement Failure\n",
    "Task Group \"cache1\":\n",
    "  * Resources exhausted on 3 nodes\n",
    "  * Dimension \"memory\" exhausted on 3 nodes\n",
    "...\n",
    "Deployed\n",
    "Task Group  Desired  Placed  Healthy  Unhealthy  Progress Deadline\n",
    "cache1      2        1       1        0          2022-09-09T18:26:05Z\n",
    "\n",
    "Allocations\n",
    "ID        Node ID   Task Group  Version  Desired  Status   Created    Modified\n",
    "0cc481c0  dd542a09  cache1      0        run      running  7m47s ago  7m32s ago\n",
    "```"
   ]
  },
  {
   "cell_type": "markdown",
   "id": "467740c7-666a-4f35-bc5b-c2c170a51c49",
   "metadata": {},
   "source": [
    "Stop the `redis` job for now. In the next steps, you will enable service job\n",
    "preemption and re-deploy. Use the [`nomad job stop` command](https://www.nomadproject.io/docs/commands/job/stop) with the `-purge`\n",
    "flag set.\n",
    "\n",
    "```shell\n",
    "$ nomad job stop -purge redis\n",
    "==> Monitoring evaluation \"a9c9945d\"\n",
    "    Evaluation triggered by job \"redis\"\n",
    "    Evaluation within deployment: \"ae55a4aa\"\n",
    "    Evaluation status changed: \"pending\" -> \"complete\"\n",
    "==> Evaluation \"a9c9945d\" finished with status \"complete\"\n",
    "```"
   ]
  },
  {
   "cell_type": "code",
   "execution_count": null,
   "id": "ae91e7ae-7995-4deb-a40d-0462c8e3cae0",
   "metadata": {},
   "outputs": [],
   "source": [
    "nomad job stop -purge redis"
   ]
  },
  {
   "cell_type": "markdown",
   "id": "f53ba7e7-ac51-40b2-85f5-dab208926d38",
   "metadata": {},
   "source": []
  },
  {
   "cell_type": "markdown",
   "id": "e3719efa-38ba-4e29-8ae2-a4b775feff19",
   "metadata": {},
   "source": [
    "### Enable service job preemption"
   ]
  },
  {
   "cell_type": "markdown",
   "id": "73df9d12-1577-4c75-b720-dcb42583662e",
   "metadata": {},
   "source": [
    "Get the current [scheduler configuration][scheduler-configuration] using the\n",
    "Nomad API."
   ]
  },
  {
   "cell_type": "markdown",
   "id": "5a080de1-3c54-483c-9c3c-9785ef42d6e5",
   "metadata": {},
   "source": [
    "If you are enabling preemption in an ACL-enabled Nomad cluster, you will also\n",
    "need to [authenticate to the API][api-auth] with a Nomad token via the\n",
    "`X-Nomad-Token` header. In this case, you can use an environment variable to add\n",
    "the header option and your token value to the command. If you don't use tokens,\n",
    "skip this step. The `curl` commands will run correctly when the variable is\n",
    "unset.\n",
    "\n",
    "```shell-session\n",
    "$ export NOMAD_AUTH='--header \"X-Nomad-Token: «replace with your token»\"'\n",
    "```"
   ]
  },
  {
   "cell_type": "markdown",
   "id": "c94785f6-8491-4452-a72e-518877341a0a",
   "metadata": {},
   "source": [
    "Now, fetch the configuration with the following `curl` command.\n",
    "\n",
    "```shell-session\n",
    "$ curl --silent ${NOMAD_AUTH} \\\n",
    "  ${NOMAD_ADDR}/v1/operator/scheduler/configuration?pretty\n",
    "```\n"
   ]
  },
  {
   "cell_type": "code",
   "execution_count": null,
   "id": "f8f4ac65-c3f2-40ad-935d-d81623591773",
   "metadata": {},
   "outputs": [],
   "source": [
    "curl --silent ${NOMAD_AUTH} \\\n",
    "  ${NOMAD_ADDR}/v1/operator/scheduler/configuration?pretty"
   ]
  },
  {
   "cell_type": "markdown",
   "id": "fb992085-55a0-4821-8b7c-4c2b1a2c6d9b",
   "metadata": {},
   "source": [
    "```json\n",
    "{\n",
    "  \"SchedulerConfig\": {\n",
    "    \"SchedulerAlgorithm\": \"binpack\",\n",
    "    \"PreemptionConfig\": {\n",
    "      \"SystemSchedulerEnabled\": true,\n",
    "      \"SysBatchSchedulerEnabled\": false,\n",
    "      \"BatchSchedulerEnabled\": false,\n",
    "      \"ServiceSchedulerEnabled\": false\n",
    "    },\n",
    "    \"MemoryOversubscriptionEnabled\": false,\n",
    "    \"RejectJobRegistration\": false,\n",
    "    \"PauseEvalBroker\": false,\n",
    "    \"CreateIndex\": 5,\n",
    "    \"ModifyIndex\": 5\n",
    "  },\n",
    "  \"Index\": 5,\n",
    "  \"LastContact\": 0,\n",
    "  \"KnownLeader\": true,\n",
    "  \"NextToken\": \"\"\n",
    "}\n",
    "```"
   ]
  },
  {
   "cell_type": "markdown",
   "id": "1c620d82-97d9-45bd-9124-a8d161cca9b8",
   "metadata": {},
   "source": [
    "Note that [BatchSchedulerEnabled][batch-enabled] and\n",
    "[ServiceSchedulerEnabled][service-enabled] are both set to `false` by default.\n",
    "Since you are preempting service jobs in this guide, you need to set\n",
    "`ServiceSchedulerEnabled` to `true`. Do this by directly interacting\n",
    "with the [API][update-scheduler]."
   ]
  },
  {
   "cell_type": "markdown",
   "id": "dc5d3b99-19bb-4108-be25-c80eaaf8d15c",
   "metadata": {},
   "source": [
    "Create a JSON payload and place it in a file named `scheduler.json`:"
   ]
  },
  {
   "cell_type": "code",
   "execution_count": null,
   "id": "3bfef111-f2e0-4b59-a1c4-878d663763dd",
   "metadata": {},
   "outputs": [],
   "source": [
    "cat > /tmp/nomad_terraform/jobs/scheduler.json <<EOF\n",
    "{\n",
    "  \"PreemptionConfig\": {\n",
    "    \"SystemSchedulerEnabled\": true,\n",
    "    \"BatchSchedulerEnabled\": false,\n",
    "    \"ServiceSchedulerEnabled\": true\n",
    "  }\n",
    "}\n",
    "EOF"
   ]
  },
  {
   "cell_type": "markdown",
   "id": "4f8e132c-01c0-4e8a-aa55-51768f715fad",
   "metadata": {},
   "source": [
    "Note that [ServiceSchedulerEnabled][service-enabled] has been set to `true`."
   ]
  },
  {
   "cell_type": "markdown",
   "id": "1a76391c-afff-4829-9d3d-8db344760ae5",
   "metadata": {},
   "source": [
    "Run the following command to update the scheduler configuration:"
   ]
  },
  {
   "cell_type": "code",
   "execution_count": null,
   "id": "dea69446-4d48-4add-af57-77bea5ef6b91",
   "metadata": {},
   "outputs": [],
   "source": [
    "curl --silent ${NOMAD_AUTH} \\\n",
    "  --request POST --data @/tmp/nomad_terraform/jobs/scheduler.json \\\n",
    "  ${NOMAD_ADDR}/v1/operator/scheduler/configuration"
   ]
  },
  {
   "cell_type": "markdown",
   "id": "370e0329-7c5b-4be9-9de4-14bfcc25a5b6",
   "metadata": {},
   "source": [
    "You should now be able to inspect the scheduler configuration again and verify\n",
    "that preemption has been enabled for service jobs:"
   ]
  },
  {
   "cell_type": "code",
   "execution_count": null,
   "id": "fbb989f5-47b3-4904-8e0f-3dccde773fe3",
   "metadata": {},
   "outputs": [],
   "source": [
    "curl --silent ${NOMAD_AUTH} \\\n",
    "  ${NOMAD_ADDR}/v1/operator/scheduler/configuration?pretty"
   ]
  },
  {
   "cell_type": "markdown",
   "id": "100253ab-962e-4464-bfae-eb2c87929d75",
   "metadata": {},
   "source": [
    "Output below is abbreviated\n",
    "```json\n",
    "...\n",
    "        \"PreemptionConfig\": {\n",
    "            \"SystemSchedulerEnabled\": true,\n",
    "            \"SysBatchSchedulerEnabled\": false,\n",
    "            \"BatchSchedulerEnabled\": false,\n",
    "            \"ServiceSchedulerEnabled\": true\n",
    "        },\n",
    "...\n",
    "```"
   ]
  },
  {
   "cell_type": "markdown",
   "id": "e580aaa1-672a-4411-80ab-bf07dd5e3feb",
   "metadata": {},
   "source": [
    "### Try running the redis job again\n",
    "\n",
    "Now that you have enabled preemption on service jobs, deploying your `redis` job\n",
    "should evict one of the lower priority `webserver` allocations and place it into\n",
    "a queue. You can run `nomad plan` to output a preview of what will happen:\n",
    "\n",
    "```shell-session\n",
    "$ nomad job plan redis.nomad\n",
    "+ Job: \"redis\"\n",
    "+ Task Group: \"cache1\" (1 create)\n",
    "  + Task: \"redis\" (forces create)\n",
    "\n",
    "Scheduler dry-run:\n",
    "- All tasks successfully allocated.\n",
    "\n",
    "Preemptions:\n",
    "\n",
    "Alloc ID                              Job ID     Task Group\n",
    "8a3d7e1e-40ee-f731-5135-247d8b7c2901  webserver  webserver\n",
    "...\n",
    "```"
   ]
  },
  {
   "cell_type": "code",
   "execution_count": null,
   "id": "4041f157-8ad7-4c93-8ffb-767d1e0c05e2",
   "metadata": {},
   "outputs": [],
   "source": [
    "nomad job plan /tmp/nomad_terraform/jobs/redis.nomad"
   ]
  },
  {
   "cell_type": "markdown",
   "id": "16b3ac49-f9c6-4c3a-895f-771f2a141155",
   "metadata": {},
   "source": [
    "The preceding plan output shows that one of the `webserver` allocations will be\n",
    "evicted in order to place the requested `redis` instance."
   ]
  },
  {
   "cell_type": "markdown",
   "id": "2d974cd0-5115-481b-9971-2062b16e5c45",
   "metadata": {},
   "source": [
    "Now use the [`nomad job run` command][] to run the `redis.nomad` job file.\n",
    "\n",
    "```shell\n",
    "$ nomad job run redis.nomad\n",
    "==> Monitoring evaluation \"fef3654f\"\n",
    "    Evaluation triggered by job \"redis\"\n",
    "    Evaluation within deployment: \"37b37a63\"\n",
    "    Allocation \"6ecc4bbe\" created: node \"cf8487e2\", group \"cache1\"\n",
    "    Evaluation status changed: \"pending\" -> \"complete\"\n",
    "==> Evaluation \"fef3654f\" finished with status \"complete\"\n",
    "```"
   ]
  },
  {
   "cell_type": "code",
   "execution_count": null,
   "id": "b4af9a22-f008-4cd1-8249-8c8899785b91",
   "metadata": {},
   "outputs": [],
   "source": [
    "nomad job run /tmp/nomad_terraform/jobs/redis.nomad \\\n",
    "  > /tmp/nomad_job_run_redis.txt 2>&1 &"
   ]
  },
  {
   "cell_type": "code",
   "execution_count": null,
   "id": "1d17a55d-23ef-41ec-9320-60bace8cca12",
   "metadata": {},
   "outputs": [],
   "source": [
    "(head -n 15; echo ; tail) < /tmp/nomad_job_run_redis.txt"
   ]
  },
  {
   "cell_type": "markdown",
   "id": "060200a1-67ae-429d-afdc-3fe430066fe0",
   "metadata": {},
   "source": [
    "Run the [`nomad job status` command][] on the `webserver` job to verify one of\n",
    "the allocations has been evicted.\n",
    "\n",
    "```shell-session\n",
    "$ nomad job status webserver\n",
    "ID            = webserver\n",
    "Name          = webserver\n",
    "Submit Date   = 2021-02-11T19:18:29-05:00\n",
    "Type          = service\n",
    "Priority      = 40\n",
    "...\n",
    "Summary\n",
    "Task Group  Queued  Starting  Running  Failed  Complete  Lost  Unknown\n",
    "webserver   0       0         3        0       1         0     0\n",
    "\n",
    "...\n",
    "\n",
    "Deployed\n",
    "Task Group  Desired  Placed  Healthy  Unhealthy  Progress Deadline\n",
    "webserver   3        3       3        0          2022-09-09T18:22:36Z\n",
    "\n",
    "Allocations\n",
    "ID        Node ID   Task Group  Version  Desired  Status    Created    Modified\n",
    "d58bf52b  dd542a09  webserver   0        run      running   1m6s ago   53s ago\n",
    "762796e1  dd542a09  webserver   0        run      running   25m9s ago  24m49s ago\n",
    "884315cf  76a7373b  webserver   0        run      running   25m9s ago  24m42s ago\n",
    "b5036793  eb855ed5  webserver   0        evict    complete  25m9s ago  1m4s ago\n",
    "```"
   ]
  },
  {
   "cell_type": "code",
   "execution_count": null,
   "id": "c15c3c05-66d8-4910-9aea-a6b31ff3761d",
   "metadata": {},
   "outputs": [],
   "source": [
    "nomad job status webserver"
   ]
  },
  {
   "cell_type": "markdown",
   "id": "2e7caaba-148a-42ee-8f0d-b4219523801b",
   "metadata": {},
   "source": [
    "**NOTE**\n",
    "- One webserver allocation was evicted.\n",
    "  - This allocation moved to another node.\n",
    "  - This is why we still have 3 allocations Placed."
   ]
  },
  {
   "cell_type": "markdown",
   "id": "44a29eda-b072-411f-b4e7-ebd641b107ac",
   "metadata": {},
   "source": [
    "## Summary"
   ]
  },
  {
   "attachments": {
    "e9fc9043-9085-4972-b83f-7da52ac1132d.png": {
     "image/png": "[encoded data removed]"
    }
   },
   "cell_type": "markdown",
   "id": "979a78df-c451-46dd-bde5-a09e780ba0f6",
   "metadata": {},
   "source": [
    "https://excalidraw.com/#json=eIGowVJIp0PK7qn7gNWsz,isoVMeool_Z-n8-dHtAU2A\n",
    "\n",
    "![image.png](attachment:e9fc9043-9085-4972-b83f-7da52ac1132d.png)"
   ]
  },
  {
   "cell_type": "markdown",
   "id": "c63fcc1a-7c35-4f80-aa62-70438caccb79",
   "metadata": {},
   "source": [
    "## Next steps\n",
    "\n",
    "The process you learned in this tutorial can also be applied to\n",
    "[batch](https://www.nomadproject.io/api-docs/operator/#batchschedulerenabled) jobs as well. Read more about preemption in the\n",
    "[Nomad documentation](https://www.nomadproject.io/docs/internals/scheduling/preemption)."
   ]
  },
  {
   "cell_type": "markdown",
   "id": "27606b43-aed6-42fd-a1d5-8c76a65e33dc",
   "metadata": {},
   "source": [
    "### Reference material\n",
    "\n",
    "- [Preemption][preemption]\n",
    "\n",
    "[batch-enabled]: https://www.nomadproject.io/api-docs/operator/#batchschedulerenabled\n",
    "[batch-job]: https://www.nomadproject.io/docs/schedulers/#batch\n",
    "[count]: https://www.nomadproject.io/docs/job-specification/group/#count\n",
    "[enterprise]: https://www.nomadproject.io/docs/enterprise\n",
    "[memory]: https://www.nomadproject.io/docs/job-specification/resources#memory\n",
    "[payload-preemption-config]: https://www.nomadproject.io/api-docs/operator#sample-payload-1\n",
    "[preemption-config]: https://www.nomadproject.io/api-docs/operator#preemptionconfig-1\n",
    "[preemption]: https://www.nomadproject.io/docs/internals/scheduling/preemption\n",
    "[priority]: https://www.nomadproject.io/docs/job-specification/job#priority\n",
    "[repository]: https://github.com/hashicorp/nomad/tree/master/terraform#provision-a-nomad-cluster-in-the-cloud\n",
    "[scheduler-configuration]: https://www.nomadproject.io/api-docs/operator#read-scheduler-configuration\n",
    "[service-enabled]: https://www.nomadproject.io/api-docs/operator#serviceschedulerenabled-1\n",
    "[service-job]: https://www.nomadproject.io/docs/schedulers#service\n",
    "[step-1]: #create-a-job-with-low-priority\n",
    "[system-job]: https://www.nomadproject.io/docs/schedulers#system\n",
    "[t2-micro]: https://aws.amazon.com/ec2/instance-types/\n",
    "[update-scheduler]: https://www.nomadproject.io/api-docs/operator#update-scheduler-configuration\n",
    "[`nomad job plan` command]: https://www.nomadproject.io/docs/commands/job/plan\n",
    "[`nomad job run` command]: https://www.nomadproject.io/docs/commands/job/run\n",
    "[`nomad job status` command]: https://www.nomadproject.io/docs/commands/job/status\n",
    "[`nomad job stop` command]: https://www.nomadproject.io/docs/commands/job/stop\n",
    "[api-auth]: https://www.nomadproject.io/api-docs#authentication\n"
   ]
  },
  {
   "cell_type": "markdown",
   "id": "fd396890-0038-4d74-9c12-78f134a4f2a1",
   "metadata": {},
   "source": [
    "# Clean Up"
   ]
  },
  {
   "cell_type": "markdown",
   "id": "cd977e44-20d0-4acc-a9ed-82277d35c8c6",
   "metadata": {
    "tags": []
   },
   "source": [
    "## terraform destroy"
   ]
  },
  {
   "cell_type": "code",
   "execution_count": null,
   "id": "814888ec-e3ec-4efe-a426-f6aff2e84814",
   "metadata": {},
   "outputs": [],
   "source": [
    "pushd /tmp/nomad_terraform/aws/env\n",
    "time terragrunt destroy > /tmp/tf_destroy_nomad_out.txt 2>&1 &\n",
    "popd"
   ]
  },
  {
   "cell_type": "code",
   "execution_count": null,
   "id": "cbf3154a-4fd8-4355-9a87-8dbee0fb8adb",
   "metadata": {
    "tags": []
   },
   "outputs": [],
   "source": [
    "tail -n 50 /tmp/tf_destroy_nomad_out.txt"
   ]
  },
  {
   "cell_type": "code",
   "execution_count": null,
   "id": "fdeaf090-aec0-4819-a3f0-ac26a72fe498",
   "metadata": {},
   "outputs": [],
   "source": [
    "rm /tmp/nomad_terraform/aws/env/terraform.tfstate*"
   ]
  },
  {
   "cell_type": "code",
   "execution_count": null,
   "id": "4e570704-2635-460c-a22f-c408ecadc97c",
   "metadata": {},
   "outputs": [],
   "source": [
    "rm /tmp/nomad_terraform/jobs/traefik.nomad.bak_*"
   ]
  },
  {
   "cell_type": "markdown",
   "id": "7b84994d-7586-4bee-bf16-d86166e6411c",
   "metadata": {},
   "source": [
    "# Q&A"
   ]
  },
  {
   "cell_type": "markdown",
   "id": "4392d9d0-b19f-4e91-8a33-a6058c1a731e",
   "metadata": {},
   "source": [
    "Hi SMEs! Is there any documentation around the behavior of updating the [scheduling algorithm](https://www.nomadproject.io/api-docs/operator/scheduler#update-scheduler-configuration) on a Nomad cluster from binpack to spread. Specifically, are allocs spread when redeployed or does Nomad try to balance things proactively after the setting is applied?\n",
    "\n",
    "Correct, the scheduling change is only forward looking. The best answer to get things spread after the fact is a set of rolling-drains.\n",
    "\n",
    "Daniel Santos\n",
    "We did this in our Prod Nomad clusters a couple weeks ago and the spread behaviour applies only after new allocs / evals are placed"
   ]
  },
  {
   "cell_type": "markdown",
   "id": "55e99f10-52d3-4078-a870-d2a225686aa9",
   "metadata": {},
   "source": [
    "# References\n",
    "\n",
    "- Variable Interpolation - https://www.nomadproject.io/docs/runtime/interpolation\n",
    "- Node Variables - https://www.nomadproject.io/docs/runtime/interpolation#interpreted_node_vars\n",
    "\n",
    "```\n",
    "nomad node status -verbose -self\n",
    "```"
   ]
  },
  {
   "cell_type": "markdown",
   "id": "782a7767-008a-4417-b12d-a2a2763fd523",
   "metadata": {},
   "source": [
    "### Vault"
   ]
  },
  {
   "cell_type": "code",
   "execution_count": null,
   "id": "1f485916-6389-4b12-9b4b-0b78253b6895",
   "metadata": {},
   "outputs": [],
   "source": [
    "ssh -i /tmp/nomad_terraform/ssh_key/aws-key-pair \\\n",
    "  -o StrictHostKeyChecking=no ubuntu@54.189.139.194 \\\n",
    "  dig @127.0.0.1 -p 8600 active.vault.service.consul"
   ]
  },
  {
   "cell_type": "code",
   "execution_count": null,
   "id": "029bc3b8-e3e0-46b3-af4d-d698c4129a02",
   "metadata": {},
   "outputs": [],
   "source": [
    "ssh -i /tmp/nomad_terraform/ssh_key/aws-key-pair \\\n",
    "  -o StrictHostKeyChecking=no ubuntu@54.189.139.194 \\\n",
    "  VAULT_ADDR=http://127.0.0.1:8200 vault status"
   ]
  },
  {
   "cell_type": "markdown",
   "id": "3051959b-7b3c-4ec2-93e0-918168af1b34",
   "metadata": {},
   "source": [
    "# Changelog"
   ]
  },
  {
   "cell_type": "markdown",
   "id": "b6c097d8-d2b0-440a-b911-3d13b210d0e5",
   "metadata": {},
   "source": []
  },
  {
   "cell_type": "markdown",
   "id": "22c152a9-4834-4ed8-8b38-9da141ac2b3e",
   "metadata": {},
   "source": [
    "2022-09-08\n",
    "- Packer\n",
    "  - I disabled nvidia docker and rkt install\n",
    "  - switched to `ubuntu-focal-20.04` from `ubuntu-xenial-16.04`\n",
    "  - switched to spot instance. m5.xlarge vs t2\n",
    "  ```json\n",
    "    \"spot_instance_types\": [\"m5.large\"],\n",
    "    \"spot_price\": \"auto\",\n",
    "  ```\n",
    "  - removed `dns-port` from consul service file\n",
    "  - switched `setup_new.sh` from `setup.sh`\n",
    "- Terraform\n",
    "  - Change aws provider to `3.75.2`"
   ]
  }
 ],
 "metadata": {
  "kernelspec": {
   "display_name": "Bash",
   "language": "bash",
   "name": "bash"
  },
  "language_info": {
   "codemirror_mode": "shell",
   "file_extension": ".sh",
   "mimetype": "text/x-sh",
   "name": "bash"
  }
 },
 "nbformat": 4,
 "nbformat_minor": 5
}
