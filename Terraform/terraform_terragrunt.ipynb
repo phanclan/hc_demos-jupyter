{
 "cells": [
  {
   "cell_type": "markdown",
   "id": "36bffcce-35cd-4006-95b2-03e9c5dfd2de",
   "metadata": {
    "tags": []
   },
   "source": [
    "# Introduction"
   ]
  },
  {
   "cell_type": "markdown",
   "id": "e28551bb-0534-4503-b9e5-6ff7ce3743b1",
   "metadata": {},
   "source": [
    "## What is Terragrunt"
   ]
  },
  {
   "cell_type": "markdown",
   "id": "8bc2b3ca-6c06-4b15-8b8f-2948ad80dc0b",
   "metadata": {},
   "source": [
    "Terragrunt is a thin wrapper that provides extra tools for keeping your configurations DRY, working with multiple Terraform modules, and managing remote state."
   ]
  },
  {
   "cell_type": "markdown",
   "id": "ed90ded0-d2a1-4113-a478-26c1392dbb96",
   "metadata": {},
   "source": [
    "To use it, you:\n",
    "\n",
    "- Install Terraform.\n",
    "- Install Terragrunt.\n",
    "- Put your Terragrunt configuration in a `terragrunt.hcl` file. You’ll see several example configurations shortly.\n",
    "- Now, instead of running terraform directly, you run the same commands with terragrunt:\n",
    "\n",
    "```shell\n",
    "terragrunt plan\n",
    "terragrunt apply\n",
    "terragrunt output\n",
    "terragrunt destroy\n",
    "```"
   ]
  },
  {
   "cell_type": "markdown",
   "id": "a234369a-1480-4215-bf58-a26742f7fa73",
   "metadata": {},
   "source": [
    "Terragrunt will forward almost all commands, arguments, and options directly to Terraform, but based on the settings in your terragrunt.hcl file."
   ]
  },
  {
   "cell_type": "markdown",
   "id": "471f379f-27a9-44e1-8c77-465bb19b4d42",
   "metadata": {},
   "source": [
    "## Use Cases"
   ]
  },
  {
   "cell_type": "markdown",
   "id": "4ebe1e26-8088-48ea-9119-bb591302ff29",
   "metadata": {},
   "source": [
    "- Keep your Terraform code DRY\n",
    "- Keep your remote state configuration DRY\n",
    "- Keep your CLIE flags DRY\n",
    "- Execute Terraform commands multiple modules at once\n",
    "- Work with multiple AWS accounts"
   ]
  },
  {
   "cell_type": "markdown",
   "id": "528a3064-85d9-48e7-b0f3-1114632bdc3b",
   "metadata": {},
   "source": [
    "<details><summary><h3>Keep your code DRY</summary>\n",
    "\n",
    "```text\n",
    "live\n",
    "├── prod\n",
    "│   ├── app\n",
    "│   │   └── terragrunt.hcl\n",
    "│   ├── mysql\n",
    "│   │   └── terragrunt.hcl\n",
    "│   └── vpc\n",
    "│       └── terragrunt.hcl\n",
    "├── qa\n",
    "│   ├── app\n",
    "│   │   └── terragrunt.hcl\n",
    "│   ├── mysql\n",
    "│   │   └── terragrunt.hcl\n",
    "│   └── vpc\n",
    "│       └── terragrunt.hcl\n",
    "└── stage\n",
    "    ├── app\n",
    "    │   └── terragrunt.hcl\n",
    "    ├── mysql\n",
    "    │   └── terragrunt.hcl\n",
    "    └── vpc\n",
    "        └── terragrunt.hcl\n",
    "```\n",
    "</details>"
   ]
  },
  {
   "cell_type": "code",
   "execution_count": null,
   "id": "1f856f96-eec0-4eba-ac2d-fb2f9c2ef121",
   "metadata": {},
   "outputs": [],
   "source": [
    "mkdir -p live/{prod,qa,stage}/{app,mysql,vpc}\n",
    "touch live/{prod,qa,stage}/{app,mysql,vpc}/terragrunt.hcl\n",
    "tree live"
   ]
  },
  {
   "cell_type": "markdown",
   "id": "812cbd84-53d3-4359-b5a9-9c9b5999e219",
   "metadata": {},
   "source": [
    "<details><summary><h3>Keep your remote state configuration DRY</summary>\n",
    "\n",
    "```go\n",
    "generate \"remote_state\" {\n",
    "  path      = \"backend.tf\"\n",
    "  if_exists = \"overwrite\"\n",
    "  contents = <<EOF\n",
    "terraform {\n",
    "  backend \"remote\" {\n",
    "    hostname = \"app.terraform.io\"\n",
    "    organization = \"pphan\"\n",
    "    workspaces {\n",
    "      name = \"tg-demo-${path_relative_to_include()}\"\n",
    "    }\n",
    "  }\n",
    "}\n",
    "EOF\n",
    "}\n",
    "```\n",
    "  </details>"
   ]
  },
  {
   "cell_type": "markdown",
   "id": "3a182f8a-6e34-4cfc-901e-ceb0aa594678",
   "metadata": {},
   "source": [
    "<details><summary><h3>Keep your CLI flags DRY</summary>\n",
    "\n",
    "```go\n",
    "terraform {\n",
    "  # Force Terraform to keep trying to acquire a lock for\n",
    "  # up to 20 minutes if someone else already has the lock\n",
    "  extra_arguments \"retry_lock\" {\n",
    "    commands = [\n",
    "      \"init\",\n",
    "      \"apply\",\n",
    "      \"refresh\",\n",
    "      \"import\",\n",
    "      \"plan\",\n",
    "      \"taint\",\n",
    "      \"untaint\"\n",
    "    ]\n",
    "\n",
    "    arguments = [\n",
    "      \"-lock-timeout=20m\"\n",
    "    ]\n",
    "\n",
    "    env_vars = {\n",
    "      TF_VAR_var_from_environment = \"value\"\n",
    "    }\n",
    "  }\n",
    "}\n",
    "```\n",
    "</details>"
   ]
  },
  {
   "cell_type": "markdown",
   "id": "03f1f187-229f-4c3f-b923-24635e3f80ff",
   "metadata": {},
   "source": [
    "<details><summary><h3>Execute Terraform commands on multiple modules at once</h3></summary>\n",
    "\n",
    "To be able to deploy multiple Terraform modules in a single command, add a `terragrunt.hcl` file to each module:\n",
    "\n",
    "```text\n",
    "root\n",
    "├── backend-app\n",
    "│   ├── main.tf\n",
    "│   └── terragrunt.hcl\n",
    "├── frontend-app\n",
    "│   ├── main.tf\n",
    "│   └── terragrunt.hcl\n",
    "├── mysql\n",
    "│   ├── main.tf\n",
    "│   └── terragrunt.hcl\n",
    "├── redis\n",
    "│   ├── main.tf\n",
    "│   └── terragrunt.hcl\n",
    "└── vpc\n",
    "    ├── main.tf\n",
    "    └── terragrunt.hcl\n",
    "```\n",
    "\n",
    "<br>\n",
    "Now, deploy all the modules within the `root` folder by using the `run-all` command with `apply`.:\n",
    "<p>\n",
    "\n",
    "```shell\n",
    "cd root\n",
    "terragrunt run-all apply\n",
    "```\n",
    "\n",
    "</details>"
   ]
  },
  {
   "cell_type": "markdown",
   "id": "4ade4a44-b39a-4e80-8c56-64227f32298c",
   "metadata": {},
   "source": [
    "## Prep"
   ]
  },
  {
   "cell_type": "markdown",
   "id": "a5ffb740-84e4-468b-b650-54c2e63ecf5f",
   "metadata": {},
   "source": [
    "### Install Terragrunt"
   ]
  },
  {
   "cell_type": "code",
   "execution_count": null,
   "id": "34046a0c-4b1a-4802-b363-d8432b066ca1",
   "metadata": {},
   "outputs": [],
   "source": [
    "TERRAGRUNT_VERSION=0.38.8"
   ]
  },
  {
   "cell_type": "markdown",
   "id": "5e420884-9dd7-45c5-bedb-76a45b916061",
   "metadata": {},
   "source": [
    "Download, rename, make executable, and move it."
   ]
  },
  {
   "cell_type": "code",
   "execution_count": null,
   "id": "abbd038f-a98e-4d31-9f93-8efd4993ba94",
   "metadata": {},
   "outputs": [],
   "source": [
    "curl -Lo /tmp/terragrunt \\\n",
    "  https://github.com/gruntwork-io/terragrunt/releases/download/v${TERRAGRUNT_VERSION}/terragrunt_linux_amd64\n",
    "chmod +x /tmp/terragrunt\n",
    "sudo mv /tmp/terragrunt /usr/local/bin/"
   ]
  },
  {
   "cell_type": "markdown",
   "id": "0b9e3ff6-59a8-4baa-ada9-deafe0c121a8",
   "metadata": {},
   "source": [
    "Confirm"
   ]
  },
  {
   "cell_type": "code",
   "execution_count": null,
   "id": "509089cd-e7f7-405f-a801-99a495a37fe1",
   "metadata": {},
   "outputs": [],
   "source": [
    "terragrunt | grep -A2 -i version"
   ]
  },
  {
   "cell_type": "markdown",
   "id": "91c7576e-c3f3-4f26-8408-3650f372a633",
   "metadata": {},
   "source": []
  },
  {
   "cell_type": "markdown",
   "id": "ec8ffbcf-f1ff-430a-b9bb-48e9d06702ad",
   "metadata": {},
   "source": [
    "### AWS Credentials"
   ]
  },
  {
   "cell_type": "markdown",
   "id": "ea56d7c7-2bed-42ad-aaf8-9868331be510",
   "metadata": {},
   "source": [
    "Set your AWS Credentials. I got one from Instruqt terminal with this command.\n",
    "\n",
    "```bash\n",
    "env | grep -iE \"^aws.*access\" | xargs -I{} echo export {}\n",
    "```"
   ]
  },
  {
   "cell_type": "code",
   "execution_count": null,
   "id": "17797fc7-646f-42f4-b858-33f4ffe13d92",
   "metadata": {},
   "outputs": [],
   "source": [
    "unset AWS_ACCESS_KEY_ID AWS_SECRET_ACCESS_KEY\n",
    "export AWS_DEFAULT_REGION=us-west-2\n",
    "export AWS_REGION=$AWS_DEFAULT_REGION\n",
    "export AWS_ACCESS_KEY_ID=\n",
    "export AWS_SECRET_ACCESS_KEY=\n",
    "export TF_VAR_aws_access_key_id=$AWS_ACCESS_KEY_ID\n",
    "export TF_VAR_aws_secret_access_key=$AWS_SECRET_ACCESS_KEY\n",
    "\n",
    "printf \"%s\\n\" \"#==> Creds:\" \"$AWS_REGION\" \"$AWS_ACCESS_KEY_ID\" \"$AWS_SECRET_ACCESS_KEY\""
   ]
  },
  {
   "cell_type": "markdown",
   "id": "cb0134aa-b3f4-448e-8fe8-344d5a0dbe8c",
   "metadata": {},
   "source": [
    "Create default VPC if needed."
   ]
  },
  {
   "cell_type": "code",
   "execution_count": null,
   "id": "b703316b-5f70-4d08-b506-e5ef1192c1bf",
   "metadata": {},
   "outputs": [],
   "source": [
    "aws configure set region us-west-2 --profile default\n",
    "aws ec2 create-default-vpc > /dev/null || true\n",
    "printf \"\\n#==> Show VPC ids\\n\"\n",
    "aws ec2 describe-vpcs | jq -r '.[] | .[] | .VpcId'"
   ]
  },
  {
   "cell_type": "markdown",
   "id": "4d04948f-e45e-47d3-84de-5d10cf311407",
   "metadata": {},
   "source": [
    "# Example"
   ]
  },
  {
   "cell_type": "markdown",
   "id": "81349194-c02f-4b1c-a013-99cb322cea64",
   "metadata": {},
   "source": [
    "Here is an example configuration you can use to get started. The following configuration can be used to deploy the `terraform-aws-modules/vpc` module from the Terraform Registry:\n",
    "\n",
    "- In this demo we will run through terragrunt using a local backend.\n",
    "- We will create a folder for creating TFC workspaces.\n",
    "- We will create a folder for each environment (`dev`, `qa`, `prod`)\n",
    "- All folders with `terragrunt.hcl` will be processed except the root.\n",
    "- We will show module dependencies\n",
    "    - workspace, dev, qa, and then prod\n",
    "- Then, we will migrate all folders to TFC remote backend.\n",
    "- Run all folders again with TFC to use TFC workers, variables, state, governance and more."
   ]
  },
  {
   "cell_type": "markdown",
   "id": "5c0c2a6d-5eee-4617-9b68-51eb0ef1ebd0",
   "metadata": {},
   "source": [
    "## Create folder structure"
   ]
  },
  {
   "cell_type": "code",
   "execution_count": null,
   "id": "2611c665-41f1-4c79-b638-749a53b877c4",
   "metadata": {},
   "outputs": [],
   "source": [
    "mkdir -p /tmp/terragrunt/{workspace,dev,qa,prod}\n",
    "touch /tmp/terragrunt/{workspace,dev,qa,prod}/terragrunt.hcl"
   ]
  },
  {
   "cell_type": "code",
   "execution_count": null,
   "id": "aee98dac-3ca4-4854-a1b8-99d2d330e336",
   "metadata": {},
   "outputs": [],
   "source": [
    "tree /tmp/terragrunt"
   ]
  },
  {
   "cell_type": "markdown",
   "id": "729ae376-c398-4c29-a3cd-ab311e322409",
   "metadata": {},
   "source": [
    "Sample Output\n",
    "```text\n",
    "/tmp/terragrunt\n",
    "├── dev\n",
    "│   └── terragrunt.hcl\n",
    "├── prod\n",
    "│   └── terragrunt.hcl\n",
    "├── qa\n",
    "│   └── terragrunt.hcl\n",
    "├── terragrunt.hcl\n",
    "└── workspace\n",
    "    ├── terragrunt.hcl\n",
    "```"
   ]
  },
  {
   "cell_type": "code",
   "execution_count": null,
   "id": "0890faee-7d3c-48a9-b07e-ae654d582b8d",
   "metadata": {},
   "outputs": [],
   "source": [
    "cd /tmp/terragrunt"
   ]
  },
  {
   "cell_type": "markdown",
   "id": "cbec2917-7faf-46e2-9cfb-10f2efa84ac4",
   "metadata": {},
   "source": [
    "## create terragrunt.hcl - root"
   ]
  },
  {
   "cell_type": "code",
   "execution_count": null,
   "id": "1d1a3d9a-f81d-4369-823c-9bc26c0990f7",
   "metadata": {
    "tags": []
   },
   "outputs": [],
   "source": [
    "cat > /tmp/terragrunt/terragrunt.hcl <<\"EOL\"\n",
    "# Indicate where to source the terraform module from.\n",
    "# The URL used here is a shorthand for\n",
    "# \"tfr://registry.terraform.io/terraform-aws-modules/vpc/aws?version=3.5.0\".\n",
    "# Note the extra `/` after the protocol is required for the shorthand\n",
    "# notation.\n",
    "terraform {\n",
    "  source = \"tfr:///terraform-aws-modules/ec2-instance/aws?version=4.0.0\"\n",
    "  before_hook \"before_hook\" {\n",
    "    commands     = [\"apply\"]\n",
    "    execute      = [\"echo\", \"Applying my terraform\"]\n",
    "  }\n",
    "\n",
    "  after_hook \"after_hook\" {\n",
    "    commands     = [\"apply\"]\n",
    "    execute      = [\"echo\", \"Finished applying Terraform successfully!\"]\n",
    "    run_on_error = false\n",
    "  }\n",
    "  extra_arguments \"automation\" {\n",
    "    commands = [\n",
    "      \"apply\",\n",
    "      \"refresh\",\n",
    "      \"taint\",\n",
    "      \"untaint\"\n",
    "    ]\n",
    "    arguments = [\n",
    "      \"-input=false\",\n",
    "      \"-auto-approve\"\n",
    "    ]\n",
    "\n",
    "    env_vars = {\n",
    "      TF_VAR_var_from_environment = \"value\"\n",
    "    }\n",
    "  }\n",
    "}\n",
    "\n",
    "generate \"versions\" {\n",
    "  path = \"versions.tf\"\n",
    "  if_exists = \"overwrite\"\n",
    "  contents = <<EOF\n",
    "terraform {\n",
    "  # required_version = \"~1.1.0\"\n",
    "  required_providers{\n",
    "    aws = {\n",
    "      source = \"hashicorp/aws\"\n",
    "      version = \">= 4.28.0\"\n",
    "    }\n",
    "  }\n",
    "}\n",
    "EOF\n",
    "}\n",
    "\n",
    "generate \"provider\" {\n",
    "  path = \"provider.tf\"\n",
    "  if_exists = \"overwrite_terragrunt\"\n",
    "  contents = <<EOF\n",
    "provider \"aws\" {\n",
    "  region = \"us-west-2\"   # region to deploy the resources into\n",
    "}\n",
    "EOF\n",
    "}\n",
    "\n",
    "# Indicate the input values to use for the variables of the module.\n",
    "inputs = {\n",
    "  ami           = \"ami-06f29effee622eb00\"\n",
    "  instance_type = \"t3.micro\"\n",
    "  tags = {\n",
    "    Terraform   = \"true\"\n",
    "    Environment = \"root\"\n",
    "    Name        = \"Terragrunt-${path_relative_to_include()}\"\n",
    "  }\n",
    "}\n",
    "\n",
    "generate \"remote_state\" {\n",
    "  path      = \"backend.tf\"\n",
    "  if_exists = \"overwrite\"\n",
    "  contents = <<EOF\n",
    "terraform {\n",
    "  backend \"remote\" {\n",
    "    hostname = \"app.terraform.io\" # Change this to your hostname for TFE\n",
    "    organization = \"pphan\"\n",
    "    workspaces {\n",
    "      name = \"tg-demo-${path_relative_to_include()}\"\n",
    "    }\n",
    "  }\n",
    "}\n",
    "EOF\n",
    "}\n",
    "\n",
    "EOL"
   ]
  },
  {
   "cell_type": "markdown",
   "id": "a075ef0f-cf12-4b24-8653-403431d6520c",
   "metadata": {},
   "source": [
    "## create terragrunt.hcl - leaf workspace"
   ]
  },
  {
   "cell_type": "code",
   "execution_count": null,
   "id": "4a0b88a7-a633-4156-81c9-fe6549704595",
   "metadata": {},
   "outputs": [],
   "source": [
    "cat > /tmp/terragrunt/workspace/terragrunt.hcl <<\"EOL\"\n",
    "terraform {\n",
    "  extra_arguments \"automation\" {\n",
    "    commands = [\n",
    "      \"apply\",\n",
    "      \"refresh\",\n",
    "      \"taint\",\n",
    "      \"untaint\"\n",
    "    ]\n",
    "    arguments = [\n",
    "      \"-input=false\",\n",
    "      \"-auto-approve\"\n",
    "    ]\n",
    "\n",
    "    env_vars = {\n",
    "      TF_VAR_var_from_environment = \"value\"\n",
    "    }\n",
    "  }\n",
    "}\n",
    "#--> TF_VARs\n",
    "inputs = {\n",
    "  workspaces = [\"dev\",\"qa\",\"prod\"]\n",
    "  tag_names  = [\"test\", \"app\"]\n",
    "  tf_org_name = \"pphan\"\n",
    "}\n",
    "\n",
    "#--> Use this for testing different versions of providers.\n",
    "generate \"versions\" {\n",
    "  path = \"versions.tf\"\n",
    "  if_exists = \"overwrite\"\n",
    "  contents = <<EOF\n",
    "terraform {\n",
    "  required_providers{\n",
    "    tfe = {\n",
    "      source = \"hashicorp/tfe\"\n",
    "      version = \">= 0.36.1\"\n",
    "    }\n",
    "  }\n",
    "}\n",
    "EOF\n",
    "}\n",
    "\n",
    "#--> Enable this if TFC\n",
    "generate \"tfvars\" {\n",
    "  path      = \"terragrunt.auto.tfvars.json\"\n",
    "  if_exists = \"overwrite\"\n",
    "  disable_signature = true\n",
    "  contents = jsonencode({ami = \"ami-06f29effee622eb00\",\n",
    "      instance_type = \"t3.micro\",\n",
    "      tags = {\n",
    "        Terraform   = \"true\"\n",
    "        Environment = \"${path_relative_to_include()}\"\n",
    "        Name        = \"Terragrunt-${path_relative_to_include()}\"      \n",
    "      }\n",
    "  })\n",
    "}\n",
    "\n",
    "EOL"
   ]
  },
  {
   "cell_type": "markdown",
   "id": "8195b3be-8508-4f6e-a0fb-73f7f99d254a",
   "metadata": {},
   "source": [
    "> **NOTE**: You will need to comment out the Run Tasks sections if you don't have it setup."
   ]
  },
  {
   "cell_type": "code",
   "execution_count": null,
   "id": "9a3747c3-b859-443a-ad46-834a42447971",
   "metadata": {},
   "outputs": [],
   "source": [
    "cat > /tmp/terragrunt/workspace/workspace.tf <<\"EOL\"\n",
    "\n",
    "resource \"tfe_workspace\" \"this\" {\n",
    "  for_each     = toset(var.workspaces)\n",
    "  name         = \"tg-demo-${each.key}\"\n",
    "  description  = \"terraform vending machine\"\n",
    "  organization = var.tf_org_name\n",
    "  auto_apply   = true\n",
    "  queue_all_runs = true\n",
    "  terraform_version = \"1.2.1\"\n",
    "  tag_names    = var.tag_names\n",
    "}\n",
    "\n",
    "resource \"tfe_variable\" \"org_name\" {\n",
    "  for_each     = toset(var.workspaces)\n",
    "  key   = \"org_name\"\n",
    "  value = var.tf_org_name\n",
    "  category = \"terraform\"\n",
    "  workspace_id = tfe_workspace.this[each.key].id\n",
    "  description = \"TFC Org Name\"\n",
    "  sensitive = false\n",
    "}\n",
    "\n",
    "resource \"tfe_variable_set\" \"this\" {\n",
    "  name          = \"Test Varset\"\n",
    "  description   = \"Terragrunt Variable Set\"\n",
    "  organization  = var.tf_org_name\n",
    "}\n",
    "\n",
    "resource \"tfe_workspace_variable_set\" \"this\" {\n",
    "  for_each     = toset(var.workspaces)\n",
    "  workspace_id    = tfe_workspace.this[each.key].id\n",
    "  variable_set_id = tfe_variable_set.this.id\n",
    "}\n",
    "\n",
    "resource \"tfe_variable\" \"aws_access_key_id\" {\n",
    "  key             = \"AWS_ACCESS_KEY_ID\"\n",
    "  value           = var.aws_access_key_id\n",
    "  category        = \"env\"\n",
    "  description     = \"a useful description\"\n",
    "  variable_set_id = tfe_variable_set.this.id\n",
    "}\n",
    "\n",
    "resource \"tfe_variable\" \"aws_secret_access_key\" {\n",
    "  key             = \"AWS_SECRET_ACCESS_KEY\"\n",
    "  value           = var.aws_secret_access_key\n",
    "  category        = \"env\"\n",
    "  description     = \"a useful description\"\n",
    "  variable_set_id = tfe_variable_set.this.id\n",
    "  sensitive       = true\n",
    "}\n",
    "\n",
    "data \"tfe_organization_run_task\" \"infracost\" {\n",
    "  name         = \"Infracost\"\n",
    "  organization = var.tf_org_name\n",
    "}\n",
    "\n",
    "resource \"tfe_workspace_run_task\" \"infracost\" {\n",
    "  for_each          = toset(var.workspaces)\n",
    "  workspace_id      = tfe_workspace.this[each.key].id\n",
    "  task_id           = data.tfe_organization_run_task.infracost.id\n",
    "  enforcement_level = \"advisory\"\n",
    "}\n",
    "\n",
    "data \"tfe_organization_run_task\" \"snyk\" {\n",
    "  name         = \"Snyk\"\n",
    "  organization = var.tf_org_name\n",
    "}\n",
    "\n",
    "resource \"tfe_workspace_run_task\" \"snyk\" {\n",
    "  for_each          = toset(var.workspaces)\n",
    "  workspace_id      = tfe_workspace.this[each.key].id\n",
    "  task_id           = data.tfe_organization_run_task.snyk.id\n",
    "  enforcement_level = \"advisory\"\n",
    "}\n",
    "\n",
    "variable \"tf_org_name\" {}\n",
    "\n",
    "variable \"workspaces\" { type = list(string) }\n",
    "\n",
    "variable \"tag_names\" { type = list(string) }\n",
    "\n",
    "variable \"aws_access_key_id\" {}\n",
    "variable \"aws_secret_access_key\" {}\n",
    "\n",
    "output \"workspaces_pros\" {\n",
    "  value = tfe_workspace.this\n",
    "}\n",
    "\n",
    "EOL"
   ]
  },
  {
   "cell_type": "code",
   "execution_count": null,
   "id": "bdfbc974-fbf8-47ef-81ff-b69a555249f9",
   "metadata": {},
   "outputs": [],
   "source": [
    "pushd /tmp/terragrunt/workspace/\n",
    "# terragrunt init\n",
    "# terragrunt plan\n",
    "terragrunt apply -auto-approve\n",
    "# terragrunt destroy -auto-approve\n",
    "popd"
   ]
  },
  {
   "cell_type": "markdown",
   "id": "46dd8eb2-e7ac-4d5d-90c9-9c6c2ca8b028",
   "metadata": {},
   "source": [
    "If an `input` variable has the same name as a variable defined in one of our shared variable `.yaml` files then it will be automatically picked up."
   ]
  },
  {
   "cell_type": "markdown",
   "id": "8f38da78-d695-440c-ad75-4e663eacdfa7",
   "metadata": {},
   "source": [
    "## create terragrunt.hcl - leaf dev"
   ]
  },
  {
   "cell_type": "markdown",
   "id": "45408f12-d5b7-4c9e-9499-0817b346306b",
   "metadata": {},
   "source": [
    "Tell the Terragrunt to import the root `terragrunt.hcl`. Add to `terragrunt.hcl` in leaf."
   ]
  },
  {
   "cell_type": "code",
   "execution_count": null,
   "id": "8aa896cb-efc5-4803-9ff6-8394f2bab97c",
   "metadata": {},
   "outputs": [],
   "source": [
    "cat > /tmp/terragrunt/dev/terragrunt.hcl <<\"EOL\"\n",
    "include \"root\" {\n",
    "  path = find_in_parent_folders()\n",
    "}\n",
    "\n",
    "dependencies {\n",
    "  paths = [\"../workspace\"]\n",
    "}\n",
    "\n",
    "inputs = {\n",
    "  ami           = \"ami-06f29effee622eb00\"\n",
    "  instance_type = \"t3.micro\"\n",
    "  tags = {\n",
    "    Terraform   = \"true\"\n",
    "    Environment = \"${path_relative_to_include()}\"\n",
    "    Name        = \"Terragrunt-${path_relative_to_include()}\"\n",
    "  }\n",
    "}\n",
    "\n",
    "#--> Use this for testing different versions of providers.\n",
    "# generate \"versions\" {\n",
    "#   path = \"versions.tf\"\n",
    "#   if_exists = \"overwrite\" #\"overwrite_terragrunt\"\n",
    "#   contents = <<EOF\n",
    "# terraform {\n",
    "#   # required_version = \"~1.1.0\"\n",
    "#   required_providers{\n",
    "#     aws = {\n",
    "#       source = \"hashicorp/aws\"\n",
    "#       version = \">= 4.28.0\"\n",
    "#     }\n",
    "#   }\n",
    "# }\n",
    "# EOF\n",
    "# }\n",
    "\n",
    "#--> Enable this if TFC\n",
    "generate \"tfvars\" {\n",
    "  path      = \"terragrunt.auto.tfvars.json\"\n",
    "  if_exists = \"overwrite\"\n",
    "  disable_signature = true\n",
    "  contents = jsonencode({ami = \"ami-06f29effee622eb00\",\n",
    "      instance_type = \"t3.micro\",\n",
    "      tags = {\n",
    "        Terraform   = \"true\"\n",
    "        Environment = \"${path_relative_to_include()}\"\n",
    "        Name        = \"Terragrunt-${path_relative_to_include()}\"      \n",
    "      }\n",
    "  })\n",
    "}\n",
    "\n",
    "EOL"
   ]
  },
  {
   "cell_type": "markdown",
   "id": "e0ec0130-d297-42f0-b74f-3aeab51d9ea4",
   "metadata": {},
   "source": [
    "If an `input` variable has the same name as a variable defined in one of our shared variable `.yaml` files then it will be automatically picked up."
   ]
  },
  {
   "cell_type": "markdown",
   "id": "2f8c5aca-61f1-436f-be6c-998d3c35df9d",
   "metadata": {},
   "source": [
    "## create terragrunt.hcl - leaf qa"
   ]
  },
  {
   "cell_type": "markdown",
   "id": "34f3be7f-bc6d-49a3-bb34-a96e6ca4ef66",
   "metadata": {},
   "source": [
    "Tell the Terragrunt to import the root `terragrunt.hcl`. Add to `terragrunt.hcl` in leaf."
   ]
  },
  {
   "cell_type": "code",
   "execution_count": null,
   "id": "0eef47b2-33e3-41f9-88c9-424097845739",
   "metadata": {},
   "outputs": [],
   "source": [
    "cat > /tmp/terragrunt/qa/terragrunt.hcl <<\"EOL\"\n",
    "include \"root\" {\n",
    "  path = find_in_parent_folders()\n",
    "}\n",
    "\n",
    "dependencies {\n",
    "  paths = [\"../dev\",\"../workspace\"]\n",
    "}\n",
    "\n",
    "inputs = {\n",
    "  ami           = \"ami-06f29effee622eb00\"\n",
    "  instance_type = \"t3.medium\"\n",
    "  tags = {\n",
    "    Terraform   = \"true\"\n",
    "    Environment = \"${path_relative_to_include()}\"\n",
    "    Name        = \"Terragrunt-${path_relative_to_include()}\"\n",
    "  }\n",
    "}\n",
    "\n",
    "#--> Use this for testing different versions of providers.\n",
    "# generate \"versions\" {\n",
    "#   path = \"versions.tf\"\n",
    "#   if_exists = \"overwrite\" #\"overwrite_terragrunt\"\n",
    "#   contents = <<EOF\n",
    "# terraform {\n",
    "#   # required_version = \"~1.1.0\"\n",
    "#   required_providers{\n",
    "#     aws = {\n",
    "#       source = \"hashicorp/aws\"\n",
    "#       version = \">= 4.28.0\"\n",
    "#     }\n",
    "#   }\n",
    "# }\n",
    "# EOF\n",
    "# }\n",
    "\n",
    "#--> Enable this if TFC\n",
    "generate \"tfvars\" {\n",
    "  path      = \"terragrunt.auto.tfvars.json\"\n",
    "  if_exists = \"overwrite\"\n",
    "  disable_signature = true\n",
    "  contents = jsonencode({ami = \"ami-06f29effee622eb00\",\n",
    "      instance_type = \"t3.medium\",\n",
    "      tags = {\n",
    "        Terraform   = \"true\"\n",
    "        Environment = \"${path_relative_to_include()}\"\n",
    "        Name        = \"Terragrunt-${path_relative_to_include()}\"      \n",
    "      }\n",
    "  })\n",
    "}\n",
    "\n",
    "EOL"
   ]
  },
  {
   "cell_type": "markdown",
   "id": "61a6b1f7-fecc-48c7-a13c-6c5a2f938ea7",
   "metadata": {},
   "source": [
    "If an `input` variable has the same name as a variable defined in one of our shared variable `.yaml` files then it will be automatically picked up."
   ]
  },
  {
   "cell_type": "markdown",
   "id": "6218321f-a5c6-43ad-ac6f-977232b54b9e",
   "metadata": {},
   "source": [
    "## create terragrunt.hcl - leaf prod"
   ]
  },
  {
   "cell_type": "markdown",
   "id": "9e33d729-4f6a-4311-a46a-82ac19b4e9d9",
   "metadata": {},
   "source": [
    "Tell the Terragrunt to import the root `terragrunt.hcl`. Add to `terragrunt.hcl` in leaf."
   ]
  },
  {
   "cell_type": "code",
   "execution_count": null,
   "id": "c1a4769f-6323-41b1-aab6-bc48eb883b0e",
   "metadata": {},
   "outputs": [],
   "source": [
    "cat > /tmp/terragrunt/prod/terragrunt.hcl <<\"EOL\"\n",
    "include \"root\" {\n",
    "  path = find_in_parent_folders()\n",
    "}\n",
    "\n",
    "dependencies {\n",
    "  paths = [\"../dev\",\"../qa\",\"../workspace\"]\n",
    "}\n",
    "\n",
    "inputs = {\n",
    "  ami           = \"ami-06f29effee622eb00\"\n",
    "  instance_type = \"t3.large\"\n",
    "  tags = {\n",
    "    Terraform   = \"true\"\n",
    "    Environment = \"${path_relative_to_include()}\"\n",
    "    Name        = \"Terragrunt-${path_relative_to_include()}\"\n",
    "  }\n",
    "}\n",
    "\n",
    "#--> Use this for testing different versions of providers.\n",
    "# generate \"versions\" {\n",
    "#   path = \"versions.tf\"\n",
    "#   if_exists = \"overwrite\" #\"overwrite_terragrunt\"\n",
    "#   contents = <<EOF\n",
    "# terraform {\n",
    "#   # required_version = \"~1.1.0\"\n",
    "#   required_providers{\n",
    "#     aws = {\n",
    "#       source = \"hashicorp/aws\"\n",
    "#       version = \">= 4.28.0\"\n",
    "#     }\n",
    "#   }\n",
    "# }\n",
    "# EOF\n",
    "# }\n",
    "\n",
    "#--> Enable this if TFC\n",
    "generate \"tfvars\" {\n",
    "  path      = \"terragrunt.auto.tfvars.json\"\n",
    "  if_exists = \"overwrite\"\n",
    "  disable_signature = true\n",
    "  contents = jsonencode({ami = \"ami-06f29effee622eb00\",\n",
    "      instance_type = \"t3.large\",\n",
    "      tags = {\n",
    "        Terraform   = \"true\"\n",
    "        Environment = \"${path_relative_to_include()}\"\n",
    "        Name        = \"Terragrunt-${path_relative_to_include()}\"      \n",
    "      }\n",
    "  })\n",
    "}\n",
    "\n",
    "EOL"
   ]
  },
  {
   "cell_type": "markdown",
   "id": "9d48ce5b-10a9-4838-9434-c7e89c81b6ec",
   "metadata": {},
   "source": [
    "If an `input` variable has the same name as a variable defined in one of our shared variable `.yaml` files then it will be automatically picked up."
   ]
  },
  {
   "cell_type": "markdown",
   "id": "839cabbc-70bf-4d63-a5f0-822b03d9e2c2",
   "metadata": {},
   "source": [
    "### walk thru"
   ]
  },
  {
   "cell_type": "markdown",
   "id": "fd745856-b300-425a-a0f3-ff950c969a4b",
   "metadata": {},
   "source": [
    "In the configuration,\n",
    "\n",
    "- the `terraform` block is used to configure how Terragrunt will interact with Terraform.\n",
    "    - You can configure things like `before` and `after` hooks for indicating custom commands to run before and after each terraform call, or what CLI args to pass in for each commands.\n",
    "    - Here we only use it to indicate where terragrunt should fetch the terraform code using the `source` attribute.\n",
    "    - We indicate that terragrunt should fetch the code from the `terraform-aws-modules/vpc/aws` module hosted in the Public Terraform Registry, version `3.5.0`.\n",
    "    - This is indicated by using the `tfr://` protocol in the source URL, which takes the form:\n",
    "\n",
    "    ```text\n",
    "    tfr://REGISTRY_DOMAIN/MODULE?version=VERSION\n",
    "    ```\n",
    "\n",
    "    > Note that you can omit the `REGISTRY_DOMAIN` to default to the Public Terraform Registry.\n",
    "\n",
    "- The `generate` block is used to inject the provider configuration into the active Terraform module.\n",
    "    - This can be used to customize how Terraform interacts with the cloud APIs, including configuring authentication parameters.\n",
    "    - `if_exists = \"overwrite_terragrunt\"` - overwrite if it exists\n",
    "\n",
    "- The `inputs` block is used to indicate what variable values should be passed to terraform.\n",
    "    - This is equivalent to having the contents of the map in a `tfvars` file and passing that to terraform.\n",
    "    - this\n",
    "        ```go\n",
    "        inputs = {\n",
    "          instance_type  = \"t2.micro\"\n",
    "          instance_count = 10\n",
    "\n",
    "          tags = {\n",
    "            Name = \"example-app\"\n",
    "          }\n",
    "        }\n",
    "        ```\n",
    "    - becomes this\n",
    "        ```go\n",
    "        TF_VAR_instance_type=\"t2.micro\" \\\n",
    "        TF_VAR_instance_count=10 \\\n",
    "        TF_VAR_tags='{\"Name\":\"example-app\"}'\n",
    "        ```\n",
    "\n",
    "You can read more about all the supported blocks of the terragrunt configuration in the [reference documentation](https://terragrunt.gruntwork.io/docs/reference/config-blocks-and-attributes), including additional sources that terragrunt supports.\n",
    "\n",
    "You can deploy this example by copy pasting it into a folder and running `terragrunt apply`."
   ]
  },
  {
   "cell_type": "markdown",
   "id": "d8f983f5-dc52-4c52-a9d0-efdcc7fd980f",
   "metadata": {},
   "source": [
    "## terragrunt apply all - locally"
   ]
  },
  {
   "cell_type": "markdown",
   "id": "d8f4df10-e91a-414f-a016-e895d470fe39",
   "metadata": {},
   "source": [
    "**NOTE**: Heads up, not all Registry modules can be deployed with Terragrunt, see A note about using modules from the registry for details."
   ]
  },
  {
   "cell_type": "code",
   "execution_count": null,
   "id": "db98c35e-2a44-4dad-a6a8-bf9201127e2d",
   "metadata": {},
   "outputs": [],
   "source": [
    "cd /tmp/terragrunt"
   ]
  },
  {
   "cell_type": "code",
   "execution_count": null,
   "id": "201addec-4eac-47e2-bf78-b8c9bc8c285b",
   "metadata": {
    "tags": []
   },
   "outputs": [],
   "source": [
    "# rm -rf /tmp/terragrunt/dev/.terragrunt-cache\n",
    "terragrunt run-all init -force-copy \\\n",
    "  --terragrunt-exclude-dir . > /tmp/tf_tg_init_all_out.txt 2>&1 &"
   ]
  },
  {
   "cell_type": "code",
   "execution_count": null,
   "id": "6d47f2e1-7585-412c-8787-0c2458e91577",
   "metadata": {},
   "outputs": [],
   "source": [
    "tail /tmp/tf_tg_init_all_out.txt"
   ]
  },
  {
   "cell_type": "markdown",
   "id": "583dff93-269e-4113-a1da-ca824fbadcf6",
   "metadata": {},
   "source": [
    "Trigger run in TFC. Exclude parent folder."
   ]
  },
  {
   "cell_type": "code",
   "execution_count": null,
   "id": "3c05604a-a8c5-4599-9d43-0ee53331ad0e",
   "metadata": {
    "tags": []
   },
   "outputs": [],
   "source": [
    "terragrunt run-all apply --terragrunt-non-interactive \\\n",
    "  --terragrunt-exclude-dir . \\\n",
    "  > /tmp/tf_tg_apply_all_out.txt 2>&1 &"
   ]
  },
  {
   "cell_type": "markdown",
   "id": "64c4b142-e3fb-4ab5-919b-c4084861e9af",
   "metadata": {},
   "source": [
    "Check progress in log file or in the UI."
   ]
  },
  {
   "cell_type": "code",
   "execution_count": null,
   "id": "4ff83149-8bb5-4ef0-ae19-ff328f1d9f26",
   "metadata": {
    "tags": []
   },
   "outputs": [],
   "source": [
    "tail -n 50 /tmp/tf_tg_apply_all_out.txt"
   ]
  },
  {
   "cell_type": "markdown",
   "id": "30547e07-1b78-45a0-9bb7-cb92470cd11c",
   "metadata": {},
   "source": [
    "### Verify"
   ]
  },
  {
   "cell_type": "markdown",
   "id": "3d222612-b331-4f62-9547-98b67da18ec9",
   "metadata": {},
   "source": [
    "1. Go to your console - https://instruqt-050659821008.signin.aws.amazon.com/console"
   ]
  },
  {
   "cell_type": "markdown",
   "id": "167e4157-fde3-4627-bc1e-40dae3f52482",
   "metadata": {},
   "source": [
    "2. Or verify from the CLI"
   ]
  },
  {
   "cell_type": "code",
   "execution_count": null,
   "id": "dc8a8d53-e393-49bc-94aa-5ab81048b247",
   "metadata": {},
   "outputs": [],
   "source": [
    "aws ec2 describe-instances \\\n",
    "  --query \"Reservations[*].Instances[*].{IP:PublicIpAddress,Tags:Tags,InstanceType:InstanceType}\" \\\n",
    "  | jq\n",
    "\n",
    "# terragrunt output | grep -Ev '\\\"\\\"|\\[\\]'\n",
    "# .{IP:PublicIpAddress,Tags:Tags,InstanceType:InstanceType}"
   ]
  },
  {
   "cell_type": "markdown",
   "id": "a500edb7-1841-40bf-aacb-4532f142bf0c",
   "metadata": {},
   "source": [
    "# TFC and Terragrunt - Better Together"
   ]
  },
  {
   "cell_type": "markdown",
   "id": "5a0c1743-e563-407d-8d2c-b7672a5ed663",
   "metadata": {},
   "source": [
    "## Challenges around TF OSS that can be resolved by TFC/E"
   ]
  },
  {
   "cell_type": "markdown",
   "id": "de976487-34eb-49c0-bb91-1853555f9593",
   "metadata": {},
   "source": [
    "1. Credentials\n",
    "2. State sharing/locking/queueing/ Authentication/Authorisation\n",
    "3. Security and Operational governance(sentinel,runtask)\n",
    "4. Cost estimation\n",
    "5. Git workflow"
   ]
  },
  {
   "cell_type": "markdown",
   "id": "c4dd0758-3f35-4f56-a22f-0b078a07a13f",
   "metadata": {},
   "source": [
    "## Challenges around TF OSS that is resolved by terragrunt/terratest"
   ]
  },
  {
   "cell_type": "markdown",
   "id": "f89b0193-2176-4e9e-b6ff-f474e822e33c",
   "metadata": {},
   "source": [
    "1. inputs/outputs validate\n",
    "2. Test after tf apply"
   ]
  },
  {
   "cell_type": "markdown",
   "id": "f7aa9eed-b729-42d5-bdd0-077014be41ed",
   "metadata": {},
   "source": [
    "## Limitations of Terragrunt-Managed Backends"
   ]
  },
  {
   "cell_type": "markdown",
   "id": "c5c5cffd-2723-42cf-9ce7-3f720386560c",
   "metadata": {},
   "source": [
    "1. Terragrunt lacks security defaults on the log bucket\n",
    "2. Disabling auto-creation of the state bucket and lock table is broken\n",
    "3. Terragrunt doesn’t offer full control over the credentials used to access the Terraform state\n",
    "4. Terragrunt doesn’t offer full control over all fields on the buckets and table\n",
    "\n",
    "Source: https://www.bti360.com/advantages-and-limitations-of-terragrunt-managed-backends/"
   ]
  },
  {
   "cell_type": "markdown",
   "id": "720eda59-d8da-4721-b72c-4d9ca475f925",
   "metadata": {},
   "source": [
    "We can see that the challenges resolved by TFE/C is completely different with the challenges resolved by terragrant. Hence why it is a better together story."
   ]
  },
  {
   "cell_type": "markdown",
   "id": "b3bdee0e-9fae-4b3e-831a-dac25094c49d",
   "metadata": {},
   "source": [
    "## Migrating from terragrunt to TFC/E"
   ]
  },
  {
   "cell_type": "markdown",
   "id": "69cf5f9d-ca6c-424b-a1e5-f2816153b880",
   "metadata": {},
   "source": [
    "1. Change generated backend\n",
    "1. Populate the credentials\n",
    "1. optional - Change the workflow from CLI to VCS\n"
   ]
  },
  {
   "cell_type": "markdown",
   "id": "f1e44f28-c0c8-4da0-9145-404ff6aa31c4",
   "metadata": {},
   "source": [
    "Changes required to support TFC.\n",
    "\n",
    "1. Generate backend for TFC.\n",
    "    - Uncomment `backend` section. See `/tmp/terragrunt/terragrunt.hcl`\n",
    "1. Create `auto.tfvars` to support variables.\n",
    "    - Uncomment `tfvars` section.\n",
    "1. Populate the credentials\n",
    "    - Configure Variables and/or Variable Sets\n",
    "    - We created Variable Sets and applied them to Workspaces in `workspace`\n",
    "1. Optional - These were applied in `workspace` folder\n",
    "    1. Change Apply Method to `Auto apply`.\n",
    "    1. Add Run Tasks\n",
    "    1. Add Sentinel Policies"
   ]
  },
  {
   "cell_type": "markdown",
   "id": "7fadd5d3-a46e-483b-b1bc-1d326b727813",
   "metadata": {},
   "source": [
    "## terragrunt apply all - Switching to TFC"
   ]
  },
  {
   "cell_type": "code",
   "execution_count": null,
   "id": "c7529d97-59a3-491c-ab9d-8d4338e62506",
   "metadata": {},
   "outputs": [],
   "source": [
    "cd /tmp/terragrunt"
   ]
  },
  {
   "cell_type": "markdown",
   "id": "b0f38f4f-eb8c-4b1c-9a01-9e8f2c96b17f",
   "metadata": {},
   "source": [
    "Migrate state file to TFC. Exclude parent folder."
   ]
  },
  {
   "cell_type": "markdown",
   "id": "0f01d73a-6bc0-400f-9e7a-a2fbc2c9f4f0",
   "metadata": {},
   "source": [
    "Switching from local state to remote state requires running `terragrunt init`. We add `-force-copy` to have it not prompt us."
   ]
  },
  {
   "cell_type": "code",
   "execution_count": null,
   "id": "577f841c-f5ea-4f03-abfd-fc03ef6d7c2e",
   "metadata": {},
   "outputs": [],
   "source": [
    "# rm -rf /tmp/terragrunt/dev/.terragrunt-cache\n",
    "terragrunt run-all init -force-copy \\\n",
    "  --terragrunt-exclude-dir ."
   ]
  },
  {
   "cell_type": "markdown",
   "id": "2ce14b67-b846-4dd4-a6ac-489476108154",
   "metadata": {},
   "source": [
    "`terragrunt run-all apply`. Things to note:\n",
    "- First, `dev` will will run first, since we stated that `prod` has a dependency on it.\n",
    "- Then, `prod` will run.\n",
    "    - If dependency was not then all will run concurrently."
   ]
  },
  {
   "cell_type": "code",
   "execution_count": null,
   "id": "7ffe9a4b-d769-47b4-af31-4953c548398b",
   "metadata": {
    "tags": []
   },
   "outputs": [],
   "source": [
    "terragrunt run-all apply --terragrunt-non-interactive \\\n",
    "  --terragrunt-exclude-dir . \\\n",
    "  > /tmp/tf_tg_apply_all_out.txt 2>&1 &"
   ]
  },
  {
   "cell_type": "markdown",
   "id": "9a3e974e-1f93-416e-ac2e-e093096c3229",
   "metadata": {},
   "source": [
    "Check progress."
   ]
  },
  {
   "cell_type": "code",
   "execution_count": null,
   "id": "2ced3f72-b79a-4306-ac97-860abd8b6e3d",
   "metadata": {},
   "outputs": [],
   "source": [
    "tail -n 50 /tmp/tf_tg_apply_all_out.txt"
   ]
  },
  {
   "cell_type": "markdown",
   "id": "000a3ea0-77b0-4a12-914b-04a4137d8994",
   "metadata": {},
   "source": [
    "### Benefits \n",
    "\n",
    "- the state is now centrally stored, with RBAC.\n",
    "    - The credential is centrally controlled, no one can read it.\n",
    "- In addition to this, you can then add sentinel or run task to show guardrail."
   ]
  },
  {
   "cell_type": "markdown",
   "id": "bde518c3-7dbe-4e32-b645-75c0c59ebf23",
   "metadata": {},
   "source": [
    "# Key features"
   ]
  },
  {
   "cell_type": "markdown",
   "id": "f394e88b-4778-4806-9b23-9525ee4a778b",
   "metadata": {},
   "source": [
    "Terragrunt can help you accomplish the following:\n",
    "\n",
    "- Keep your backend configuration DRY\n",
    "- Keep your provider configuration DRY\n",
    "- Keep your Terraform CLI arguments DRY\n",
    "- Promote immutable, versioned Terraform modules across environments"
   ]
  },
  {
   "cell_type": "markdown",
   "id": "dc244870-18da-418e-a551-ba1a9e292504",
   "metadata": {},
   "source": [
    "## Keep your backend configuration DRY"
   ]
  },
  {
   "cell_type": "markdown",
   "id": "9895b411-c18d-4361-ad62-2d4700303ddb",
   "metadata": {},
   "source": [
    "Terraform backends allow you to store Terraform state in a shared location that everyone on your team can access, such as an S3 bucket, and provide locking around your state files to protect against race conditions. To use a Terraform backend, you add a backend configuration to your Terraform code:\n",
    "\n",
    "```go\n",
    "#stage/frontend-app/main.tf\n",
    "terraform {\n",
    "  backend \"s3\" {\n",
    "    bucket         = \"my-terraform-state\"\n",
    "    key            = \"stage/frontend-app/terraform.tfstate\"\n",
    "    region         = \"us-east-1\"\n",
    "    encrypt        = true\n",
    "    dynamodb_table = \"my-lock-table\"\n",
    "  }\n",
    "}\n",
    "```\n",
    "\n",
    "The code above tells Terraform to store the state for a `frontend-app` module in an S3 bucket called `my-terraform-state` under the path `stage/frontend-app/terraform.tfstate`, and to use a DynamoDB table called `my-lock-table` for locking. This is a great feature that every single Terraform team uses to collaborate, but it comes with one major gotcha: the backend configuration does not support variables or expressions of any sort. That is, the following will NOT work:\n",
    "\n",
    "```go\n",
    "#stage/frontend-app/main.tf\n",
    "terraform {\n",
    "  backend \"s3\" {\n",
    "    # Using variables does NOT work here!\n",
    "    bucket         = var.terraform_state_bucket\n",
    "    key            = var.terraform_state_key\n",
    "    region         = var.terraform_state_region\n",
    "    encrypt        = var.terraform_state_encrypt\n",
    "    dynamodb_table = var.terraform_state_dynamodb_table\n",
    "  }\n",
    "}\n",
    "```\n",
    "\n",
    "That means you have to copy/paste the same `backend` configuration into every one of your Terraform modules. Not only do you have to copy/paste, but you also have to very carefully not copy/paste the `key` value so that you don’t have two modules overwriting each other’s state files! E.g., The `backend` configuration for a `database` module would look nearly identical to the `backend` configuration of the `frontend-app` module, except for a different `key` value:\n",
    "\n",
    "```go\n",
    "#stage/mysql/main.tf\n",
    "terraform {\n",
    "  backend \"s3\" {\n",
    "    bucket         = \"my-terraform-state\"\n",
    "    key            = \"stage/mysql/terraform.tfstate\"\n",
    "    region         = \"us-east-1\"\n",
    "    encrypt        = true\n",
    "    dynamodb_table = \"my-lock-table\"\n",
    "  }\n",
    "}\n",
    "```\n",
    "\n",
    "Terragrunt allows you to keep your `backend` configuration DRY (“Don’t Repeat Yourself”) by defining it once in a root location and inheriting that configuration in all child modules. Let’s say your Terraform code has the following folder layout:\n",
    "\n",
    "```\n",
    "stage\n",
    "├── frontend-app\n",
    "│   └── main.tf\n",
    "└── mysql\n",
    "    └── main.tf\n",
    "```\n",
    "\n",
    "To use Terragrunt, add a single `terragrunt.hcl` file to the root of your repo, in the `stage` folder, and one `terragrunt.hcl` file in each module folder:\n",
    "\n",
    "```text\n",
    "stage\n",
    "├── terragrunt.hcl\n",
    "├── frontend-app\n",
    "│   ├── main.tf\n",
    "│   └── terragrunt.hcl\n",
    "└── mysql\n",
    "    ├── main.tf\n",
    "    └── terragrunt.hcl\n",
    "```\n",
    "\n",
    "Now you can define your `backend` configuration just once in the root `terragrunt.hcl` file:\n",
    "\n",
    "```text\n",
    "#stage/terragrunt.hcl\n",
    "remote_state {\n",
    "  backend = \"s3\"\n",
    "  generate = {\n",
    "    path      = \"backend.tf\"\n",
    "    if_exists = \"overwrite_terragrunt\"\n",
    "  }\n",
    "  config = {\n",
    "    bucket = \"my-terraform-state\"\n",
    "\n",
    "    key = \"${path_relative_to_include()}/terraform.tfstate\"\n",
    "    region         = \"us-east-1\"\n",
    "    encrypt        = true\n",
    "    dynamodb_table = \"my-lock-table\"\n",
    "  }\n",
    "}\n",
    "```\n",
    "\n",
    "The `terragrunt.hcl` files use the same configuration language as Terraform (HCL) and the configuration is more or less the same as the `backend` configuration you had in each module, except that the key value is now using the `path_relative_to_include()` built-in function, which will automatically set key to the relative path between the root `terragrunt.hcl` and the child module (so your Terraform state folder structure will match your Terraform code folder structure, which makes it easy to go from one to the other).\n",
    "\n",
    "The `generate` attribute is used to inform Terragrunt to generate the Terraform code for configuring the backend. When you run any Terragrunt command, Terragrunt will generate a `backend.tf` file with the contents set to the terraform block that configures the s3 backend, just like what we had before in each `main.tf` file.\n",
    "\n",
    "The final step is to update each of the child `terragrunt.hcl` files to tell them to include the configuration from the root `terragrunt.hcl`:\n",
    "\n",
    "```text\n",
    "#stage/mysql/terragrunt.hcl\n",
    "include \"root\" {\n",
    "  path = find_in_parent_folders()\n",
    "}\n",
    "```\n",
    "\n",
    "The `find_in_parent_folders()` helper will automatically search up the directory tree to find the root `terragrunt.hcl` and inherit the `remote_state` configuration from it.\n",
    "\n",
    "Now, install Terragrunt, and run all the Terraform commands you’re used to, but with `terragrunt` as the command name rather than `terraform` (e.g., `terragrunt apply` instead of `terraform apply`). To deploy the database module, you would run:\n",
    "\n",
    "```shell\n",
    "$ cd stage/mysql\n",
    "$ terragrunt apply\n",
    "```\n",
    "\n",
    "Terragrunt will automatically find the mysql module’s `terragrunt.hcl` file, configure the backend using the settings from the root `terragrunt.hcl` file, and, thanks to the `path_relative_to_include()` function, will set the key to `stage/mysql/terraform.tfstate`. If you run `terragrunt apply` in `stage/frontend-app`, it’ll do the same, except it will set the key to `stage/frontend-app/terraform.tfstate`.\n",
    "\n",
    "You can now add as many child modules as you want, each with a `terragrunt.hcl` with the `include \"root\" { … }` block, and each of those modules will automatically inherit the proper backend configuration!"
   ]
  },
  {
   "cell_type": "markdown",
   "id": "2468d4e2-af0a-4f60-831d-fe0f3e19fdc9",
   "metadata": {},
   "source": [
    "## Keep your provider configuration DRY"
   ]
  },
  {
   "cell_type": "markdown",
   "id": "c1db4651-7d94-4c04-bc57-df4e4bcbe2db",
   "metadata": {},
   "source": [
    "Unifying provider configurations across all your modules can be a pain, especially when you want to customize authentication credentials. To configure Terraform to assume an IAM role before calling out to AWS, you need to add a `provider` block with the `assume_role` configuration:\n",
    "\n",
    "```go\n",
    "#--> stage/frontend-app/main.tf\n",
    "provider \"aws\" {\n",
    "  assume_role {\n",
    "    role_arn = \"arn:aws:iam::0123456789:role/terragrunt\"\n",
    "  }\n",
    "}\n",
    "```\n",
    "\n",
    "This code tells Terraform to assume the `role arn:aws:iam::0123456789:role/terragrunt` prior to calling out to the AWS APIs to create the resources. Unlike the `backend` configurations, `provider` configurations support variables, so typically you will resolve this by making the role configurable in the module:\n",
    "\n",
    "```go\n",
    "#--> stage/frontend-app/main.tf\n",
    "variable \"assume_role_arn\" {\n",
    "  description = \"Role to assume for AWS API calls\"\n",
    "}\n",
    "\n",
    "provider \"aws\" {\n",
    "  assume_role {\n",
    "    role_arn = var.assume_role_arn\n",
    "  }\n",
    "}\n",
    "```\n",
    "\n",
    "You would then copy paste this configuration in every one of your Terraform modules. This isn’t a lot of lines of code, but can be a pain to maintain. For example, if you needed to modify the configuration to expose another parameter (e.g `session_name`), you would have to then go through each of your modules to make this change.\n",
    "\n",
    "In addition, what if you wanted to directly deploy a general purpose module, such as that from the [Terraform module registry](https://registry.terraform.io/) or the [Gruntwork Infrastructure as Code library](https://gruntwork.io/infrastructure-as-code-library/)? These modules typically do not expose provider configurations as it is tedious to expose every single provider configuration parameter imaginable through the module interface."
   ]
  },
  {
   "cell_type": "markdown",
   "id": "1dcdb8b8-6716-4493-afc0-459361c8090a",
   "metadata": {},
   "source": [
    "Terragrunt allows you to refactor common Terraform code to keep your Terraform modules DRY. Just like with the `backend` configuration, you can define the `provider` configurations once in a root location. In the root `terragrunt.hcl` file, you would define the provider configuration using the `generate` block:\n",
    "\n",
    "```go\n",
    "#--> stage/terragrunt.hcl\n",
    "generate \"provider\" {\n",
    "  path = \"provider.tf\"\n",
    "  if_exists = \"overwrite_terragrunt\"\n",
    "  contents = <<EOF\n",
    "provider \"aws\" {\n",
    "  assume_role {\n",
    "    role_arn = \"arn:aws:iam::0123456789:role/terragrunt\"\n",
    "  }\n",
    "}\n",
    "EOF\n",
    "}\n",
    "```\n",
    "\n",
    "This instructs Terragrunt to create the file `provider.tf` in the working directory (where Terragrunt calls `terraform`) before it calls any of the Terraform commands (e.g `plan`, `apply`, `validate`, etc). This allows you to inject this provider configuration in all the modules that includes the root file without having to define them in the underlying modules.\n",
    "\n",
    "When you run `terragrunt plan` or `terragrunt apply`, you can see that this file is created in the module working directory:\n",
    "\n",
    "```shell\n",
    "$ cd stage/mysql\n",
    "$ terragrunt apply\n",
    "$ find . -name \"provider.tf\"\n",
    ".terragrunt-cache/some-unique-hash/provider.tf\n",
    "```"
   ]
  },
  {
   "cell_type": "code",
   "execution_count": null,
   "id": "a0f53b30-de63-46f3-9bf4-09c512a116df",
   "metadata": {},
   "outputs": [],
   "source": [
    "cd /tmp/terragrunt/dev\n",
    "# terragrunt plan\n",
    "find . -name \"provider.tf\""
   ]
  },
  {
   "cell_type": "markdown",
   "id": "fd3bdb2f-199b-40fe-b9cc-f12bda3407f3",
   "metadata": {},
   "source": [
    "Sample Output\n",
    "```text\n",
    "./.terragrunt-cache/uN5OMu9iL7TZWfc9R2CduOixZFQ/pfgqyj3TsBEWff7a1El6tYu6LEE/provider.tf\n",
    "```"
   ]
  },
  {
   "cell_type": "markdown",
   "id": "cc9cc3a5-277b-44e1-ad76-386132750e70",
   "metadata": {},
   "source": [
    "## Keep your Terraform CLI arguments DRY"
   ]
  },
  {
   "cell_type": "markdown",
   "id": "b6bd992c-eb94-4024-a0e5-c6222454260a",
   "metadata": {},
   "source": [
    "CLI flags are another common source of copy/paste in the Terraform world. For example, a typical pattern with Terraform is to define common account-level variables in an `account.tfvars` file:\n",
    "\n",
    "```\n",
    "# account.tfvars\n",
    "account_id     = \"123456789012\"\n",
    "account_bucket = \"my-terraform-bucket\"\n",
    "```\n",
    "\n",
    "And to define common region-level variables in a `region.tfvars` file:\n",
    "\n",
    "```\n",
    "# region.tfvars\n",
    "aws_region = \"us-east-2\"\n",
    "foo        = \"bar\"\n",
    "```\n",
    "You can tell Terraform to use these variables using the `-var-file` argument:\n",
    "\n",
    "```shell\n",
    "$ terraform apply \\\n",
    "    -var-file=../../common.tfvars \\\n",
    "    -var-file=../region.tfvars\n",
    "\n",
    "```\n",
    "\n",
    "> Having to remember these `-var-file` arguments every time can be tedious and error prone.\n",
    "\n",
    "Terragrunt allows you to keep your CLI arguments DRY by defining those arguments as code in your `terragrunt.hcl` configuration:\n",
    "\n",
    "```go\n",
    "# terragrunt.hcl\n",
    "terraform {\n",
    "  extra_arguments \"common_vars\" {\n",
    "    commands = [\"plan\", \"apply\"]\n",
    "\n",
    "    arguments = [\n",
    "      \"-var-file=../../common.tfvars\",\n",
    "      \"-var-file=../region.tfvars\"\n",
    "    ]\n",
    "  }\n",
    "}\n",
    "```\n",
    "\n",
    "Now, when you run the `plan` or `apply` commands, Terragrunt will automatically add those arguments:\n",
    "\n",
    "```shell\n",
    "$ terragrunt apply\n",
    "\n",
    "Running command: terraform with arguments\n",
    "[apply -var-file=../../common.tfvars -var-file=../region.tfvars]\n",
    "```\n",
    "\n",
    "You can even use the `get_terraform_commands_that_need_vars()` built-in function to automatically get the list of all commands that accept `-var-file` and `-var` arguments:\n",
    "\n",
    "```\n",
    "# terragrunt.hcl\n",
    "terraform {\n",
    "  extra_arguments \"common_vars\" {\n",
    "    commands = get_terraform_commands_that_need_vars()\n",
    "\n",
    "    arguments = [\n",
    "      \"-var-file=../../common.tfvars\",\n",
    "      \"-var-file=../region.tfvars\"\n",
    "    ]\n",
    "  }\n",
    "}\n",
    "```"
   ]
  },
  {
   "cell_type": "markdown",
   "id": "173f7812-a0b7-4f1d-9f10-914b6e9ebf2a",
   "metadata": {},
   "source": [
    "## Promote immutable, versioned Terraform modules across environments"
   ]
  },
  {
   "cell_type": "markdown",
   "id": "bb07c2a6-fac5-44b3-b404-1b9afe83263c",
   "metadata": {},
   "source": [
    "One of the most important [lessons we’ve learned from writing hundreds of thousands of lines of infrastructure code](https://blog.gruntwork.io/5-lessons-learned-from-writing-over-300-000-lines-of-infrastructure-code-36ba7fadeac1) is that large modules should be considered harmful. That is, it is a Bad Idea to define all of your environments (dev, stage, prod, etc), or even a large amount of infrastructure (servers, databases, load balancers, DNS, etc), in a single Terraform module. Large modules are slow, insecure, hard to update, hard to code review, hard to test, and brittle (i.e., you have all your eggs in one basket).\n",
    "\n",
    "Therefore, you typically want to break up your infrastructure across multiple modules:\n",
    "\n",
    "  ```text\n",
    "  ├── prod\n",
    "  │   ├── app\n",
    "  │   │   ├── main.tf\n",
    "  │   │   └── outputs.tf\n",
    "  │   ├── mysql\n",
    "  │   │   ├── main.tf\n",
    "  │   │   └── outputs.tf\n",
    "  │   └── vpc\n",
    "  │       ├── main.tf\n",
    "  │       └── outputs.tf\n",
    "  ├── qa\n",
    "  │   ├── app\n",
    "  │   │   ├── main.tf\n",
    "  │   │   └── outputs.tf\n",
    "  │   ├── mysql\n",
    "  │   │   ├── main.tf\n",
    "  │   │   └── outputs.tf\n",
    "  │   └── vpc\n",
    "  │       ├── main.tf\n",
    "  │       └── outputs.tf\n",
    "  └── stage\n",
    "      ├── app\n",
    "      │   ├── main.tf\n",
    "      │   └── outputs.tf\n",
    "      ├── mysql\n",
    "      │   ├── main.tf\n",
    "      │   └── outputs.tf\n",
    "      └── vpc\n",
    "          ├── main.tf\n",
    "          └── outputs.tf\n",
    "  ```\n",
    "\n",
    "The folder structure above shows how to separate the code for each environment (`prod`, `qa`, `stage`) and for each type of infrastructure (`apps`, `databases`, `VPCs`). However, the downside is that it isn’t DRY. The `.tf` files will contain a LOT of duplication. You can reduce it somewhat by defining all the infrastructure in [reusable Terraform modules](https://blog.gruntwork.io/how-to-create-reusable-infrastructure-with-terraform-modules-25526d65f73d), but even the code to instantiate a module - including configuring the provider, backend, the module’s input variables, and `output` variables - means you still end up with dozens or hundreds of lines of copy/paste for every module in every environment:\n",
    "\n",
    "```go\n",
    "# prod/app/main.tf\n",
    "provider \"aws\" {\n",
    "  region = \"us-east-1\"\n",
    "  # ... other provider settings ...\n",
    "}\n",
    "terraform {\n",
    "  backend \"s3\" {}\n",
    "}\n",
    "module \"app\" {\n",
    "  source = \"../../../app\"\n",
    "  instance_type  = \"m4.large\"\n",
    "  instance_count = 10\n",
    "  # ... other app settings ...\n",
    "}\n",
    "# prod/app/outputs.tf\n",
    "output \"url\" {\n",
    "  value = module.app.url\n",
    "}\n",
    "# ... and so on!\n",
    "```"
   ]
  },
  {
   "cell_type": "markdown",
   "id": "560a91c2-7ebd-4b6e-bca5-4f8856c7135b",
   "metadata": {},
   "source": [
    "Terragrunt allows you to define your Terraform code once and to promote a versioned, immutable “artifact” of that exact same code from environment to environment. Here’s a quick overview of how.\n",
    "\n",
    "First, create a Git repo called `infrastructure-modules` that has your Terraform code (`.tf` files). This is the exact same Terraform code you just saw above, except that any variables that will differ between environments should be exposed as input variables:\n",
    "\n",
    "```go \n",
    "#--> infrastructure-modules/app/main.tf\n",
    "provider \"aws\" {\n",
    "  region = \"us-east-1\"\n",
    "  # ... other provider settings ...\n",
    "}\n",
    "terraform {\n",
    "  backend \"s3\" {}\n",
    "}\n",
    "module \"app\" {\n",
    "  source = \"../../../app\"\n",
    "  instance_type  = var.instance_type\n",
    "  instance_count = var.instance_count\n",
    "  # ... other app settings ...\n",
    "}\n",
    "#--> infrastructure-modules/app/outputs.tf\n",
    "output \"url\" {\n",
    "  value = module.app.url\n",
    "}\n",
    "#--> infrastructure-modules/app/variables.tf\n",
    "\n",
    "variable \"instance_type\" {}\n",
    "variable \"instance_count\" {}\n",
    "```"
   ]
  },
  {
   "cell_type": "markdown",
   "id": "956c4127-4601-4f64-bad4-ab2e1da2967d",
   "metadata": {},
   "source": [
    "Once this is in place, you can release a new version of this module by creating a Git tag:\n",
    "\n",
    "```shell\n",
    "$ git tag -a \"v0.0.1\" -m \"First release of app module\"\n",
    "$ git push --follow-tags\n",
    "```"
   ]
  },
  {
   "cell_type": "markdown",
   "id": "d361c014-a4ad-4539-9838-29f65351bea3",
   "metadata": {},
   "source": [
    "Now, in another Git repo called `infrastructure-live`, you create the same folder structure you had before for all of your environments, but instead of lots of copy/pasted `.tf` files for each module, you have just a single `terragrunt.hcl` file:\n",
    "\n",
    "```text\n",
    "#--> infrastructure-live\n",
    "├── prod\n",
    "│   ├── app\n",
    "│   │   └── terragrunt.hcl\n",
    "│   ├── mysql\n",
    "│   │   └── terragrunt.hcl\n",
    "│   └── vpc\n",
    "│       └── terragrunt.hcl\n",
    "├── qa\n",
    "│   ├── app\n",
    "│   │   └── terragrunt.hcl\n",
    "│   ├── mysql\n",
    "│   │   └── terragrunt.hcl\n",
    "│   └── vpc\n",
    "│       └── terragrunt.hcl\n",
    "└── stage\n",
    "    ├── app\n",
    "    │   └── terragrunt.hcl\n",
    "    ├── mysql\n",
    "    │   └── terragrunt.hcl\n",
    "    └── vpc\n",
    "        └── terragrunt.hcl\n",
    "```"
   ]
  },
  {
   "cell_type": "markdown",
   "id": "fb5a7911-bd25-4617-b840-d99ad2fbc08b",
   "metadata": {},
   "source": [
    "The contents of each `terragrunt.hcl` file look something like this:\n",
    "\n",
    "```go\n",
    "#--> infrastructure-live/prod/app/terragrunt.hcl\n",
    "terraform {\n",
    "  source =\n",
    "    \"github.com:foo/infrastructure-modules.git//app?ref=v0.0.1\"\n",
    "}\n",
    "inputs = {\n",
    "  instance_count = 10\n",
    "  instance_type  = \"m4.large\"\n",
    "}\n",
    "```\n",
    "\n",
    "The `terragrunt.hcl` file above sets the `source` parameter to point at the `app` module you just created in your infrastructure-modules repo, using the `ref` parameter to specify version `v0.0.1` of that repo. It also configures the variables for this module for the `prod` environment in the `inputs = {…​}` block."
   ]
  },
  {
   "cell_type": "markdown",
   "id": "6daca2fb-d5a4-4995-a4f4-2d9033ceffd9",
   "metadata": {},
   "source": [
    "The `terragrunt.hcl` file in the `stage` environment will look similar, but it will configure smaller/fewer instances in the `inputs = {…​}` block to save money:\n",
    "\n",
    "```shell\n",
    "#--> infrastructure-live/stage/app/terragrunt.hcl\n",
    "terraform {\n",
    "  source =\n",
    "    \"github.com:foo/infrastructure-modules.git//app?ref=v0.0.1\"\n",
    "}\n",
    "inputs = {\n",
    "  instance_count = 3\n",
    "  instance_type  = \"t2.micro\"\n",
    "}\n",
    "```\n",
    "\n",
    "When you run `terragrunt apply`, Terragrunt will download your app module into a temporary folder, run `terraform apply` in that folder, passing the module the input variables you specified in the `inputs = {…​}` block:\n",
    "\n",
    "```shell\n",
    "$ terragrunt apply\n",
    "Downloading Terraform configurations from github.com:foo/infrastructure-modules.git...\n",
    "Running command: terraform with arguments [apply]...\n",
    "```\n",
    "\n",
    "This way, each module in each environment is defined by a single `terragrunt.hcl` file that solely specifies the Terraform module to deploy and the input variables specific to that environment. This is about as DRY as you can get!"
   ]
  },
  {
   "cell_type": "markdown",
   "id": "638d7bb5-4641-4ff0-80ef-8d13ad9bf145",
   "metadata": {},
   "source": [
    "Moreover, you can specify a different version of the module to deploy in each environment! For example, after making some changes to the `app` module in the `infrastructure-modules` repo, you could create a `v0.0.2` tag, and update just the `qa` environment to run this new version:\n",
    "\n",
    "```\n",
    "#--> infrastructure-live/qa/app/terragrunt.hcl\n",
    "terraform {\n",
    "  source =\n",
    "    \"github.com:foo/infrastructure-modules.git//app?ref=v0.0.2\"\n",
    "}\n",
    "inputs = {\n",
    "  instance_count = 3\n",
    "  instance_type  = \"t2.micro\"\n",
    "}\n",
    "```\n",
    "\n",
    "If it works well in the `qa` environment, you could promote the exact same code to the `stage` environment by updating its `terragrunt.hcl` file to run `v0.0.2`. And finally, if that code works well in `stage`, you could again promote the exact same code to prod by updating that `terragrunt.hcl` file to use `v0.0.2` as well.\n",
    "\n",
    "Using Terragrunt to promote immutable Terraform code across environments\n",
    "\n",
    "If at any point you hit a problem, it will only affect the one environment, and you can roll back by deploying a previous version number. That’s immutable infrastructure at work!"
   ]
  },
  {
   "cell_type": "markdown",
   "id": "5610ffcb-249c-49ab-8c66-b359d7ab8baa",
   "metadata": {},
   "source": [
    "# Optional - run individual folders"
   ]
  },
  {
   "cell_type": "markdown",
   "id": "06360d8b-3f9e-41b1-b6ae-ffc42eb34668",
   "metadata": {},
   "source": [
    "## terragrunt apply - workspace"
   ]
  },
  {
   "cell_type": "code",
   "execution_count": null,
   "id": "240c3291-edbf-4389-89b0-ddc205a940c9",
   "metadata": {},
   "outputs": [],
   "source": [
    "cd /tmp/terragrunt/workspace"
   ]
  },
  {
   "cell_type": "code",
   "execution_count": null,
   "id": "c2421bea-5ab1-498c-a209-79fb648ba587",
   "metadata": {},
   "outputs": [],
   "source": [
    "terragrunt init #-force-copy"
   ]
  },
  {
   "cell_type": "code",
   "execution_count": null,
   "id": "92fb655e-0662-44f0-b10f-a24f93be91b0",
   "metadata": {},
   "outputs": [],
   "source": [
    "terragrunt plan > /tmp/tf_plan_workspace_out.txt 2>&1 &"
   ]
  },
  {
   "cell_type": "code",
   "execution_count": null,
   "id": "45e8b03c-95be-42c6-b255-b0c1fc226dd0",
   "metadata": {},
   "outputs": [],
   "source": [
    "tail -n 50 /tmp/tf_plan_workspace_out.txt\n",
    "# grep type /tmp/tf_plan_workspace_out.txt"
   ]
  },
  {
   "cell_type": "code",
   "execution_count": null,
   "id": "fe50b123-976a-4544-8f93-841249cd4117",
   "metadata": {},
   "outputs": [],
   "source": [
    "terragrunt apply > /tmp/tf_apply_workspace_out.txt 2>&1 &"
   ]
  },
  {
   "cell_type": "code",
   "execution_count": null,
   "id": "7a63020b-f276-4a64-bbcc-b1466bcfcb6f",
   "metadata": {},
   "outputs": [],
   "source": [
    "tail -n 50 /tmp/tf_apply_workspace_out.txt"
   ]
  },
  {
   "cell_type": "markdown",
   "id": "72e3f775-f83b-479b-8316-31e07ecf8236",
   "metadata": {},
   "source": [
    "## terragrunt apply - dev"
   ]
  },
  {
   "cell_type": "code",
   "execution_count": null,
   "id": "962b2238-4841-4102-94e8-2246effce5f1",
   "metadata": {},
   "outputs": [],
   "source": [
    "cd /tmp/terragrunt/dev"
   ]
  },
  {
   "cell_type": "code",
   "execution_count": null,
   "id": "9a321392-5a72-4fa1-9dfc-3150616e1f4a",
   "metadata": {},
   "outputs": [],
   "source": [
    "terragrunt init #-force-copy"
   ]
  },
  {
   "cell_type": "code",
   "execution_count": null,
   "id": "7d8851ec-e1f7-4a80-b04a-4e3e3443a1b5",
   "metadata": {},
   "outputs": [],
   "source": [
    "terragrunt plan > /tmp/tf_plan_dev_out.txt 2>&1 &"
   ]
  },
  {
   "cell_type": "code",
   "execution_count": null,
   "id": "d8a31aa7-4323-46fc-94d8-9cc703805dda",
   "metadata": {},
   "outputs": [],
   "source": [
    "tail -n 50 /tmp/tf_plan_dev_out.txt\n",
    "# grep type /tmp/tf_plan_dev_out.txt"
   ]
  },
  {
   "cell_type": "markdown",
   "id": "da6bf3ef-89da-4419-bddb-16d4c6d154ca",
   "metadata": {},
   "source": [
    "### view files - optional"
   ]
  },
  {
   "cell_type": "code",
   "execution_count": null,
   "id": "198eae92-7883-44bb-9007-bbaebc43f746",
   "metadata": {},
   "outputs": [],
   "source": [
    "pushd /tmp/terragrunt/dev > /dev/null\n",
    "printf \"%s\\n%s\\n\\n\" \"VERSIONS:\" \"$(cat ./.terragrunt-cache/*/*/versions.tf)\" \\\n",
    "  \"BACKEND\" \"$(cat ./.terragrunt-cache/*/*/backend.tf)\" \\\n",
    "  \"PROVIDER\" \"$(cat ./.terragrunt-cache/*/*/provider.tf)\" \\\n",
    "  \"TFVARS\" \"$(cat ./.terragrunt-cache/*/*/*.json)\"\n",
    "popd > /dev/null\n",
    "\n",
    "find /tmp/terragrunt -name \"*.tfvars.json\""
   ]
  },
  {
   "cell_type": "code",
   "execution_count": null,
   "id": "6d344eb0-7d29-4971-bcd9-e1dca8b27a75",
   "metadata": {},
   "outputs": [],
   "source": [
    "terragrunt apply -auto-approve > tf_apply_dev_out.txt 2>&1 &"
   ]
  },
  {
   "cell_type": "code",
   "execution_count": null,
   "id": "c8253f81-afda-4ee1-b03b-54ec44dd5317",
   "metadata": {
    "tags": []
   },
   "outputs": [],
   "source": [
    "tail -n 50 tf_apply_dev_out.txt"
   ]
  },
  {
   "cell_type": "markdown",
   "id": "d8f0f521-d850-4d37-b587-5800a1ab2203",
   "metadata": {},
   "source": [
    "### Verify"
   ]
  },
  {
   "cell_type": "markdown",
   "id": "73cc5dd6-9c71-4dc2-9f94-f5f9a071469a",
   "metadata": {},
   "source": [
    "1. Go to your console - https://instruqt-050659821008.signin.aws.amazon.com/console"
   ]
  },
  {
   "cell_type": "markdown",
   "id": "5afa1563-ebbc-42f0-acb3-ea8c9ee70c1c",
   "metadata": {},
   "source": [
    "2. Or verify from the CLI"
   ]
  },
  {
   "cell_type": "code",
   "execution_count": null,
   "id": "4834568e-36af-4c0b-9618-dcac601cae57",
   "metadata": {},
   "outputs": [],
   "source": [
    "aws ec2 describe-vpcs | jq -r '.[] | .[] | .VpcId'\n",
    "\n",
    "aws ec2 describe-subnets \\\n",
    "  --filter Name=vpc-id,Values=$(terragrunt output -raw vpc_id) \\\n",
    "  | jq -r \".Subnets[].SubnetId\"\n",
    "\n",
    "terragrunt output | grep -Ev '\\\"\\\"|\\[\\]'"
   ]
  },
  {
   "cell_type": "markdown",
   "id": "ce5ef370-8f9e-4d4c-8c19-dec9c6faf72b",
   "metadata": {},
   "source": []
  },
  {
   "cell_type": "markdown",
   "id": "f39611e6-bb95-49ac-8fe6-9c65d26e4887",
   "metadata": {},
   "source": [
    "## terragrunt-cache"
   ]
  },
  {
   "cell_type": "markdown",
   "id": "d98e264b-fbaa-4dae-b61f-0d935694193e",
   "metadata": {},
   "source": [
    "UNDER DEVELOPMENT\n",
    "\n",
    "I'm using this section to explore what terragrunt does behind the scenes."
   ]
  },
  {
   "cell_type": "code",
   "execution_count": null,
   "id": "8df53d4c-08fb-43cd-835f-879eb64096e3",
   "metadata": {
    "tags": []
   },
   "outputs": [],
   "source": [
    "tree .terragrunt-cache"
   ]
  },
  {
   "cell_type": "code",
   "execution_count": null,
   "id": "ae7f951b-f539-4bf8-af2e-b8d907532941",
   "metadata": {},
   "outputs": [],
   "source": [
    "cat .terragrunt-cache/ij_KdmoI4U-1gNbuOnp6ME0T4-E/pfgqyj3TsBEWff7a1El6tYu6LEE/versions.tf"
   ]
  },
  {
   "cell_type": "code",
   "execution_count": null,
   "id": "89d40980-e682-4647-b0a9-5d0bcda0677e",
   "metadata": {},
   "outputs": [],
   "source": [
    "ls -al .terragrunt-cache/ij_KdmoI4U-1gNbuOnp6ME0T4-E/ThyYwttwki6d6AS3aD5OwoyqIWA/"
   ]
  },
  {
   "cell_type": "code",
   "execution_count": null,
   "id": "50eb1604-0312-4aed-b037-82578e76ff0e",
   "metadata": {},
   "outputs": [],
   "source": [
    "cat .terragrunt-cache/ij_KdmoI4U-1gNbuOnp6ME0T4-E/ThyYwttwki6d6AS3aD5OwoyqIWA/variables.tf"
   ]
  },
  {
   "cell_type": "code",
   "execution_count": null,
   "id": "0751b8f4-c513-4684-914d-bff893464cfd",
   "metadata": {},
   "outputs": [],
   "source": [
    "ls -al"
   ]
  },
  {
   "cell_type": "markdown",
   "id": "8e2b6c4e-c31c-450c-81ad-1e9bdca44588",
   "metadata": {},
   "source": [
    "# Clean Up"
   ]
  },
  {
   "cell_type": "markdown",
   "id": "66073121-6d21-4c82-8732-20ed94af4ae6",
   "metadata": {},
   "source": [
    "## Destroy Workloads"
   ]
  },
  {
   "cell_type": "markdown",
   "id": "fe136f58-1276-44ef-b27f-3e619a7e6625",
   "metadata": {},
   "source": [
    "Destroy `dev`, `qa`, `prod` workloads."
   ]
  },
  {
   "cell_type": "code",
   "execution_count": null,
   "id": "8129a08f-69d1-4866-beb3-8ae107c35d07",
   "metadata": {
    "tags": []
   },
   "outputs": [],
   "source": [
    "pushd /tmp/terragrunt \n",
    "terragrunt run-all destroy --terragrunt-non-interactive \\\n",
    "  --terragrunt-exclude-dir . \\\n",
    "  --terragrunt-exclude-dir ./workspace \\\n",
    "  > /tmp/tf_tg_destroy_all_out.txt 2>&1 &\n",
    "popd"
   ]
  },
  {
   "cell_type": "code",
   "execution_count": null,
   "id": "faadb47f-ddd1-497e-be84-d1b143ceefb7",
   "metadata": {
    "tags": []
   },
   "outputs": [],
   "source": [
    "tail -n 50 /tmp/tf_tg_destroy_all_out.txt"
   ]
  },
  {
   "cell_type": "markdown",
   "id": "fd14dbff-bb02-4b5c-a883-841dc162bd2b",
   "metadata": {},
   "source": [
    "## Destroy workspace"
   ]
  },
  {
   "cell_type": "code",
   "execution_count": null,
   "id": "f1a8ddc0-5710-423f-bf81-043ad9d160af",
   "metadata": {},
   "outputs": [],
   "source": [
    "pushd /tmp/terragrunt/workspace\n",
    "terragrunt destroy -auto-approve > tf_destroy_workspace_out.txt 2>&1 &\n",
    "popd"
   ]
  },
  {
   "cell_type": "code",
   "execution_count": null,
   "id": "e45f2a78-8e90-4a68-bb3a-114901192705",
   "metadata": {},
   "outputs": [],
   "source": [
    "tail /tmp/terragrunt/workspace/tf_destroy_workspace_out.txt"
   ]
  },
  {
   "cell_type": "markdown",
   "id": "4c5f70d5-c3d3-4eff-929e-a80ef377d76d",
   "metadata": {},
   "source": [
    "## Destroy entire terragrunt root folder"
   ]
  },
  {
   "cell_type": "code",
   "execution_count": null,
   "id": "9fa0ba15-414f-4544-be77-54edf1ace513",
   "metadata": {},
   "outputs": [],
   "source": [
    "rm -rf /tmp/terragrunt/"
   ]
  },
  {
   "cell_type": "markdown",
   "id": "5d06d7c9-ef32-4c6e-bdad-4e233cfc5a85",
   "metadata": {},
   "source": [
    "# Resources\n",
    "\n",
    "- !! How to deploy production-grade infrastructure in a fraction of the time using Gruntwork with Terraform Cloud and Terraform Enterprise\n",
    "    - !! https://blog.gruntwork.io/how-deploy-production-grade-infrastructure-using-gruntwork-with-terraform-cloud-aca919ca92c2\n",
    "    - !! https://stackoverflow.com/questions/60062705/can-i-use-terragrunt-on-terraform-cloud\n",
    "- https://terragrunt.gruntwork.io/docs/getting-started/quick-start/\n",
    "- https://terragrunt.gruntwork.io/docs/reference/config-blocks-and-attributes/\n",
    "- https://www.padok.fr/en/blog/terraform-code-terragrunt\n",
    "- https://developer.newrelic.com/terraform/terragrunt-configuration/\n",
    "- !! Terraform Code Layout and Using Terragrunt\n",
    "    - https://medium.com/@AaronKalair/terraform-code-layout-and-using-terragrunt-db6864967916\n",
    "- https://github.com/paddymorgan84/terragrunt-tutorial/tree/terragrunt\n",
    "- https://dev.to/paddymorgan84/enhancing-terraform-with-terragrunt-540o\n",
    "- !! Advantages and Limitations of Terragrunt-Managed Backends\n",
    "    - https://www.bti360.com/advantages-and-limitations-of-terragrunt-managed-backends/\n",
    "    - https://thirstydeveloper.io/tf-skeleton/2021/01/28/part-3-aws-backend.html\n",
    "\n",
    "- Hashi Only: https://docs.google.com/presentation/d/1DXYLwrldFzGfPhSb6twgtMyNdIK-QNgd4O20B1KfO-U/edit"
   ]
  }
 ],
 "metadata": {
  "kernelspec": {
   "display_name": "Bash",
   "language": "bash",
   "name": "bash"
  },
  "language_info": {
   "codemirror_mode": "shell",
   "file_extension": ".sh",
   "mimetype": "text/x-sh",
   "name": "bash"
  }
 },
 "nbformat": 4,
 "nbformat_minor": 5
}
