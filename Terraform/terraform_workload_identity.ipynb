{
 "cells": [
  {
   "cell_type": "markdown",
   "id": "969a2101-e6d2-493b-8d58-4f4263e15ba2",
   "metadata": {},
   "source": [
    "# Terraform Workload Identity Demo"
   ]
  },
  {
   "cell_type": "markdown",
   "id": "d3b9cc7d-7fb5-43e9-bf14-b64034f3e404",
   "metadata": {},
   "source": [
    "## Purpose\n",
    "\n",
    "Repo that allows you to demo the new Workload Identity feature from your laptop (Linux and Mac only for now).\n",
    "\n",
    "---"
   ]
  },
  {
   "cell_type": "markdown",
   "id": "78808f64-59a5-49d3-9361-59119aaa5b24",
   "metadata": {},
   "source": [
    "## Workload Identity Overview"
   ]
  },
  {
   "cell_type": "markdown",
   "id": "4d5b0760-08bc-4016-8a09-fb8ee3352434",
   "metadata": {},
   "source": [
    "Currently, credentials used to authenticate providers in TFC/E are generally long-lived credentials set as workspace variables. This presents a significant security risk, even with the advances provided by \"variable sets\".\n",
    "\n",
    "With workload identity, users are able to authenticate their Vault, AWS, GCP, or AzureRM [soon] providers using OpenID Connect (OIDC) compliant identity tokens to provide just-in-time credentials and eliminate the need to store long lived secrets on TFC/E."
   ]
  },
  {
   "cell_type": "markdown",
   "id": "0463ca04-18e5-4be6-bafb-4c38eafb70b7",
   "metadata": {},
   "source": [
    "### Benefits of Workload Identity"
   ]
  },
  {
   "cell_type": "markdown",
   "id": "747329a3-b1ac-426a-aa51-d390d64235cf",
   "metadata": {},
   "source": [
    "- **No more secrets**: Removes the need to store long-lived secrets in TFC/E. Temporary credentials are instead retrieved from a cloud platform on the fly. \n",
    "\n",
    "- **No more secret rotation logic**: Credentials issued by cloud platform are temporary and short-lived, removing the need to rotate secrets.\n",
    "\n",
    "- **Granular permissions control**: Allows for using a cloud platform’s authentication and authorization tools to scope permissions based on TFC/E metadata such as a run’s phase, its workspace, or its organization."
   ]
  },
  {
   "cell_type": "markdown",
   "id": "a3518a5e-9dbe-4a1b-a1c2-8932925ce367",
   "metadata": {},
   "source": [
    "### Workload Identity Setup\n",
    "\n",
    "The following diagram gives a high level view of the integration between TFC/E, customer agent code, and a cloud platform with workload identity.\n",
    "\n",
    "Enabling this flow requires the following setup on the customer’s end:\n",
    "\n",
    "- Configuring trust between TFC/E and the cloud platform\n",
    "- Creating conditional roles in the cloud platform that filter access based on content in the identity token\n",
    "- Setting required metadata in workspace variables and variable sets as appropriate (such as the role to assume in the cloud platform)\n",
    "- Using custom agent code to exchange an identity token from TFC/E for short-lived credentials from the cloud platform\n",
    "\n",
    "Many of these steps are cloud platform specific and are detailed in separate pages specific to the supported cloud platforms."
   ]
  },
  {
   "cell_type": "markdown",
   "id": "5515b96d-c4a9-4b1d-add6-fd7ef2176182",
   "metadata": {},
   "source": [
    "## Pre-requisites\n",
    "\n",
    "1. `Docker` and `Docker Compose` is installed on your local machine\n",
    "2. `Vault` is installed on your local machine\n",
    "3. You have done a `terraform login` and have a valid credentials file\n",
    "4. Your Terraform Cloud organization is enabled for Business tier\n",
    "\n",
    "---"
   ]
  },
  {
   "cell_type": "markdown",
   "id": "a392da24-e469-4934-ad66-4a6cd520c568",
   "metadata": {},
   "source": [
    "## Demo"
   ]
  },
  {
   "cell_type": "markdown",
   "id": "9a23e1dc-650d-46e0-a906-e52aea6e8a31",
   "metadata": {},
   "source": [
    "Clone Kalen's repo: `terraform-wlid-demo-repo`"
   ]
  },
  {
   "cell_type": "code",
   "execution_count": null,
   "id": "74621ee4-a52c-42ce-b3aa-7468b4125ab6",
   "metadata": {},
   "outputs": [],
   "source": [
    "cd /tmp\n",
    "git clone https://github.com/hashicorp-se/terraform-wlid-demo-repo"
   ]
  },
  {
   "cell_type": "code",
   "execution_count": null,
   "id": "6cfbbff1-a14a-411e-8b1e-cbbe7a1841db",
   "metadata": {},
   "outputs": [],
   "source": [
    "git fetch"
   ]
  },
  {
   "cell_type": "code",
   "execution_count": null,
   "id": "ea6f99a8-accd-46e4-bb53-31208acea77c",
   "metadata": {},
   "outputs": [],
   "source": [
    "git pull"
   ]
  },
  {
   "cell_type": "code",
   "execution_count": null,
   "id": "86e22b28-ad38-4d0b-be67-1da585c8bf51",
   "metadata": {},
   "outputs": [],
   "source": [
    "git branch -v -a\n",
    "git switch feature-multi-stage-role\n",
    "git branch -l"
   ]
  },
  {
   "cell_type": "code",
   "execution_count": null,
   "id": "469a7008-1362-4d9c-9153-3dc8387d8af8",
   "metadata": {},
   "outputs": [],
   "source": [
    "cd /tmp/terraform-wlid-demo-repo"
   ]
  },
  {
   "cell_type": "markdown",
   "id": "cc75fc54-125e-4eff-8f29-ac031da60522",
   "metadata": {},
   "source": [
    "### config.env"
   ]
  },
  {
   "cell_type": "markdown",
   "id": "d91d348c-a5df-47be-8e7d-dcb02b447c30",
   "metadata": {},
   "source": [
    "Edit the `.config.env` file with the name of your Terraform Cloud organization"
   ]
  },
  {
   "cell_type": "code",
   "execution_count": null,
   "id": "a44d8e64-272a-48d7-9c68-fd694498f5ed",
   "metadata": {},
   "outputs": [],
   "source": [
    "cat > .config.env <<EOF\n",
    "export TFC_ORGANIZATION=\"pphan\"\n",
    "export VAULT_LICENSE=\"$(cat ~/vault.hclic)\"\n",
    "EOF\n",
    "source .config.env"
   ]
  },
  {
   "cell_type": "markdown",
   "id": "d5f4c96a-f806-47f5-bdaf-57b192f95097",
   "metadata": {},
   "source": [
    "### Prep"
   ]
  },
  {
   "cell_type": "code",
   "execution_count": null,
   "id": "bf1ffc85-67d2-41ad-b621-da416b78ee9e",
   "metadata": {},
   "outputs": [],
   "source": [
    "export TF_INPUT=false"
   ]
  },
  {
   "cell_type": "code",
   "execution_count": null,
   "id": "22217a0b-015f-40fc-9137-c4bab11ad94c",
   "metadata": {},
   "outputs": [],
   "source": [
    "PROJECT_DIR=$(git rev-parse --show-toplevel) && echo $PROJECT_DIR"
   ]
  },
  {
   "cell_type": "code",
   "execution_count": null,
   "id": "7f942d3e-5f1a-4bbd-87b0-6aa6620883ed",
   "metadata": {},
   "outputs": [],
   "source": [
    "if [ \"$(uname)\" == \"Darwin\" ]; then\n",
    "  IP_ADDR=$(ifconfig | grep \"inet \" | grep -v 127.0.0.1 -m 1 | awk 'match($0, /([0-9]+\\.[0-9]+\\.[0-9]+\\.[0-9]+)/) {print substr($0,RSTART,RLENGTH)}')\n",
    "  export VAULT_DEMO_ADDRESS=\"http://${IP_ADDR}:8200\"\n",
    "elif [ \"$(expr substr $(uname -s) 1 5)\" == \"Linux\" ]; then\n",
    "  IP_ADDR=$(ip route get 8.8.8.8 | grep src | sed 's/.*src \\(.* \\)/\\1/g' | cut -f1 -d ' ')\n",
    "  export VAULT_DEMO_ADDRESS=\"http://${IP_ADDR}:8200\"\n",
    "fi\n",
    "printf \"#==> VAULT_DEMO_ADDRESS: $VAULT_DEMO_ADDRESS\" "
   ]
  },
  {
   "cell_type": "markdown",
   "id": "f06ab799-5b82-429e-ac44-6971e4626ab1",
   "metadata": {},
   "source": [
    "## Configure Vault"
   ]
  },
  {
   "cell_type": "markdown",
   "id": "83e8772b-711c-496d-97de-34f657fcf77d",
   "metadata": {},
   "source": [
    "For this tutorial, we will run the steps ourselves to learn how the sausage was made."
   ]
  },
  {
   "cell_type": "markdown",
   "id": "f94e4ca5-3d3f-4a2f-a010-6c10354c496d",
   "metadata": {},
   "source": [
    "## init terraform"
   ]
  },
  {
   "cell_type": "markdown",
   "id": "dae3613c-83e5-49e0-a76c-09f79506931b",
   "metadata": {},
   "source": [
    "In folder `01-terraform-cloud-pre-req`, we provision the following:\n",
    "\n",
    "- agent pool: `wlid-agents-01`\n",
    "- an agent token in the pool\n",
    "- two Terraform Cloud workspaces:\n",
    "    - `98-workload-identity-demo-multi-role`\n",
    "    - `99-workload-identity-demo-read`\n",
    "    - created for the Vault Identity demo\n",
    "    - configured for `agent execution` using the pool above\n",
    "    - configured for the CLI driven workflow\n",
    "- They are provisioned inside of the TFC organization that you set in the `.config.env` file\n",
    "- The token and the workspace name are exported as environment variables."
   ]
  },
  {
   "cell_type": "markdown",
   "id": "f3480c20-d0be-495d-ae3a-f35207227e36",
   "metadata": {},
   "source": [
    "Create terraform `tfvars` file."
   ]
  },
  {
   "cell_type": "code",
   "execution_count": null,
   "id": "b9235c7c-1cdf-4226-a43d-baa82bc73716",
   "metadata": {},
   "outputs": [],
   "source": [
    "pushd 01-terraform-cloud-pre-req >/dev/null\n",
    "envsubst <\"${PROJECT_DIR}/tmpl/01-terraform.auto.tfvars.tmpl\" \\\n",
    "  | tee \"${PROJECT_DIR}/01-terraform-cloud-pre-req/terraform.auto.tfvars\"\n",
    "popd > /dev/null"
   ]
  },
  {
   "cell_type": "code",
   "execution_count": null,
   "id": "dd175f2c-9e26-464f-8c46-cbab82d6ad2a",
   "metadata": {},
   "outputs": [],
   "source": [
    "export TF_DATA_DIR=01-terraform-cloud-pre-req"
   ]
  },
  {
   "cell_type": "code",
   "execution_count": null,
   "id": "8150b077-a54a-4fce-827a-267e348b30b0",
   "metadata": {
    "tags": []
   },
   "outputs": [],
   "source": [
    "terraform -chdir=01-terraform-cloud-pre-req init > /dev/null"
   ]
  },
  {
   "cell_type": "code",
   "execution_count": null,
   "id": "360498b2-e58a-447b-a24c-5011e294fdd9",
   "metadata": {
    "tags": []
   },
   "outputs": [],
   "source": [
    "time terraform -chdir=01-terraform-cloud-pre-req apply -auto-approve \\\n",
    "  > /tmp/tf_01_apply.out 2>&1 &"
   ]
  },
  {
   "cell_type": "markdown",
   "id": "013e122a-c1cf-4b26-bb2a-782faf7b8da9",
   "metadata": {},
   "source": [
    "Check the progress"
   ]
  },
  {
   "cell_type": "code",
   "execution_count": null,
   "id": "b42900b0-b2a9-4cb3-82fe-e0582188385a",
   "metadata": {
    "tags": []
   },
   "outputs": [],
   "source": [
    "tail /tmp/tf_01_apply.out"
   ]
  },
  {
   "cell_type": "markdown",
   "id": "d05c9ff6-6792-4c8b-9019-05e63e196ac5",
   "metadata": {},
   "source": []
  },
  {
   "cell_type": "code",
   "execution_count": null,
   "id": "ce451448-7a92-4dae-83fa-34bd5ae16d7f",
   "metadata": {},
   "outputs": [],
   "source": [
    "pushd 01-terraform-cloud-pre-req >/dev/null\n",
    "export TFC_AGENT_TOKEN=$(terraform output -raw agent_token) >/dev/null\n",
    "# export TFC_WORKSPACE_NAME=$(terraform output -raw workspace_name)\n",
    "export TFC_WORKSPACE_NAME_SINGLE=$(terraform output -raw workspace_name_single)\n",
    "export TFC_WORKSPACE_NAME_MULTI=$(terraform output -raw workspace_name_multi)\n",
    "popd > /dev/null\n",
    "\n",
    "printf \"TFC_AGENT_TOKEN: $TFC_AGENT_TOKEN\n",
    "TFC_WORKSPACE_NAME: $TFC_WORKSPACE_NAME \n",
    "TFC_WORKSPACE_NAME_SINGLE: $TFC_WORKSPACE_NAME_SINGLE\n",
    "TFC_WORKSPACE_NAME_MULTI: $TFC_WORKSPACE_NAME_MULTI\""
   ]
  },
  {
   "cell_type": "markdown",
   "id": "272d4723-e765-4437-9cd0-96b45f7830cb",
   "metadata": {},
   "source": [
    "## Start Containers - tfc agent and Vault"
   ]
  },
  {
   "cell_type": "markdown",
   "id": "cab2d36c-9cd0-4073-9f09-299aaddba981",
   "metadata": {},
   "source": [
    "Build Docker containers\n",
    "- based on the `$arg` that was supplied (currently only `vault` has a full demo)\n",
    "- tfc agent\n",
    "  - created in Docker using the custom image\n",
    "  - name: tfc-agent-wlid\n"
   ]
  },
  {
   "cell_type": "code",
   "execution_count": null,
   "id": "c46e6ce5-01af-4406-8dbd-0429e103ede2",
   "metadata": {},
   "outputs": [],
   "source": [
    "VAULT_VERSION=1.10.4-ent #1.7.6_ent 1.10.4-ent"
   ]
  },
  {
   "cell_type": "markdown",
   "id": "e628a8cd-8ef6-47da-977f-6e7ef8cfd8d8",
   "metadata": {},
   "source": [
    "**NOTE**: You need to run this everytime to make sure tfc-agent gets an updated token."
   ]
  },
  {
   "cell_type": "code",
   "execution_count": null,
   "id": "087ff1ca-93fa-4473-9238-897cf5fc6c8c",
   "metadata": {
    "tags": []
   },
   "outputs": [],
   "source": [
    "cat > docker-compose.yml <<EOF\n",
    "---\n",
    "version: \"3.8\"\n",
    "networks:\n",
    "  vpcbr:\n",
    "    driver: bridge\n",
    "    ipam:\n",
    "      config:\n",
    "      - subnet: 10.5.0.0/16\n",
    "\n",
    "services:\n",
    "  tfc_agent_wlid_vault:\n",
    "    build: tfc-agent-images/vault/\n",
    "    container_name: tfc_agent\n",
    "    environment:\n",
    "      VAULT_ADDR: http://127.0.0.1:8200\n",
    "      TFC_AGENT_TOKEN: ${TFC_AGENT_TOKEN}\n",
    "      TFC_AGENT_NAME: \"tfc-agent-wild\"\n",
    "    command: vault server -config=/vault/config -dev -dev-ha -dev-transactional\n",
    "    networks:\n",
    "      vpcbr:\n",
    "        ipv4_address: 10.5.0.102\n",
    "\n",
    "  x-vault: &vault\n",
    "    image: hashicorp/vault-enterprise:${VAULT_VERSION} #1.7.5_ent, suffic can - or _\n",
    "    environment:\n",
    "      &vault-env\n",
    "      VAULT_ADDR: http://127.0.0.1:8200\n",
    "      #- VAULT_CLUSTER_INTERFACE=eth0\n",
    "      VAULT_REDIRECT_INTERFACE: eth0\n",
    "      #- VAULT_API_ADDR=http://vault01:8200\n",
    "      VAULT_LOG_LEVEL: debug\n",
    "      VAULT_LICENSE_PATH: /vault/config/vault.hclic\n",
    "      VAULT_LICENSE: ${VAULT_LICENSE}\n",
    "      VAULT_DEV_LISTEN_ADDRESS: 0.0.0.0:8200\n",
    "      VAULT_DEV_ROOT_TOKEN_ID: root\n",
    "    command: vault server -config=/vault/config -dev -dev-ha -dev-transactional\n",
    "    cap_add:\n",
    "      - IPC_LOCK\n",
    "\n",
    "  vault_s1:\n",
    "    <<: *vault\n",
    "    container_name: vault_s1\n",
    "    hostname: vault_s1\n",
    "    environment:\n",
    "      <<: *vault-env\n",
    "    volumes:\n",
    "      - ./vault/config/vault_s1:/vault/config\n",
    "      - ./vault/config/vault.hclic:/vault/config/vault.hclic\n",
    "      - /vault/data\n",
    "      - ./vault/logs/vault_s1:/vault/logs\n",
    "    ports:\n",
    "      - \"8200:8200/tcp\"\n",
    "    networks:\n",
    "      vpcbr:\n",
    "        ipv4_address: 10.5.0.101\n",
    "  vault_s2:\n",
    "    <<: *vault\n",
    "    container_name: vault_s2\n",
    "    hostname: vault_s2\n",
    "    environment:\n",
    "      <<: *vault-env\n",
    "    volumes:\n",
    "      - ./vault/config/vault_s2:/vault/config\n",
    "      - ./vault/config/vault.hclic:/vault/config/vault.hclic\n",
    "      - /vault/data\n",
    "      - ./vault/logs/vault_s2:/vault/logs\n",
    "    ports:\n",
    "      - \"8202:8200/tcp\"\n",
    "    networks:\n",
    "      vpcbr:\n",
    "        ipv4_address: 10.5.0.102\n",
    "    cap_add:\n",
    "      - NET_RAW\n",
    "      - NET_ADMIN\n",
    "  vault_s3:\n",
    "    <<: *vault\n",
    "    container_name: vault_s3\n",
    "    hostname: vault_s3\n",
    "    environment:\n",
    "      <<: *vault-env\n",
    "    volumes:\n",
    "      - ./vault/config/vault_s3:/vault/config\n",
    "      - ./vault/config/vault.hclic:/vault/config/vault.hclic\n",
    "      - /vault/data\n",
    "      - ./vault/logs/vault_s3:/vault/logs\n",
    "    ports:\n",
    "      - \"8204:8200/tcp\"\n",
    "    networks:\n",
    "      vpcbr:\n",
    "        ipv4_address: 10.5.0.103\n",
    "EOF"
   ]
  },
  {
   "cell_type": "markdown",
   "id": "e7675c1d-1588-41c1-9abd-065011bb2cf9",
   "metadata": {},
   "source": [
    "### secret sauce in the tfc agent"
   ]
  },
  {
   "cell_type": "markdown",
   "id": "3b521e11-0052-41f6-b939-1c1f08561fa8",
   "metadata": {},
   "source": [
    "We add the following hooks to the remote agents, to have them get the appropriate credentials during each run phase (plan and apply)"
   ]
  },
  {
   "cell_type": "code",
   "execution_count": null,
   "id": "57ec3db0-f31a-472f-aa29-42a79801bb44",
   "metadata": {},
   "outputs": [],
   "source": [
    "cat tfc-agent-images/vault/hooks/terraform-pre-plan"
   ]
  },
  {
   "cell_type": "code",
   "execution_count": null,
   "id": "23da26de-6bcd-4490-9a69-9fe21133ef3e",
   "metadata": {},
   "outputs": [],
   "source": [
    "cat tfc-agent-images/vault/hooks/terraform-pre-apply"
   ]
  },
  {
   "cell_type": "markdown",
   "id": "02c0eacb-a8cb-452b-90db-a2f2b86b5e98",
   "metadata": {},
   "source": [
    "### start tfc agent"
   ]
  },
  {
   "cell_type": "code",
   "execution_count": null,
   "id": "751876b5-fd83-4dba-9b56-05a38944005c",
   "metadata": {
    "tags": []
   },
   "outputs": [],
   "source": [
    "export COMPOSE_PROJECT_NAME=hashi\n",
    "docker-compose up --build --force-recreate -d tfc_agent_wlid_vault"
   ]
  },
  {
   "cell_type": "markdown",
   "id": "64a064c1-e1a2-4026-8ad5-6a84f2d0d3cf",
   "metadata": {},
   "source": [
    "Confirm that tfc agent is `Waiting for next job`."
   ]
  },
  {
   "cell_type": "code",
   "execution_count": null,
   "id": "26993411-c369-4426-86d1-aa5fa9426a62",
   "metadata": {},
   "outputs": [],
   "source": [
    "docker ps | grep tfc_agent\n",
    "docker logs tfc_agent 2>&1 | tail"
   ]
  },
  {
   "cell_type": "markdown",
   "id": "9e31252e-820d-489b-bbf5-cacba765d417",
   "metadata": {},
   "source": [
    "### init vault server"
   ]
  },
  {
   "cell_type": "markdown",
   "id": "a95ca19e-c627-4d0c-b7e3-d55a46948ed1",
   "metadata": {},
   "source": [
    "Vault server is started in dev mode and backgrounded."
   ]
  },
  {
   "cell_type": "code",
   "execution_count": null,
   "id": "48214c74-a2d0-4e2c-8e24-b3e8714b7b8b",
   "metadata": {
    "tags": []
   },
   "outputs": [],
   "source": [
    "export COMPOSE_PROJECT_NAME=hashi\n",
    "docker-compose up --force-recreate -d vault_s1"
   ]
  },
  {
   "cell_type": "markdown",
   "id": "0bafd3b1-e19d-41ee-bcde-7d3f64132f47",
   "metadata": {},
   "source": [
    "### Verify Vault Server"
   ]
  },
  {
   "cell_type": "code",
   "execution_count": null,
   "id": "da6be99e-9d08-413d-b09d-408eacd9fde2",
   "metadata": {},
   "outputs": [],
   "source": [
    "docker ps | grep vault"
   ]
  },
  {
   "cell_type": "code",
   "execution_count": null,
   "id": "836c894b-3242-4637-8d3c-1f033f29542a",
   "metadata": {},
   "outputs": [],
   "source": [
    "export VAULT_ADDR=http://127.0.0.1:8200\n",
    "export VAULT_TOKEN=root"
   ]
  },
  {
   "cell_type": "code",
   "execution_count": null,
   "id": "71cb42ee-0703-4f69-85b8-6f737e816e6b",
   "metadata": {
    "tags": []
   },
   "outputs": [],
   "source": [
    "vault status"
   ]
  },
  {
   "cell_type": "markdown",
   "id": "724d8b9d-60a5-4c81-8863-79802b4d35da",
   "metadata": {},
   "source": [
    "## prep vault server"
   ]
  },
  {
   "cell_type": "markdown",
   "id": "f050917b-ac3b-436b-83d5-fde6b97280f0",
   "metadata": {},
   "source": [
    "In folder `02-terraform-vault-server-prep`, Terraform configures Vault with the `JWT` auth method to support Terraform Cloud operations.\n",
    "\n",
    "**Multi-Role Demo**:\n",
    "\n",
    "- A Policy is created\n",
    "    - associated with a JWT role named `\"vault-wlid-owner\"`\n",
    "    - Capabilities: `create`,`read`,`update`, and `delete` objects under `/secret`\n",
    "- Variables required for Workload Identity are pushed from this run\n",
    "    - into Terraform Cloud to the workspace `98-workload-identity-demo-multi-role`\n",
    "    - that will be used for the demo.\n",
    "    - They are not marked as sensitive so you can view them if you wanted to.\n",
    "- These variables are:\n",
    "    - `TFC_WORKLOAD_IDENTITY_AUDIENCE`\n",
    "    - `TFC_VAULT_PLAN_ROLE`\n",
    "    - `TFC_VAULT_APPLY_ROLE`\n",
    "    - `VAULT_ADDR`\n",
    "- This demo will use the read only role for the `Plan` phase and the owner role for the `Apply` phase\n",
    "\n",
    "**Read-Only Demo**:\n",
    "\n",
    "- A Policy is created: `jwt-read`\n",
    "    - associated with a JWT role named \"`vault-wlid-read`\"\n",
    "    - to support reading KV data under `/secret` along with auth policies to login\n",
    "- `KV` Data is written to the Vault server at the path `/secret/`\n",
    "- Variables required for Workload Identity are pushed from this run\n",
    "    - into Terraform Cloud to the `99-workload-identity-demo-single` workspace\n",
    "    - that will be used for the demo.\n",
    "- They are not marked as sensitive so you can view them if you wanted to.\n",
    "- These variables are:\n",
    "    - `TFC_WORKLOAD_IDENTITY_AUDIENCE`\n",
    "    - `TFC_VAULT_RUN_ROLE`\n",
    "    - `VAULT_ADDR`\n",
    "- This demo will only use 1 Role to login to Vault for both the `Plan` and `Apply` phase\n",
    "\n"
   ]
  },
  {
   "cell_type": "code",
   "execution_count": null,
   "id": "7b69e416-0966-437f-98fa-da83be738436",
   "metadata": {},
   "outputs": [],
   "source": [
    "pushd 02-terraform-vault-server-prep >/dev/null\n",
    "envsubst <\"${PROJECT_DIR}/tmpl/02-terraform.auto.tfvars.tmpl\" \\\n",
    "    | tee \"${PROJECT_DIR}/02-terraform-vault-server-prep/terraform.auto.tfvars\"\n",
    "popd >/dev/null"
   ]
  },
  {
   "cell_type": "code",
   "execution_count": null,
   "id": "556a6629-4050-4543-abdd-098480cb6af0",
   "metadata": {},
   "outputs": [],
   "source": [
    "export TF_CONFIG_DIR=02-terraform-vault-server-prep"
   ]
  },
  {
   "cell_type": "markdown",
   "id": "d38f586b-b7a0-4ef4-81fb-39fba2b0bcc3",
   "metadata": {},
   "source": [
    "### Provision"
   ]
  },
  {
   "cell_type": "code",
   "execution_count": null,
   "id": "4f8b4ee1-197b-4907-aeac-5400aeee900f",
   "metadata": {
    "tags": []
   },
   "outputs": [],
   "source": [
    "terraform -chdir=$TF_CONFIG_DIR init > /dev/null"
   ]
  },
  {
   "cell_type": "code",
   "execution_count": null,
   "id": "da8c3211-b6bd-46ac-9a48-0cac037fc7cc",
   "metadata": {
    "tags": []
   },
   "outputs": [],
   "source": [
    "terraform -chdir=$TF_CONFIG_DIR apply -auto-approve \\\n",
    "  > /tmp/tf_02_apply.out 2>&1 &"
   ]
  },
  {
   "cell_type": "code",
   "execution_count": null,
   "id": "dd26f678-049b-48c7-83c0-0c6452649ffe",
   "metadata": {},
   "outputs": [],
   "source": [
    "tail -n 50 /tmp/tf_02_apply.out"
   ]
  },
  {
   "cell_type": "markdown",
   "id": "29bc5f95-318c-4b32-876c-d20db3fa1f2e",
   "metadata": {
    "tags": []
   },
   "source": [
    "### Verify Vault Changes"
   ]
  },
  {
   "cell_type": "markdown",
   "id": "3f9df62d-a15a-474c-b788-0b5f35fb02aa",
   "metadata": {},
   "source": [
    "Confirm that `jwt` auth method is enabled."
   ]
  },
  {
   "cell_type": "code",
   "execution_count": null,
   "id": "f17865ae-1cb6-49f3-89af-8565fb4c9f0f",
   "metadata": {},
   "outputs": [],
   "source": [
    "vault auth list"
   ]
  },
  {
   "cell_type": "markdown",
   "id": "8cb7a05f-6561-4300-a895-86fdc7259595",
   "metadata": {},
   "source": [
    "Review `jwt` auth method config"
   ]
  },
  {
   "cell_type": "code",
   "execution_count": null,
   "id": "b735d56e-e580-4098-bc0b-650532677c2b",
   "metadata": {},
   "outputs": [],
   "source": [
    "vault read auth/jwt/config"
   ]
  },
  {
   "cell_type": "markdown",
   "id": "44eaa0ab-4dab-4878-ac60-ab6e175d9be6",
   "metadata": {},
   "source": [
    "#### roles\n",
    "\n",
    "See what `jwt` auth roles were created."
   ]
  },
  {
   "cell_type": "code",
   "execution_count": null,
   "id": "5028c94f-31ef-4978-ad55-2fdf6b05b514",
   "metadata": {},
   "outputs": [],
   "source": [
    "vault list -format=json auth/jwt/role | jq -r .[]"
   ]
  },
  {
   "cell_type": "code",
   "execution_count": null,
   "id": "a2aa50fa-cb11-45cb-bc7e-364e349f9f7d",
   "metadata": {},
   "outputs": [],
   "source": [
    "for i in $(vault list -format=json auth/jwt/role | jq -r .[]); do\n",
    "printf \"\\n#==> Role: $i\\n\"\n",
    "vault read auth/jwt/role/$i\n",
    "done\n",
    "# vault read auth/jwt/role/vault-wlid-read\n",
    "# vault read auth/jwt/role/vault-wlid-owner"
   ]
  },
  {
   "cell_type": "markdown",
   "id": "05929c30-88da-40e4-8d7d-42fb47dab8cc",
   "metadata": {},
   "source": [
    "#### policy"
   ]
  },
  {
   "cell_type": "code",
   "execution_count": null,
   "id": "1d695326-7dcb-4b84-859c-804a15479646",
   "metadata": {},
   "outputs": [],
   "source": [
    "vault policy list"
   ]
  },
  {
   "cell_type": "code",
   "execution_count": null,
   "id": "a446d9bf-3a4e-43ba-a84c-aa97b15a58e9",
   "metadata": {},
   "outputs": [],
   "source": [
    "vault policy read jwt-read"
   ]
  },
  {
   "cell_type": "code",
   "execution_count": null,
   "id": "6ceccbee-0b23-4dcb-98c4-3a75276fbeb0",
   "metadata": {},
   "outputs": [],
   "source": [
    "vault policy read jwt-secret-owner"
   ]
  },
  {
   "cell_type": "markdown",
   "id": "2278ac68-f948-4ea0-bdff-2ad1c22b506b",
   "metadata": {},
   "source": [
    "### audit"
   ]
  },
  {
   "cell_type": "code",
   "execution_count": null,
   "id": "13bcd7e9-46c5-457a-91d2-a18c59e1e874",
   "metadata": {},
   "outputs": [],
   "source": [
    "vault audit enable file file_path=/vault/logs/audit.log log_raw=true"
   ]
  },
  {
   "cell_type": "markdown",
   "id": "4d1979c4-5257-4b12-a60e-98e97b58cdeb",
   "metadata": {
    "jp-MarkdownHeadingCollapsed": true,
    "tags": []
   },
   "source": [
    "## Customizations on Vault CLI"
   ]
  },
  {
   "cell_type": "markdown",
   "id": "e8895942-b6f1-4bb1-92d9-9be7e278a232",
   "metadata": {},
   "source": [
    "### Create Vault JWT Auth Role"
   ]
  },
  {
   "cell_type": "code",
   "execution_count": null,
   "id": "8fe820f7-7e49-453d-9de7-6a051d2b3320",
   "metadata": {},
   "outputs": [],
   "source": [
    "vault write auth/jwt/role/vault-wlid-demo-plan -<<EOF\n",
    "{\n",
    "  \"role_type\": \"jwt\",\n",
    "  \"user_claim\": \"terraform_full_workspace\",\n",
    "  \"token_policies\": [\"jwt-demo-plan\"],\n",
    "  \"bound_audiences\": [\"vault.workload.identity\"],\n",
    "  \"bound_claims_type\": \"glob\",\n",
    "  \"bound_claims\": {\n",
    "    \"sub\": \"organization:pphan:workspace:99-workload-identity-demo:run_phase:plan\"\n",
    "  }\n",
    "}\n",
    "EOF"
   ]
  },
  {
   "cell_type": "markdown",
   "id": "372f5f56-32ee-45ca-87dc-408f5bafe2b5",
   "metadata": {},
   "source": [
    "- `policies`: List of policies that will be encoded onto generated tokens. This will control the access that the Vault provider has in your vault instance.\n",
    "\n",
    "- `bound_audiences`: List of aud values to match against, such as vault.workload.identity. This must match the value for the audience specified in the TFC_WORKLOAD_IDENTITY_AUDIENCE\n",
    "\n",
    "- `bound_claims_type`: How to interpret values in the claims/values map (bound_claims): can be either string (exact match) or glob (wildcard match). Requires Vault 1.4.0 or above.\n",
    "\n",
    "    - This should be set to glob if matching claims you wish to partially match, such as sub = \"organization:my-org:workspace:my-ws:run_phase:*\" when the role should match runs regardless of their run phase\n",
    "\n",
    "- `bound_claims`: A map of claims from the identity token to values to match against.\n",
    "\n",
    "    - Note: it is strongly recommended that the sub claim at the minimum is checked as an attribute condition to prevent access by bad actors and other valid tokens issued by TFC/E that are intended for other targets\n",
    "\n",
    "- `user_claim`: The claim to use to uniquely identify the user, such as terraform_full_workspace . This will be used as the name for the Identity entity alias created due to a successful login.\n",
    "\n",
    "- `role_type`: Type of the role. This must be set to jwt"
   ]
  },
  {
   "cell_type": "markdown",
   "id": "4b40473d-8672-4ed9-934d-28c6f292cd79",
   "metadata": {},
   "source": [
    "### Create Vault Policy"
   ]
  },
  {
   "cell_type": "code",
   "execution_count": null,
   "id": "0286396b-84f4-49eb-aafa-edae547a15db",
   "metadata": {},
   "outputs": [],
   "source": [
    "vault write auth/jwt/role/vault-wlid-demo-plan -<<EOF\n",
    "{\n",
    "  \"role_type\": \"jwt\",\n",
    "  \"user_claim\": \"terraform_full_workspace\",\n",
    "  \"token_policies\": [\"jwt-demo-plan\"],\n",
    "  \"bound_audiences\": [\"vault.workload.identity\"],\n",
    "  \"bound_claims_type\": \"glob\",\n",
    "  \"bound_claims\": {\n",
    "    \"sub\": \"organization:pphan:workspace:99-workload-identity-demo:run_phase:plan\"\n",
    "  }\n",
    "}\n",
    "EOF"
   ]
  },
  {
   "cell_type": "code",
   "execution_count": null,
   "id": "1ed23480-bcbd-41a1-8b18-e7e3b7231627",
   "metadata": {},
   "outputs": [],
   "source": [
    "vault read auth/jwt/role/vault-wlid-demo-plan"
   ]
  },
  {
   "cell_type": "markdown",
   "id": "81774fa0-2f51-4491-805c-be78b82abf19",
   "metadata": {},
   "source": [
    "Confirm secret `rick` has been created under `secret` mount mount."
   ]
  },
  {
   "cell_type": "code",
   "execution_count": null,
   "id": "a2885ec8-158e-4d9e-98ae-e3cf8b4324bc",
   "metadata": {},
   "outputs": [],
   "source": [
    "vault kv list secret/\n",
    "vault kv get secret/rick"
   ]
  },
  {
   "cell_type": "code",
   "execution_count": null,
   "id": "016b36ba-e369-4e7a-a3b2-e651006e7cd8",
   "metadata": {},
   "outputs": [],
   "source": []
  },
  {
   "cell_type": "markdown",
   "id": "b1e305e7-87b1-4cae-bc5b-1d609e4a97f3",
   "metadata": {},
   "source": [
    "## demo vault jwt multi"
   ]
  },
  {
   "cell_type": "markdown",
   "id": "9fdd4731-0aaa-4d95-889a-29230aa64c39",
   "metadata": {},
   "source": [
    "The demo itself takes place in `03-terraform-vault-wlid-demo` and you can view the KV secrets in the state file."
   ]
  },
  {
   "cell_type": "markdown",
   "id": "84f42762-ebbb-40b1-8555-b77bb60cf561",
   "metadata": {},
   "source": [
    "In folder `03-terraform-vault-wlid-demo`, Terraform does a CLI driven workflow to read secrets via Vault\n",
    "\n",
    "1. Terraform Cloud uses the tfc agent that is running in Docker to do the run.\n",
    "1. Terraform agent uses the `terraform-pre-plan `hook to authenticate with Vault.\n",
    "    1. The read-only role `vault-wlid-read` is used to login\n",
    "1. Once the plan succeeds `terraform-pre-apply` hook is used\n",
    "    1. The owner role `vault-wlid-owner` is used to login\n",
    "1. The Vault token has the correct permissions since it can write\n",
    "1. The `KV` data under `/secret` is written and is output as:\n",
    "    - a sensitive value: `vault_kv`\n",
    "    - non-sensitive value as a workaround for the demo: `kv_nonsensitive`\n",
    "2. The agent uses the environment variables that were pushed from the last step to perform the login to vault\n",
    "    - `TFC_WORKLOAD_IDENTITY_AUDIENCE`\n",
    "    - `TFC_VAULT_PLAN_ROLE`\n",
    "    - `TFC_VAULT_APPLY_ROLE`\n",
    "    - `VAULT_ADDR`\n",
    "3. The `KV` data under `/secret` is read and is output as a sensitive value.\n",
    "    - You can view the secret data via the `terraform.tfstate` file in the directory after the run has completed.\n",
    "\n",
    "---"
   ]
  },
  {
   "cell_type": "code",
   "execution_count": null,
   "id": "acb124b0-3722-43d4-807f-986de1dd1f98",
   "metadata": {
    "tags": []
   },
   "outputs": [],
   "source": [
    "pushd 03-terraform-vault-wlid-multi >/dev/null\n",
    "envsubst <\"${PROJECT_DIR}/tmpl/03-demo-multi-settings.tf.tmpl\" \\\n",
    "  | tee \"${PROJECT_DIR}/03-terraform-vault-wlid-multi/settings.tf\"\n",
    "# cat ${PROJECT_DIR}/03-terraform-vault-wlid-/settings.tf\n",
    "if [[ -d .terraform ]]; then\n",
    "  echo \"Terraform already initialized, moving on.\"\n",
    "else\n",
    "  echo \"Initializing Terraform\"\n",
    "  terraform init > /dev/null\n",
    "fi\n",
    "popd >/dev/null"
   ]
  },
  {
   "cell_type": "code",
   "execution_count": null,
   "id": "aa2904ff-ce9a-404f-b436-000726b2d973",
   "metadata": {
    "tags": []
   },
   "outputs": [],
   "source": [
    "pushd 03-terraform-vault-wlid-multi >/dev/null\n",
    "terraform apply -auto-approve | tee /tmp/tf_03_apply.out\n",
    "popd >/dev/null"
   ]
  },
  {
   "cell_type": "markdown",
   "id": "f42604fd-fc45-42d3-b6e4-b265235cae8d",
   "metadata": {},
   "source": [
    "View the sensitive data."
   ]
  },
  {
   "cell_type": "code",
   "execution_count": null,
   "id": "c2d8285e-77ea-451c-9ac5-ccf8f32d1bb4",
   "metadata": {},
   "outputs": [],
   "source": [
    "terraform -chdir=03-terraform-vault-wlid-multi output -json vault_kv \\\n",
    "  | jq .data"
   ]
  },
  {
   "cell_type": "markdown",
   "id": "00ab0f1e-b5e4-4f9d-a602-656d35f3d823",
   "metadata": {},
   "source": [
    "4. If you would like to show the data from vault as an output you can uncomment lines `10-18` of the `main.tf` file under `03-terraform-vault-wlid-demo`."
   ]
  },
  {
   "cell_type": "markdown",
   "id": "c9b41fa7-e9c5-4d57-b7c8-617f470bd7f9",
   "metadata": {},
   "source": [
    "### Verification"
   ]
  },
  {
   "cell_type": "markdown",
   "id": "edb11a45-a1b2-4f34-9cff-990b9e4fe59f",
   "metadata": {},
   "source": [
    "Check our audit logs. Note that the policy assigned is `jwt-read`."
   ]
  },
  {
   "cell_type": "code",
   "execution_count": null,
   "id": "e55b19c4-feff-46cc-ae43-4c7aed61f076",
   "metadata": {},
   "outputs": [],
   "source": [
    "docker exec -it vault_s1 sh -c \"cat /vault/logs/audit.log\" \\\n",
    "  | grep -i \"auth/jwt/login\" | grep \"jwt-\" | tail -n 2 | jq -c "
   ]
  },
  {
   "cell_type": "markdown",
   "id": "f8672f45-2596-4471-8718-2e7eab0dd250",
   "metadata": {},
   "source": [
    "Run only a plan to confirm that we get read level permissions."
   ]
  },
  {
   "cell_type": "code",
   "execution_count": null,
   "id": "e9753216-dd5c-4b6f-a3ce-11b5216b11da",
   "metadata": {
    "tags": []
   },
   "outputs": [],
   "source": [
    "terraform -chdir=03-terraform-vault-wlid-multi plan"
   ]
  },
  {
   "cell_type": "markdown",
   "id": "56ca8240-7f47-45fb-86e7-ccb48b33f9bc",
   "metadata": {},
   "source": [
    "Check our audit logs. Note that the policy assigned is `jwt-read`."
   ]
  },
  {
   "cell_type": "code",
   "execution_count": null,
   "id": "e1d93a3a-aa0a-4a36-9323-d04123746347",
   "metadata": {},
   "outputs": [],
   "source": [
    "docker exec -it vault_s1 sh -c \"cat /vault/logs/audit.log\" \\\n",
    "  | grep -i \"auth/jwt/login\" | grep \"jwt-\" | tail -n 2 | jq -c "
   ]
  },
  {
   "cell_type": "markdown",
   "id": "f98f90d3-35d8-44e3-9eb6-ac55924eb158",
   "metadata": {},
   "source": [
    "Sample for login\n",
    "```json\n",
    "{\n",
    "  \"time\": \"2022-08-09T01:58:31.731898754Z\",\n",
    "  \"type\": \"response\",\n",
    "  \"auth\": {\n",
    "    \"client_token\": \"hvs.CAESID_zg3vf8UzDOHh1iux5UEnzoIwOYwW1EeWPbfY95AQJGh4KHGh2cy56NWNaaUl3NzhxNVljaFpIN3o4ZjNXYU4\",\n",
    "    \"accessor\": \"xL06fA20cKpZwx43wvW9sMDF\",\n",
    "    \"display_name\": \"jwt-organization:pphan:workspace:98-workload-identity-demo-multi-role\",\n",
    "    \"policies\": [\n",
    "      \"default\",\n",
    "      \"jwt-read\"\n",
    "    ],\n",
    "    \"token_policies\": [\n",
    "      \"default\",\n",
    "      \"jwt-read\"\n",
    "    ],\n",
    "    \"metadata\": {\n",
    "      \"role\": \"vault-wlid-read\"\n",
    "    },\n",
    "    \"entity_id\": \"6c6c518f-62b3-1015-a16a-30c9f9684f40\",\n",
    "    \"token_type\": \"service\",\n",
    "    \"token_ttl\": 2764800\n",
    "  },\n",
    "  \"request\": {\n",
    "    \"id\": \"1a3adde6-6d14-c0d6-3305-dec67329faaf\",\n",
    "    \"operation\": \"update\",\n",
    "    \"mount_type\": \"jwt\",\n",
    "    \"namespace\": {\n",
    "      \"id\": \"root\"\n",
    "    },\n",
    "    \"path\": \"auth/jwt/login\",\n",
    "    \"data\": {\n",
    "      \"jwt\": \"eyJ0eXAiOiJKV1QiLCJraWQiOiJiZmQ1YjEzZjM4YTc0MjZmNzJhMzEzMTE0NGIwYTFlYjlkMDkzMDI3NTU1NzZmMDdhOTVkNGRkZmM0MTk0ZjM2IiwiYWxnIjoiUlMyNTYifQ.eyJ0ZXJyYWZvcm1fcnVuX3BoYXNlIjoicGxhbiIsInRlcnJhZm9ybV93b3Jrc3BhY2VfaWQiOiJ3cy1IUjlVenEyNzh1YW5YM0dZIiwidGVycmFmb3JtX3dvcmtzcGFjZV9uYW1lIjoiOTgtd29ya2xvYWQtaWRlbnRpdHktZGVtby1tdWx0aS1yb2xlIiwidGVycmFmb3JtX29yZ2FuaXphdGlvbl9pZCI6Im9yZy10ZkxESGFwRmdwaGJoekptIiwidGVycmFmb3JtX29yZ2FuaXphdGlvbl9uYW1lIjoicHBoYW4iLCJ0ZXJyYWZvcm1fcnVuX2lkIjoicnVuLW9nc2czcDFMUFN1UWoyeHciLCJ0ZXJyYWZvcm1fZnVsbF93b3Jrc3BhY2UiOiJvcmdhbml6YXRpb246cHBoYW46d29ya3NwYWNlOjk4LXdvcmtsb2FkLWlkZW50aXR5LWRlbW8tbXVsdGktcm9sZSIsImp0aSI6ImQ5ZTg2ZTZhLTdiNGYtNDJjOS1hMzQ0LTg0ZTg5MjMxOWQ3OCIsImlzcyI6Imh0dHBzOi8vYXBwLnRlcnJhZm9ybS5pbyIsImF1ZCI6InZhdWx0Lndvcmtsb2FkLmlkZW50aXR5IiwiaWF0IjoxNjYwMDEwMzA2LCJuYmYiOjE2NjAwMTAzMDYsImV4cCI6MTY2MDAxNzUwNiwic3ViIjoib3JnYW5pemF0aW9uOnBwaGFuOndvcmtzcGFjZTo5OC13b3JrbG9hZC1pZGVudGl0eS1kZW1vLW11bHRpLXJvbGU6cnVuX3BoYXNlOnBsYW4ifQ.BTJvSFBF_haU3zigXU_evWW19Sa-HN7XEhVJgiLFcll7Ry-zp-BD0sIieTk_yOzX8r3Bv6h8wFux4rlZxnyIWjH4JCmTl8iDjJqKPAFauA61IcnKnU9x6ZfJzvhJbv8z2U7hB8mPbUXJQ_jA9rt1KSQv_mWymy2MNVuNC69xZR1gDT8SoRfcT6MhlR55ALn34UFeSsSML9x-1PxeZNBAzP1v38x7bVp6ebAuF_WVlrg-kYe61Nglz3vRijqppzSO1nDWrXZzWkaEBIp5hgHv64R6_rJanNDhhvccR7PZqDdpuAbEXK5b9N3BJzpOS5-Zv0iSgK3nK7bash7fwnsaLw\",\n",
    "      \"role\": \"vault-wlid-read\"\n",
    "    },\n",
    "    \"remote_address\": \"10.5.0.1\",\n",
    "    \"remote_port\": 58732\n",
    "  },\n",
    "  \"response\": {\n",
    "    \"auth\": {\n",
    "      \"client_token\": \"hvs.CAESID_zg3vf8UzDOHh1iux5UEnzoIwOYwW1EeWPbfY95AQJGh4KHGh2cy56NWNaaUl3NzhxNVljaFpIN3o4ZjNXYU4\",\n",
    "      \"accessor\": \"xL06fA20cKpZwx43wvW9sMDF\",\n",
    "      \"display_name\": \"jwt-organization:pphan:workspace:98-workload-identity-demo-multi-role\",\n",
    "      \"policies\": [\n",
    "        \"default\",\n",
    "        \"jwt-read\"\n",
    "      ],\n",
    "      \"token_policies\": [\n",
    "        \"default\",\n",
    "        \"jwt-read\"\n",
    "      ],\n",
    "      \"metadata\": {\n",
    "        \"role\": \"vault-wlid-read\"\n",
    "      },\n",
    "      \"entity_id\": \"6c6c518f-62b3-1015-a16a-30c9f9684f40\",\n",
    "      \"token_type\": \"service\",\n",
    "      \"token_ttl\": 2764800\n",
    "    },\n",
    "    \"mount_type\": \"jwt\"\n",
    "  }\n",
    "}\n",
    "```"
   ]
  },
  {
   "cell_type": "markdown",
   "id": "d4aa04ee-d43a-40ea-9144-4e5321efc300",
   "metadata": {},
   "source": [
    "# Cleanup"
   ]
  },
  {
   "cell_type": "markdown",
   "id": "19801e2c-6726-4129-9a61-4be539ba5e98",
   "metadata": {},
   "source": [
    "## Process Details\n",
    "\n",
    "1. Cleanup will run a destroy in each of the folders that leverages Terraform.\n",
    "    - It will also remove the `.terraform`,`.terraform.lock.hcl`, and `.tfstate` files after the destroy has been completed.\n",
    "2. Cleanup will also kill the `vault` process that is running locally for the demo after it has removed all of the configuration changes that it has done.\n",
    "3.  The Docker containers are all stopped after the agents are no longer needed\n",
    "4.  Docker images are also removed from the machine during the cleanup process.\n",
    "\n",
    "---"
   ]
  },
  {
   "cell_type": "markdown",
   "id": "9919d342-7859-40b1-8129-7c286880a915",
   "metadata": {},
   "source": [
    "### Destroy vault jwt"
   ]
  },
  {
   "cell_type": "code",
   "execution_count": null,
   "id": "341ec28b-d28f-4d6f-ba57-d8fd108917c7",
   "metadata": {
    "tags": []
   },
   "outputs": [],
   "source": [
    "# pushd 04-terraform-vault-wlid-single >/dev/null\n",
    "# terraform destroy -auto-approve\n",
    "# rm -rf .terraform terraform.tfstate terraform.tfstate.backup .terraform.lock.hcl\n",
    "# popd >/dev/null"
   ]
  },
  {
   "cell_type": "code",
   "execution_count": null,
   "id": "f8d9c557-4a4d-4d55-af9c-d24106ef32cd",
   "metadata": {
    "tags": []
   },
   "outputs": [],
   "source": [
    "pushd 03-terraform-vault-wlid-multi >/dev/null\n",
    "terraform destroy -auto-approve > /tmp/tf_03_destroy.out 2>&1\n",
    "cat /tmp/tf_03_destroy.out\n",
    "rm -rf .terraform terraform.tfstate terraform.tfstate.backup .terraform.lock.hcl\n",
    "popd >/dev/null"
   ]
  },
  {
   "cell_type": "code",
   "execution_count": null,
   "id": "c6e8cc83-f2c7-4fec-8d46-1108a9263d80",
   "metadata": {
    "tags": []
   },
   "outputs": [],
   "source": [
    "# pushd 03-terraform-vault-wlid-demo >/dev/null\n",
    "# terraform destroy -auto-approve > /tmp/tf_03_destroy.out\n",
    "# rm -rf .terraform terraform.tfstate terraform.tfstate.backup .terraform.lock.hcl\n",
    "# popd >/dev/null"
   ]
  },
  {
   "cell_type": "markdown",
   "id": "025877e3-939c-4bfd-afe8-0c1fe56791ef",
   "metadata": {},
   "source": [
    "### Destroy vault config"
   ]
  },
  {
   "cell_type": "code",
   "execution_count": null,
   "id": "98702cb0-58ca-4743-9903-a57847ad09b7",
   "metadata": {
    "tags": []
   },
   "outputs": [],
   "source": [
    "pushd 02-terraform-vault-server-prep >/dev/null\n",
    "terraform destroy -auto-approve > /tmp/tf_02_destroy.out 2>&1\n",
    "tail -n 50 /tmp/tf_02_destroy.out\n",
    "rm -rf .terraform terraform.tfstate terraform.tfstate.backup .terraform.lock.hcl\n",
    "popd >/dev/null"
   ]
  },
  {
   "cell_type": "markdown",
   "id": "7ea26bca-d0b3-42a3-a52d-3afde7d3da8d",
   "metadata": {},
   "source": [
    "### Destroy terraform cloud workspace and agent"
   ]
  },
  {
   "cell_type": "code",
   "execution_count": null,
   "id": "f7372020-fb6f-4977-bf2b-9ce9daa15195",
   "metadata": {
    "tags": []
   },
   "outputs": [],
   "source": [
    "pushd 01-terraform-cloud-pre-req >/dev/null\n",
    "terraform destroy -auto-approve > /tmp/tf_01_destroy.out 2>&1\n",
    "popd >/dev/null\n",
    "tail -n 50 /tmp/tf_01_destroy.out"
   ]
  },
  {
   "cell_type": "markdown",
   "id": "ef850030-76a7-4e6b-a9bd-63c05aff920c",
   "metadata": {},
   "source": [
    "### destroy containers"
   ]
  },
  {
   "cell_type": "code",
   "execution_count": null,
   "id": "c2abce1e-7158-4bed-ac08-1309910f1e15",
   "metadata": {},
   "outputs": [],
   "source": [
    "# docker container stop $(docker container ls -q --filter name=tfc-agent-wlid)\n",
    "# docker images | grep tfc-agent-wlid | awk '{print $1 \":\" $2}' | xargs docker rmi"
   ]
  },
  {
   "cell_type": "code",
   "execution_count": null,
   "id": "ca9d5a45-dd83-4709-9773-e0b5fbfc050e",
   "metadata": {},
   "outputs": [],
   "source": [
    "docker stop vault_s1\n",
    "docker rm vault_s1"
   ]
  },
  {
   "cell_type": "code",
   "execution_count": null,
   "id": "72bac7e3-bb69-4b9d-ad4f-1749c240eb9c",
   "metadata": {
    "tags": []
   },
   "outputs": [],
   "source": [
    "export COMPOSE_PROJECT_NAME=hashi\n",
    "docker-compose down"
   ]
  },
  {
   "cell_type": "markdown",
   "id": "ba9c22d4-bf3c-47d1-8aa2-7518b5d170dc",
   "metadata": {},
   "source": [
    "## Issues\n",
    "\n",
    "Currently the cleanup will fail because Terraform Cloud reports tha the agent pool still has workspaces using it. The error happens in the GUI as well as via Terraform. Only work around is to wait and re-run the cleanup or to remove the pool manually later"
   ]
  },
  {
   "cell_type": "markdown",
   "id": "d8954ed8-4122-4f13-96c0-46e868cb4411",
   "metadata": {},
   "source": [
    "# TODO\n",
    "\n",
    "- [ ] AWS Portions of the demo (PRs welcome!)\n",
    "- [x] AWS Docker image builds\n",
    "- [ ] GCP Portions of the demo (PRs welcome!)\n",
    "- [x] GCP Docker image builds\n",
    "- [ ] Look into cleanup issues with the Terraform Cloud API\n",
    "- [ ] Binary enumeration for Vault and Docker\n",
    "- [ ] Credential enumeration function for Terraform Cloud"
   ]
  },
  {
   "cell_type": "markdown",
   "id": "932dcb34-5240-4e09-8934-51b8a0098eda",
   "metadata": {},
   "source": [
    "# Resources\n",
    "\n",
    "Internal\n",
    "- RFC: https://docs.google.com/document/d/1O4ytxZ08TfZRStPtDl36o12MxdTAHbMV2-dfYgGsVLQ/edit?pli=1#\n",
    "- Parent: https://hashicorp.atlassian.net/wiki/spaces/TF/pages/2355527738/Workload+Identity+Overview\n",
    "- Vault: https://hashicorp.atlassian.net/wiki/spaces/TF/pages/2358379522/Workload+Identity+with+the+Vault+Provider"
   ]
  },
  {
   "cell_type": "markdown",
   "id": "3a894881-159d-42da-9565-21b9d69a8f3b",
   "metadata": {},
   "source": [
    "### Vault namespaces\n",
    "\n",
    "- is there support for Vault namespaces? (using HCP so need to use admin namespace)\n",
    "    - yes.. but needs to be set in the agent login script..\n",
    "    - so you could have the script read the namespace from a workspace var\n",
    "    - this involves adding a --header \"X-Vault-Namespace: $TFC_VAULT_NAMESPACE\" (or something similar) to the CURL calls in the agent hooks"
   ]
  },
  {
   "cell_type": "markdown",
   "id": "5470b9b8-3b53-4625-9e4c-4394047ce198",
   "metadata": {
    "jp-MarkdownHeadingCollapsed": true,
    "tags": []
   },
   "source": [
    "## Customization Ideas"
   ]
  },
  {
   "cell_type": "markdown",
   "id": "4789400c-7121-4778-8ffa-1f78d5a97a78",
   "metadata": {
    "tags": []
   },
   "source": [
    "```\n",
    "tee $TF_CONFIG_DIR/custom.tf <<\"EOF\"\n",
    "\n",
    "resource \"vault_policy\" \"pol\" {\n",
    "  # namespace = var.namespace\n",
    "  name      = \"jwt-demo-plan\"\n",
    "  policy    = <<-EOT\n",
    "    path \"auth/token/create\" {\n",
    "      capabilities = [\"update\"]\n",
    "    }\n",
    "    path \"auth/token/lookup-self\" {\n",
    "      capabilities = [\"read\"]\n",
    "    }\n",
    "    path \"secret/*\" {\n",
    "      capabilities = [\"read\"]\n",
    "    }\n",
    "EOT\n",
    "}\n",
    "\n",
    "resource \"vault_jwt_auth_backend_role\" \"role\" {\n",
    "  # namespace         = var.namespace\n",
    "  backend           = \"jwt\" #vault_jwt_auth_backend.jwt.path\n",
    "  role_name         = \"vault-wlid-demo-plan\" #var.role_name\n",
    "  token_policies    = [vault_policy.pol.name]\n",
    "  bound_audiences   = var.bound_audiences\n",
    "  bound_claims_type = var.bound_claims_type\n",
    "  bound_claims      = {\n",
    "    sub = \"organization:pphan:workspace:${var.tfc_workspace}:run_phase:apply\"\n",
    "  }\n",
    "  user_claim        = var.user_claim\n",
    "  role_type         = var.role_type\n",
    "}\n",
    "\n",
    "variable \"bound_audiences\" {\n",
    "  default = [\"vault.workload.identity\"]\n",
    "}\n",
    "\n",
    "variable \"bound_claims_type\" {\n",
    "  default     = \"glob\"\n",
    "}\n",
    "\n",
    "# variable \"bound_claims\" {\n",
    "#   default = {\n",
    "#     sub = \"organization:pphan:workspace:${var.tfc_workspace}:run_phase:apply\"\n",
    "#   }\n",
    "# }\n",
    "\n",
    "variable \"user_claim\" {\n",
    "  default = \"terraform_full_workspace\"\n",
    "}\n",
    "\n",
    "variable \"role_type\" {\n",
    "  default = \"jwt\"\n",
    "}\n",
    "EOF\n",
    "```"
   ]
  }
 ],
 "metadata": {
  "kernelspec": {
   "display_name": "Bash",
   "language": "bash",
   "name": "bash"
  },
  "language_info": {
   "codemirror_mode": "shell",
   "file_extension": ".sh",
   "mimetype": "text/x-sh",
   "name": "bash"
  }
 },
 "nbformat": 4,
 "nbformat_minor": 5
}
