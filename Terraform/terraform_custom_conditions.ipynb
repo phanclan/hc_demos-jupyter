{
 "cells": [
  {
   "cell_type": "markdown",
   "id": "2ef10150-a173-4bdb-94e0-3760d96f0017",
   "metadata": {},
   "source": [
    "# Validate Modules with Custom Conditions\n",
    "\n",
    "**description:**\n",
    "\n",
    "Add condition blocks to a module that deploys an application in an AWS VPC to validate that DNS and EBS support are enabled, and that the appropriate number of subnets are configured.\n",
    "\n",
    "---"
   ]
  },
  {
   "cell_type": "markdown",
   "id": "f7336c03-874c-45f9-9037-53d2bef381c5",
   "metadata": {},
   "source": [
    "Terraform lets you define custom conditions in your module configuration to validate resources, data sources, and outputs. When planning and applying changes to your infrastructure, Terraform evaluates these condition blocks and reports an error if a condition fails. Terraform supports \"`preconditions`\", which it evaluates before it provisions the enclosing block, and \"`postconditions`\", which it evaluates afterward.\n",
    "\n",
    "Prior to version 1.2, Terraform’s solution was to use custom variable validation, which runs a certain level of validation over input variables to check if they match what’s expected. However, there were many complex scenarios that variable validation couldn’t solve, largely because variable validation couldn’t account for dynamic data that the validation phase could not see.\n",
    "\n",
    "In order to provide better validation for dynamic module inputs, Terraform 1.2 introduces precondition and postcondition blocks, allowing Terraform practitioners to capture assumptions in configuration and raise errors earlier and in context. These condition blocks can be written in configuration and can apply to resources, data sources, and outputs. They are especially useful for module authors, who can set up helpful error messages to ensure that conditions are met before an `apply` can take place, providing a clean contract for modules.\n",
    "\n",
    "Preconditions and postconditions are not only valuable for validating module inputs, but also for defining apply-time checks for correctness. If values are not known until apply-time, Terraform will do another check at the apply phase to ensure that conditions are met. If they aren’t met, the `apply` will halt and provide relevant context on how to resolve the issue. Additionally, preconditions and postconditions create a more precise software contract for modules, making configuration more maintainable and extensible over time.\n",
    "\n",
    "In this tutorial, you will provision resources using a local module that represents an application deployment, including a load balancer and EC2 instances. While this module includes variable validation, it is still possible for users of the module to misconfigure the application. You will add condition blocks to the module to ensure that users configure the VPC and EC2 instances correctly."
   ]
  },
  {
   "cell_type": "markdown",
   "id": "86ceea6f-e50a-4d54-9418-9439ed5f5c82",
   "metadata": {},
   "source": [
    "## Resources"
   ]
  },
  {
   "cell_type": "markdown",
   "id": "7e8e308f-3536-4ffa-8910-efba55c47f08",
   "metadata": {},
   "source": [
    "- Learn Guide: https://learn.hashicorp.com/tutorials/terraform/custom-conditions\n",
    "- Blog: https://www.hashicorp.com/blog/terraform-1-2-improves-exception-handling-and-updates-to-the-cli-driven-workflow"
   ]
  },
  {
   "cell_type": "markdown",
   "id": "634ebfcf-8074-4231-aec4-dd04f4a81ab4",
   "metadata": {},
   "source": [
    "## Prerequisites\n",
    "\n",
    "You can complete this tutorial using the same workflow with either Terraform OSS or Terraform Cloud. Terraform Cloud is a platform that you can use to manage and execute your Terraform projects. It includes features like remote state and execution, structured plan output, workspace resource summaries, and more."
   ]
  },
  {
   "cell_type": "markdown",
   "id": "fb5de65c-16b3-473c-a77e-74522ef7e073",
   "metadata": {},
   "source": [
    "> **Note**: Some of the infrastructure in this tutorial does not qualify for\n",
    "  the AWS [free tier](https://aws.amazon.com/free/). Destroy the infrastructure\n",
    "  at the end of the guide to avoid unnecessary charges. We are not responsible\n",
    "  for any charges that you incur."
   ]
  },
  {
   "cell_type": "markdown",
   "id": "68e7327f-41f6-4f6c-ab5c-f9e861dec360",
   "metadata": {},
   "source": [
    "Skip to the **Terraform Cloud** section to complete this tutorial using Terraform\n",
    "Cloud."
   ]
  },
  {
   "cell_type": "markdown",
   "id": "bd1472a3-0979-4f38-b645-cf3de6387a89",
   "metadata": {},
   "source": [
    "### Terraform OSS"
   ]
  },
  {
   "cell_type": "markdown",
   "id": "45519f43-511f-40b3-9774-447ca6ee9ed1",
   "metadata": {},
   "source": [
    "<Tab heading=\"Terraform OSS\" group=\"oss\">\n",
    "\n",
    "This tutorial assumes that you are familiar with the standard Terraform\n",
    "workflow. If you are new to Terraform, complete the [Get Started\n",
    "tutorials](https://learn.hashicorp.com/collections/terraform/aws-get-started)\n",
    "first.\n",
    "\n",
    "For this tutorial, you will need:\n",
    "\n",
    "- [Terraform 1.2+](/tutorials/terraform/install-cli) installed locally.\n",
    "- An [AWS\n",
    "  account](https://portal.aws.amazon.com/billing/signup?nc2=h_ct&src=default&redirect_url=https%3A%2F%2Faws.amazon.com%2Fregistration-confirmation#/start)\n",
    "  with credentials [configured for\n",
    "  Terraform](https://registry.terraform.io/providers/hashicorp/aws/latest/docs#authentication).\n",
    "\n",
    "</Tab>"
   ]
  },
  {
   "cell_type": "markdown",
   "id": "572bc553-ff93-4552-9f3f-ccf744c2d0f7",
   "metadata": {},
   "source": [
    "#### AWS Credentials"
   ]
  },
  {
   "cell_type": "markdown",
   "id": "642c8358-e956-46f8-bfd9-00e26420eb3e",
   "metadata": {},
   "source": [
    "Set your AWS credentials here or in TFC Variable Set."
   ]
  },
  {
   "cell_type": "code",
   "execution_count": null,
   "id": "823dcda8-dec9-45f8-b749-757e84fc5709",
   "metadata": {},
   "outputs": [],
   "source": [
    "export AWS_DEFAULT_REGION=\"us-west-2\"\n",
    "export AWS_REGION=\"us-west-2\"\n",
    "export AWS_ACCESS_KEY_ID=\"AKIARMXWHR...\"\n",
    "export AWS_SECRET_ACCESS_KEY=\"BC1vT329VhIai1LDw...\""
   ]
  },
  {
   "cell_type": "markdown",
   "id": "eea5ac8c-2321-4eb0-bb91-857f9e12008f",
   "metadata": {},
   "source": [
    "Confirm that you have a terraform version 1.2 or higher."
   ]
  },
  {
   "cell_type": "code",
   "execution_count": null,
   "id": "c7683b32-8a44-4352-be01-1d6aeedfd450",
   "metadata": {},
   "outputs": [],
   "source": [
    "terraform version"
   ]
  },
  {
   "cell_type": "markdown",
   "id": "168a3e38-8e65-4442-b726-ce0cd41357c5",
   "metadata": {},
   "source": [
    "### Terraform Cloud\n",
    "\n",
    "This tutorial assumes that you are familiar with the Terraform and Terraform\n",
    "Cloud workflows.\n",
    "\n",
    "- If you are new to Terraform, complete [Get Started collection](https://learn.hashicorp.com/collections/terraform/aws-get-started) first.\n",
    "- If you are new to Terraform Cloud, complete the [Terraform Cloud Get Started\n",
    "tutorials](/collections/terraform/cloud-get-started) first.\n",
    "\n",
    "In order to complete this tutorial, you will need the following:\n",
    "\n",
    "- [Terraform 1.2+](https://learn.hashicorp.com/tutorials/terraform/install-cli) installed locally.\n",
    "- An [AWS\n",
    "  account](https://portal.aws.amazon.com/billing/signup?nc2=h_ct&src=default&redirect_url=https%3A%2F%2Faws.amazon.com%2Fregistration-confirmation#/start)\n",
    "  with credentials [configured for\n",
    "  Terraform](https://registry.terraform.io/providers/hashicorp/aws/latest/docs#authentication).\n",
    "- A [Terraform Cloud\n",
    "  account](https://app.terraform.io/signup/account?utm_source=learn) with\n",
    "  Terraform Cloud [locally authenticated](https://learn.hashicorp.com/tutorials/terraform/cloud-login).\n",
    "- A [Terraform Cloud variable set configured with your AWS\n",
    "  credentials](https://learn.hashicorp.com/tutorials/terraform/cloud-create-variable-set).\n",
    "\n",
    "</Tab>"
   ]
  },
  {
   "cell_type": "markdown",
   "id": "636940e6-c7dd-4c88-b140-a4cc97ab78d3",
   "metadata": {},
   "source": [
    "## Clone the example repository\n",
    "\n",
    "Clone the [example repository](https://github.com/hashicorp/learn-terraform-conditions) for this tutorial, which contains Terraform configuration that uses a local module to deploy an application hosted on AWS."
   ]
  },
  {
   "cell_type": "code",
   "execution_count": null,
   "id": "f73387cd-4ec9-453b-97e4-27c816104eb1",
   "metadata": {},
   "outputs": [],
   "source": [
    "mkdir -p /tmp/learn-terraform-conditions"
   ]
  },
  {
   "cell_type": "code",
   "execution_count": null,
   "id": "8cc48b73-b689-475b-a58a-d9d5946608bc",
   "metadata": {},
   "outputs": [],
   "source": [
    "git clone https://github.com/hashicorp/learn-terraform-conditions.git /tmp/learn-terraform-conditions"
   ]
  },
  {
   "cell_type": "markdown",
   "id": "a3f53a05-385e-481a-ac95-f269a5300c2f",
   "metadata": {},
   "source": [
    "Change into the repository directory."
   ]
  },
  {
   "cell_type": "code",
   "execution_count": null,
   "id": "8f4dd3f2-6885-4fa0-bf8d-d0adf0a565e4",
   "metadata": {},
   "outputs": [],
   "source": [
    "cd /tmp/learn-terraform-conditions"
   ]
  },
  {
   "cell_type": "markdown",
   "id": "12f6ceb9-8178-4d2e-a6a9-d3c6ee14f021",
   "metadata": {},
   "source": [
    "## Review example configuration\n",
    "\n",
    "The example configuration:\n",
    "- defines a VPC to host your application,\n",
    "- selects an AWS AMI using a data source, and\n",
    "- uses a local module to deploy EC2 instances and a load balancer into the VPC."
   ]
  },
  {
   "cell_type": "markdown",
   "id": "225c4260-f539-41c0-96be-b71dc0222c93",
   "metadata": {
    "tags": []
   },
   "source": [
    "### main.tf"
   ]
  },
  {
   "cell_type": "markdown",
   "id": "45730eca-c4eb-4c6a-b5a3-ad7aca839400",
   "metadata": {},
   "source": [
    "- Open `main.tf` to review the initial configuration.\n",
    "    - The `module.app` block in `main.tf` configures the `example-app-deployment` module with several arguments.\n",
    "\n",
    "filename=\"`main.tf`\""
   ]
  },
  {
   "cell_type": "markdown",
   "id": "e33ad643-98d4-4d1d-8612-081c003d6bb3",
   "metadata": {
    "jp-MarkdownHeadingCollapsed": true,
    "tags": []
   },
   "source": [
    "```go\n",
    "module \"app\" {\n",
    "  source = \"./modules/example-app-deployment\"\n",
    "\n",
    "  aws_instance_count = var.aws_instance_count\n",
    "\n",
    "  aws_instance_type = var.aws_instance_type\n",
    "  aws_ami_id        = data.aws_ami.amazon_linux.id\n",
    "  aws_vpc_id        = module.vpc.vpc_id\n",
    "\n",
    "  aws_public_subnet_ids  = module.vpc.public_subnets\n",
    "  aws_private_subnet_ids = module.vpc.private_subnets\n",
    "}\n",
    "```"
   ]
  },
  {
   "cell_type": "markdown",
   "id": "2878736c-4ffc-4197-91ee-3ce30a90a831",
   "metadata": {},
   "source": [
    "### modules/example-app-deployment/main.tf"
   ]
  },
  {
   "cell_type": "markdown",
   "id": "684e182b-3ac0-4f34-9b1b-c837f97c6b1c",
   "metadata": {},
   "source": [
    "The module configuration in `modules/example-app-deployment/main.tf` defines the\n",
    "infrastructure that will host your example application, which consists of a load\n",
    "balancer, security groups, and EC2 instances. This local module uses public\n",
    "modules from the Terraform registry to provision your security groups and load\n",
    "balancer.\n",
    "\n",
    "The EC2 instance configuration references input variables passed from the root module to set the number of instances, the instance type, AMI ID, and private subnets to provision the instances in.\n",
    "\n",
    "filename=\"`modules/example-app-deployment/main.tf`\"\n",
    "\n",
    "```go\n",
    "resource \"aws_instance\" \"app\" {\n",
    "  count = var.aws_instance_count\n",
    "\n",
    "  instance_type = var.aws_instance_type\n",
    "  ami           = var.aws_ami_id\n",
    "\n",
    "  subnet_id              = var.aws_private_subnet_ids[count.index % length(var.aws_private_subnet_ids)]\n",
    "  vpc_security_group_ids = [module.app_security_group.security_group_id]\n",
    "}\n",
    "```"
   ]
  },
  {
   "cell_type": "markdown",
   "id": "8d9f2072-3d82-48f8-ade5-28bb794799c9",
   "metadata": {},
   "source": [
    "### modules/example-app-deployment/variables.tf\n",
    "\n",
    "The `variables.tf` file defines several input variables for your module,\n",
    "including the VPC ID and subnets to deploy the application in.\n",
    "\n",
    "filename=\"`modules/example-app-deployment/variables.tf`\"\n",
    "\n",
    "```go\n",
    "#==> Input variables\n",
    "\n",
    "variable \"aws_vpc_id\" {\n",
    "  description = \"ID of the VPC to deploy in. DNS support must be enabled on this VPC.\"\n",
    "  type        = string\n",
    "}\n",
    "\n",
    "variable \"aws_private_subnet_ids\" {\n",
    "  description = \"VPC private subnet ids.\"\n",
    "  type        = list(string)\n",
    "\n",
    "  validation {\n",
    "    condition     = length(var.aws_private_subnet_ids) > 1\n",
    "    error_message = \"This application requires at least two private subnets.\"\n",
    "  }\n",
    "}\n",
    "\n",
    "variable \"aws_public_subnet_ids\" {\n",
    "  description = \"VPC public subnet ids.\"\n",
    "  type        = list(string)\n",
    "}\n",
    "\n",
    "variable \"aws_ami_id\" {\n",
    "  description = \"EC2 instance AMI ID.\"\n",
    "  type        = string\n",
    "}\n",
    "\n",
    "variable \"aws_instance_count\" {\n",
    "  description = \"Number of AWS instances to deploy. This number must be evenly divisible by the number of private subnets.\"\n",
    "  type        = number\n",
    "\n",
    "  validation {\n",
    "    condition     = var.aws_instance_count > 1\n",
    "    error_message = \"This application requires at least two EC2 instances.\"\n",
    "  }\n",
    "}\n",
    "\n",
    "variable \"aws_instance_type\" {\n",
    "  description = \"EC2 instance type.\"\n",
    "  type        = string\n",
    "}\n",
    "```"
   ]
  },
  {
   "cell_type": "markdown",
   "id": "0549c218-f4ae-4087-a410-557e0cbda7ae",
   "metadata": {},
   "source": [
    "## Plan changes\n",
    "\n",
    "Terraform configuration can be syntactically valid and deployable, but still not\n",
    "satisfy other constraints such as application-specific requirements. When you\n",
    "maintain a module, you can use custom conditions in your configuration to\n",
    "enforce these requirements.\n",
    "\n",
    "\n",
    "In the root module, rename the `terraform.tfvars.example` file to\n",
    "`terraform.tfvars`, so that Terraform will detect the file with end-user-configured variables in it."
   ]
  },
  {
   "cell_type": "code",
   "execution_count": null,
   "id": "1231229b-e0c5-4e1d-a262-5a3b1cf5796c",
   "metadata": {},
   "outputs": [],
   "source": [
    "FILE=terraform.tfvars\n",
    "[[ ! -f \"${FILE}\" ]] && cp ${FILE}.example ${FILE} || echo $FILE already exists"
   ]
  },
  {
   "cell_type": "markdown",
   "id": "0046658e-9835-47f6-88c6-cba4717f8f93",
   "metadata": {},
   "source": [
    "This file sets values for three of the variables used by the example\n",
    "configuration. Terraform can deploy your infrastructure with these values, but they do not meet the hypothetical requirements of the example application, which needs an EC2 instance that supports EBS optimization, and a VPC that has DNS support enabled. \n",
    "\n",
    "CodeBlockConfig filename=\"terraform.tfvars\"\n",
    "\n",
    "```go\n",
    "aws_instance_type = \"t2.micro\"\n",
    "aws_instance_count = 3\n",
    "enable_dns = false\n",
    "```\n",
    "\n",
    "If you were deploying a real application with these requirements, the application would fail on the configured infrastructure with little indication of what might be wrong. A developer familiar with the application requirements would have to diagnose the issues once the application was already deployed, and would have trace the cause to these misconfigured variables. \n",
    "\n",
    "In this tutorial, you will add conditions to the module to ensure that:\n",
    "\n",
    "- Each private subnet has the same number of EC2 instances.\n",
    "- The EC2 instance type supports EBS optimization.\n",
    "- The VPC has DNS support enabled.\n",
    "\n",
    "By adding these conditions, you will ensure that users cannot deploy the application on infrastructure that does not meet the application's requirements."
   ]
  },
  {
   "cell_type": "markdown",
   "id": "24be88b3-c13d-4222-9832-20885dec1926",
   "metadata": {},
   "source": [
    "Skip to the **Terraform Cloud** section to complete this tutorial using Terraform\n",
    "Cloud."
   ]
  },
  {
   "cell_type": "markdown",
   "id": "c4905faf-fe25-4993-95c8-1a90fe9539fc",
   "metadata": {},
   "source": [
    "### Terraform OSS"
   ]
  },
  {
   "cell_type": "markdown",
   "id": "99b37fe4-a37f-4598-be3f-96681cbfab64",
   "metadata": {},
   "source": [
    "Initialize the configuration."
   ]
  },
  {
   "cell_type": "code",
   "execution_count": null,
   "id": "2a05688f-92ab-47ec-8ed3-14d439fcb28c",
   "metadata": {},
   "outputs": [],
   "source": [
    "terraform init"
   ]
  },
  {
   "cell_type": "markdown",
   "id": "d892bcfe-175c-40cc-ab1e-036a8c24fb7e",
   "metadata": {},
   "source": [
    "```shell\n",
    "$ terraform init\n",
    "Initializing modules...\n",
    "- app in modules/example-app-deployment\n",
    "Downloading registry.terraform.io/terraform-aws-modules/security-group/aws 4.9.0 for app.app_security_group...\n",
    "- app.app_security_group in .terraform/modules/app.app_security_group/modules/web\n",
    "- app.app_security_group.sg in .terraform/modules/app.app_security_group\n",
    "Downloading registry.terraform.io/terraform-aws-modules/elb/aws 3.0.1 for app.elb_http...\n",
    "- app.elb_http in .terraform/modules/app.elb_http\n",
    "- app.elb_http.elb in .terraform/modules/app.elb_http/modules/elb\n",
    "- app.elb_http.elb_attachment in .terraform/modules/app.elb_http/modules/elb_attachment\n",
    "Downloading registry.terraform.io/terraform-aws-modules/security-group/aws 4.9.0 for app.lb_security_group...\n",
    "- app.lb_security_group in .terraform/modules/app.lb_security_group/modules/web\n",
    "- app.lb_security_group.sg in .terraform/modules/app.lb_security_group\n",
    "Downloading registry.terraform.io/terraform-aws-modules/vpc/aws 3.14.0 for vpc...\n",
    "- vpc in .terraform/modules/vpc\n",
    "\n",
    "Initializing the backend...\n",
    "\n",
    "Initializing provider plugins...\n",
    "- Reusing previous version of hashicorp/aws from the dependency lock file\n",
    "- Reusing previous version of hashicorp/random from the dependency lock file\n",
    "- Installing hashicorp/aws v4.10.0...\n",
    "- Installed hashicorp/aws v4.10.0 (signed by HashiCorp)\n",
    "- Installing hashicorp/random v3.1.3...\n",
    "- Installed hashicorp/random v3.1.3 (signed by HashiCorp)\n",
    "\n",
    "Terraform has been successfully initialized!\n",
    "\n",
    "<snip>\n",
    "```"
   ]
  },
  {
   "cell_type": "markdown",
   "id": "950601fb-43b6-4f8f-b8da-40fced9df9a8",
   "metadata": {},
   "source": [
    "### Terraform Cloud"
   ]
  },
  {
   "cell_type": "markdown",
   "id": "a315dee8-bd6a-4917-959e-274f2f6097e5",
   "metadata": {},
   "source": [
    "Open your `terraform.tf` file and add the `cloud` block."
   ]
  },
  {
   "cell_type": "markdown",
   "id": "4e436f32-d2f6-4bf3-821f-d3879a982d4b",
   "metadata": {},
   "source": [
    "Replace the `TF_CLOUD_ORGANIZATION` name with your own Terraform Cloud organization."
   ]
  },
  {
   "cell_type": "code",
   "execution_count": null,
   "id": "3986106a-b2a3-42fa-8d67-48bdf498f167",
   "metadata": {},
   "outputs": [],
   "source": [
    "export TF_CLOUD_ORGANIZATION=pphan   #your-organization-name\n",
    "export TF_CLOUD_HOSTNAME=app.terraform.io\n",
    "# export TF_WORKSPACE=learn-terraform-conditions   #not using, client won't work create workspace set here\n",
    "# unset TF_WORKSPACE   #unset if not needed"
   ]
  },
  {
   "cell_type": "code",
   "execution_count": null,
   "id": "98f98859-bedb-4638-98fb-c95219907ad6",
   "metadata": {},
   "outputs": [],
   "source": [
    "# git restore terraform.tf && cat terraform.tf"
   ]
  },
  {
   "cell_type": "code",
   "execution_count": null,
   "id": "ddc61ac0-ae79-411e-8d9b-5dd6cd48a7d8",
   "metadata": {},
   "outputs": [],
   "source": [
    "cat > terraform.tf <<\"EOF\"\n",
    "terraform {\n",
    "  cloud {\n",
    "    workspaces {\n",
    "      name = \"learn-terraform-conditions\"\n",
    "    }\n",
    "  }\n",
    "  required_providers {\n",
    "    aws = {\n",
    "      source  = \"hashicorp/aws\"\n",
    "      version = \"~> 4.10.0\"\n",
    "    }\n",
    "  }\n",
    "\n",
    "  required_version = \"~> 1.2.0\"\n",
    "}\n",
    "EOF"
   ]
  },
  {
   "cell_type": "markdown",
   "id": "fda17312-883f-48fa-aa72-9129b97a64dc",
   "metadata": {},
   "source": [
    "### terraform init"
   ]
  },
  {
   "cell_type": "markdown",
   "id": "31d233d7-e6ac-4ae9-bf97-57c68b92c689",
   "metadata": {},
   "source": [
    "Initialize your configuration. Terraform will automatically create the\n",
    "`learn-terraform-conditions` workspace in your Terraform Cloud organization."
   ]
  },
  {
   "cell_type": "code",
   "execution_count": null,
   "id": "0fda3598-a312-40f3-8a03-73b4b7335c59",
   "metadata": {},
   "outputs": [],
   "source": [
    "terraform init"
   ]
  },
  {
   "cell_type": "markdown",
   "id": "3c66663a-1954-48d5-bf95-12c05ad8ec9f",
   "metadata": {},
   "source": [
    "```shell\n",
    "$ terraform init\n",
    "Initializing Terraform Cloud...\n",
    "Initializing provider plugins...\n",
    "- Reusing previous version of hashicorp/aws from the dependency lock file\n",
    "- Installing hashicorp/aws v4.10.0...\n",
    "- Installed hashicorp/aws v4.10.0 (signed by HashiCorp)\n",
    "Terraform Cloud has been successfully initialized!\n",
    "You may now begin working with Terraform Cloud. Try running \"terraform plan\" to\n",
    "see any changes that are required for your infrastructure.\n",
    "If you ever set or change modules or Terraform Settings, run \"terraform init\"\n",
    "again to reinitialize your working directory.\n",
    "```\n",
    "\n",
    "> **Note:** This tutorial assumes that you are using a tutorial-specific\n",
    "  Terraform Cloud organization with a global variable set of your AWS\n",
    "  credentials. Review the [Create a Credential Variable\n",
    "  Set](/tutorials/terraform/cloud-create-variable-set?in=terraform/cloud-get-started)\n",
    "  for detailed guidance. If you are using a scoped variable set, [assign it to\n",
    "  your new\n",
    "  workspace](https://www.terraform.io/cloud-docs/workspaces/variables/managing-variables#apply-or-remove-variable-sets-from-inside-a-workspace)\n",
    "  now."
   ]
  },
  {
   "cell_type": "markdown",
   "id": "54c3ff4f-7bec-4d53-aeb0-eaaac84fa513",
   "metadata": {},
   "source": [
    "### terraform plan"
   ]
  },
  {
   "cell_type": "markdown",
   "id": "31324aec-0477-46a6-afc6-d526c98f3161",
   "metadata": {},
   "source": [
    "Before you add conditions to the example module, execute a plan to review the\n",
    "resources that Terraform will deploy. Estimated time is 1.5 minutes for TFC."
   ]
  },
  {
   "cell_type": "code",
   "execution_count": null,
   "id": "c3d5e3fa-8926-44f5-b3fb-53e7c532d16c",
   "metadata": {},
   "outputs": [],
   "source": [
    "time terraform plan > /tmp/learn-terraform-conditions/terraform.out 2>&1 &"
   ]
  },
  {
   "cell_type": "code",
   "execution_count": null,
   "id": "2566777e-0c63-4ddb-a1a1-008c029eabc7",
   "metadata": {},
   "outputs": [],
   "source": [
    "tail /tmp/learn-terraform-conditions/terraform.out"
   ]
  },
  {
   "cell_type": "markdown",
   "id": "09d3b61b-122d-4298-b2fe-c180e18150d0",
   "metadata": {},
   "source": [
    "```shell\n",
    "$ terraform plan\n",
    "data.aws_availability_zones.available: Reading...\n",
    "data.aws_ami.amazon_linux: Reading...\n",
    "data.aws_availability_zones.available: Read complete after 0s [id=us-west-2]\n",
    "data.aws_ami.amazon_linux: Read complete after 2s [id=ami-00af37d1144686454]\n",
    "\n",
    "Terraform used the selected providers to generate the following execution plan.\n",
    "Resource actions are indicated with the following symbols:\n",
    "  + create\n",
    " <= read (data resources)\n",
    "\n",
    "Terraform will perform the following actions:\n",
    "\n",
    "  # module.app.data.aws_subnet.public[0] will be read during apply\n",
    "\n",
    "##...\n",
    "\n",
    "Plan: 42 to add, 0 to change, 0 to destroy.\n",
    "\n",
    "───────────────────────────────────────────────────────────────────────────────\n",
    "\n",
    "Note: You didn't use the -out option to save this plan, so Terraform can't\n",
    "guarantee to take exactly these actions if you run \"terraform apply\" now.\n",
    "```\n",
    "\n",
    "The plan reports that Terraform is ready to apply your configuration. Before you\n",
    "do so, add conditions to your module to ensure that your users configure the\n",
    "application correctly."
   ]
  },
  {
   "cell_type": "markdown",
   "id": "c9d4d1af-005e-4522-a37d-69d2f3dd3854",
   "metadata": {},
   "source": [
    "> **TIPS**: For Terraform Cloud, make sure you set your AWS credentials into a variable set that is applied to your workspace or all workspaces."
   ]
  },
  {
   "cell_type": "markdown",
   "id": "5fd8c813-60be-43a9-a2a2-b907bd00cc92",
   "metadata": {},
   "source": [
    "# precondition"
   ]
  },
  {
   "cell_type": "markdown",
   "id": "463d37c5-c36f-4205-bedc-6b39a78e7fba",
   "metadata": {},
   "source": [
    "## Add preconditions"
   ]
  },
  {
   "cell_type": "markdown",
   "id": "ab545382-c47e-4f8d-8a52-6489b2c9248b",
   "metadata": {},
   "source": [
    "Terraform allows you to add preconditions and postconditions to the lifecycle of\n",
    "resource, data source, or output blocks. Terraform evaluates preconditions\n",
    "before the enclosing block, validating that your configuration is compliant\n",
    "before it applies it. Terraform evaluates post conditions after the enclosing\n",
    "block, letting you confirm that the results of applied changes are compliant\n",
    "before it applies the rest of your configuration."
   ]
  },
  {
   "cell_type": "markdown",
   "id": "12f1a4ae-4ecc-44b8-9b7b-c69aa7f8c94a",
   "metadata": {},
   "source": [
    "Backup `modules/example-app-deployment/main.tf `"
   ]
  },
  {
   "cell_type": "code",
   "execution_count": null,
   "id": "0a0aaa30-4eb5-4bed-99b9-2c19b1a79f1a",
   "metadata": {},
   "outputs": [],
   "source": [
    "FILE=modules/example-app-deployment/main.tf.orig\n",
    "[[ ! -f \"${FILE}\" ]] && echo cp ${FILE} ${FILE}.orig || echo $FILE already exists"
   ]
  },
  {
   "cell_type": "markdown",
   "id": "9ea0df2e-415d-4517-90db-80a2471704e3",
   "metadata": {},
   "source": [
    "Remove current `resource.aws_instance.app` stanza."
   ]
  },
  {
   "cell_type": "code",
   "execution_count": null,
   "id": "bdff1d87-f7b0-40e6-8089-5c240fd8b6f2",
   "metadata": {},
   "outputs": [],
   "source": [
    "sed -i '/resource \\\"aws_instance/,$d' \\\n",
    "  /tmp/learn-terraform-conditions/modules/example-app-deployment/main.tf"
   ]
  },
  {
   "cell_type": "markdown",
   "id": "51dc6542-6dcc-44f6-9d8e-1a13583c567a",
   "metadata": {},
   "source": [
    "1. Update `modules/example-app-deployment/main.tf` to include a data source that looks up the instance type.\n",
    "\n",
    "1. Add two preconditions to the the `aws_instance.app` block for your EC2 instances to check the number of instances per subnet, and instance type."
   ]
  },
  {
   "cell_type": "code",
   "execution_count": null,
   "id": "276f07c3-7b56-4bfe-abce-f3098b7f1aaf",
   "metadata": {},
   "outputs": [],
   "source": [
    "cat >> /tmp/learn-terraform-conditions/modules/example-app-deployment/main.tf <<\"EOF\"\n",
    "resource \"aws_instance\" \"app\" {\n",
    "  count = var.aws_instance_count\n",
    "\n",
    "  instance_type = var.aws_instance_type\n",
    "  ami           = var.aws_ami_id\n",
    "\n",
    "  subnet_id              = var.aws_private_subnet_ids[count.index % length(var.aws_private_subnet_ids)]\n",
    "  vpc_security_group_ids = [module.app_security_group.security_group_id]\n",
    "\n",
    "  lifecycle {\n",
    "    precondition {\n",
    "      condition     = var.aws_instance_count % length(var.aws_private_subnet_ids) == 0\n",
    "      error_message = \"The number of instances (${var.aws_instance_count}) must be evenly divisible by the number of private subnets (${length(var.aws_private_subnet_ids)}).\"\n",
    "    }\n",
    "\n",
    "    precondition {\n",
    "      condition     = data.aws_ec2_instance_type.app.ebs_optimized_support != \"unsupported\"\n",
    "      error_message = \"The EC2 instance type (${var.aws_instance_type}) must support EBS optimization.\"      \n",
    "    }\n",
    "  }\n",
    "}\n",
    "\n",
    "data \"aws_ec2_instance_type\" \"app\" {\n",
    "  instance_type = var.aws_instance_type\n",
    "}\n",
    "EOF"
   ]
  },
  {
   "cell_type": "markdown",
   "id": "788a8289-d1dc-4bf5-b53c-020037e09d39",
   "metadata": {},
   "source": [
    "- The `precondition` is intended to ensure that a resource/module produces valid output.\n",
    "- The first precondition verifies that each private subnet contains the same number of instances.\n",
    "    - It divides the number of instances by the number of subnets, and checking that the remainder is `0`.\n",
    "    - It ensures that application traffic is spread evenly across the subnets used by your application.\n",
    "- The second precondition verifies that the chosen EC2 instance type supports EBS optimization.\n",
    "    - It accesses the instance type's `ebs_optimized_support` attribute from the data source."
   ]
  },
  {
   "cell_type": "markdown",
   "id": "26620b48-9247-434e-b8fe-83b2115360be",
   "metadata": {},
   "source": [
    "## Trigger a condition failure\n",
    "\n",
    "Attempt to plan this configuration, and Terraform will report that the preconditions failed."
   ]
  },
  {
   "cell_type": "code",
   "execution_count": null,
   "id": "b13af284-32cd-46fd-91b7-4e9abfa6472d",
   "metadata": {},
   "outputs": [],
   "source": [
    "time terraform plan > /tmp/learn-terraform-conditions/terraform.out 2>&1 &"
   ]
  },
  {
   "cell_type": "markdown",
   "id": "900d70ad-513b-4c26-96d8-b78100d5fa9c",
   "metadata": {},
   "source": [
    "Check progress. Estimated time for TFC is 1 minute."
   ]
  },
  {
   "cell_type": "code",
   "execution_count": null,
   "id": "d140afa8-f229-446d-98a0-659f1ad4236e",
   "metadata": {},
   "outputs": [],
   "source": [
    "tail terraform.out"
   ]
  },
  {
   "cell_type": "markdown",
   "id": "ebf3ef79-cd1b-4fa8-8f44-6e1c8fff204a",
   "metadata": {},
   "source": [
    "See all the errors."
   ]
  },
  {
   "cell_type": "code",
   "execution_count": null,
   "id": "ace6cc99-511d-4d55-8eb1-5fe33baf1e16",
   "metadata": {},
   "outputs": [],
   "source": [
    "grep -A 10 Error /tmp/learn-terraform-conditions/terraform.out"
   ]
  },
  {
   "cell_type": "markdown",
   "id": "394e875c-bd98-4740-b95d-14c2a11c0e41",
   "metadata": {},
   "source": [
    "**Expected Output**\n",
    "```shell\n",
    "$ terraform plan\n",
    "\n",
    "##...\n",
    "╷\n",
    "│ Error: Resource precondition failed\n",
    "│\n",
    "│   on modules/example-app-deployment/main.tf line 93, in resource \"aws_instance\" \"app\":\n",
    "│   93:       condition     = var.aws_instance_count % length(var.aws_private_subnet_ids) == 0\n",
    "│     ├────────────────\n",
    "│     │ var.aws_instance_count is 3\n",
    "│     │ var.aws_private_subnet_ids is list of string with 2 elements\n",
    "│\n",
    "│ The number of instances (3) must be evenly divisible by the number of private\n",
    "│ subnets (2).\n",
    "╵\n",
    "\n",
    "##...\n",
    "\n",
    "╷\n",
    "│ Error: Resource precondition failed\n",
    "│\n",
    "│   on modules/example-app-deployment/main.tf line 98, in resource \"aws_instance\" \"app\":\n",
    "│   98:       condition     = data.aws_ec2_instance_type.app.ebs_optimized_support != \"unsupported\"\n",
    "│     ├────────────────\n",
    "│     │ data.aws_ec2_instance_type.app.ebs_optimized_support is \"unsupported\"\n",
    "│\n",
    "│ The EC2 instance type (t2.micro) must support EBS optimization.\n",
    "╵\n",
    "```\n",
    "\n",
    "> **Note:** The configuration uses the `count` meta-argument to create a number\n",
    "  of EC2 instances equal to the value of the `aws_instance_count` variable,\n",
    "  currently set to `3`. Terraform reports errors for both preconditions for each\n",
    "  instance.\n",
    "\n",
    "Terraform reports errors whenever a condition fails, and will not continue to\n",
    "plan or apply your configuration. You must resolve the errors before you can\n",
    "successfully deploy this configuration."
   ]
  },
  {
   "cell_type": "markdown",
   "id": "3523933a-3a6e-4fef-bddb-d198fcaf06a7",
   "metadata": {},
   "source": [
    "## Plan configuration with correct values\n",
    "\n",
    "Earlier in this tutorial, you set the number of instances and the instance type\n",
    "in `terraform.tfvars`. Update these to values that are compatible with the\n",
    "conditions you added to the example module.\n",
    "\n",
    "- First, update the instance type to one that supports EBS optimization\n",
    "(`t3.micro`).\n",
    "- Second, update the `aws_instance_count` variable to deploy four\n",
    "instances, so that the number of instances is evenly divisible by the number of\n",
    "private subnets."
   ]
  },
  {
   "cell_type": "markdown",
   "id": "05f9829f-41ee-48d3-afe9-00f61cf0cf63",
   "metadata": {},
   "source": [
    "Update \"`terraform.tfvars`\""
   ]
  },
  {
   "cell_type": "code",
   "execution_count": null,
   "id": "b54809e8-785f-4b97-9da4-8c7bca179515",
   "metadata": {},
   "outputs": [],
   "source": [
    "cat > terraform.tfvars <<EOF\n",
    "aws_instance_type = \"t3.micro\"\n",
    "aws_instance_count = 4\n",
    "enable_dns = false\n",
    "EOF"
   ]
  },
  {
   "cell_type": "markdown",
   "id": "8f913301-3aa8-42ed-a331-8d133c9be69c",
   "metadata": {},
   "source": [
    "Plan this configuration again, and verify that it satisfies the preconditions."
   ]
  },
  {
   "cell_type": "code",
   "execution_count": null,
   "id": "703e5d74-f6f2-489c-847a-90c275efa21c",
   "metadata": {},
   "outputs": [],
   "source": [
    "time terraform plan > /tmp/learn-terraform-conditions/terraform_correct.out 2>&1 &"
   ]
  },
  {
   "cell_type": "markdown",
   "id": "e857f7a3-ad20-4a7b-ad94-b4db0dc16941",
   "metadata": {},
   "source": [
    "Check progress. Estimated time for TFC is 1.5 minute."
   ]
  },
  {
   "cell_type": "code",
   "execution_count": null,
   "id": "245be1ea-ec34-435c-9449-7fca713b9cf7",
   "metadata": {},
   "outputs": [],
   "source": [
    "tail /tmp/learn-terraform-conditions/terraform_correct.out"
   ]
  },
  {
   "cell_type": "markdown",
   "id": "99f5236c-e0ac-4850-9b75-7432cb31d978",
   "metadata": {},
   "source": [
    "```shell\n",
    "$ terraform plan\n",
    "data.aws_ami.amazon_linux: Reading...\n",
    "data.aws_availability_zones.available: Reading...\n",
    "module.app.data.aws_ec2_instance_type.app: Reading...\n",
    "data.aws_availability_zones.available: Read complete after 1s [id=us-west-2]\n",
    "module.app.data.aws_ec2_instance_type.app: Read complete after 1s [id=t3.micro]\n",
    "data.aws_ami.amazon_linux: Read complete after 2s [id=ami-00af37d1144686454]\n",
    "\n",
    "Terraform used the selected providers to generate the following execution plan.\n",
    "Resource actions are indicated with the following symbols:\n",
    "  + create\n",
    " <= read (data resources)\n",
    "\n",
    "Terraform will perform the following actions:\n",
    "\n",
    "  # module.app.data.aws_subnet.public[0] will be read during apply\n",
    "\n",
    "##...\n",
    "\n",
    "Plan: 44 to add, 0 to change, 0 to destroy.\n",
    "\n",
    "───────────────────────────────────────────────────────────────────────────────\n",
    "\n",
    "Note: You didn't use the -out option to save this plan, so Terraform can't\n",
    "guarantee to take exactly these actions if you run \"terraform apply\" now.\n",
    "```\n",
    "\n",
    "Both of the preconditions checks now pass, and Terraform is ready to apply your\n",
    "configuration. Before you do so, add a postcondition to the example module."
   ]
  },
  {
   "cell_type": "markdown",
   "id": "5240e078-412b-4c5d-8afe-d008fae89bb6",
   "metadata": {},
   "source": [
    "# postcondition"
   ]
  },
  {
   "cell_type": "markdown",
   "id": "53b5962b-6966-4cb4-b703-cd12c3ccfb08",
   "metadata": {},
   "source": [
    "## Add a postcondition\n",
    "\n",
    "The root configuration in this project creates a VPC using a public module. The `example-app-deployment` module expects DNS support to be enabled on the VPC. Add a data source to the application module that looks up the created VPC by its ID and uses a postcondition to verify that DNS support is enabled.\n",
    "\n",
    "Add the following data source to `modules/example-app-deployment/data_vpc.tf`."
   ]
  },
  {
   "cell_type": "code",
   "execution_count": null,
   "id": "15bee97c-379c-46f4-a9a0-eb68f97ecf06",
   "metadata": {},
   "outputs": [],
   "source": [
    "cat > /tmp/learn-terraform-conditions/modules/example-app-deployment/data_vpc.tf <<\"EOF\"\n",
    "data \"aws_vpc\" \"app\" {\n",
    "  id = var.aws_vpc_id\n",
    "\n",
    "  lifecycle {\n",
    "    postcondition {\n",
    "      condition     = self.enable_dns_support == true\n",
    "      error_message = \"The selected VPC must have DNS support enabled.\"      \n",
    "    }\n",
    "  }\n",
    "}\n",
    "EOF"
   ]
  },
  {
   "cell_type": "markdown",
   "id": "80f4ca70-52ce-4046-b9af-0184af95b996",
   "metadata": {},
   "source": [
    "- The `condition` argument within the block accepts any of Terraform’s built-in functions or language operators.\n",
    "- The postcondition refers to the data source using the `self` value.\n",
    "- Terraform will not create the VPC until you apply the example configuration, so it cannot validate this condition until after it has begun provisioning your infrastructure.\n",
    "- When you run `terraform apply`, Terraform will start applying the configuration, and will create the VPC before it reads its attributes from the data source.\n",
    "- After it does so, it will evaluate the postcondition and report an error if it fails.\n",
    "- Later, if a module user specifies the vpc, Terraform will fail to create the resource because it depends on the Data Source that did not pass the postcondition check.\n",
    "\n"
   ]
  },
  {
   "cell_type": "markdown",
   "id": "244a242b-7909-42d7-9519-9e2ae81265aa",
   "metadata": {},
   "source": [
    "## Apply configuration\n",
    "\n",
    "Apply your configuration now. Respond to the confirmation prompt with a `yes`, and Terraform will begin applying your changes, and then report an error when the postcondition on your data source fails."
   ]
  },
  {
   "cell_type": "code",
   "execution_count": null,
   "id": "b3dcac6e-8e4c-485b-a9ae-fbdeaf1efcc2",
   "metadata": {},
   "outputs": [],
   "source": [
    "time terraform apply -auto-approve \\\n",
    "  > /tmp/learn-terraform-conditions/terraform_apply.out 2>&1 &"
   ]
  },
  {
   "cell_type": "markdown",
   "id": "f4086c10-740a-45d4-8ed4-0aa952aa0120",
   "metadata": {},
   "source": [
    "Check progress. Estimated time for TFC is 4.5 minute."
   ]
  },
  {
   "cell_type": "code",
   "execution_count": null,
   "id": "c2cfc3c2-91c1-46b4-af59-8adabda74747",
   "metadata": {},
   "outputs": [],
   "source": [
    "tail terraform_apply.out"
   ]
  },
  {
   "cell_type": "markdown",
   "id": "2b0420f6-41ec-43be-854e-bc8397fd16f6",
   "metadata": {},
   "source": [
    "```shell\n",
    "$ terraform apply\n",
    "data.aws_availability_zones.available: Reading...\n",
    "data.aws_ami.amazon_linux: Reading...\n",
    "module.app.data.aws_ec2_instance_type.app: Reading...\n",
    "data.aws_availability_zones.available: Read complete after 0s [id=us-west-2]\n",
    "module.app.data.aws_ec2_instance_type.app: Read complete after 0s [id=t3.micro]\n",
    "data.aws_ami.amazon_linux: Read complete after 2s [id=ami-00af37d1144686454]\n",
    "\n",
    "Terraform used the selected providers to generate the following execution plan.\n",
    "Resource actions are indicated with the following symbols:\n",
    "  + create\n",
    " <= read (data resources)\n",
    "\n",
    "Terraform will perform the following actions:\n",
    "\n",
    "##...\n",
    "\n",
    "Plan: 44 to add, 0 to change, 0 to destroy.\n",
    "\n",
    "Do you want to perform these actions?\n",
    "  Terraform will perform the actions described above.\n",
    "  Only 'yes' will be accepted to approve.\n",
    "\n",
    "  Enter a value: yes\n",
    "\n",
    "module.app.random_string.lb_id: Creating...\n",
    "\n",
    "##...\n",
    "\n",
    "module.vpc.aws_route.private_nat_gateway[1]: Creation complete after 2m46s [id=r-rtb-033b9945bd9cd2e2f1080289494]\n",
    "╷\n",
    "│ Error: Resource postcondition failed\n",
    "│\n",
    "│   on modules/example-app-deployment/main.tf line 8, in data \"aws_vpc\" \"app\":\n",
    "│    8:       condition     = self.enable_dns_support == true\n",
    "│     ├────────────────\n",
    "│     │ self.enable_dns_support is false\n",
    "│\n",
    "│ The selected VPC must have DNS support enabled.\n",
    "╵\n",
    "```"
   ]
  },
  {
   "cell_type": "markdown",
   "id": "434a387a-0e49-46cb-8889-a8baa41c09b3",
   "metadata": {},
   "source": [
    "Resolve this error by enabling DNS support on your VPC.\n",
    "\n",
    "Update the value for the `enable_dns` variable in `terraform.tfvars`."
   ]
  },
  {
   "cell_type": "code",
   "execution_count": null,
   "id": "d95a9805-8444-42f0-9a68-1273baf54a2e",
   "metadata": {},
   "outputs": [],
   "source": [
    "cat > terraform.tfvars <<EOF\n",
    "aws_instance_type = \"t3.micro\"\n",
    "aws_instance_count = 4\n",
    "enable_dns = true\n",
    "EOF"
   ]
  },
  {
   "cell_type": "markdown",
   "id": "1e31eae3-fbe5-485f-b5c3-0d16a4307c36",
   "metadata": {},
   "source": [
    "Apply the configuration again."
   ]
  },
  {
   "cell_type": "code",
   "execution_count": null,
   "id": "a5b8a6d8-ac9b-4e5d-931f-69145633dc0d",
   "metadata": {},
   "outputs": [],
   "source": [
    "time terraform apply -auto-approve \\\n",
    "  > /tmp/learn-terraform-conditions/terraform_apply.out 2>&1 &"
   ]
  },
  {
   "cell_type": "markdown",
   "id": "4e9d484e-a3ac-4f9e-90d9-dfda4a9d652e",
   "metadata": {},
   "source": [
    "Check progress. Estimated time is 2 minutes."
   ]
  },
  {
   "cell_type": "code",
   "execution_count": null,
   "id": "f84928a6-d3ba-4f0b-bf52-8608d7884dae",
   "metadata": {},
   "outputs": [],
   "source": [
    "tail -n15 terraform_apply.out"
   ]
  },
  {
   "cell_type": "markdown",
   "id": "c7adc8c4-5b0c-4bd4-9f7c-75b82b388770",
   "metadata": {},
   "source": [
    "```shell\n",
    "$ terraform apply\n",
    "module.app.random_string.lb_id: Refreshing state... [id=fYjWkKeE]\n",
    "data.aws_availability_zones.available: Reading...\n",
    "data.aws_ami.amazon_linux: Reading...\n",
    "module.vpc.aws_vpc.this[0]: Refreshing state... [id=vpc-01395e9cd6796be23]\n",
    "module.app.data.aws_ec2_instance_type.app: Reading...\n",
    "\n",
    "##...\n",
    "\n",
    "Terraform will perform the following actions:\n",
    "\n",
    "  # module.app.data.aws_vpc.app will be read during apply\n",
    "  # (depends on a resource or a module with changes pending)\n",
    " <= data \"aws_vpc\" \"app\" {\n",
    "      + arn                     = (known after apply)\n",
    "      + cidr_block              = (known after apply)\n",
    "      + cidr_block_associations = (known after apply)\n",
    "      + default                 = (known after apply)\n",
    "      + dhcp_options_id         = (known after apply)\n",
    "      + enable_dns_hostnames    = (known after apply)\n",
    "      + enable_dns_support      = (known after apply)\n",
    "      + id                      = \"vpc-01395e9cd6796be23\"\n",
    "      + instance_tenancy        = (known after apply)\n",
    "      + ipv6_association_id     = (known after apply)\n",
    "      + ipv6_cidr_block         = (known after apply)\n",
    "      + main_route_table_id     = (known after apply)\n",
    "      + owner_id                = (known after apply)\n",
    "      + state                   = (known after apply)\n",
    "      + tags                    = (known after apply)\n",
    "    }\n",
    "\n",
    "  # module.vpc.aws_vpc.this[0] will be updated in-place\n",
    "  ~ resource \"aws_vpc\" \"this\" {\n",
    "      ~ enable_dns_support               = false -> true\n",
    "        id                               = \"vpc-01395e9cd6796be23\"\n",
    "        tags                             = {\n",
    "            \"Name\" = \"\"\n",
    "        }\n",
    "        # (15 unchanged attributes hidden)\n",
    "    }\n",
    "\n",
    "Plan: 0 to add, 1 to change, 0 to destroy.\n",
    "\n",
    "Do you want to perform these actions?\n",
    "  Terraform will perform the actions described above.\n",
    "  Only 'yes' will be accepted to approve.\n",
    "\n",
    "  Enter a value: yes\n",
    "\n",
    "module.vpc.aws_vpc.this[0]: Modifying... [id=vpc-01395e9cd6796be23]\n",
    "module.vpc.aws_vpc.this[0]: Still modifying... [id=vpc-01395e9cd6796be23, 10s elapsed]\n",
    "module.vpc.aws_vpc.this[0]: Modifications complete after 11s [id=vpc-01395e9cd6796be23]\n",
    "module.app.data.aws_vpc.app: Reading...\n",
    "module.app.data.aws_vpc.app: Read complete after 0s [id=vpc-01395e9cd6796be23]\n",
    "\n",
    "Apply complete! Resources: 0 added, 1 changed, 0 destroyed.\n",
    "```"
   ]
  },
  {
   "cell_type": "markdown",
   "id": "93e4cc88-e228-4f95-be6d-26143331b287",
   "metadata": {},
   "source": [
    "After updating your VPC, Terraform\n",
    "- read the new value for `enable_dns_support`: should be `true`\n",
    "- from the `aws_vpc.app` data source\n",
    "- inside the `example-app-deployment` module: should be `app`\n",
    "  ```go\n",
    "  module \"app\" {\n",
    "    source = \"./modules/example-app-deployment\"\n",
    "  ```\n",
    "- and evaluated the postcondition: `condition = self.enable_dns_support == true`\n",
    "\n",
    "Since DNS support is now enabled, the postcondition succeeded."
   ]
  },
  {
   "cell_type": "code",
   "execution_count": null,
   "id": "684d3e15-d10b-4e18-8272-600c98321e68",
   "metadata": {
    "tags": []
   },
   "outputs": [],
   "source": [
    "terraform state show module.app.data.aws_vpc.app"
   ]
  },
  {
   "cell_type": "markdown",
   "id": "5d8ae8d5-c80d-4592-913b-bd3297256ef6",
   "metadata": {},
   "source": [
    "# Clean Up"
   ]
  },
  {
   "cell_type": "markdown",
   "id": "22619a6f-38c1-4d7e-9993-7072c1558bc0",
   "metadata": {},
   "source": [
    "## Destroy infrastructure\n",
    "\n",
    "Destroy the infrastructure you created in this tutorial. Respond to the\n",
    "confirmation prompt with a `yes`."
   ]
  },
  {
   "cell_type": "code",
   "execution_count": null,
   "id": "3b06907e-e9d4-4eb4-9b46-9050b05ed024",
   "metadata": {},
   "outputs": [],
   "source": [
    "time terraform destroy -auto-approve > terraform_destroy.out 2>&1 &"
   ]
  },
  {
   "cell_type": "code",
   "execution_count": null,
   "id": "4cbd9e57-f9cb-46fa-a7ea-596aa6976f48",
   "metadata": {},
   "outputs": [],
   "source": [
    "tail terraform_destroy.out"
   ]
  },
  {
   "cell_type": "markdown",
   "id": "e9647f51-966d-4e70-8508-83b1674ed072",
   "metadata": {},
   "source": [
    "Verify state file is empty."
   ]
  },
  {
   "cell_type": "code",
   "execution_count": null,
   "id": "1c4f3465-abb7-48ce-8ab5-b4f10b37731d",
   "metadata": {},
   "outputs": [],
   "source": [
    "cat terraform.tfstate"
   ]
  },
  {
   "cell_type": "markdown",
   "id": "22bcbf34-563e-4a43-aa76-3038b3bfc172",
   "metadata": {},
   "source": [
    "```shell\n",
    "$ terraform destroy\n",
    "##...\n",
    "Plan: 0 to add, 0 to change, 44 to destroy.\n",
    "\n",
    "Do you really want to destroy all resources?\n",
    "  Terraform will destroy all your managed infrastructure, as shown above.\n",
    "  There is no undo. Only 'yes' will be accepted to confirm.\n",
    "\n",
    "  Enter a value: yes\n",
    "\n",
    "module.vpc.aws_route_table_association.private[1]: Destroying... [id=rtbassoc-05384faafb2410975]\n",
    "##...\n",
    "\n",
    "Destroy complete! Resources: 44 destroyed.\n",
    "```\n",
    "\n",
    "If you used Terraform Cloud for this tutorial, after destroying your resources,\n",
    "delete the `learn-terraform-conditions` workspace from your Terraform Cloud\n",
    "organization."
   ]
  },
  {
   "cell_type": "code",
   "execution_count": null,
   "id": "dc96de93-3852-47dd-85fd-171a2990a063",
   "metadata": {},
   "outputs": [],
   "source": [
    "ls -lrt modules/example-app-deployment\n",
    "ls -lrt"
   ]
  },
  {
   "cell_type": "code",
   "execution_count": null,
   "id": "e530aa9a-0c36-4e4f-a96c-265e88b19c57",
   "metadata": {},
   "outputs": [],
   "source": [
    "rm modules/example-app-deployment/{data_vpc.tf,main.tf}\n",
    "rm terraform.out terraform_correct.out terraform_apply.out terraform_destroy.out\n",
    "rm terraform.tfvars\n",
    "rm terraform.tfstate"
   ]
  },
  {
   "cell_type": "code",
   "execution_count": null,
   "id": "0bb86969-5061-4caa-80a3-2dea2ffd6574",
   "metadata": {},
   "outputs": [],
   "source": [
    "cp -a terraform.tfvars.example terraform.tfvars"
   ]
  },
  {
   "cell_type": "markdown",
   "id": "664bc419-e30c-486c-b1b9-cecce34d2541",
   "metadata": {},
   "source": [
    "Restore `terraform.tf` and `modules/example-app-deployment/main.tf`."
   ]
  },
  {
   "cell_type": "code",
   "execution_count": null,
   "id": "eb78f8ec-56fd-411e-aa6a-f0c97fa25cde",
   "metadata": {},
   "outputs": [],
   "source": [
    "git restore modules/example-app-deployment/main.tf\n",
    "\n",
    "git restore terraform.tf"
   ]
  },
  {
   "cell_type": "markdown",
   "id": "0ea3d872-5897-4132-9ba5-a8c7656520d9",
   "metadata": {},
   "source": [
    "optionally - you can delete the directory."
   ]
  },
  {
   "cell_type": "code",
   "execution_count": null,
   "id": "1c2c1531-a785-48a0-9d28-a85ba81e0c11",
   "metadata": {},
   "outputs": [],
   "source": [
    "rm -rf /tmp/learn-terraform-conditions"
   ]
  },
  {
   "cell_type": "markdown",
   "id": "f46b91f1-3e5f-4c2d-980a-66b54f73a5d4",
   "metadata": {},
   "source": [
    "## Next steps\n",
    "\n",
    "In this tutorial you learned about the behavior and benefits of preconditions\n",
    "and postconditions. Conditions allow module authors to write configuration that\n",
    "is easier for other people to use successfully, by validating multiple\n",
    "conditions either before or after resource provisioning.\n",
    "\n",
    "For more information on topics covered in this tutorial, check out the following\n",
    "resources:\n",
    "\n",
    "- Read the Terraform [custom\n",
    "  conditions](https://www.terraform.io/language/expressions/custom-conditions)\n",
    "  documentation.\n",
    "\n",
    "- Follow the [Customize Terraform Configuration with\n",
    "  Variables](/tutorials/terraform/variables) tutorial to learn how to create\n",
    "  Terraform variables and how to validate the values of individual variables.\n",
    "\n",
    "- Complete the [Reuse Configuration with\n",
    "  Modules](/collections/terraform/modules) to learn how to create and publish\n",
    "  custom Terraform modules.\n",
    "\n",
    "- Learn how to configure [run tasks](/tutorials/terraform/cloud-run-tasks-snyk)\n",
    "  in Terraform Cloud."
   ]
  }
 ],
 "metadata": {
  "kernelspec": {
   "display_name": "Bash",
   "language": "bash",
   "name": "bash"
  },
  "language_info": {
   "codemirror_mode": "shell",
   "file_extension": ".sh",
   "mimetype": "text/x-sh",
   "name": "bash"
  }
 },
 "nbformat": 4,
 "nbformat_minor": 5
}
