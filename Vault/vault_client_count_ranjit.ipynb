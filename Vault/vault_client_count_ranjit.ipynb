{
 "cells": [
  {
   "cell_type": "markdown",
   "id": "03b4a59a-b7d5-4d35-b61e-e5ca5b085983",
   "metadata": {},
   "source": [
    "# Vault Client Count based on Ranjit"
   ]
  },
  {
   "cell_type": "markdown",
   "id": "7efea7be-acf5-4e23-a987-2d36f707e85d",
   "metadata": {},
   "source": [
    "This tutorial is based on great work done by Ranjit. You can find his original repo here. [GitHub - WhatsARanjit/vault-counter](https://github.com/WhatsARanjit/vault-counter)"
   ]
  },
  {
   "cell_type": "markdown",
   "id": "5e375f17-e81e-45c3-a8e3-9c3cc1bb4b6d",
   "metadata": {},
   "source": [
    "## Overview"
   ]
  },
  {
   "cell_type": "markdown",
   "id": "d79ba11f-5d93-4173-ad03-4638429fdb4c",
   "metadata": {},
   "source": [
    "Simple container script to run and count HashiCorp Vault entities, roles/users, and tokens created without entities.\n",
    "\n",
    "* The script will drill into child namespaces below the supplied namespace input."
   ]
  },
  {
   "cell_type": "markdown",
   "id": "a320f9cd-e375-41be-b6d6-0d7e19ba2dc4",
   "metadata": {},
   "source": [
    "- Optional:\n",
    "    - Start up a Vault Dev server to test against\n",
    "    - Fill your Vault server synthetically with tokens and entities.\n",
    "\n",
    "If you have an environment already set up, then just do the prerequisites and skip to the [Get Count](#Get-Count---Using-container) section "
   ]
  },
  {
   "cell_type": "markdown",
   "id": "5be0275e-655b-406f-89c3-b69ff38873a1",
   "metadata": {},
   "source": [
    "## Prerequisites"
   ]
  },
  {
   "cell_type": "markdown",
   "id": "d33c06b1-c0be-4930-8518-6b8e6275d9ab",
   "metadata": {},
   "source": [
    "* Software and versions\n",
    "* Credentials\n",
    "* Hardware"
   ]
  },
  {
   "cell_type": "markdown",
   "id": "d9fa4eb9-9b4f-4301-9ef4-a8882e29bbe8",
   "metadata": {},
   "source": [
    "### Set Main Environment Variables"
   ]
  },
  {
   "cell_type": "code",
   "execution_count": null,
   "id": "81ad4ba0-3337-439b-9976-a202ff2fece8",
   "metadata": {},
   "outputs": [],
   "source": [
    "export RED=\"\\e[0;31m\" YELLOW=\"\\e[0;33m\" BLDYELLOW=\"\\e[1;33m\" GREEN=\"\\e[0;32m\"\n",
    "export CYAN=\"\\e[0;36m\" BLUE=\"\\e[0;34m\" WHITE=\"\\e[0;37m\" BLDWHITE=\"\\e[1;37m\"\n",
    "export NC=\"\\e[0m\"\n",
    "# Some commands may have sensitive information. Prevent commands starting with a space to be saved to shell history.\n",
    "HISTCONTROL=ignoreboth # do not save lines that begin with space in history\n",
    "\n",
    "printf \"${GREEN}# Set MAIN_DIR for future reference.${NC}\\n\"\n",
    "export MAIN_DIR=${PWD}"
   ]
  },
  {
   "cell_type": "markdown",
   "id": "2c6b0b1b-73c9-49ff-a5fb-96b9cab8fa76",
   "metadata": {},
   "source": [
    "Be sure to set the following variables with your own values, especially `VAULT_ADDR` and `VAULT_TOKEN`."
   ]
  },
  {
   "cell_type": "code",
   "execution_count": null,
   "id": "fec7a218-ce73-4f41-8f03-26644b53890b",
   "metadata": {},
   "outputs": [],
   "source": [
    "printf \"${GREEN}# Set Vault Variables.${NC}\\n\"\n",
    "export VAULT_PORT=8205\n",
    "# export VAULT_TOKEN=s.lq3fLt00S9SmVB3S0iOQ1Jpb\n",
    "export VAULT_TOKEN=root\n",
    "export VAULT_ADDR=http://192.168.17.234:${VAULT_PORT:=8200}\n",
    "# export VAULT_LICENSE=$(cat ../../license/vault.hclic) #need license file for new versions\n",
    "printf \"\\nVAULT_ADDR:$VAULT_ADDR \\nVAULT_TOKEN:$VAULT_TOKEN\\n\"\n",
    "# Set dir env vars. Create required directory.\n",
    "WORK_DIR=config/vault"
   ]
  },
  {
   "cell_type": "markdown",
   "id": "d080d5a1-66c3-4fce-9329-d7e95cece55f",
   "metadata": {},
   "source": [
    "- `VAULT_ADDR`\n",
    "- `VAULT_TOKEN` - "
   ]
  },
  {
   "cell_type": "code",
   "execution_count": null,
   "id": "b3d15576-a2d0-4009-9dbe-3f0c6b60d46d",
   "metadata": {},
   "outputs": [],
   "source": [
    "mkdir -p config/vault/{data,logs,config}"
   ]
  },
  {
   "cell_type": "markdown",
   "id": "c6244221-3144-408f-bdb8-89ad341de968",
   "metadata": {},
   "source": [
    "## Steps - Demo Setup"
   ]
  },
  {
   "cell_type": "markdown",
   "id": "d53db1b2-4725-48d3-9008-98c9a3139588",
   "metadata": {},
   "source": [
    "### Start Vault Server in Dev Mode"
   ]
  },
  {
   "cell_type": "markdown",
   "id": "df46c6d1-1ddf-4284-91dc-c11cc0ad6b9e",
   "metadata": {
    "tags": []
   },
   "source": [
    "Start the vault process in the background."
   ]
  },
  {
   "cell_type": "code",
   "execution_count": null,
   "id": "c9fa692e-1012-4332-b65a-0ae66e8a9a16",
   "metadata": {},
   "outputs": [],
   "source": [
    "docker run -d --rm --name vault \\\n",
    "    --cap-add IPC_LOCK \\\n",
    "    -p ${VAULT_PORT}:8200 \\\n",
    "    -e \"VAULT_DEV_ROOT_TOKEN_ID=${VAULT_TOKEN:=root}\" \\\n",
    "    -e 'VAULT_DEV_LISTEN_ADDRESS=0.0.0.0:8200' \\\n",
    "    hashicorp/vault-enterprise:1.2.7_ent || true #1.7.5_ent\n",
    "    # -e \"VAULT_ADDR=http://127.0.0.1:8200\" \\"
   ]
  },
  {
   "cell_type": "markdown",
   "id": "1895cca0-9bd3-4a05-8dee-46f5883623cd",
   "metadata": {},
   "source": [
    "Configure environment variables for connecting to Vault. We've set the dev mode root token to \"`${VAULT_TOKEN}`\"."
   ]
  },
  {
   "cell_type": "code",
   "execution_count": null,
   "id": "c439f9af-fb2c-42dd-9095-13a9ad105740",
   "metadata": {
    "tags": []
   },
   "outputs": [],
   "source": [
    "docker logs vault 2>&1 | (head -n 15 ; tail -n 10)"
   ]
  },
  {
   "cell_type": "markdown",
   "id": "a46d1d28-7040-421a-985c-f003d392a476",
   "metadata": {},
   "source": [
    "Check vault status"
   ]
  },
  {
   "cell_type": "code",
   "execution_count": null,
   "id": "9277de9d-e1ec-467a-9bcd-8c33a3fd2c76",
   "metadata": {
    "tags": []
   },
   "outputs": [],
   "source": [
    "vault status"
   ]
  },
  {
   "cell_type": "markdown",
   "id": "bc209b08-dc6a-4ec0-aad3-cafcafa27dbb",
   "metadata": {},
   "source": [
    "### Create non-entity tokens"
   ]
  },
  {
   "cell_type": "markdown",
   "id": "89724c33-b43d-4804-92fc-d517c5edc00c",
   "metadata": {},
   "source": [
    "Create some tokens"
   ]
  },
  {
   "cell_type": "code",
   "execution_count": null,
   "id": "04ddd6f6-c673-4ff2-a91b-e03e12b496ee",
   "metadata": {},
   "outputs": [],
   "source": [
    "for i in {1..30}; do\n",
    "    vault token create -policy=my-policy -policy=other-policy > /dev/null 2>&1\n",
    "done"
   ]
  },
  {
   "cell_type": "markdown",
   "id": "f8a2982f-7cff-4a36-8b13-15c46c9ac2c7",
   "metadata": {},
   "source": [
    "### Userpass"
   ]
  },
  {
   "cell_type": "markdown",
   "id": "f78d77a9-b970-4ecb-ad38-e034bae3372a",
   "metadata": {},
   "source": [
    "Summary of Steps:\n",
    "1. Create Userpass users and not login.\n",
    "1. Then get a count to verify that no entities were created.\n",
    "1. Then, you will login with those users.\n",
    "1. Finally, get a count to verify that entities were created this time."
   ]
  },
  {
   "cell_type": "code",
   "execution_count": null,
   "id": "5b521f07-b0d6-4b13-9ee7-fd3f37935bad",
   "metadata": {},
   "outputs": [],
   "source": [
    "vault auth enable userpass"
   ]
  },
  {
   "cell_type": "markdown",
   "id": "8169b70f-4beb-4879-b1ab-50e9f4b08b60",
   "metadata": {},
   "source": [
    "Create Users 10-19 but **don't** login. This will create Users but not Entities within Vault. "
   ]
  },
  {
   "cell_type": "code",
   "execution_count": null,
   "id": "06f811c6-8878-472d-b943-216cb2b93049",
   "metadata": {
    "tags": []
   },
   "outputs": [],
   "source": [
    "for i in {10..19}; do\n",
    "    vault write auth/userpass/users/user${i} password=\"password${i}\" policies=\"default\"\n",
    "    # vault login -method=userpass username=user${i} password=password${i}\n",
    "done"
   ]
  },
  {
   "cell_type": "markdown",
   "id": "b9545c8a-c44b-41c0-9b9d-bb7df4e8e020",
   "metadata": {},
   "source": [
    "Go to `Get Count` script or container section to get a count and then come back here."
   ]
  },
  {
   "cell_type": "markdown",
   "id": "aaac651a-9f07-4419-91cd-9641a46469c6",
   "metadata": {},
   "source": [
    "Create Users 20-29 and login. This will create Users and Entities within Vault ."
   ]
  },
  {
   "cell_type": "code",
   "execution_count": null,
   "id": "d4fc8ef3-05b7-4527-9507-93fa0f9fb92a",
   "metadata": {
    "tags": []
   },
   "outputs": [],
   "source": [
    "for i in {20..29}; do\n",
    "    vault write auth/userpass/users/user${i} password=\"password${i}\" policies=\"default\"\n",
    "    vault login -method=userpass username=user${i} password=password${i} > /dev/null 2>&1\n",
    "done"
   ]
  },
  {
   "cell_type": "markdown",
   "id": "17408e98-7775-4400-9f31-61d6e11f88c3",
   "metadata": {},
   "source": [
    "Go to `Get Count` script or container section to get a count and then come back here.\n",
    "\n",
    "> You should see a quantity for entities now."
   ]
  },
  {
   "cell_type": "markdown",
   "id": "a7b2b349-6cda-4497-bd68-6d4a428d735c",
   "metadata": {},
   "source": [
    "### AppRole"
   ]
  },
  {
   "cell_type": "markdown",
   "id": "d7a43286-ce01-4bc1-aba9-70aebc723727",
   "metadata": {},
   "source": [
    "Create AppRole and login"
   ]
  },
  {
   "cell_type": "code",
   "execution_count": null,
   "id": "fe789f49-d043-45d1-b90d-bf80fa2a82a3",
   "metadata": {},
   "outputs": [],
   "source": [
    "vault auth enable approle"
   ]
  },
  {
   "cell_type": "markdown",
   "id": "d92a8cb6-dee7-49d1-a36c-e71f25fe8615",
   "metadata": {},
   "source": [
    "Create AppRole but **don't** login. This will create AppRoles but not Entities within Vault."
   ]
  },
  {
   "cell_type": "code",
   "execution_count": null,
   "id": "3e7f2e11-ee79-4a53-8ec1-c30947253195",
   "metadata": {
    "tags": []
   },
   "outputs": [],
   "source": [
    "for i in {10..19}; do\n",
    "    vault write -f auth/approle/role/app${i}\n",
    "    # vault write auth/approle/login \\\n",
    "    # role_id=$(vault read -field=role_id auth/approle/role/app${i}/role-id) \\\n",
    "    # secret_id=$(vault write -force -field=secret_id auth/approle/role/app${i}/secret-id)\n",
    "done"
   ]
  },
  {
   "cell_type": "markdown",
   "id": "80975199-cf07-4751-8e37-66449ba97146",
   "metadata": {},
   "source": [
    "Go to `Get Count` script or container section to get a count and then come back here.\n",
    "\n",
    "> You should an increased count for `users/roles`, but no increase for `entities`."
   ]
  },
  {
   "cell_type": "markdown",
   "id": "a7618353-aa6b-4d08-bed3-2cd922909884",
   "metadata": {},
   "source": [
    "Create AppRole and login. This will create AppRoles and Entities within Vault."
   ]
  },
  {
   "cell_type": "code",
   "execution_count": null,
   "id": "6b1a22db-1df8-4cdd-b77c-f42850166f32",
   "metadata": {
    "tags": []
   },
   "outputs": [],
   "source": [
    "for i in {20..29}; do\n",
    "    vault write -f auth/approle/role/app${i}\n",
    "    vault write auth/approle/login \\\n",
    "    role_id=$(vault read -field=role_id auth/approle/role/app${i}/role-id) \\\n",
    "    secret_id=$(vault write -force -field=secret_id auth/approle/role/app${i}/secret-id) \\\n",
    "    > /dev/null 2>&1\n",
    "done"
   ]
  },
  {
   "cell_type": "markdown",
   "id": "881498e0-4561-476d-bc30-6acffa2e9e38",
   "metadata": {},
   "source": [
    "Go to `Get Count` script or container section to get a count and then come back here.\n",
    "\n",
    "> You should see an increase in `entities` now."
   ]
  },
  {
   "cell_type": "markdown",
   "id": "2c6285d5-e25e-43ae-8d77-94f1e9ab9caf",
   "metadata": {},
   "source": [
    "## Get Count - Using script"
   ]
  },
  {
   "cell_type": "markdown",
   "id": "9a265f41-91e8-438d-83eb-f38a8763e51e",
   "metadata": {},
   "source": [
    "Save script to `/tmp` directory."
   ]
  },
  {
   "cell_type": "code",
   "execution_count": null,
   "id": "ebd2d38d-870c-4fe6-9ee9-7f5af82f7008",
   "metadata": {},
   "outputs": [],
   "source": [
    "curl -o /tmp/counter.sh \\\n",
    "  https://raw.githubusercontent.com/WhatsARanjit/vault-counter/master/scripts/counter.sh \\\n",
    "  && chmod +x /tmp/counter.sh"
   ]
  },
  {
   "cell_type": "code",
   "execution_count": null,
   "id": "a5e6c7ff-8dee-4ae9-ba33-358b65e1dbf9",
   "metadata": {},
   "outputs": [],
   "source": [
    "export JSON_OUTPUT=\"\"\n",
    "export SKIP_ORPHAN_TOKENS=\"\"\n",
    "export VAULT_CLIENT_CERT=\"\"\n",
    "export VAULT_CLIENT_KEY=\"\"\n",
    "export VAULT_CACERT=\"\"\n",
    "export VAULT_NAMESPACE=root"
   ]
  },
  {
   "cell_type": "code",
   "execution_count": null,
   "id": "c9295d93-f5f1-4ae0-b0ba-e06324862f67",
   "metadata": {},
   "outputs": [],
   "source": [
    "/tmp/counter.sh"
   ]
  },
  {
   "cell_type": "markdown",
   "id": "bb65ba46-eb6c-4568-a4c5-40ccbc876f77",
   "metadata": {},
   "source": [
    "## Get Count - Using container"
   ]
  },
  {
   "cell_type": "code",
   "execution_count": null,
   "id": "0937ea70-74e3-4ed0-8f8e-9d505f0fad97",
   "metadata": {},
   "outputs": [],
   "source": [
    "docker run --rm --name vault_counter \\\n",
    "    -e VAULT_ADDR=${VAULT_ADDR} \\\n",
    "    -e VAULT_TOKEN=${VAULT_TOKEN:-8200} \\\n",
    "    -e JSON_OUTPUT=\"\" \\\n",
    "    -e SKIP_ORPHAN_TOKENS=\"\" \\\n",
    "    -e CURL_VERBOSE=\"\" \\\n",
    "    -e VAULT_NAMESPACE=root \\\n",
    "    -e VAULT_CLIENT_CERT=\"\" \\\n",
    "    -e VAULT_CLIENT_KEY=\"\" \\\n",
    "    -e VAULT_CACERT=\"\" \\\n",
    "    whatsaranjit/vault_counter:latest"
   ]
  },
  {
   "cell_type": "markdown",
   "id": "c09b2faf-9b43-4683-b62d-f315452b8bad",
   "metadata": {},
   "source": [
    "| Variable | Description | Default |\n",
    "| --- | --- | --- |\n",
    "| `CURL_VERBOSE=\"\"` | Set to anything to add the `-v` flag to cURL statements. | Default: `null` |\n",
    "| `JSON_OUTPUT=\"\"` | Set to anything for json output |  Default: `null`\n",
    "| `VAULT_ADDR=${VAULT_ADDR}` | The URL to your Vault server <br> - I'm using my host's IP for the `counter` container to reach the `vault` container. <br> - Do not use `localhost` or `127.0.0.1`. This will cause the container to query itself and not your machine. | Default: http://127.0.0.1:8200\n",
    "| `VAULT_CACERT` <br> `VAULT_CLIENT_CERT` <br> `VAULT_CLIENT_KEY` | | Default: `null`\n",
    "| `VAULT_NAMESPACE=root` | Namespace within Vault to count along with all child namespaces. | Default: `root`\n",
    "| `SKIP_ORPHAN_TOKENS=\"\"` | Set to anything to skip inspecting each token to see if it is tied to an auth method. <br> **RECOMMENDED** if you have lots of tokens.\n",
    "\n",
    "**TIPS**\n",
    "- Start with `SKIP_ORPHAN_TOKENS` enabled to get a feel for impact on system.\n",
    "    - This script can take down a node that has lots of tokens and not enough HW resources.\n",
    "- Enable `JSON_OUTPUT` to verify that there are no problems with connection to Vault server.\n",
    "    - common problem will be you set `VAULT_ADDR` to `localhost` and this will not work for `counter` container."
   ]
  },
  {
   "cell_type": "markdown",
   "id": "8d1b2c01-1518-4e80-b49a-a041eedb4093",
   "metadata": {},
   "source": [
    "Sample Output\n",
    "```shell\n",
    "Vault address: http://192.168.17.167:8200\n",
    "Namespace: root/\n",
    "Total entities: 0\n",
    "Total users/roles: 30\n",
    "Total tokens: 91\n",
    "Total orphan tokens: 91\n",
    "```"
   ]
  },
  {
   "cell_type": "markdown",
   "id": "d053da45-1908-4653-a0d5-be8dc9cf8fcb",
   "metadata": {},
   "source": [
    "## Conclusion"
   ]
  },
  {
   "cell_type": "markdown",
   "id": "ecdb0c55-24c9-4567-8273-94f4c9713a93",
   "metadata": {},
   "source": [
    "When you want to purchase that cool Vault Enterprise solution. One of the key factors for licensing is client count. Luckily for Vault 1.7 and higher, there are metrics built-in that can provide you the client count. For previous versions, there is a tool that can scan your audit logs, if you turned on audit logging. For everyone else, the `vault_counter` tool can provide you a client count."
   ]
  },
  {
   "cell_type": "markdown",
   "id": "b7bf668a-9d92-486d-bfe1-b1908e435260",
   "metadata": {},
   "source": [
    "# Vault Client Count Metrics\n",
    "\n",
    "In this section, we will use the built in tools from Vault 1.6 and higher."
   ]
  },
  {
   "cell_type": "markdown",
   "id": "a200c545-3475-44ac-8710-89429d6d3b05",
   "metadata": {},
   "source": [
    "## Enhancements\n",
    "\n",
    "- non-entity tokens - \n",
    "    - tracking is done on access instead of creation\n",
    "    - referred to as `non-entity clients`\n",
    "- unique entities are entity clients"
   ]
  },
  {
   "cell_type": "markdown",
   "id": "4aed7a1d-bcc2-4b82-9101-aacff7fe3476",
   "metadata": {},
   "source": [
    "## Enable usage metrics"
   ]
  },
  {
   "cell_type": "markdown",
   "id": "7891a9af-b82f-4392-8c50-04b3c445a1e8",
   "metadata": {},
   "source": [
    "Usage metrics are enabled by default for Vault Enterprise, but disabled for OSS."
   ]
  },
  {
   "cell_type": "markdown",
   "id": "1d12ee6d-0e89-4fe6-b389-c4998c815d29",
   "metadata": {},
   "source": [
    "Confirm if usage metrics are enabled."
   ]
  },
  {
   "cell_type": "code",
   "execution_count": null,
   "id": "cec7ed2d-fcaa-4436-af73-ffafb822c0ea",
   "metadata": {},
   "outputs": [],
   "source": [
    "vault read sys/internal/counters/config"
   ]
  },
  {
   "cell_type": "markdown",
   "id": "38985b65-1307-483a-bd78-30d2605b897b",
   "metadata": {},
   "source": [
    "Sample Output\n",
    "```shell\n",
    "Key                      Value\n",
    "---                      -----\n",
    "default_report_months    12\n",
    "enabled                  default-enabled\n",
    "queries_available        true\n",
    "retention_months         24\n",
    "```"
   ]
  },
  {
   "cell_type": "markdown",
   "id": "0db3def4-ec58-4866-a6a6-9a2e9277bfd6",
   "metadata": {},
   "source": [
    "Enable usage tracking for OSS."
   ]
  },
  {
   "cell_type": "code",
   "execution_count": null,
   "id": "28cbc094-7bdc-437d-8c85-0f0cddb30740",
   "metadata": {},
   "outputs": [],
   "source": [
    "vault write sys/internal/counters/config enabled=enable"
   ]
  },
  {
   "cell_type": "markdown",
   "id": "d3eb1332-b2f6-48c1-9efc-75607dbfc6a9",
   "metadata": {},
   "source": [
    "## Query usage metrics via CLI or API"
   ]
  },
  {
   "cell_type": "code",
   "execution_count": null,
   "id": "394c9902-6ca6-47d5-932a-730408bce6c8",
   "metadata": {
    "tags": []
   },
   "outputs": [],
   "source": [
    "vault read -format=json sys/internal/counters/activity \\\n",
    "  start_time=2022-03-01T00:00:00Z \\\n",
    "  end_time=2022-05-14T23:59:59Z \\\n",
    "  | jq -r \".data\"\n"
   ]
  },
  {
   "cell_type": "code",
   "execution_count": null,
   "id": "374cbf0c-5c74-4d40-976f-f4b0d0218f29",
   "metadata": {
    "tags": []
   },
   "outputs": [],
   "source": [
    "curl --header \"X-Vault-Token: $VAULT_TOKEN\" \\\n",
    "    \"${VAULT_ADDR}/v1/sys/internal/counters/activity?start_time=2022-02-14T00:00:00Z&end_time=2022-05-14T23:59:59Z\" \\\n",
    "    | jq -r \".data\""
   ]
  },
  {
   "cell_type": "markdown",
   "id": "203223d4-e919-4e53-b8de-2dc1c310efba",
   "metadata": {},
   "source": [
    "### Partial month client counts"
   ]
  },
  {
   "cell_type": "markdown",
   "id": "8c7b586a-29c0-4561-abff-d3d13857b9ec",
   "metadata": {},
   "source": [
    "NOTE: This feature requires Vault 1.10 or later.\n",
    "\n",
    "Use the `sys/internal/counters/activity/monthly` endpoint to get the number of client counts per namespace for the current month."
   ]
  },
  {
   "cell_type": "code",
   "execution_count": null,
   "id": "896c008f-621b-4f2d-91eb-2dc0aef975df",
   "metadata": {
    "tags": []
   },
   "outputs": [],
   "source": [
    "vault read -format=json sys/internal/counters/activity/monthly  | jq -r \".data\""
   ]
  },
  {
   "cell_type": "markdown",
   "id": "f5caac96-1641-4fdd-bcb7-8358ca521803",
   "metadata": {},
   "source": [
    "# Clean up"
   ]
  },
  {
   "cell_type": "markdown",
   "id": "a715bb4a-cd12-4542-9502-732eb84cdb02",
   "metadata": {},
   "source": [
    "## Delete artifacts"
   ]
  },
  {
   "cell_type": "code",
   "execution_count": null,
   "id": "31fec801-cf51-46ad-a22c-0b9dc8a2b24c",
   "metadata": {},
   "outputs": [],
   "source": [
    "rm /tmp/counter.sh"
   ]
  },
  {
   "cell_type": "markdown",
   "id": "f231c34e-c40d-45bd-a1e3-5e1b4ee9dbeb",
   "metadata": {},
   "source": [
    "## Stop Vault container"
   ]
  },
  {
   "cell_type": "code",
   "execution_count": null,
   "id": "e85a5a74-ceff-42d7-bd8e-d4ad9a611b43",
   "metadata": {},
   "outputs": [],
   "source": [
    "docker stop vault\n",
    "docker rm vault || true   # should fail since we used --rm flag"
   ]
  },
  {
   "cell_type": "markdown",
   "id": "22374c2d-e771-45e8-9c61-b095a053a943",
   "metadata": {},
   "source": [
    "## Remove Docker Image"
   ]
  },
  {
   "cell_type": "code",
   "execution_count": null,
   "id": "be683c03-d9fc-424a-b161-dcc0e6668489",
   "metadata": {},
   "outputs": [],
   "source": [
    "docker image rm whatsaranjit/vault_counter"
   ]
  },
  {
   "cell_type": "code",
   "execution_count": null,
   "id": "322e61c4-3162-4037-ad41-c95f3ab68ce9",
   "metadata": {},
   "outputs": [],
   "source": [
    "docker image rm vault"
   ]
  },
  {
   "cell_type": "markdown",
   "id": "a0954bcd-befb-4d69-94b9-d846c348990a",
   "metadata": {},
   "source": [
    "# Get identity data with the API "
   ]
  },
  {
   "cell_type": "markdown",
   "id": "52c6ca32-cae1-4939-9423-f87fc92e67d6",
   "metadata": {},
   "source": [
    "https://www.vaultproject.io/api-docs/secret/identity/entity"
   ]
  },
  {
   "cell_type": "markdown",
   "id": "0c5c5e0c-99a5-47c5-ae20-fcd5b9f9e4eb",
   "metadata": {},
   "source": [
    "List out the entities.\n",
    "- .data.key_info.<key> | .name, "
   ]
  },
  {
   "cell_type": "code",
   "execution_count": null,
   "id": "ddc75ffa-4ee6-4e17-a74a-304be6ba2254",
   "metadata": {
    "tags": []
   },
   "outputs": [],
   "source": [
    "curl \\\n",
    "    --header \"X-Vault-Token: ${VAULT_TOKEN}\" \\\n",
    "    --request GET \\\n",
    "    $VAULT_ADDR/v1/identity/entity/id?list=true \\\n",
    "    | jq -r '.data.key_info[] | \"Entity Name: \" + .name, \"Aliases: \" + .aliases[].name, .aliases[]' #.data.keys"
   ]
  },
  {
   "cell_type": "markdown",
   "id": "7538db8d-b5de-4720-bdc3-c810a3493169",
   "metadata": {},
   "source": [
    "Read entity by name."
   ]
  },
  {
   "cell_type": "code",
   "execution_count": null,
   "id": "349d3c1f-52fa-4a28-ba4e-c683e1f7a4a9",
   "metadata": {
    "tags": []
   },
   "outputs": [],
   "source": [
    "curl \\\n",
    "    --header \"X-Vault-Token: ${VAULT_TOKEN}\" \\\n",
    "    --request GET \\\n",
    "    $VAULT_ADDR/v1/identity/entity/name/entity_4b8158e3 | jq"
   ]
  },
  {
   "cell_type": "markdown",
   "id": "4b7c76c1-9a9f-41c7-8e76-b69e0bd5a49a",
   "metadata": {},
   "source": [
    "List entities by name."
   ]
  },
  {
   "cell_type": "code",
   "execution_count": null,
   "id": "06a51439-ba88-4ee9-ae94-d929342d7fd6",
   "metadata": {
    "tags": []
   },
   "outputs": [],
   "source": [
    "curl \\\n",
    "    --header \"X-Vault-Token: ${VAULT_TOKEN}\" \\\n",
    "    --request LIST \\\n",
    "    $VAULT_ADDR/v1/identity/entity/name \\\n",
    "    | jq -r .data.keys[]\n",
    "\n",
    "# curl \\\n",
    "#     --header \"X-Vault-Token: ${VAULT_TOKEN}\" \\\n",
    "#     --request GET \\\n",
    "#     $VAULT_ADDR/v1/identity/entity/name?list=true \\\n",
    "#     | jq -r .data.keys[]"
   ]
  },
  {
   "cell_type": "markdown",
   "id": "96caba84-6117-46d6-8297-f4236544fe53",
   "metadata": {},
   "source": [
    "Sample output\n",
    "```shell\n",
    "$ curl --header \"X-Vault-Token: ${VAULT_TOKEN}\" \\\n",
    "    --request LIST $VAULT_ADDR/v1/identity/entity/name \\\n",
    "    | jq -r .data.keys[]\n",
    "\n",
    "...\n",
    "entity_4b8158e3\n",
    "entity_415a7bbb\n",
    "```"
   ]
  },
  {
   "cell_type": "markdown",
   "id": "c001c780-96d8-4b00-8e42-3950820b6ccf",
   "metadata": {},
   "source": [
    "Delete entity by name"
   ]
  },
  {
   "cell_type": "code",
   "execution_count": null,
   "id": "b64fbd4e-b595-4ffc-a61f-fc0c05f447ed",
   "metadata": {},
   "outputs": [],
   "source": [
    "curl \\\n",
    "    --header \"X-Vault-Token: ${VAULT_TOKEN}\" \\\n",
    "    --request DELETE \\\n",
    "    $VAULT_ADDR/v1/identity/entity/name/entity_80d008a0"
   ]
  }
 ],
 "metadata": {
  "kernelspec": {
   "display_name": "Bash",
   "language": "bash",
   "name": "bash"
  },
  "language_info": {
   "codemirror_mode": "shell",
   "file_extension": ".sh",
   "mimetype": "text/x-sh",
   "name": "bash"
  }
 },
 "nbformat": 4,
 "nbformat_minor": 5
}
