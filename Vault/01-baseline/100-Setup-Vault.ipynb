{
 "cells": [
  {
   "cell_type": "markdown",
   "metadata": {},
   "source": [
    "# Vault Setup\n",
    "\n",
    "This tutorial has three ways of starting up Vault.\n",
    "\n",
    "1. Vault OSS via a Docker container\n",
    "1. Vault Enterprise via a Docker container\n",
    "1. Vault via binary on localhost"
   ]
  },
  {
   "cell_type": "markdown",
   "metadata": {},
   "source": [
    "## Pre-requisites"
   ]
  },
  {
   "cell_type": "markdown",
   "metadata": {},
   "source": [
    "- docker\n",
    "- docker compose\n",
    "- jq\n",
    "- vault"
   ]
  },
  {
   "cell_type": "markdown",
   "metadata": {},
   "source": [
    "### Set Up Environment Variables"
   ]
  },
  {
   "cell_type": "markdown",
   "metadata": {},
   "source": [
    "Some env"
   ]
  },
  {
   "cell_type": "code",
   "execution_count": null,
   "metadata": {},
   "outputs": [],
   "source": [
    "export RED=\"\\e[0;31m\" YELLOW=\"\\e[0;33m\" BLDYELLOW=\"\\e[1;33m\" GREEN=\"\\e[0;32m\"\n",
    "export CYAN=\"\\e[0;36m\" BLUE=\"\\e[0;34m\" WHITE=\"\\e[0;37m\" BLDWHITE=\"\\e[1;37m\"\n",
    "export NC=\"\\e[0m\"\n",
    "\n",
    "# Some commands may have sensitive information. Prevent commands starting with a space to be saved to shell history.\n",
    "HISTCONTROL=ignoreboth # do not save lines that begin with space in history\n",
    "\n",
    "# Set dir env vars. \n",
    "MAIN_DIR=$(pwd)\n",
    "WORK_DIR=/tmp/config/vault"
   ]
  },
  {
   "cell_type": "markdown",
   "metadata": {},
   "source": [
    "Customize the values below if you want Vault to start with different parameters"
   ]
  },
  {
   "cell_type": "code",
   "execution_count": null,
   "metadata": {},
   "outputs": [],
   "source": [
    "# Common\n",
    "export VAULT_VER=1.7.5 # 1.8+ enterprise requires license file; 1.7.2 has 8 hour eval\n",
    "export VAULT_PORT=8200\n",
    "export VAULT_TOKEN=root\n",
    "export VAULT_ADDR=http://localhost:${VAULT_PORT}\n",
    "export VAULT_LICENSE=$(cat ../../license/vault.hclic)"
   ]
  },
  {
   "cell_type": "code",
   "execution_count": null,
   "metadata": {},
   "outputs": [],
   "source": [
    "# Create required directories.\n",
    "mkdir -p $WORK_DIR/{data,logs,config}"
   ]
  },
  {
   "cell_type": "markdown",
   "metadata": {},
   "source": [
    "## Container\n",
    "This sets up Vault in a Docker container. Run Vault with either docker compose or the binary version below.\n",
    "\n",
    "> Don't try both at the same time, unless you modify the ports used first.\n",
    "\n",
    "> I prefer the docker method. It allows me to easily test different versions of Vault. Adding additional components such as consul, web, db, etc is easier as well with containers."
   ]
  },
  {
   "cell_type": "markdown",
   "metadata": {},
   "source": [
    "### Vault Container Configuration\n",
    "\n",
    "There are two option to choose below.\n",
    "\n",
    "* OSS vs Enterprise\n",
    "  * Vault OSS\n",
    "\t* comment out this line `image: hashicorp/vault-enterprise`\n",
    "\t* uncomment this line `image: hashicorp/vault`\n",
    "  * Vault Enterprise\n",
    "\t* uncomment this line `image: hashicorp/vault-enterprise`\n",
    "\t* comment out this line `image: hashicorp/vault`\n",
    "* Dev Mode vs local config (requires initialization)\n",
    "  * Dev mode\n",
    "\t* uncomment this line `entrypoint: \"vault server -dev`\n",
    "    * comment out this line `entrypoint: \"vault server -config=/vault/config\"` and `- ./config/vault/config:/vault/config:ro`\n",
    "  * Local config\n",
    "\t* comment out this line `entrypoint: \"vault server -dev`\n",
    "    * uncomment this line `entrypoint: \"vault server -config=/vault/config\"` and `- ./config/vault/config:/vault/config:ro`\n",
    "\n",
    "\n",
    "The default is to run Vault Enterprise in Dev Mode."
   ]
  },
  {
   "cell_type": "markdown",
   "metadata": {},
   "source": [
    "Create a `docker-compose.yaml` file."
   ]
  },
  {
   "cell_type": "code",
   "execution_count": null,
   "metadata": {},
   "outputs": [],
   "source": [
    "## Create docker-compose file.\n",
    "cat > docker-compose.yaml << EOF\n",
    "version: '3.8'\n",
    "services:\n",
    "  vault:\n",
    "    image: hashicorp/vault-enterprise:${VAULT_VER}_ent # Vault Enterprise\n",
    "    #image: hashicorp/vault:${VAULT_VER}                # Vault OSS\n",
    "    container_name: vault\n",
    "    restart: always\n",
    "    volumes:\n",
    "#      - ./${WORK_DIR}/data:/vault/data # uncomment to persist data\n",
    "      - ./${WORK_DIR}/logs:/vault/logs\n",
    "      # - ./${WORK_DIR}/config:/vault/config:ro # uncomment for local config\n",
    "    ports:\n",
    "      - \"$VAULT_PORT:8200/tcp\"\n",
    "    environment:\n",
    "      VAULT_DEV_ROOT_TOKEN_ID: ${VAULT_TOKEN}\n",
    "      VAULT_DEV_LISTEN_ADDRESS: \"0.0.0.0:8200\"\n",
    "      VAULT_ADDR: ${VAULT_ADDR}\n",
    "      VAULT_LICENSE: ${VAULT_LICENSE}\n",
    "    cap_add:\n",
    "      - IPC_LOCK\n",
    "    entrypoint: \"vault server -dev\" # dev mode\n",
    "    #entrypoint: \"vault server -config=/vault/config\" # non-dev with local config\n",
    "EOF"
   ]
  },
  {
   "cell_type": "markdown",
   "metadata": {},
   "source": [
    "### Vault Configuration - for non-Dev Mode (WIP)\n",
    "\n",
    "If want to run with a local config, then create a Vault config file. This file is placed in a folder mounted by the container."
   ]
  },
  {
   "cell_type": "code",
   "execution_count": null,
   "metadata": {},
   "outputs": [],
   "source": [
    "cat > $WORK_DIR/config/vault1.hcl << EOF\n",
    "# storage \"file\" {\n",
    "#     path = \"/vault/file\"\n",
    "# }\n",
    "\n",
    "storage \"raft\" {\n",
    "  path    = \"./vault/data\"\n",
    "  node_id = \"node1\"\n",
    "}\n",
    "\n",
    "listener \"tcp\" {\n",
    "  address       = \"0.0.0.0:8200\"\n",
    "#   tls_cert_file = \"/path/to/fullchain.pem\"\n",
    "#   tls_key_file  = \"/path/to/privkey.pem\"\n",
    "  tls_disable = true\n",
    "  telemetry {\n",
    "    unauthenticated_metrics_access = true\n",
    "  }\n",
    "}\n",
    "\n",
    "default_lease_ttl = \"168h\" # default(768h)\n",
    "max_lease_ttl = \"0h\" # default(768h)\n",
    "api_addr = \"http://0.0.0.0:8200\"\n",
    "cluster_addr = \"https://0.0.0.1:8201\"\n",
    "ui = true\n",
    "\n",
    "log_level = debug\n",
    "telemetry {\n",
    "  prometheus_retention_time = \"24h\"\n",
    "  disable_hostname = true\n",
    "}\n",
    "EOF"
   ]
  },
  {
   "cell_type": "markdown",
   "metadata": {},
   "source": [
    "### Start Container(s)"
   ]
  },
  {
   "cell_type": "code",
   "execution_count": null,
   "metadata": {
    "tags": []
   },
   "outputs": [],
   "source": [
    "docker-compose up --force-recreate -d 2>&1 \\\n",
    "  | tee /tmp/vault_docker_compose.log"
   ]
  },
  {
   "cell_type": "code",
   "execution_count": null,
   "metadata": {},
   "outputs": [],
   "source": [
    "vault status\n",
    "curl http://localhost:8200/v1/sys/seal-status | jq"
   ]
  },
  {
   "cell_type": "markdown",
   "metadata": {},
   "source": [
    "## localhost - binary"
   ]
  },
  {
   "cell_type": "markdown",
   "metadata": {},
   "source": [
    "Install Vault on Mac or Linux."
   ]
  },
  {
   "cell_type": "code",
   "execution_count": null,
   "metadata": {},
   "outputs": [],
   "source": [
    "HASHI_RELEASES=https://releases.hashicorp.com\n",
    "VAULT_VER=1.10.4   # 1.8+ enterprise requires license; no timed eval\n",
    "VAULT_ENT=\"\"       #\"+ent\" or \"\"\n",
    "VAULT_OS=\"darwin\"  # \"darwin\" or \"linux\""
   ]
  },
  {
   "cell_type": "code",
   "execution_count": null,
   "metadata": {},
   "outputs": [],
   "source": [
    "curl -O ${HASHI_RELEASES}/vault/${VAULT_VER}${VAULT_ENT}/vault_${VAULT_VER}${VAULT_ENT}_darwin_amd64.zip \\\n",
    "  && unzip vault_${VAULT_VER}${VAULT_ENT}_darwin_amd64.zip \\\n",
    "  && mv vault /usr/local/bin \\\n",
    "  && rm vault_${VAULT_VER}${VAULT_ENT}_darwin_amd64.zip"
   ]
  },
  {
   "cell_type": "code",
   "execution_count": null,
   "metadata": {},
   "outputs": [],
   "source": [
    "vault version"
   ]
  },
  {
   "cell_type": "markdown",
   "metadata": {},
   "source": [
    "This sets up Vault on the local host. Run either this or the Docker version above. "
   ]
  },
  {
   "cell_type": "code",
   "execution_count": null,
   "metadata": {},
   "outputs": [],
   "source": [
    "vault server \\\n",
    "  -dev -dev-root-token-id=${VAULT_TOKEN} \\\n",
    "  -dev-listen-address=0.0.0.0:8200 \\\n",
    "  -log-level=trace \\\n",
    "  -config=./config.hcl > ${WORK_DIR}/vault.log 2>&1 &"
   ]
  },
  {
   "cell_type": "code",
   "execution_count": null,
   "metadata": {},
   "outputs": [],
   "source": [
    "cat ${WORK_DIR}/vault.log"
   ]
  },
  {
   "cell_type": "markdown",
   "metadata": {},
   "source": [
    "## Vault - Initialize and Unseal\n",
    "\n",
    "For non-Dev mode, you will need to initialize and unseal your cluster."
   ]
  },
  {
   "cell_type": "code",
   "execution_count": null,
   "metadata": {},
   "outputs": [],
   "source": [
    "vault operator init -key-shares=1 -key-threshold=1 > $WORK_DIR/vault.init"
   ]
  },
  {
   "cell_type": "code",
   "execution_count": null,
   "metadata": {},
   "outputs": [],
   "source": [
    "VAULT_TOKEN=$(grep \"Root Token\" $WORK_DIR/vault.init | awk '{print $NF}')\n",
    "UNSEAL_KEY1=$(grep \"Key 1\" $WORK_DIR/vault.init | awk '{print $NF}')"
   ]
  },
  {
   "cell_type": "code",
   "execution_count": null,
   "metadata": {},
   "outputs": [],
   "source": [
    "vault operator unseal ${UNSEAL_KEY1}"
   ]
  },
  {
   "cell_type": "markdown",
   "metadata": {},
   "source": [
    "## Status, Audit, and License"
   ]
  },
  {
   "cell_type": "code",
   "execution_count": null,
   "metadata": {},
   "outputs": [],
   "source": [
    "vault status"
   ]
  },
  {
   "cell_type": "markdown",
   "metadata": {},
   "source": [
    "Enable audit output to files with and without hashing. Do not leave `log_raw` on in production."
   ]
  },
  {
   "cell_type": "code",
   "execution_count": null,
   "metadata": {},
   "outputs": [],
   "source": [
    "# Enable audit output to file, audit settings are in vault1.hcl\n",
    "vault audit enable file file_path=/vault/logs/audit.log\n",
    "vault audit enable file file_path=/tmp/audit.log #works in container or localhost\n",
    "vault audit enable -path=raw file file_path=/vault_logs/audit_raw.log log_raw=true"
   ]
  },
  {
   "cell_type": "markdown",
   "metadata": {},
   "source": [
    "Install license via API. Required for Vault Enterprise prior to 1.8."
   ]
  },
  {
   "cell_type": "code",
   "execution_count": null,
   "metadata": {},
   "outputs": [],
   "source": [
    "curl \\\n",
    "    --silent \\\n",
    "    --header \"X-Vault-Token: $VAULT_TOKEN\" \\\n",
    "    --request PUT \\\n",
    "    --data '{\"text\":\"'$VAULT_LICENSE'\"}' \\\n",
    "    $VAULT_ADDR/v1/sys/license"
   ]
  },
  {
   "cell_type": "markdown",
   "metadata": {},
   "source": [
    "Check status again. Make sure vault is Initialized and Unsealed."
   ]
  },
  {
   "cell_type": "code",
   "execution_count": null,
   "metadata": {},
   "outputs": [],
   "source": [
    "vault status"
   ]
  },
  {
   "cell_type": "markdown",
   "metadata": {},
   "source": [
    "## UI"
   ]
  },
  {
   "cell_type": "code",
   "execution_count": null,
   "metadata": {},
   "outputs": [],
   "source": [
    "if [[ $(uname -s) == \"Linux\" ]]; then\n",
    "  printf \"Go to http://127.0.0.1:8200\\n\"\n",
    "elif [[ $(uname) == \"Darwin\" ]]; then\n",
    "  open $VAULT_ADDR\n",
    "else\n",
    "  printf \"Go to http://127.0.0.1:8200\\n\"\n",
    "fi # mac only\n",
    "printf \"${GREEN}Login with token:${NC} $VAULT_TOKEN\""
   ]
  },
  {
   "cell_type": "markdown",
   "metadata": {
    "slideshow": {
     "slide_type": "-"
    }
   },
   "source": [
    "## Sample Authentication Methods"
   ]
  },
  {
   "cell_type": "markdown",
   "metadata": {},
   "source": [
    "* For LDAP configuration, see [LDAP](./110-Setup-authmethods.ipynb#LDAP)\n",
    "* For User Pass, see [UserPass](./110-Setup-authmethods.ipynb#UserPass)"
   ]
  },
  {
   "cell_type": "markdown",
   "metadata": {},
   "source": [
    "## Clean Up"
   ]
  },
  {
   "cell_type": "markdown",
   "metadata": {},
   "source": [
    "### Clean up Docker"
   ]
  },
  {
   "cell_type": "code",
   "execution_count": null,
   "metadata": {},
   "outputs": [],
   "source": [
    "docker compose down || true #mac\n",
    "docker-compose down #linux\n",
    "docker ps | grep -i vault"
   ]
  },
  {
   "cell_type": "markdown",
   "metadata": {},
   "source": [
    "### Clean up localhost"
   ]
  },
  {
   "cell_type": "code",
   "execution_count": null,
   "metadata": {},
   "outputs": [],
   "source": [
    "pkill vault"
   ]
  },
  {
   "cell_type": "markdown",
   "metadata": {},
   "source": [
    "### Clean up artifacts"
   ]
  },
  {
   "cell_type": "code",
   "execution_count": null,
   "metadata": {},
   "outputs": [],
   "source": [
    "rm -rf /tmp/config/vault/*\n",
    "rm /tmp/audit.log /tmp/vault_docker_compose.log\n",
    "rm -rf docker-compose.log docker-compose.yaml"
   ]
  }
 ],
 "metadata": {
  "kernelspec": {
   "display_name": "Bash",
   "language": "bash",
   "name": "bash"
  },
  "language_info": {
   "codemirror_mode": "shell",
   "file_extension": ".sh",
   "mimetype": "text/x-sh",
   "name": "bash"
  }
 },
 "nbformat": 4,
 "nbformat_minor": 4
}
