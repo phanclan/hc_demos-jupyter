{
 "cells": [
  {
   "cell_type": "markdown",
   "metadata": {},
   "source": [
    "# Vault Setup"
   ]
  },
  {
   "cell_type": "markdown",
   "metadata": {},
   "source": [
    "In this tutorial, we'll explore various ways of setting up a HashiCorp Vault, including running it as a local binary, as a Docker container, and via Docker Compose. This will cover both Vault OSS and Vault Enterprise."
   ]
  },
  {
   "cell_type": "markdown",
   "metadata": {},
   "source": [
    "## Pre-requisites"
   ]
  },
  {
   "cell_type": "markdown",
   "metadata": {},
   "source": [
    "Before we begin, ensure you have the following software installed on your system:\n",
    "\n",
    "- `docker`\n",
    "- docker compose\n",
    "- `jq` (a lightweight and flexible command-line JSON processor)\n",
    "- `vault` binary"
   ]
  },
  {
   "cell_type": "markdown",
   "metadata": {},
   "source": [
    "### Set Up Environment Variables"
   ]
  },
  {
   "cell_type": "markdown",
   "metadata": {},
   "source": [
    "We will start by setting up a few environment variables. You can customize these variables based on your preferences and requirements."
   ]
  },
  {
   "cell_type": "markdown",
   "metadata": {},
   "source": [
    "* First, we'll create some directories for Vault to use."
   ]
  },
  {
   "cell_type": "code",
   "execution_count": null,
   "metadata": {},
   "outputs": [],
   "source": [
    "# Set directory environment variables.\n",
    "MAIN_DIR=$(pwd)\n",
    "WORK_DIR=/tmp/config/vault\n",
    "\n",
    "# Create required directories.\n",
    "mkdir -p $WORK_DIR/{data,logs,config}\n",
    "\n",
    "# Verify the structure of the directories.\n",
    "tree $WORK_DIR"
   ]
  },
  {
   "cell_type": "markdown",
   "metadata": {},
   "source": [
    "- You should see the following output:\n",
    "    \n",
    "    ```bash\n",
    "    /tmp/config/vault\n",
    "    ├── config\n",
    "    ├── data\n",
    "    └── logs\n",
    "    \n",
    "    3 directories, 0 files\n",
    "    ```"
   ]
  },
  {
   "cell_type": "markdown",
   "metadata": {},
   "source": [
    "* Now, let's define some common environment variables that Vault will use."
   ]
  },
  {
   "cell_type": "code",
   "execution_count": null,
   "metadata": {},
   "outputs": [],
   "source": [
    "# Common\n",
    "export VAULT_VER=1.7.5\n",
    "# Ent 1.8+ requires license file; Ent 1.7.2 has 8 hour eval\n",
    "export VAULT_PORT=8200\n",
    "export VAULT_TOKEN=root\n",
    "export VAULT_ADDR=http://localhost:${VAULT_PORT}\n",
    "export VAULT_LICENSE=$(cat ../../license/vault.hclic)"
   ]
  },
  {
   "cell_type": "markdown",
   "metadata": {},
   "source": [
    "# Running Vault as a Docker Container\n",
    "\n",
    "Vault can be run in a Docker container. This method is preferable for quickly testing different versions of Vault or integrating with additional components such as Consul, web interfaces, databases, etc.\n",
    "\n",
    "> Note: Do not try to run Vault as both a Docker container and a local binary at the same time unless you modify the ports used first."
   ]
  },
  {
   "cell_type": "markdown",
   "metadata": {},
   "source": [
    "## **Running Vault via Docker**\n",
    "\n",
    "- To run Vault via Docker, execute the following commands:\n",
    "    "
   ]
  },
  {
   "cell_type": "code",
   "execution_count": null,
   "metadata": {},
   "outputs": [],
   "source": [
    "docker stop vault # stop any existing vault container\n",
    "docker run --rm -d \\\n",
    "  --name vault \\\n",
    "  -p 8200:8200 \\\n",
    "  -e \"VAULT_DEV_ROOT_TOKEN_ID=${VAULT_TOKEN:-root}\" \\\n",
    "  -e \"VAULT_ADDR=http://127.0.0.1:8200\" \\\n",
    "  -e \"VAULT_TOKEN=${VAULT_TOKEN}\" \\\n",
    "  --cap-add=IPC_LOCK \\\n",
    "  hashicorp/vault:${VAULT_VER}"
   ]
  },
  {
   "cell_type": "markdown",
   "metadata": {},
   "source": [
    "## Running Vault via Docker Compose\n",
    "\n",
    "Docker Compose is a tool for defining and running multi-container Docker applications. In this case, we will use Docker Compose to set up and run Vault.\n",
    "\n",
    "### Configuration of Vault Container\n",
    "\n",
    "Before we run Vault with Docker Compose, we have to configure the Docker Compose file correctly. Here are two options you need to consider and choose based on your requirements:\n",
    "\n",
    "1. Open-Source Software (OSS) vs. Enterprise:\n",
    "    - If you are using Vault OSS\n",
    "        - comment out the line `image: hashicorp/vault-enterprise`\n",
    "        - uncomment the line `image: hashicorp/vault`.\n",
    "    - If you are using Vault Enterprise\n",
    "        - uncomment the line `image: hashicorp/vault-enterprise`\n",
    "        - comment out the line `image: hashicorp/vault`.\n",
    "2. Development Mode vs. Local Configuration:\n",
    "    - If you want to run Vault in development mode:\n",
    "        - uncomment the line `entrypoint: \"vault server -dev\"`\n",
    "        - comment out the lines `entrypoint: \"vault server -config=/vault/config\"` and `./config/vault/config:/vault/config:ro`.\n",
    "    - If you want to run Vault with local configuration\n",
    "        - comment out the line `entrypoint: \"vault server -dev\"`\n",
    "        - uncomment the lines `entrypoint: \"vault server -config=/vault/config\"` and `./config/vault/config:/vault/config:ro`.\n",
    "            - This requires initialization and unseal.\n",
    "\n",
    "By default, Vault Enterprise runs in Development Mode."
   ]
  },
  {
   "cell_type": "markdown",
   "metadata": {},
   "source": [
    "- Set your options below and create a `docker-compose.yaml` file."
   ]
  },
  {
   "cell_type": "code",
   "execution_count": null,
   "metadata": {},
   "outputs": [],
   "source": [
    "## Set the variables. Adjust according to your preferences.\n",
    "export VAULT_TYPE=\"oss\" # Use \"oss\" for OSS version or \"enterprise\" for Enterprise version.\n",
    "export VAULT_MODE=\"local\" # Use \"dev\" for Dev Mode or \"local\" for local configuration mode.\n",
    "\n",
    "# Determine the image and entrypoint based on the environment variables\n",
    "if [ \"$VAULT_TYPE\" = \"enterprise\" ]; then\n",
    "    IMAGE=\"hashicorp/vault-enterprise:${VAULT_VER}_ent\"\n",
    "else\n",
    "    IMAGE=\"hashicorp/vault:${VAULT_VER}\"\n",
    "fi\n",
    "\n",
    "if [ \"$VAULT_MODE\" = \"dev\" ]; then\n",
    "    ENTRYPOINT=\"vault server -dev\"\n",
    "else\n",
    "    ENTRYPOINT=\"vault server -config=/vault/config\"\n",
    "fi\n",
    "\n",
    "## Create docker-compose file.\n",
    "cat > $WORK_DIR/docker-compose.yaml << EOF\n",
    "version: '3.8'\n",
    "services:\n",
    "  vault:\n",
    "    image: $IMAGE\n",
    "    container_name: vault\n",
    "    restart: always\n",
    "    volumes:\n",
    "      - ${WORK_DIR}/logs:/vault/logs\n",
    "    ports:\n",
    "      - \"$VAULT_PORT:8200/tcp\"\n",
    "    environment:\n",
    "      VAULT_DEV_ROOT_TOKEN_ID: ${VAULT_TOKEN:-root}\n",
    "      VAULT_DEV_LISTEN_ADDRESS: \"0.0.0.0:8200\"\n",
    "      VAULT_ADDR: ${VAULT_ADDR}\n",
    "      VAULT_LICENSE: ${VAULT_LICENSE}\n",
    "    cap_add:\n",
    "      - IPC_LOCK\n",
    "    entrypoint: \"$ENTRYPOINT\"\n",
    "EOF\n",
    "\n",
    "if [ \"$VAULT_MODE\" = \"local\" ]; then\n",
    "    if [[ \"$(uname)\" == \"Darwin\" ]]; then\n",
    "        sed -i '' \"/volumes:/a\\\\\n",
    "      - ${WORK_DIR}/config:/vault/config:ro\n",
    "\" $WORK_DIR/docker-compose.yaml\n",
    "    else\n",
    "        sed -i \"/volumes:/a \\\n",
    "      - ${WORK_DIR}/config:/vault/config:ro\n",
    "\" $WORK_DIR/docker-compose.yaml\n",
    "    fi\n",
    "fi"
   ]
  },
  {
   "cell_type": "code",
   "execution_count": null,
   "metadata": {},
   "outputs": [],
   "source": [
    "cat $WORK_DIR/docker-compose.yaml"
   ]
  },
  {
   "cell_type": "markdown",
   "metadata": {},
   "source": [
    "### Vault Configuration for Non-Development Mode\n",
    "\n",
    "If you are planning to run Vault with local configuration, you need to create a Vault configuration file. This configuration file should be placed in a directory that will be mounted by the Docker container."
   ]
  },
  {
   "cell_type": "code",
   "execution_count": null,
   "metadata": {},
   "outputs": [],
   "source": [
    "cat > $WORK_DIR/config/vault1.hcl << EOF\n",
    "# storage \"file\" {\n",
    "#     path = \"/vault/file\"\n",
    "# }\n",
    "\n",
    "storage \"raft\" {\n",
    "  path    = \"./vault/file\"\n",
    "  node_id = \"node1\"\n",
    "}\n",
    "\n",
    "listener \"tcp\" {\n",
    "  address       = \"0.0.0.0:8200\"\n",
    "#   tls_cert_file = \"/path/to/fullchain.pem\"\n",
    "#   tls_key_file  = \"/path/to/privkey.pem\"\n",
    "  tls_disable = true\n",
    "  telemetry {\n",
    "    unauthenticated_metrics_access = true\n",
    "  }\n",
    "}\n",
    "\n",
    "default_lease_ttl = \"168h\" # default(768h)\n",
    "max_lease_ttl = \"0h\" # default(768h)\n",
    "api_addr = \"http://0.0.0.0:8200\"\n",
    "cluster_addr = \"https://0.0.0.1:8201\"\n",
    "ui = true\n",
    "\n",
    "log_level = \"debug\"\n",
    "telemetry {\n",
    "  prometheus_retention_time = \"24h\"\n",
    "  disable_hostname = true\n",
    "}\n",
    "EOF"
   ]
  },
  {
   "cell_type": "code",
   "execution_count": null,
   "metadata": {},
   "outputs": [],
   "source": [
    "cat $WORK_DIR/config/vault1.hcl"
   ]
  },
  {
   "cell_type": "markdown",
   "metadata": {},
   "source": [
    "### Starting the Vault Container\n",
    "\n",
    "* Now you can start the Vault container using Docker Compose:"
   ]
  },
  {
   "cell_type": "code",
   "execution_count": null,
   "metadata": {
    "tags": []
   },
   "outputs": [],
   "source": [
    "docker-compose -f $WORK_DIR/docker-compose.yaml up --force-recreate -d 2>&1 \\\n",
    "  | tee /tmp/vault_docker_compose.log"
   ]
  },
  {
   "cell_type": "markdown",
   "metadata": {},
   "source": [
    "## ****Verifying the Vault Container****\n",
    "\n",
    "To make sure that Vault is running correctly, you can check the status of Vault:"
   ]
  },
  {
   "cell_type": "code",
   "execution_count": null,
   "metadata": {},
   "outputs": [],
   "source": [
    "vault status && echo #Via CLI\n",
    "curl -s http://localhost:8200/v1/sys/seal-status | jq # Via API"
   ]
  },
  {
   "cell_type": "markdown",
   "metadata": {},
   "source": [
    "The output should show that the Vault server is initialized and unsealed if you are running in dev mode. It will be sealed if not in dev mode.\n",
    "\n",
    "---"
   ]
  },
  {
   "cell_type": "markdown",
   "metadata": {},
   "source": [
    "# Running Vault Locally as Binary\n",
    "\n",
    "In case you want to run Vault locally as a binary instead of inside a Docker container, you can do that as well."
   ]
  },
  {
   "cell_type": "markdown",
   "metadata": {},
   "source": [
    "You will need to run the next few commands from a terminal if you are on a Mac. sudo requires an interactive prompt.\n",
    "\n",
    "First, download the appropriate Vault binary:"
   ]
  },
  {
   "cell_type": "code",
   "execution_count": null,
   "metadata": {},
   "outputs": [],
   "source": [
    "HASHI_RELEASES=https://releases.hashicorp.com\n",
    "VAULT_VER=1.10.4   # 1.8+ enterprise requires license; no timed eval\n",
    "VAULT_ENT=\"\"       #\"+ent\" or \"\"\n",
    "VAULT_REL=${VAULT_VER}${VAULT_ENT}\n",
    "\n",
    "# Automatically detect the operating system\n",
    "if [[ \"$(uname)\" == \"Darwin\" ]]; then\n",
    "    VAULT_OS=\"darwin\" && echo $VAULT_OS\n",
    "elif [[ \"$(uname)\" == \"Linux\" ]]; then\n",
    "    VAULT_OS=\"linux\"\n",
    "else\n",
    "    echo \"Unsupported operating system.\"\n",
    "fi\n",
    "\n",
    "# Automatically detect the hardware architecture\n",
    "VAULT_HW=$(uname -m)\n",
    "if [[ \"$VAULT_HW\" == \"x86_64\" ]]; then\n",
    "    VAULT_HW=\"amd64\" && echo $VAULT_HW\n",
    "elif [[ \"$VAULT_HW\" == \"aarch64\" ]]; then\n",
    "    VAULT_HW=\"arm64\"\n",
    "elif [[ \"$VAULT_HW\" == \"arm64\" ]]; then\n",
    "    VAULT_HW=\"arm64\"\n",
    "else\n",
    "    echo \"Unsupported hardware architecture.\"\n",
    "fi"
   ]
  },
  {
   "cell_type": "code",
   "execution_count": null,
   "metadata": {},
   "outputs": [],
   "source": [
    "curl -o /tmp/vault.zip \\\n",
    "  ${HASHI_RELEASES}/vault/${VAULT_REL}/vault_${VAULT_REL}_${VAULT_OS}_${VAULT_HW}.zip \\\n",
    "  && sudo unzip -o -d /usr/local/bin /tmp/vault.zip \\\n",
    "  && echo sudo mv -f vault /usr/local/bin \\\n",
    "  && rm /tmp/vault.zip"
   ]
  },
  {
   "cell_type": "markdown",
   "metadata": {},
   "source": [
    "Verify that the local binary works."
   ]
  },
  {
   "cell_type": "code",
   "execution_count": null,
   "metadata": {},
   "outputs": [],
   "source": [
    "/usr/local/bin/vault version"
   ]
  },
  {
   "cell_type": "markdown",
   "metadata": {},
   "source": [
    "Then, you can start the Vault server:"
   ]
  },
  {
   "cell_type": "code",
   "execution_count": null,
   "metadata": {},
   "outputs": [],
   "source": [
    "/usr/local/bin/vault server \\\n",
    "  -dev -dev-root-token-id=${VAULT_TOKEN} \\\n",
    "  -dev-listen-address=0.0.0.0:8200 \\\n",
    "  -log-level=trace \\\n",
    "  -config=./config.hcl > ${WORK_DIR}/vault.log 2>&1 &"
   ]
  },
  {
   "cell_type": "markdown",
   "metadata": {},
   "source": [
    "Check the Vault logs to see if everything is running smoothly:"
   ]
  },
  {
   "cell_type": "code",
   "execution_count": null,
   "metadata": {},
   "outputs": [],
   "source": [
    "head ${WORK_DIR}/vault.log\n",
    "tail ${WORK_DIR}/vault.log"
   ]
  },
  {
   "cell_type": "code",
   "execution_count": null,
   "metadata": {},
   "outputs": [],
   "source": [
    "vault status"
   ]
  },
  {
   "cell_type": "markdown",
   "metadata": {},
   "source": [
    "---"
   ]
  },
  {
   "cell_type": "markdown",
   "metadata": {},
   "source": [
    "# Initialize and Unseal Vault\n",
    "\n",
    "In non-development mode, Vault starts up sealed and you have to initialize it before you can unseal and use it.\n",
    "\n",
    "## Initialize Vault"
   ]
  },
  {
   "cell_type": "code",
   "execution_count": null,
   "metadata": {},
   "outputs": [],
   "source": [
    "vault operator init -key-shares=1 -key-threshold=1 > $WORK_DIR/vault.init\n",
    "cat $WORK_DIR/vault.init"
   ]
  },
  {
   "cell_type": "markdown",
   "metadata": {},
   "source": [
    "This command initializes the vault server and generates master keys and the initial root token. It also provides key shards that you can distribute to trusted users.\n",
    "\n",
    "The `-key-shares` and `-key-threshold` options are used to control the number of key shards and the number of key shards required to unseal Vault, respectively. For this tutorial, we keep things simple by setting both values to `1`.\n",
    "\n",
    "The output of the `vault operator init` command is redirected to a `vault.init` file in the `WORK_DIR` directory."
   ]
  },
  {
   "cell_type": "markdown",
   "metadata": {},
   "source": [
    "### Extract Root Token and Unseal Key"
   ]
  },
  {
   "cell_type": "code",
   "execution_count": null,
   "metadata": {},
   "outputs": [],
   "source": [
    "VAULT_TOKEN=$(grep \"Root Token\" $WORK_DIR/vault.init | awk '{print $NF}') && echo $VAULT_TOKEN\n",
    "UNSEAL_KEY1=$(grep \"Key 1\" $WORK_DIR/vault.init | awk '{print $NF}') && echo $UNSEAL_KEY1"
   ]
  },
  {
   "cell_type": "markdown",
   "metadata": {},
   "source": [
    "The root token and unseal key are extracted from the `vault.init` file and stored in `VAULT_TOKEN` and `UNSEAL_KEY1` variables, respectively."
   ]
  },
  {
   "cell_type": "markdown",
   "metadata": {},
   "source": [
    "## Unseal Vault"
   ]
  },
  {
   "cell_type": "code",
   "execution_count": null,
   "metadata": {},
   "outputs": [],
   "source": [
    "vault operator unseal ${UNSEAL_KEY1}"
   ]
  },
  {
   "cell_type": "markdown",
   "metadata": {},
   "source": [
    "Vault uses an unseal process to ensure that secrets are securely protected when the server restarts. Unsealing is the process of constructing the master key necessary to read the decryption key to decrypt the data, allowing access to the Vault."
   ]
  },
  {
   "cell_type": "markdown",
   "metadata": {},
   "source": [
    "# Status Check, Audit Enablement, and Licensing\n",
    "\n",
    "This section describes how to check the status of Vault, enable audit logging, and how to install a license for Vault Enterprise."
   ]
  },
  {
   "cell_type": "markdown",
   "metadata": {},
   "source": [
    "## Check Vault Status"
   ]
  },
  {
   "cell_type": "code",
   "execution_count": null,
   "metadata": {},
   "outputs": [],
   "source": [
    "vault status"
   ]
  },
  {
   "cell_type": "markdown",
   "metadata": {},
   "source": [
    "Running the `vault status` command shows you the status of Vault. After the unseal operation, Vault should show the status as \"Unsealed\"."
   ]
  },
  {
   "cell_type": "markdown",
   "metadata": {},
   "source": [
    "## Enable Audit Logging\n",
    "\n",
    "Audit logs record the requests and responses to Vault. All interactions with Vault are logged in an audit log to keep a detailed audit trail.\n",
    "\n",
    "- Enable audit output to files with and without hashing. Do not leave `log_raw` on in production."
   ]
  },
  {
   "cell_type": "code",
   "execution_count": null,
   "metadata": {},
   "outputs": [],
   "source": [
    "# Enable audit output to file, audit settings are in vault1.hcl\n",
    "vault audit enable file file_path=/vault/logs/vault_audit.log\n",
    "vault audit enable file file_path=/tmp/vault_audit.log #works in container or localhost\n",
    "vault audit enable -path=raw file file_path=/vault/logs/audit_raw.log log_raw=true"
   ]
  },
  {
   "cell_type": "markdown",
   "metadata": {},
   "source": [
    "- The `vault audit enable` command enables an audit device at a given path."
   ]
  },
  {
   "cell_type": "code",
   "execution_count": null,
   "metadata": {},
   "outputs": [],
   "source": [
    "vault audit list"
   ]
  },
  {
   "cell_type": "markdown",
   "metadata": {},
   "source": [
    "## License Installation (for Vault Enterprise)"
   ]
  },
  {
   "cell_type": "markdown",
   "metadata": {},
   "source": [
    "Install license via API. Required for Vault Enterprise prior to 1.8."
   ]
  },
  {
   "cell_type": "code",
   "execution_count": null,
   "metadata": {},
   "outputs": [],
   "source": [
    "curl \\\n",
    "    --silent \\\n",
    "    --header \"X-Vault-Token: $VAULT_TOKEN\" \\\n",
    "    --request PUT \\\n",
    "    --data '{\"text\":\"'$VAULT_LICENSE'\"}' \\\n",
    "    $VAULT_ADDR/v1/sys/license"
   ]
  },
  {
   "cell_type": "markdown",
   "metadata": {},
   "source": [
    "This command installs the license for Vault Enterprise using the curl utility to send an HTTP PUT request to Vault's `/sys/license` endpoint."
   ]
  },
  {
   "cell_type": "markdown",
   "metadata": {},
   "source": [
    "### Verify Status Again\n",
    "\n",
    "Run the `vault status` command again to confirm Vault is still unsealed after the license has been applied."
   ]
  },
  {
   "cell_type": "code",
   "execution_count": null,
   "metadata": {},
   "outputs": [],
   "source": [
    "vault status"
   ]
  },
  {
   "cell_type": "markdown",
   "metadata": {},
   "source": [
    "## Access Vault's Web Interface (UI\n",
    "\n",
    "Vault provides a web interface (UI) that you can use to interact with Vault."
   ]
  },
  {
   "cell_type": "markdown",
   "metadata": {},
   "source": [
    "## UI"
   ]
  },
  {
   "cell_type": "code",
   "execution_count": null,
   "metadata": {},
   "outputs": [],
   "source": [
    "if [[ $(uname) == \"Darwin\" ]]; then\n",
    "  open $VAULT_ADDR\n",
    "else\n",
    "  printf \"\\nGo to http://127.0.0.1:8200\\n\"\n",
    "fi\n",
    "printf \"\\n%s\\n\" \"-----------------------------------\"\n",
    "printf \"\\n${GREEN}Login with token:${NC} $VAULT_TOKEN \\n\"\n",
    "printf \"\\n%s\\n\" \"-----------------------------------\""
   ]
  },
  {
   "cell_type": "markdown",
   "metadata": {},
   "source": [
    "This script opens the Vault web interface in your default web browser. If you're using a Linux operating system, you need to manually open a web browser and navigate to the Vault web interface at [http://127.0.0.1:8200](http://127.0.0.1:8200/).\n",
    "\n",
    "You can login with the root token that you have saved in the `VAULT_TOKEN` environment variable. After logging in, you should be able to interact with Vault through the web interface."
   ]
  },
  {
   "cell_type": "markdown",
   "metadata": {
    "slideshow": {
     "slide_type": "-"
    }
   },
   "source": [
    "## Sample Authentication Methods"
   ]
  },
  {
   "cell_type": "markdown",
   "metadata": {},
   "source": [
    "* For LDAP configuration, see [LDAP](./110-Setup-authmethods.ipynb#LDAP)\n",
    "* For User Pass, see [UserPass](./110-Setup-authmethods.ipynb#UserPass)"
   ]
  },
  {
   "cell_type": "markdown",
   "metadata": {},
   "source": [
    "## Clean Up"
   ]
  },
  {
   "cell_type": "markdown",
   "metadata": {},
   "source": [
    "After you're done using your Vault setup for the purpose of this guide, you might want to clean everything up. Here's how you can do that:"
   ]
  },
  {
   "cell_type": "markdown",
   "metadata": {},
   "source": [
    "## 1. Seal Vault\n",
    "\n",
    "First, you should seal Vault. This ensures that all the data stored in Vault is encrypted and Vault stops accepting any more API calls.\n",
    "\n",
    "You can seal Vault by running:"
   ]
  },
  {
   "cell_type": "code",
   "execution_count": null,
   "metadata": {},
   "outputs": [],
   "source": [
    "vault operator seal"
   ]
  },
  {
   "cell_type": "markdown",
   "metadata": {},
   "source": [
    "## 2. Stop and Remove Docker Container or Binary\n",
    "\n",
    "Next, depending on your setup:"
   ]
  },
  {
   "cell_type": "markdown",
   "metadata": {},
   "source": [
    "### If you're running Vault inside a Docker container\n",
    "\n",
    "To stop the Docker container, use the `stop` command:"
   ]
  },
  {
   "cell_type": "code",
   "execution_count": null,
   "metadata": {},
   "outputs": [],
   "source": [
    "docker stop vault"
   ]
  },
  {
   "cell_type": "markdown",
   "metadata": {},
   "source": [
    "And to remove the container:"
   ]
  },
  {
   "cell_type": "code",
   "execution_count": null,
   "metadata": {},
   "outputs": [],
   "source": [
    "docker rm vault"
   ]
  },
  {
   "cell_type": "markdown",
   "metadata": {},
   "source": [
    "### If you're running Vault using Docker Compose:\n",
    "\n",
    "To stop and remove the container, networks, volumes, and images defined by your Docker Compose file, use the `down` command:"
   ]
  },
  {
   "cell_type": "code",
   "execution_count": null,
   "metadata": {},
   "outputs": [],
   "source": [
    "docker-compose -f /tmp/config/vault/docker-compose.yaml down\n",
    "docker ps | grep -i vault"
   ]
  },
  {
   "cell_type": "markdown",
   "metadata": {},
   "source": [
    "### If you're running Vault as a local binary:\n",
    "\n",
    "To stop the Vault binary running on your localhost, you can use `pkill`:"
   ]
  },
  {
   "cell_type": "code",
   "execution_count": null,
   "metadata": {},
   "outputs": [],
   "source": [
    "pkill vault"
   ]
  },
  {
   "cell_type": "markdown",
   "metadata": {},
   "source": [
    "## 4. Clean up artifacts\n",
    "\n",
    "Finally, you might want to remove any data files generated by Vault and Docker. The specifics of this step will depend on your setup, but in general, you should remove any data files or directories that were created as part of running Vault. Make sure you only delete files and directories you know were created as part of this process to avoid losing important data."
   ]
  },
  {
   "cell_type": "code",
   "execution_count": null,
   "metadata": {},
   "outputs": [],
   "source": [
    "rm -rf /tmp/config/vault/*\n",
    "rm /tmp/vault_audit.log /tmp/vault_docker_compose.log\n",
    "rm -rf /tmp/config/vault/docker-compose.yaml"
   ]
  }
 ],
 "metadata": {
  "kernelspec": {
   "display_name": "Bash",
   "language": "bash",
   "name": "bash"
  },
  "language_info": {
   "codemirror_mode": "shell",
   "file_extension": ".sh",
   "mimetype": "text/x-sh",
   "name": "bash"
  }
 },
 "nbformat": 4,
 "nbformat_minor": 4
}
