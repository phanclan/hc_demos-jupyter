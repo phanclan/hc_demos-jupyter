{
 "cells": [
  {
   "cell_type": "markdown",
   "id": "6c25ccb1-9dc9-421d-88e7-51102fdd8ba5",
   "metadata": {},
   "source": [
    "# How to revoke tokens from Vault"
   ]
  },
  {
   "cell_type": "markdown",
   "id": "bb568b1b-6c66-4105-a224-6f8b037611f0",
   "metadata": {},
   "source": [
    "In this tutorial, we cover how to revoke a lot of tokens at once.\n",
    "\n",
    "Here are the high level steps:\n",
    "\n",
    "1. Get a list of accessors on a namespace.\n",
    "    1. I set an arbitrary limit of `100` due to concerns of load.\n",
    "    1. If you have millions of accessors, then you might want to increase this.\n",
    "1. Create a filtered list for revoking.\n",
    "    1. For each accessor, get relevant information such as policies, ttl, accessor, etc\n",
    "    1. Filter out unwanted items. Our example filters out:\n",
    "        - display name is `root` - don't want to delete root token\n",
    "        - ttl is less than an hour - let these age out on their own\n",
    "        - has the words `admin` or `root` - replace these with your own\n",
    "1. Revoke tokens based on list\n",
    "\n",
    "You might need to do this if you:\n",
    "- accidentally created a lot of tokens via automation\n",
    "- have long-lived tokens\n",
    "- reaching lease limits\n",
    "- impacting system resources"
   ]
  },
  {
   "cell_type": "markdown",
   "id": "88eadc8d-7440-4ee3-8414-e5103f3613ad",
   "metadata": {},
   "source": [
    "## Prerequisites"
   ]
  },
  {
   "cell_type": "markdown",
   "id": "30850695-f8ef-4ab6-938c-f53fb588a7d0",
   "metadata": {},
   "source": [
    "### vault server - optional"
   ]
  },
  {
   "cell_type": "markdown",
   "id": "6a3bbe94-9d3e-41b5-8e2e-b2233d20d1e8",
   "metadata": {},
   "source": [
    "Spin up a dev Vault server."
   ]
  },
  {
   "cell_type": "markdown",
   "id": "bfabb7cf-2840-4b51-8bef-39d1bd6dcd33",
   "metadata": {},
   "source": [
    "Specify vault enterprise version and license.\n",
    "- If you don't have a license, then don't run the following commands.\n",
    "- It will default to Vault version 1.7 which includes a 6 hour eval license."
   ]
  },
  {
   "cell_type": "code",
   "execution_count": null,
   "id": "718149f4-5b19-42aa-9540-b44ecb2eb02c",
   "metadata": {},
   "outputs": [],
   "source": [
    "VAULT_VERSION=1.10-ent\n",
    "export VAULT_LICENSE=$(cat ./vault.hclic)"
   ]
  },
  {
   "cell_type": "markdown",
   "id": "bc680f88-bb61-4dee-9253-1237eeedac11",
   "metadata": {},
   "source": [
    "Spin up Vault server container running in dev mode."
   ]
  },
  {
   "cell_type": "code",
   "execution_count": 7,
   "id": "c0af202b-73ec-4da6-939f-aaf5d764db7c",
   "metadata": {},
   "outputs": [],
   "source": [
    "mkdir -p /tmp/vault\n",
    "cat > /tmp/vault/config.hcl <<EOF\n",
    "# storage \"raft\" {\n",
    "#   path    = \"./vault/data\"\n",
    "#   node_id = \"node1\"\n",
    "# }\n",
    "storage \"file\" {\n",
    "  path = \"/vault/file\"\n",
    "}\n",
    "\n",
    "listener \"tcp\" {\n",
    "  address     = \"0.0.0.0:8200\"\n",
    "  tls_disable = \"true\"\n",
    "}\n",
    "\n",
    "disable_mlock = true\n",
    "\n",
    "api_addr = \"http://127.0.0.1:8200\"\n",
    "cluster_addr = \"https://127.0.0.1:8201\"\n",
    "ui = true\n",
    "EOF"
   ]
  },
  {
   "cell_type": "code",
   "execution_count": 9,
   "id": "71f54a15-ca1e-4396-91f6-c156ffb6b910",
   "metadata": {},
   "outputs": [
    {
     "name": "stdout",
     "output_type": "stream",
     "text": [
      "Error response from daemon: No such container: vault\n",
      "ff4c7b6db1fee1e73a488f7c09c99e8b721dd040dbee8fab37d0a7eba2ba1555\n",
      "ff4c7b6db1fe   hashicorp/\u001b[01;31m\u001b[Kvault\u001b[m\u001b[K-enterprise:1.7-ent   \"docker-entrypoint.s…\"   1 second ago   Up Less than a second   0.0.0.0:8200->8200/tcp, :::8200->8200/tcp                                                        \u001b[01;31m\u001b[Kvault\u001b[m\u001b[K\n"
     ]
    }
   ],
   "source": [
    "docker stop vault && docker rm vault\n",
    "# docker run --rm -d \\\n",
    "docker run -d \\\n",
    "    --name vault \\\n",
    "    -p 8200:8200 \\\n",
    "    -e \"VAULT_LICENSE=$VAULT_LICENSE\" \\\n",
    "    -e 'VAULT_DEV_ROOT_TOKEN_ID=root' \\\n",
    "    -e \"VAULT_ADDR=http://127.0.0.1:8200\" \\\n",
    "    --cap-add=IPC_LOCK \\\n",
    "    -v /tmp/vault/config.hcl:/vault/config/config.hcl \\\n",
    "    hashicorp/vault-enterprise:${VAULT_VERSION:-1.7-ent} \\\n",
    "    server\n",
    "docker ps | grep vault"
   ]
  },
  {
   "cell_type": "code",
   "execution_count": 40,
   "id": "0cca0e84-ed21-4a05-9439-7ae2e587e9e0",
   "metadata": {},
   "outputs": [],
   "source": [
    "#==> Prepare environment variables:\n",
    "export VAULT_ADDR=http://127.0.0.1:8200\n",
    "export VAULT_TOKEN=root\n",
    "unset VAULT_NAMESPACE"
   ]
  },
  {
   "cell_type": "markdown",
   "id": "6bd8acc5-5d95-42a5-bc90-3b8e268848b1",
   "metadata": {},
   "source": [
    "Save the unseal key(s) and root token."
   ]
  },
  {
   "cell_type": "code",
   "execution_count": 14,
   "id": "ba79d663-4474-4145-9b95-71359e8158d4",
   "metadata": {},
   "outputs": [],
   "source": [
    "vault operator init -format=json \\\n",
    "  -key-shares=1 -key-threshold=1 | tee /tmp/vault/vault.init"
   ]
  },
  {
   "cell_type": "code",
   "execution_count": 35,
   "id": "de93f394-36b8-4546-a82a-7bcafbfcafca",
   "metadata": {},
   "outputs": [
    {
     "name": "stdout",
     "output_type": "stream",
     "text": [
      "s.pwjXATOMWpo9KM56mLMXamf3\n"
     ]
    }
   ],
   "source": [
    "export VAULT_TOKEN=$(jq -r .root_token /tmp/vault/vault.init)\n",
    "echo $VAULT_TOKEN"
   ]
  },
  {
   "cell_type": "code",
   "execution_count": 29,
   "id": "efc4ba7d-f3ca-4064-a73b-bf47dbc4aaa5",
   "metadata": {},
   "outputs": [
    {
     "name": "stdout",
     "output_type": "stream",
     "text": [
      "s.pwjXATOMWpo9KM56mLMXamf3\n",
      "/Xm2ZOX0UxaWdQZENll/kYrdPeMM9Gp1HPK+UKqY1vc=\n"
     ]
    }
   ],
   "source": [
    "VAULT_UNSEAL_KEY1=$(jq -r .unseal_keys_b64[0] /tmp/vault/vault.init) && echo $VAULT_UNSEAL_KEY1"
   ]
  },
  {
   "cell_type": "code",
   "execution_count": 23,
   "id": "ab6ddd0e-e608-47a1-8ddc-a63a0fc38faa",
   "metadata": {},
   "outputs": [
    {
     "name": "stdout",
     "output_type": "stream",
     "text": [
      "\u001b[0mKey             Value\n",
      "---             -----\n",
      "Seal Type       shamir\n",
      "Initialized     true\n",
      "Sealed          false\n",
      "Total Shares    1\n",
      "Threshold       1\n",
      "Version         1.7.10+ent\n",
      "Storage Type    file\n",
      "Cluster Name    vault-cluster-269b24c8\n",
      "Cluster ID      e0860d4c-2db7-e75b-8559-9f3ac839b0e6\n",
      "HA Enabled      false\u001b[0m\n"
     ]
    }
   ],
   "source": [
    "vault operator unseal $VAULT_UNSEAL_KEY1"
   ]
  },
  {
   "cell_type": "code",
   "execution_count": 22,
   "id": "00e82088-5d0f-4b93-92bf-1cd9de939d87",
   "metadata": {},
   "outputs": [
    {
     "name": "stdout",
     "output_type": "stream",
     "text": [
      "{\n",
      "  \"unseal_keys_b64\": [\n",
      "    \"/Xm2ZOX0UxaWdQZENll/kYrdPeMM9Gp1HPK+UKqY1vc=\"\n",
      "  ],\n",
      "  \"unseal_keys_hex\": [\n",
      "    \"fd79b664e5f453169675064436597f918add3de30cf46a751cf2be50aa98d6f7\"\n",
      "  ],\n",
      "  \"unseal_shares\": 1,\n",
      "  \"unseal_threshold\": 1,\n",
      "  \"recovery_keys_b64\": [],\n",
      "  \"recovery_keys_hex\": [],\n",
      "  \"recovery_keys_shares\": 5,\n",
      "  \"recovery_keys_threshold\": 3,\n",
      "  \"root_token\": \"s.pwjXATOMWpo9KM56mLMXamf3\"\n",
      "}\n"
     ]
    }
   ],
   "source": [
    "cat /tmp/vault/vault.init"
   ]
  },
  {
   "cell_type": "markdown",
   "id": "546bc60d-293f-4259-9d3c-54a48ea15312",
   "metadata": {},
   "source": [
    "Verify"
   ]
  },
  {
   "cell_type": "code",
   "execution_count": 42,
   "id": "7f26c21d-0e57-4147-9dd6-68f439e294af",
   "metadata": {},
   "outputs": [
    {
     "name": "stdout",
     "output_type": "stream",
     "text": [
      "\u001b[0mKey             Value\n",
      "---             -----\n",
      "Seal Type       shamir\n",
      "Initialized     true\n",
      "Sealed          false\n",
      "Total Shares    1\n",
      "Threshold       1\n",
      "Version         1.7.10+ent\n",
      "Storage Type    file\n",
      "Cluster Name    vault-cluster-269b24c8\n",
      "Cluster ID      e0860d4c-2db7-e75b-8559-9f3ac839b0e6\n",
      "HA Enabled      false\u001b[0m\n",
      "\n",
      "\u001b[0mPath          Type         Accessor              Description\n",
      "----          ----         --------              -----------\n",
      "cubbyhole/    cubbyhole    cubbyhole_d2410794    per-token private secret storage\n",
      "identity/     identity     identity_32981e20     identity store\n",
      "sys/          system       system_ac78f3d1       system endpoints used for control, policy and debugging\u001b[0m\n"
     ]
    }
   ],
   "source": [
    "vault status; echo; vault secrets list"
   ]
  },
  {
   "cell_type": "markdown",
   "id": "eebf34b8-a9e9-40e7-bbc2-18ec3b37fbf5",
   "metadata": {},
   "source": [
    "### namespace - optional"
   ]
  },
  {
   "cell_type": "code",
   "execution_count": 47,
   "id": "0b7b90f9-50bf-4a2d-94c4-cb97aca475f6",
   "metadata": {},
   "outputs": [],
   "source": [
    "VAULT_NAMESPACE_NS1=coke"
   ]
  },
  {
   "cell_type": "code",
   "execution_count": 49,
   "id": "c42e4015-1b80-48f4-998e-0527c1278183",
   "metadata": {},
   "outputs": [
    {
     "name": "stdout",
     "output_type": "stream",
     "text": [
      "\u001b[0mKey     Value\n",
      "---     -----\n",
      "id      Pubjt\n",
      "path    coke/\u001b[0m\n"
     ]
    }
   ],
   "source": [
    "vault namespace create $VAULT_NAMESPACE_NS1\n",
    "export VAULT_NAMESPACE=$VAULT_NAMESPACE_NS1"
   ]
  },
  {
   "cell_type": "code",
   "execution_count": null,
   "id": "c71f4459-6057-4ff2-9d69-e0b60b250c30",
   "metadata": {},
   "outputs": [],
   "source": [
    "vault secrets list"
   ]
  },
  {
   "cell_type": "markdown",
   "id": "622ee3cc-df7d-4656-bba5-cc2b873dc727",
   "metadata": {},
   "source": [
    "## Steps"
   ]
  },
  {
   "cell_type": "markdown",
   "id": "d8d96579-53d2-45c7-aa54-750957fa5d6f",
   "metadata": {},
   "source": [
    "### create vault tokens<a name=create_vault_tokens></a>"
   ]
  },
  {
   "cell_type": "markdown",
   "id": "2d8c3fe3-0c81-4aca-8d86-3258212245ac",
   "metadata": {},
   "source": [
    "- 2000 tokens takes 34 seconds"
   ]
  },
  {
   "cell_type": "markdown",
   "id": "8ade003f-5417-440e-82ab-f6d46ff0171d",
   "metadata": {},
   "source": [
    "API option"
   ]
  },
  {
   "cell_type": "code",
   "execution_count": 154,
   "id": "aa63b972-6032-48ac-978b-df34fb4918f0",
   "metadata": {
    "tags": []
   },
   "outputs": [
    {
     "name": "stdout",
     "output_type": "stream",
     "text": [
      "#==> Create test tokens. ttl: 2h. policy: dev ops.\n",
      "\n",
      "real\t0m34.129s\n",
      "user\t0m13.431s\n",
      "sys\t0m15.283s\n",
      "#==> Create test tokens. ttl: 90m. policy: admin ops.\n",
      "\n",
      "real\t0m0.054s\n",
      "user\t0m0.033s\n",
      "sys\t0m0.013s\n"
     ]
    }
   ],
   "source": [
    "printf \"#==> Create test tokens. ttl: 2h. policy: dev ops.\\n\"\n",
    "\n",
    "time for x in {1..2000}; do\n",
    "  # vault token create -ttl=2h -policy=dev > /dev/null 2>&1\n",
    "# vault token create -ttl=90m -policy=ops > /dev/null 2>&1\n",
    "curl -s \\\n",
    "  --header \"X-Vault-Token: $VAULT_TOKEN\" \\\n",
    "  --header \"X-Vault-Namespace: $VAULT_NAMESPACE\" \\\n",
    "  --request POST \\\n",
    "  --data '{\"policies\": [\"dev\"],\"ttl\":\"2h\"}' \\\n",
    "  ${VAULT_ADDR}/v1/auth/token/create > /dev/null\n",
    "curl -s \\\n",
    "  --header \"X-Vault-Token: $VAULT_TOKEN\" \\\n",
    "  --header \"X-Vault-Namespace: $VAULT_NAMESPACE\" \\\n",
    "  --request POST \\\n",
    "  --data '{\"policies\": [\"ops\"],\"ttl\":\"2h\"}' \\\n",
    "  ${VAULT_ADDR}/v1/auth/token/create > /dev/null\n",
    "done\n",
    "\n",
    "printf \"#==> Create test tokens. ttl: 90m. policy: admin ops.\\n\"\n",
    "time for x in {1..5}; do\n",
    "  # vault token create -ttl=90m -policy=ops -policy=admin > /dev/null 2>&1\n",
    "  # vault token create -ttl=90m -policy=admin > /dev/null 2>&1\n",
    "curl -s \\\n",
    "  --header \"X-Vault-Token: $VAULT_TOKEN\" \\\n",
    "  --header \"X-Vault-Namespace: $VAULT_NAMESPACE\" \\\n",
    "  --request POST \\\n",
    "  --data '{\"policies\": [\"ops\",\"admin\"],\"ttl\":\"90m\"}' \\\n",
    "  ${VAULT_ADDR}/v1/auth/token/create > /dev/null\n",
    "curl -s \\\n",
    "  --header \"X-Vault-Token: $VAULT_TOKEN\" \\\n",
    "  --header \"X-Vault-Namespace: $VAULT_NAMESPACE\" \\\n",
    "  --request POST \\\n",
    "  --data '{\"policies\": [\"admin\"],\"ttl\":\"90m\"}' \\\n",
    "  ${VAULT_ADDR}/v1/auth/token/create > /dev/null\n",
    "\n",
    "done"
   ]
  },
  {
   "cell_type": "markdown",
   "id": "9ef40d2c-b13f-4cdc-9090-b7971ac34c3a",
   "metadata": {},
   "source": [
    "CLI options"
   ]
  },
  {
   "cell_type": "markdown",
   "id": "3ce5b7f3-517e-4a58-bb5d-272b359b97de",
   "metadata": {
    "tags": []
   },
   "source": [
    "```shell\n",
    "printf \"#==> Create test tokens. ttl: 2h. policy: dev ops.\\n\"\n",
    "\n",
    "time for x in {1..20}; do\n",
    "  vault token create -ttl=2s -policy=dev > /dev/null 2>&1\n",
    "  vault token create -ttl=2s -policy=ops > /dev/null 2>&1\n",
    "done\n",
    "\n",
    "printf \"#==> Create test tokens. ttl: 90m. policy: admin ops.\\n\"\n",
    "time for x in {1..5}; do\n",
    "  vault token create -ttl=2s -policy=ops -policy=admin > /dev/null 2>&1\n",
    "  vault token create -ttl=2s -policy=admin > /dev/null 2>&1\n",
    "done\n",
    "```"
   ]
  },
  {
   "cell_type": "markdown",
   "id": "454f6dbe-ae13-43b7-a2f9-4d7b6eee6f63",
   "metadata": {},
   "source": [
    "### Get initial list of accessors"
   ]
  },
  {
   "cell_type": "markdown",
   "id": "7a000ce7-afe2-4abb-b3ca-52f9de9e58a8",
   "metadata": {},
   "source": [
    "Send specified number (`1000`) of accessors to a list."
   ]
  },
  {
   "cell_type": "markdown",
   "id": "45672022-5bd1-422d-b38d-39ae61f0dded",
   "metadata": {},
   "source": [
    "API option"
   ]
  },
  {
   "cell_type": "code",
   "execution_count": 195,
   "id": "4b87823a-6087-4631-ae7d-e3dd11e77776",
   "metadata": {
    "tags": []
   },
   "outputs": [
    {
     "name": "stdout",
     "output_type": "stream",
     "text": [
      "\n",
      "#==> Get list of token accessors and place into variable\n",
      "\n",
      "real\t0m0.037s\n",
      "user\t0m0.026s\n",
      "sys\t0m0.000s\n",
      "\n",
      "#==> Quick check of list\n",
      "Lines in list: 1000\n",
      "HFm4s0bhJPP6a1hI99nUCJtq.Pubjt\n",
      "8LeXP5XKdfZ9aaJjkPXBh6Av.Pubjt\n",
      "LHGuRMJieaxBMwtH93KL8GBq.Pubjt\n",
      "27EIBiwivH30W14LVpYMxbya.Pubjt\n",
      "FV44XiYgcERyYLFWnA7rNzdY.Pubjt\n",
      "zZzI5ldkXptUVN0UoXgz9NJ7.Pubjt\n",
      "dYsoNQUZO9kxmG4ySTlfNZTP.Pubjt\n",
      "F979MwQBYxVmUHhU2BocgKXx.Pubjt\n",
      "56TIiaEnF7woIRba8wZotOmb.Pubjt\n",
      "Z4xk9t8rlWfOkYvNe7ocKUnh.Pubjt\n"
     ]
    }
   ],
   "source": [
    "printf \"\\n#==> Get list of token accessors and place into variable\\n\"\n",
    "time curl -s \\\n",
    "  --header \"X-Vault-Token: $VAULT_TOKEN\" \\\n",
    "  --header \"X-Vault-Namespace: $VAULT_NAMESPACE\" \\\n",
    "  --request LIST \\\n",
    "  ${VAULT_ADDR}/v1/auth/token/accessors \\\n",
    "  | jq -r .data.keys[] \\\n",
    "  > /tmp/vault_accessors.out\n",
    "\n",
    "\n",
    "head -n 1000 /tmp/vault_accessors.out > /tmp/vault_accessors_short.out\n",
    "\n",
    "\n",
    "printf \"\\n#==> Quick check of list\\n\"\n",
    "printf \"Lines in list: $(cat /tmp/vault_accessors_short.out | wc -l)\\n\"\n",
    "head /tmp/vault_accessors_short.out"
   ]
  },
  {
   "cell_type": "markdown",
   "id": "382f9f9f-588e-4bf0-b57c-f114dac46b5a",
   "metadata": {},
   "source": [
    "CLI Option"
   ]
  },
  {
   "cell_type": "markdown",
   "id": "34dbe8ba-bda3-44f3-9e62-d11e1a118b38",
   "metadata": {
    "tags": []
   },
   "source": [
    "```shell\n",
    "printf \"\\n#==> Get list of token accessors and place into variable\\n\"\n",
    "time vault list auth/token/accessors | head -n 102 | tail -n +3 \\\n",
    "  > /tmp/vault_accessors.out\n",
    "\n",
    "printf \"\\n#==> Quick check of list\\n\"\n",
    "printf \"Lines in list: $(cat /tmp/vault_accessors.out | wc -l)\\n\"\n",
    "head /tmp/vault_accessors.out\n",
    "```"
   ]
  },
  {
   "cell_type": "markdown",
   "id": "9c4d47d4-f7d8-46d9-b80b-48e2f8414611",
   "metadata": {},
   "source": [
    "### Create a filtered list"
   ]
  },
  {
   "cell_type": "markdown",
   "id": "dda750c6-e534-4749-876e-58ac5ab46dab",
   "metadata": {},
   "source": [
    "Create a file that contains json of accessors that don't have the `admin` or `root` policy.\n",
    "- You can replace that with other policies that you don't want to include.\n",
    "- In our example, only tokens that have `dev` but not `admin` or `root` will be included.\n",
    "- show display_name, creation_time, policies, accessor, and ttl (converted to hours)."
   ]
  },
  {
   "cell_type": "markdown",
   "id": "bb133da5-ded9-47bc-ac70-d18884585cd7",
   "metadata": {},
   "source": [
    "API option"
   ]
  },
  {
   "cell_type": "code",
   "execution_count": 196,
   "id": "d1542be4-341b-4317-9d7e-7cad85397fea",
   "metadata": {
    "tags": []
   },
   "outputs": [
    {
     "name": "stdout",
     "output_type": "stream",
     "text": [
      "\n",
      "#==> Lookup accessors in variable and save data to file.\n",
      "#==> Exclude tokens with root policy.\n",
      "\n",
      "\n",
      "real\t0m40.246s\n",
      "user\t1m9.420s\n",
      "sys\t0m13.659s\n",
      "\n",
      "#==> Accessors in list: 984\n",
      "\n",
      "#==> Quick check of list\n",
      "{\"Display_Name\":\"token\",\"Creation_Time\":\"2022-07-25T16:52\",\"Policies\":[\"default\",\"dev\"],\"Accessor\":\"FV44XiYgcERyYLFWnA7rNzdY.Pubjt\",\"ttl\":61}\n",
      "{\"Display_Name\":\"token\",\"Creation_Time\":\"2022-07-25T16:52\",\"Policies\":[\"default\",\"dev\"],\"Accessor\":\"zZzI5ldkXptUVN0UoXgz9NJ7.Pubjt\",\"ttl\":61}\n",
      "{\"Display_Name\":\"token\",\"Creation_Time\":\"2022-07-25T16:51\",\"Policies\":[\"default\",\"ops\"],\"Accessor\":\"dYsoNQUZO9kxmG4ySTlfNZTP.Pubjt\",\"ttl\":60}\n",
      "{\"Display_Name\":\"token\",\"Creation_Time\":\"2022-07-25T16:51\",\"Policies\":[\"default\",\"dev\"],\"Accessor\":\"F979MwQBYxVmUHhU2BocgKXx.Pubjt\",\"ttl\":60}\n",
      "{\"Display_Name\":\"token\",\"Creation_Time\":\"2022-07-25T16:51\",\"Policies\":[\"default\",\"dev\"],\"Accessor\":\"56TIiaEnF7woIRba8wZotOmb.Pubjt\",\"ttl\":60}\n",
      "{\"Display_Name\":\"token\",\"Creation_Time\":\"2022-07-25T16:51\",\"Policies\":[\"default\",\"dev\"],\"Accessor\":\"Z4xk9t8rlWfOkYvNe7ocKUnh.Pubjt\",\"ttl\":60}\n",
      "{\"Display_Name\":\"token\",\"Creation_Time\":\"2022-07-25T16:51\",\"Policies\":[\"default\",\"dev\"],\"Accessor\":\"VFaIfAUra0liMMONsNJOjLjr.Pubjt\",\"ttl\":60}\n",
      "{\"Display_Name\":\"token\",\"Creation_Time\":\"2022-07-25T16:51\",\"Policies\":[\"default\",\"dev\"],\"Accessor\":\"1lWfmGjUvUMqtaVWrEaCsjsW.Pubjt\",\"ttl\":60}\n",
      "{\"Display_Name\":\"token\",\"Creation_Time\":\"2022-07-25T16:51\",\"Policies\":[\"default\",\"dev\"],\"Accessor\":\"r9z5HARPnVdofyZv7jsDS6hs.Pubjt\",\"ttl\":60}\n",
      "{\"Display_Name\":\"token\",\"Creation_Time\":\"2022-07-25T16:51\",\"Policies\":[\"default\",\"ops\"],\"Accessor\":\"YSLHqGxvf6TK4r3vwuwI7MNS.Pubjt\",\"ttl\":60}\n"
     ]
    }
   ],
   "source": [
    "printf \"\\n#==> Lookup accessors in variable and save data to file.\\n\"\n",
    "printf \"#==> Exclude tokens with root policy.\\n\\n\"\n",
    "time while read accessor; do\n",
    "curl -s \\\n",
    "  --header \"X-Vault-Token: $VAULT_TOKEN\" \\\n",
    "  --header \"X-Vault-Namespace: $VAULT_NAMESPACE\" \\\n",
    "  --request POST \\\n",
    "  --data \"{\\\"accessor\\\": \\\"$accessor\\\"}\" \\\n",
    "  ${VAULT_ADDR}/v1/auth/token/lookup-accessor \\\n",
    "  | jq -c .data \\\n",
    "  | grep -Ev \"admin|root\" \\\n",
    "  | jq -c 'select((.display_name == \"root\"|not) and .ttl > 60 ) ' \\\n",
    "  | jq -c '{Display_Name: .display_name, \n",
    "  Creation_Time:(.creation_time | strflocaltime(\"%Y-%m-%dT%H:%M\")),\n",
    "  Policies: .policies, Accessor: .accessor, ttl: (.ttl/60 | round ) }'\n",
    "done < /tmp/vault_accessors_short.out | tee /tmp/vault_accessors_delete.out > /dev/null\n",
    "\n",
    "printf \"\\n#==> Accessors in list: $(cat /tmp/vault_accessors_delete.out | wc -l)\\n\"\n",
    "printf \"\\n#==> Quick check of list\\n\"\n",
    "head /tmp/vault_accessors_delete.out"
   ]
  },
  {
   "cell_type": "markdown",
   "id": "0db95995-eff4-4f07-a7c4-bdf222e106fe",
   "metadata": {},
   "source": [
    "CLI option"
   ]
  },
  {
   "cell_type": "markdown",
   "id": "f7ee1877-35e8-4314-ae7b-f4d187b783ac",
   "metadata": {
    "tags": []
   },
   "source": [
    "```shell\n",
    "printf \"\\n#==> Lookup accessors in variable and save data to file.\\n\"\n",
    "printf \"#==> Exclude tokens with root policy.\\n\\n\"\n",
    "time while read accessor; do\n",
    "# echo vault token lookup -format=json -accessor $accessor   #debug\n",
    "vault token lookup -format=json -accessor $accessor \\\n",
    "  | jq -c .data \\\n",
    "  | grep -Ev \"admin|root\" \\\n",
    "  | jq -c 'select((.display_name == \"root\"|not) and .ttl > 60 ) ' \\\n",
    "  | jq -c '{Display_Name: .display_name, \n",
    "  Creation_Time:(.creation_time | strflocaltime(\"%Y-%m-%dT%H:%M\")),\n",
    "  Policies: .policies, Accessor: .accessor, ttl: (.ttl/60 | round ) }'\n",
    "done < /tmp/vault_accessors.out | tee /tmp/vault_accessors_delete.out > /dev/null\n",
    "```"
   ]
  },
  {
   "cell_type": "markdown",
   "id": "638dfcb4-dddb-4ee7-8b26-4945305d5488",
   "metadata": {},
   "source": [
    "Check to make sure `vault_accessors_delete.out` file got populated."
   ]
  },
  {
   "cell_type": "code",
   "execution_count": 197,
   "id": "f9c3d95a-bfee-4934-8f2b-22b7ba7f8ede",
   "metadata": {},
   "outputs": [
    {
     "name": "stdout",
     "output_type": "stream",
     "text": [
      "\n",
      "#==> Show a few lines from the file\n",
      "{\"Display_Name\":\"token\",\"Creation_Time\":\"2022-07-25T16:52\",\"Policies\":[\"default\",\"dev\"],\"Accessor\":\"FV44XiYgcERyYLFWnA7rNzdY.Pubjt\",\"ttl\":61}\n",
      "{\"Display_Name\":\"token\",\"Creation_Time\":\"2022-07-25T16:52\",\"Policies\":[\"default\",\"dev\"],\"Accessor\":\"zZzI5ldkXptUVN0UoXgz9NJ7.Pubjt\",\"ttl\":61}\n",
      "{\"Display_Name\":\"token\",\"Creation_Time\":\"2022-07-25T16:51\",\"Policies\":[\"default\",\"ops\"],\"Accessor\":\"dYsoNQUZO9kxmG4ySTlfNZTP.Pubjt\",\"ttl\":60}\n",
      "{\"Display_Name\":\"token\",\"Creation_Time\":\"2022-07-25T16:51\",\"Policies\":[\"default\",\"dev\"],\"Accessor\":\"F979MwQBYxVmUHhU2BocgKXx.Pubjt\",\"ttl\":60}\n",
      "{\"Display_Name\":\"token\",\"Creation_Time\":\"2022-07-25T16:51\",\"Policies\":[\"default\",\"dev\"],\"Accessor\":\"56TIiaEnF7woIRba8wZotOmb.Pubjt\",\"ttl\":60}\n",
      "{\"Display_Name\":\"token\",\"Creation_Time\":\"2022-07-25T16:51\",\"Policies\":[\"default\",\"dev\"],\"Accessor\":\"Z4xk9t8rlWfOkYvNe7ocKUnh.Pubjt\",\"ttl\":60}\n",
      "{\"Display_Name\":\"token\",\"Creation_Time\":\"2022-07-25T16:51\",\"Policies\":[\"default\",\"dev\"],\"Accessor\":\"VFaIfAUra0liMMONsNJOjLjr.Pubjt\",\"ttl\":60}\n",
      "{\"Display_Name\":\"token\",\"Creation_Time\":\"2022-07-25T16:51\",\"Policies\":[\"default\",\"dev\"],\"Accessor\":\"1lWfmGjUvUMqtaVWrEaCsjsW.Pubjt\",\"ttl\":60}\n",
      "{\"Display_Name\":\"token\",\"Creation_Time\":\"2022-07-25T16:51\",\"Policies\":[\"default\",\"dev\"],\"Accessor\":\"r9z5HARPnVdofyZv7jsDS6hs.Pubjt\",\"ttl\":60}\n",
      "{\"Display_Name\":\"token\",\"Creation_Time\":\"2022-07-25T16:51\",\"Policies\":[\"default\",\"ops\"],\"Accessor\":\"YSLHqGxvf6TK4r3vwuwI7MNS.Pubjt\",\"ttl\":60}\n",
      "\n",
      "#==> Make sure nothing with root/admin slipped through\n",
      "nada\n"
     ]
    }
   ],
   "source": [
    "printf \"\\n#==> Show a few lines from the file\\n\"\n",
    "head /tmp/vault_accessors_delete.out\n",
    "printf \"\\n#==> Make sure nothing with root/admin slipped through\\n\"\n",
    "grep -e \"root | admin\" /tmp/vault_accessors_delete.out || echo \"nada\""
   ]
  },
  {
   "cell_type": "markdown",
   "id": "5f264e34-012e-4af8-9d3e-4a2bcbaf073d",
   "metadata": {},
   "source": [
    "### Revoke tokens based on filtered list"
   ]
  },
  {
   "cell_type": "markdown",
   "id": "fab22176-720e-4c89-8458-991826f422f6",
   "metadata": {},
   "source": [
    "API option"
   ]
  },
  {
   "cell_type": "code",
   "execution_count": 198,
   "id": "a98981bd-1332-4d1a-ac21-178c0906a0e0",
   "metadata": {
    "tags": []
   },
   "outputs": [
    {
     "name": "stdout",
     "output_type": "stream",
     "text": [
      "\n",
      "#==> Lookup accessors in variable and save data to file.\n",
      "#==> Exclude tokens with root policy.\n",
      "\n",
      "\n",
      "real\t0m7.666s\n",
      "user\t0m3.032s\n",
      "sys\t0m2.895s\n"
     ]
    }
   ],
   "source": [
    "printf \"\\n#==> Lookup accessors in variable and save data to file.\\n\"\n",
    "printf \"#==> Exclude tokens with root policy.\\n\\n\"\n",
    "time while read accessor; do\n",
    "curl -s \\\n",
    "  --header \"X-Vault-Token: $VAULT_TOKEN\" \\\n",
    "  --header \"X-Vault-Namespace: $VAULT_NAMESPACE\" \\\n",
    "  --request POST \\\n",
    "  --data \"{\\\"accessor\\\": \\\"$accessor\\\"}\" \\\n",
    "  ${VAULT_ADDR}/v1/auth/token/revoke-accessor\n",
    "done < <(jq -r .Accessor /tmp/vault_accessors_delete.out) | tee /tmp/vault_revoke.log\n",
    "tail  /tmp/vault_revoke.log"
   ]
  },
  {
   "cell_type": "markdown",
   "id": "b1edf657-a969-41ce-9012-6c7c79f77d18",
   "metadata": {},
   "source": [
    "> For API - you will get error if accessor is not valid.\n",
    "> `{\"errors\":[\"1 error occurred:\\n\\t* invalid accessor\\n\\n\"]}`\n",
    "\n",
    "> For CLI - you will get an opaque message.\n",
    "> `Success! Revoked token (if it existed)`\n"
   ]
  },
  {
   "cell_type": "markdown",
   "id": "db8fb99c-213d-48f6-9acf-2471bff15de0",
   "metadata": {},
   "source": [
    "CLI option"
   ]
  },
  {
   "cell_type": "markdown",
   "id": "c7008ea6-b704-4455-bde4-cec31101182d",
   "metadata": {
    "tags": []
   },
   "source": [
    "```shell\n",
    "printf \"#==> Revoke tokens. Be careful of any tokens with special privileges.\\n\"\n",
    "jq -r .Accessor /tmp/vault_accessors_delete.out | while read delete; do\n",
    "  vault token revoke -accessor $delete > /tmp/vault_revoke.log\n",
    "done\n",
    "\n",
    "printf \"#==> Show log of revoke activity.\\n\"\n",
    "tail /tmp/vault_revoke.log\n",
    "```"
   ]
  },
  {
   "cell_type": "markdown",
   "id": "c0d2e77d-6311-4c93-ab07-cfbaf324d10f",
   "metadata": {},
   "source": [
    "Sample Output\n",
    "```\n",
    "#==> Revoke tokens. Be careful of any tokens with special privileges.\n",
    "Success! Revoked token (if it existed)\n",
    "Success! Revoked token (if it existed)\n",
    "Success! Revoked token (if it existed)\n",
    "Success! Revoked token (if it existed)\n",
    "Success! Revoked token (if it existed)\n",
    "Success! Revoked token (if it existed)\n",
    "Success! Revoked token (if it existed)\n",
    "Success! Revoked token (if it existed)\n",
    "Success! Revoked token (if it existed)\n",
    "Success! Revoked token (if it existed)\n",
    "Success! Revoked token (if it existed)\n",
    "```"
   ]
  },
  {
   "cell_type": "markdown",
   "id": "4e174f9c-786e-49ac-8cd0-2e2d172eede7",
   "metadata": {},
   "source": [
    "### how many left"
   ]
  },
  {
   "cell_type": "markdown",
   "id": "09822ab4-3d5b-4a52-95e6-ef9eac74b86f",
   "metadata": {},
   "source": [
    "See how many items are left. Check the next 50 items."
   ]
  },
  {
   "cell_type": "markdown",
   "id": "085a6711-2443-465b-82c8-3a68141617ec",
   "metadata": {},
   "source": [
    "API Option"
   ]
  },
  {
   "cell_type": "code",
   "execution_count": 199,
   "id": "4aeb1f02-f5ae-4643-be0c-c15ad29f69f7",
   "metadata": {
    "tags": []
   },
   "outputs": [
    {
     "name": "stdout",
     "output_type": "stream",
     "text": [
      "\n",
      "#==> Get list of token accessors and place into variable\n",
      "\n",
      "real\t0m0.036s\n",
      "user\t0m0.025s\n",
      "sys\t0m0.010s\n",
      "\n",
      "#==> Number of accessors remaining:\n",
      "2450\n",
      "\n"
     ]
    }
   ],
   "source": [
    "printf \"\\n#==> Get list of token accessors and place into variable\\n\"\n",
    "time curl -s \\\n",
    "  --header \"X-Vault-Token: $VAULT_TOKEN\" \\\n",
    "  --header \"X-Vault-Namespace: $VAULT_NAMESPACE\" \\\n",
    "  --request LIST \\\n",
    "  ${VAULT_ADDR}/v1/auth/token/accessors | jq -r .data.keys[] \\\n",
    "  > /tmp/vault_accessors_remaining.out\n",
    "\n",
    "printf \"\\n#==> Number of accessors remaining:\n",
    "$(cat /tmp/vault_accessors_remaining.out | wc -l)\\n\\n\""
   ]
  },
  {
   "cell_type": "markdown",
   "id": "4ddf88c9-02ba-42bc-a45a-7ab2b5ccbc64",
   "metadata": {},
   "source": [
    "CLI option"
   ]
  },
  {
   "cell_type": "markdown",
   "id": "c736d41e-77ae-483e-b3f0-9f41b397fee3",
   "metadata": {
    "tags": []
   },
   "source": [
    "```shell\n",
    "printf \"\\n#==> Show all token accessors in current namespace\\n\"\n",
    "vault list auth/token/accessors | grep -v admin | wc -l\n",
    "vault list auth/token/accessors | head -n 52 | tail -n +3 | while read accessor; do\n",
    "vault token lookup -format=json -accessor $accessor \\\n",
    "  | jq -c \".data | {Display_Name: .display_name, Creation_Time:.creation_time, \n",
    "  Policies: .policies, Accessor: .accessor,\n",
    "  ttl: (.ttl/60 | round )}\"\n",
    "done\n",
    "```"
   ]
  },
  {
   "cell_type": "markdown",
   "id": "f6261c71-6eec-4e8d-8746-d43aacf4f35c",
   "metadata": {},
   "source": [
    "Sample\n",
    "```shell\n",
    "#==> Show all token accessors in current namespace\n",
    "26\n",
    "{\"Display_Name\":\"token\",\"Creation_Time\":1658190366,\"Policies\":[\"root\"],\"Accessor\":\"2mvhslx6DCngBa4URtJnTdVa\",\"ttl\":0}\n",
    "{\"Display_Name\":\"token\",\"Creation_Time\":1658260574,\"Policies\":[\"admin\",\"default\",\"ops\"],\"Accessor\":\"3j4PCfh6LrGBUnqTsnwq7pMH\",\"ttl\":51}\n",
    "{\"Display_Name\":\"token\",\"Creation_Time\":1658260574,\"Policies\":[\"admin\",\"default\",\"ops\"],\"Accessor\":\"5mYcgY1vjcgXLTX9L0qsSO28\",\"ttl\":51}\n",
    "{\"Display_Name\":\"token\",\"Creation_Time\":1658260573,\"Policies\":[\"admin\",\"default\"],\"Accessor\":\"E80ZcAgPrinBEjkdfgfUnz9C\",\"ttl\":51}\n",
    "{\"Display_Name\":\"token\",\"Creation_Time\":1658260573,\"Policies\":[\"admin\",\"default\",\"ops\"],\"Accessor\":\"KguRtymstS5oPgHcRe1ODesf\",\"ttl\":51}\n",
    "{\"Display_Name\":\"token\",\"Creation_Time\":1658260574,\"Policies\":[\"admin\",\"default\",\"ops\"],\"Accessor\":\"MfAQeLb8IYBVoBqkrNQLDhQ5\",\"ttl\":51}\n",
    "<snip>\n",
    "```"
   ]
  },
  {
   "cell_type": "markdown",
   "id": "72d5d9f6-4db5-4f45-ace8-841c958325aa",
   "metadata": {},
   "source": [
    "### tidy"
   ]
  },
  {
   "cell_type": "markdown",
   "id": "0c5a9b0a-d862-49cd-8229-c4dd68bf5db3",
   "metadata": {},
   "source": [
    "API option"
   ]
  },
  {
   "cell_type": "code",
   "execution_count": 200,
   "id": "e2291b36-c2a4-4aba-bbd9-c7f3b578f7aa",
   "metadata": {
    "tags": []
   },
   "outputs": [
    {
     "name": "stdout",
     "output_type": "stream",
     "text": [
      "  % Total    % Received % Xferd  Average Speed   Time    Time     Time  Current\n",
      "                                 Dload  Upload   Total   Spent    Left  Speed\n",
      "100   272  100   272    0     0   265k      0 --:--:-- --:--:-- --:--:--  265k\n",
      "\u001b[1;39m{\n",
      "  \u001b[0m\u001b[34;1m\"request_id\"\u001b[0m\u001b[1;39m: \u001b[0m\u001b[0;32m\"eb9ff7df-436e-2bdc-2fa2-9b0be3246573\"\u001b[0m\u001b[1;39m,\n",
      "  \u001b[0m\u001b[34;1m\"lease_id\"\u001b[0m\u001b[1;39m: \u001b[0m\u001b[0;32m\"\"\u001b[0m\u001b[1;39m,\n",
      "  \u001b[0m\u001b[34;1m\"renewable\"\u001b[0m\u001b[1;39m: \u001b[0m\u001b[0;39mfalse\u001b[0m\u001b[1;39m,\n",
      "  \u001b[0m\u001b[34;1m\"lease_duration\"\u001b[0m\u001b[1;39m: \u001b[0m\u001b[0;39m0\u001b[0m\u001b[1;39m,\n",
      "  \u001b[0m\u001b[34;1m\"data\"\u001b[0m\u001b[1;39m: \u001b[0m\u001b[1;30mnull\u001b[0m\u001b[1;39m,\n",
      "  \u001b[0m\u001b[34;1m\"wrap_info\"\u001b[0m\u001b[1;39m: \u001b[0m\u001b[1;30mnull\u001b[0m\u001b[1;39m,\n",
      "  \u001b[0m\u001b[34;1m\"warnings\"\u001b[0m\u001b[1;39m: \u001b[0m\u001b[1;39m[\n",
      "    \u001b[0;32m\"Tidy operation successfully started. Any information from the operation will be printed to Vault's server logs.\"\u001b[0m\u001b[1;39m\n",
      "  \u001b[1;39m]\u001b[0m\u001b[1;39m,\n",
      "  \u001b[0m\u001b[34;1m\"auth\"\u001b[0m\u001b[1;39m: \u001b[0m\u001b[1;30mnull\u001b[0m\u001b[1;39m\n",
      "\u001b[1;39m}\u001b[0m\n"
     ]
    }
   ],
   "source": [
    "curl \\\n",
    "    --header \"X-Vault-Token: $VAULT_TOKEN\" \\\n",
    "    --header \"X-Vault-Namespace: $VAULT_NAMESPACE\" \\\n",
    "    --request POST \\\n",
    "    $VAULT_ADDR/v1/auth/token/tidy | jq"
   ]
  },
  {
   "cell_type": "markdown",
   "id": "a22544b7-1b85-4ea8-b608-3b9adae75cf7",
   "metadata": {
    "tags": []
   },
   "source": [
    "vault token tidy -h"
   ]
  },
  {
   "cell_type": "markdown",
   "id": "8cce7e77-db41-4172-b82c-46789852e776",
   "metadata": {},
   "source": [
    "Check logs. Sample here is for docker logs."
   ]
  },
  {
   "cell_type": "code",
   "execution_count": 201,
   "id": "61fd932c-7afb-4b25-ad21-95313702ef26",
   "metadata": {
    "tags": []
   },
   "outputs": [
    {
     "name": "stdout",
     "output_type": "stream",
     "text": [
      "expiration: revoked lease: lease_id=auth/token/create/h46a1d1a8cc3ce440d294e216ddb075e26a3d988151dc48e7b2335b501bfe0d67.Pubjt\n",
      "expiration: revoked lease: lease_id=auth/token/create/h778782ca2e3c387b21cb124679df8200f12e5d9d2f76eab8f491f77c8a67add8.Pubjt\n",
      "expiration: revoked lease: lease_id=auth/token/create/hbd3fe26cda1e717e15f6fa7d351082f506e8eb2a3b60f4b0b3394366a96d7210.Pubjt\n",
      "expiration: revoked lease: lease_id=auth/token/create/h53c3d973e6a3616cc77775c223e60bbc1fbdf76068eacf2cb70abc0e6ac9c47b.Pubjt\n",
      "expiration: revoked lease: lease_id=auth/token/create/h72b2b0a8a979d5b872a2f66b474284ac0d2caaa779766217cbfec0a34172745b.Pubjt\n",
      "token: beginning tidy operation on tokens\n",
      "token: checking if accessors contain valid tokens: progress=500 percent_complete=20.367346938775512\n",
      "token: checking if accessors contain valid tokens: progress=1000 percent_complete=40.775510204081634\n",
      "token: checking if accessors contain valid tokens: progress=1500 percent_complete=61.183673469387756\n",
      "token: checking if accessors contain valid tokens: progress=2000 percent_complete=81.59183673469389\n",
      "token: number of entries scanned in parent prefix: count=0\n",
      "token: number of entries deleted in parent prefix: count=0\n",
      "token: number of tokens scanned in parent index list: count=0\n",
      "token: number of tokens revoked in parent index list: count=0\n",
      "token: number of accessors scanned: count=2450\n",
      "token: number of deleted accessors which had empty tokens: count=0\n",
      "token: number of revoked tokens which were invalid but present in accessors: count=0\n",
      "token: number of deleted accessors which had invalid tokens: count=0\n",
      "token: number of deleted cubbyhole keys that were invalid: count=0\n",
      "token: finished tidy operation on tokens\n"
     ]
    }
   ],
   "source": [
    "docker logs vault 2>&1 | grep token | tail -n 20 | awk -F'\\\\[INFO\\\\]  ' '{print $NF}'"
   ]
  },
  {
   "cell_type": "markdown",
   "id": "1f9b0dd6-0b4b-4b59-99a5-1b91bbb84e79",
   "metadata": {},
   "source": [
    "Sample Output\n",
    "```shell\n",
    "[INFO]  token: beginning tidy operation on tokens\n",
    "[INFO]  token: number of entries scanned in parent prefix: count=0\n",
    "[INFO]  token: number of entries deleted in parent prefix: count=0\n",
    "[INFO]  token: number of tokens scanned in parent index list: count=0\n",
    "[INFO]  token: number of tokens revoked in parent index list: count=0\n",
    "[INFO]  token: number of accessors scanned: count=0\n",
    "[INFO]  token: number of deleted accessors which had empty tokens: count=0\n",
    "[INFO]  token: number of revoked tokens which were invalid but present in accessors: count=0\n",
    "[INFO]  token: number of deleted accessors which had invalid tokens: count=0\n",
    "[INFO]  token: number of deleted cubbyhole keys that were invalid: count=0\n",
    "[INFO]  token: finished tidy operation on tokens\n",
    "```"
   ]
  },
  {
   "cell_type": "markdown",
   "id": "add9ed14-7761-4e66-8049-c5d8ecfc8a41",
   "metadata": {},
   "source": [
    "Rinse and repeat to delete more."
   ]
  }
 ],
 "metadata": {
  "kernelspec": {
   "display_name": "Bash",
   "language": "bash",
   "name": "bash"
  },
  "language_info": {
   "codemirror_mode": "shell",
   "file_extension": ".sh",
   "mimetype": "text/x-sh",
   "name": "bash"
  }
 },
 "nbformat": 4,
 "nbformat_minor": 5
}
