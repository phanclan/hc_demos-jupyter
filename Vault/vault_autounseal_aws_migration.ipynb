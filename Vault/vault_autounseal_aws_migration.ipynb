{
 "cells": [
  {
   "cell_type": "markdown",
   "id": "4bd16bc4-dc45-4ece-ae8a-d6fc9d63497e",
   "metadata": {},
   "source": [
    "# Auto-unseal using AWS KMS"
   ]
  },
  {
   "cell_type": "markdown",
   "id": "fc5346d1-819a-400a-a011-cd0682d7fa70",
   "metadata": {},
   "source": [
    "description:\n",
    "\n",
    "In this tutorial, we'll show an example of how to use Terraform to provision\n",
    "an instance that can utilize an encryption key from AWS Key Management Services\n",
    "to unseal Vault.\n",
    "\n",
    "---"
   ]
  },
  {
   "cell_type": "markdown",
   "id": "50e369e8-6ed8-4ae5-975e-eeefe1932956",
   "metadata": {},
   "source": [
    "When a Vault server is started, it starts in a [**_sealed_**](https://www.vaultproject.io/docs/concepts/seal) state and it does not know how to decrypt data. Before any operation can be performed on the Vault, it must be unsealed. Unsealing is the process of constructing the master key necessary to decrypt the data encryption key.\n",
    "\n",
    "![Unseal with Shamir's Secret Sharing](https://content.hashicorp.com/api/assets?product=tutorials&version=main&asset=public%2Fimg%2Fvault%2Fvault-autounseal.png)\n",
    "\n",
    "This tutorial demonstrates an example of how to use Terraform to provision an\n",
    "instance that can utilize an encryption key from [AWS Key Management Services\n",
    "(KMS)](https://aws.amazon.com/kms/) to unseal Vault."
   ]
  },
  {
   "cell_type": "markdown",
   "id": "3f2a05e5-c12d-4979-a978-eaabc82f8c84",
   "metadata": {},
   "source": [
    "## Challenge\n",
    "\n",
    "Vault unseal operation requires a quorum of existing unseal keys split by\n",
    "Shamir's Secret sharing algorithm. This is done so that the \"_keys to the\n",
    "kingdom_\" won't fall into one person's hand. However, this process is manual\n",
    "and can become painful when you have many Vault clusters as there are now\n",
    "many different key holders with many different keys."
   ]
  },
  {
   "cell_type": "markdown",
   "id": "13dd2de4-d664-4173-91fc-fbbd7da3e7bb",
   "metadata": {},
   "source": [
    "## Solution\n",
    "\n",
    "Vault supports opt-in automatic unsealing via cloud technologies: AliCloud KMS,\n",
    "AWS KMS, Azure Key Vault, Google Cloud KMS, and OCI KMS. This feature enables\n",
    "operators to delegate the unsealing process to trusted cloud providers to ease\n",
    "operations in the event of partial failure and to aid in the creation of new or\n",
    "ephemeral clusters.\n",
    "\n",
    "![Unseal with AWS KMS](https://content.hashicorp.com/api/assets?product=tutorials&version=main&asset=public%2Fimg%2Fvault%2Fvault-autounseal-2.png)\n",
    "\n",
    "This tutorial demonstrates Vault Auto Unseal using AWS KMS. "
   ]
  },
  {
   "cell_type": "markdown",
   "id": "3150d3de-66d5-4e56-b963-7594bcb0dfe9",
   "metadata": {},
   "source": [
    "## Prerequisites\n",
    "\n",
    "This tutorial assumes the following:\n",
    "\n",
    "- AWS account for provisioning cloud resources \n",
    "- [Terraform installed](https://www.terraform.io/downloads) and basic understanding of\n",
    "  its usage\n",
    "- docker and docker-compose\n",
    "\n",
    "> **NOTE**: [Seal\n",
    "migration](https://www.vaultproject.io/docs/concepts/seal#seal-migration) from\n",
    "Auto Unseal to Auto Unseal of the same type is supported since Vault 1.6.0.\n",
    "However, there is a current limitation that prevents migrating from AWS KMS to\n",
    "AWS KMS; all other seal migrations of the same type are supported. Seal\n",
    "migration from one Auto Unseal type (AWS KMS) to another Auto Unseal type\n",
    "(HSM, Azure KMS, etc.) is also supported on older versions as well."
   ]
  },
  {
   "cell_type": "markdown",
   "id": "5b2ecc0b-6ce9-4bd0-bac5-1de5e23400c9",
   "metadata": {},
   "source": [
    "## Step 1: Provision the cloud resources"
   ]
  },
  {
   "cell_type": "markdown",
   "id": "f602e0c1-c5c6-4572-bdec-bbac2a7f02a4",
   "metadata": {},
   "source": [
    "### AWS Credentials"
   ]
  },
  {
   "cell_type": "markdown",
   "id": "20a06b57-5606-4060-9771-00e3cc8769eb",
   "metadata": {},
   "source": [
    "Set your AWS Credentials. I got one from Instruqt terminal with this command.\n",
    "\n",
    "```bash\n",
    "env | grep -iE \"^aws.*access\" | xargs -I{} echo export {}\n",
    "```"
   ]
  },
  {
   "cell_type": "code",
   "execution_count": null,
   "id": "8df5db36-7531-4087-be0a-5fbf40635af2",
   "metadata": {},
   "outputs": [],
   "source": [
    "env | grep -iE \"^aws.*access\" | xargs -I{} echo export {}"
   ]
  },
  {
   "cell_type": "code",
   "execution_count": null,
   "id": "399017d7-743d-447d-8c5c-e6e8ac0ca2fa",
   "metadata": {},
   "outputs": [],
   "source": [
    "unset AWS_ACCESS_KEY_ID AWS_SECRET_ACCESS_KEY\n",
    "export AWS_DEFAULT_REGION=us-west-2\n",
    "export AWS_REGION=$AWS_DEFAULT_REGION\n",
    "export AWS_ACCESS_KEY_ID=AKIAROSAM\n",
    "export AWS_SECRET_ACCESS_KEY=vqzZ5zhwqWTZy04zD\n",
    "\n",
    "printf \"#==> Creds: \\n$AWS_REGION \\n$AWS_ACCESS_KEY_ID\\n$AWS_SECRET_ACCESS_KEY\\n\"\n",
    "\n",
    "aws configure set region us-west-2 --profile default"
   ]
  },
  {
   "cell_type": "markdown",
   "id": "acfbe1f6-5ef4-46ce-becd-86f08181b89a",
   "metadata": {},
   "source": [
    "> **Tip:** The above example uses IAM user authentication. You can use any authentication method described in the [AWS provider documentation](https://registry.terraform.io/providers/hashicorp/aws/latest/docs#environment-variables)."
   ]
  },
  {
   "cell_type": "markdown",
   "id": "bdcf047a-9451-478b-9730-b728d66cfbbd",
   "metadata": {},
   "source": [
    "Create default VPC if needed."
   ]
  },
  {
   "cell_type": "code",
   "execution_count": null,
   "id": "4000b5ff-0c49-4cd7-a033-31b17a379a08",
   "metadata": {
    "tags": []
   },
   "outputs": [],
   "source": [
    "aws ec2 create-default-vpc | jq -c || true"
   ]
  },
  {
   "cell_type": "code",
   "execution_count": null,
   "id": "e9aebd0a-90cb-48ee-b61d-21940a4df097",
   "metadata": {},
   "outputs": [],
   "source": [
    "printf \"\\n#==> Show VPC ids\\n\"\n",
    "aws ec2 describe-vpcs | jq -r '.[] | .[] | .VpcId'"
   ]
  },
  {
   "cell_type": "markdown",
   "id": "116ca188-9f31-48e9-b8ae-ed0bc1df5a41",
   "metadata": {},
   "source": [
    "### terraform configuration"
   ]
  },
  {
   "cell_type": "markdown",
   "id": "583d9967-2732-47a5-b70c-11168410546e",
   "metadata": {},
   "source": [
    "Build terraform configuration to provision AWS kms key."
   ]
  },
  {
   "cell_type": "code",
   "execution_count": null,
   "id": "43d45dee-b7b1-44b1-a3bd-2288eaacfb0b",
   "metadata": {},
   "outputs": [],
   "source": [
    "pushd /tmp/ssh/\n",
    "cat > main.tf <<\"EOF\"\n",
    "provider \"aws\" {\n",
    "}\n",
    "resource \"random_pet\" \"env\" {\n",
    "  length    = 2\n",
    "  separator = \"_\"\n",
    "}\n",
    "resource \"aws_kms_key\" \"vault\" {\n",
    "  description             = \"Vault unseal key\"\n",
    "  deletion_window_in_days = 10\n",
    "\n",
    "  tags = {\n",
    "    Name = \"vault-kms-unseal-${random_pet.env.id}\"\n",
    "  }\n",
    "}\n",
    "output \"vault_key_arn\" {\n",
    "  value = aws_kms_key.vault.arn\n",
    "}\n",
    "output \"vault_key_id\" {\n",
    "  description = \"The globally unique identifier for the key\"\n",
    "  value       = aws_kms_key.vault.id\n",
    "}\n",
    "EOF\n",
    "# terraform init\n",
    "popd"
   ]
  },
  {
   "cell_type": "markdown",
   "id": "60a5461c-332b-4deb-a58d-d4e6f6202bfb",
   "metadata": {},
   "source": [
    "1. Perform a `terraform init` to pull down the necessary provider resources."
   ]
  },
  {
   "cell_type": "code",
   "execution_count": null,
   "id": "1a258fb9-50a9-4237-b2fd-c2faa583c646",
   "metadata": {},
   "outputs": [],
   "source": [
    "pushd /tmp/ssh/\n",
    "terraform init\n",
    "popd"
   ]
  },
  {
   "cell_type": "markdown",
   "id": "e8c36913-7311-4fcc-864c-ef37e0733edf",
   "metadata": {},
   "source": [
    "Then `terraform plan` to verify your changes and the resources that will be\n",
    "created."
   ]
  },
  {
   "cell_type": "code",
   "execution_count": null,
   "id": "ea23e393-6a47-456e-bc00-de6de66187dd",
   "metadata": {},
   "outputs": [],
   "source": [
    "terraform -chdir=/tmp/ssh plan"
   ]
  },
  {
   "cell_type": "markdown",
   "id": "bca724c6-c0dd-4820-9b26-a203cf2387a3",
   "metadata": {},
   "source": [
    "### terraform apply"
   ]
  },
  {
   "cell_type": "markdown",
   "id": "04e5dadf-787d-4aa8-86f6-d0ecad1a30c5",
   "metadata": {},
   "source": [
    "1. Run `terraform apply` and review the planned actions. Your terminal output\n",
    "   should indicate the plan is running and what resources will be created."
   ]
  },
  {
   "cell_type": "code",
   "execution_count": null,
   "id": "f7ad350a-e775-4eb8-b53b-97ec4c44c0a5",
   "metadata": {},
   "outputs": [],
   "source": [
    "terraform -chdir=/tmp/ssh/ apply -auto-approve"
   ]
  },
  {
   "cell_type": "markdown",
   "id": "7a3d8d0c-901a-40e1-bd44-c92caaadbce7",
   "metadata": {},
   "source": [
    "When the `apply` command completes, the Terraform output will display the AWS KMS key id and arn.\n",
    "   \n",
    "```plaintext\n",
    "Outputs:\n",
    "vault_key_arn = \"arn:aws:kms:us-west-2:099993004052:key/303daec2-43e4-414e-8238-d30a20595eca\"\n",
    "vault_key_id = \"303daec2-43e4-414e-8238-d30a20595eca\"\n",
    "```"
   ]
  },
  {
   "cell_type": "markdown",
   "id": "6927cba1-9bc9-4ce0-83a4-1f8e5fb50f80",
   "metadata": {},
   "source": [
    "### docker compose"
   ]
  },
  {
   "cell_type": "markdown",
   "id": "b4632cb6-521a-4519-a43b-d0e365b103aa",
   "metadata": {},
   "source": [
    "Create a `docker-compose.yaml` file."
   ]
  },
  {
   "cell_type": "code",
   "execution_count": null,
   "id": "01c91674-1d4d-4fd2-bd6b-3f0d51a20ea1",
   "metadata": {},
   "outputs": [],
   "source": [
    "export VAULT_PORT=8200 #8200 is default\n",
    "export VAULT_ADDR=http://127.0.0.1:${VAULT_PORT:=8200}\n",
    "export VAULT_TOKEN_PRIMARY=myroot #used to keep track of root token\n",
    "printf \"VAULT TOKEN for root is: $VAULT_TOKEN_PRIMARY \\n\"\n",
    "export VAULT_TOKEN=${VAULT_TOKEN_PRIMARY:=root}\n",
    "printf \"\\n#==> Please Run: export VAULT_TOKEN=${VAULT_TOKEN_PRIMARY}\\n\"\n",
    "printf \"VAULT_ADDR=${VAULT_ADDR}\\n\"\n",
    "\n",
    "# Common\n",
    "export VAULT_VER=1.10.4 # 1.8+ enterprise requires license file; 1.7.5 has 8 hour eval\n",
    "export VAULT_LICENSE=$(cat ../../license/vault.hclic)"
   ]
  },
  {
   "cell_type": "code",
   "execution_count": null,
   "id": "683ebc23-7541-4276-8187-1c032f0c5c76",
   "metadata": {
    "tags": []
   },
   "outputs": [],
   "source": [
    "## Create docker-compose file.\n",
    "WORK_DIR=/tmp/ssh\n",
    "mkdir -p ${WORK_DIR}/{data,logs,config}\n",
    "tee /tmp/ssh/docker-compose.yaml << EOF\n",
    "version: '3.8'\n",
    "services:\n",
    "  vault_server:\n",
    "    #image: hashicorp/vault-enterprise:${VAULT_VER}_ent # Vault Enterprise\n",
    "    image: hashicorp/vault:${VAULT_VER}                # Vault OSS\n",
    "    container_name: vault_server\n",
    "    hostname: vault_server\n",
    "    restart: always\n",
    "    volumes:\n",
    "#      - ./${WORK_DIR}/data:/vault/data # uncomment to persist data\n",
    "      - ${WORK_DIR}/logs:/vault/logs\n",
    "      - ${WORK_DIR}/config:/vault/config:ro # uncomment for local config\n",
    "    ports:\n",
    "      - \"$VAULT_PORT:8200/tcp\"\n",
    "    environment:\n",
    "      VAULT_DEV_ROOT_TOKEN_ID: ${VAULT_TOKEN:-root}\n",
    "      VAULT_DEV_LISTEN_ADDRESS: \"0.0.0.0:8200\"\n",
    "      VAULT_ADDR: http://127.0.0.1:8200\n",
    "      VAULT_LICENSE: ${VAULT_LICENSE}\n",
    "      AWS_ACCESS_KEY_ID: ${AWS_ACCESS_KEY_ID}\n",
    "      AWS_SECRET_ACCESS_KEY: ${AWS_SECRET_ACCESS_KEY}\n",
    "      AWS_REGION: ${AWS_REGION}\n",
    "    cap_add:\n",
    "      - IPC_LOCK\n",
    "    #entrypoint: \"vault server -dev\" # dev mode\n",
    "    entrypoint: \"vault server -config=/vault/config\" # non-dev with local config\n",
    "    networks:\n",
    "      vault_net:\n",
    "        ipv4_address: 172.16.238.10\n",
    "networks:\n",
    "  vault_net:\n",
    "    driver: bridge\n",
    "    ipam:\n",
    "      driver: default  \n",
    "      config:\n",
    "      - subnet: 172.16.238.0/24\n",
    "EOF"
   ]
  },
  {
   "cell_type": "markdown",
   "id": "6092308d-45e0-452f-9262-c0df6a325aa3",
   "metadata": {},
   "source": [
    "### vault config file"
   ]
  },
  {
   "cell_type": "markdown",
   "id": "ea3b4668-d29e-4034-9613-0bf80092e72d",
   "metadata": {},
   "source": [
    "Create the Vault configuration file."
   ]
  },
  {
   "cell_type": "code",
   "execution_count": null,
   "id": "f8ed72cf-ab10-4f8f-b79b-e6ddabcd552f",
   "metadata": {},
   "outputs": [],
   "source": [
    "tee /tmp/ssh/config/vault.hcl <<EOF\n",
    "storage \"file\" {\n",
    "  path = \"/vault/data\"\n",
    "}\n",
    "\n",
    "listener \"tcp\" {\n",
    "  address     = \"0.0.0.0:8200\"\n",
    "  tls_disable = \"true\"\n",
    "}\n",
    "\n",
    "seal \"awskms\" {\n",
    "  #disabled   = \"true\"\n",
    "  region     = \"${AWS_REGION}\"\n",
    "  kms_key_id = \"$(terraform -chdir=/tmp/ssh/ output -raw vault_key_id)\"\n",
    "}\n",
    "\n",
    "ui=true\n",
    "log_level = \"DEBUG\"\n",
    "EOF"
   ]
  },
  {
   "cell_type": "markdown",
   "id": "8a6ccf4c-25e5-423e-b217-8e25f0a3b18a",
   "metadata": {},
   "source": [
    "**NOTE**:\n",
    "- I specified the AWS creds in the container environment instead on in the `seal` stanza.\n",
    "    - See `docker-compose.yml`\n",
    "- The Vault configuration file defines the `awskms` stanza\n",
    "    - `kms_key_id` - sets the AWS KMS key ID to use for encryption and decryption. This value is pulled from the `terraform output`."
   ]
  },
  {
   "cell_type": "markdown",
   "id": "36b7c230-faed-4d23-ad83-995f6cc302b5",
   "metadata": {},
   "source": [
    "Start up Vault Enterprise as a container."
   ]
  },
  {
   "cell_type": "code",
   "execution_count": null,
   "id": "c3aca021-2aa4-49ba-8f40-8e56bc12a5f2",
   "metadata": {
    "tags": []
   },
   "outputs": [],
   "source": [
    "pushd /tmp/ssh/\n",
    "docker-compose up --force-recreate --build -d \\\n",
    "  vault_server \n",
    "popd"
   ]
  },
  {
   "cell_type": "markdown",
   "id": "6dc4ed38-4fce-4251-8b27-e80d55720e07",
   "metadata": {},
   "source": [
    "Verify the docker container `vault_server` is running."
   ]
  },
  {
   "cell_type": "code",
   "execution_count": null,
   "id": "e2f6672a-3e1c-4e81-b96b-0469c0033d57",
   "metadata": {},
   "outputs": [],
   "source": [
    "docker ps | grep -E \"vault_server\""
   ]
  },
  {
   "cell_type": "raw",
   "id": "dc44168c-01aa-4b90-b150-875b4cfd0ce3",
   "metadata": {},
   "source": [
    "Verify"
   ]
  },
  {
   "cell_type": "code",
   "execution_count": null,
   "id": "835be3b9-f457-446e-b866-2f5a814d8d85",
   "metadata": {
    "tags": []
   },
   "outputs": [],
   "source": [
    "docker exec -it vault_server vault status || true"
   ]
  },
  {
   "cell_type": "markdown",
   "id": "0aa2ab6f-ab7f-4ff1-8e7e-8145b4228d5b",
   "metadata": {},
   "source": [
    "**NOTE** Initialized (`false`) and Sealed (`true`) status "
   ]
  },
  {
   "cell_type": "markdown",
   "id": "c1a4fa81-e99f-4ebb-9f62-856551f00437",
   "metadata": {},
   "source": [
    "## Step 2: Test the auto-unseal feature"
   ]
  },
  {
   "cell_type": "markdown",
   "id": "8ad9282c-aad0-4338-92dc-503605e9c2f0",
   "metadata": {},
   "source": [
    "Verify that Vault has been installed, run `vault status` command."
   ]
  },
  {
   "cell_type": "code",
   "execution_count": null,
   "id": "234d8d17-7a50-4ae9-9585-8fbb0760049d",
   "metadata": {},
   "outputs": [],
   "source": [
    "vault status || true"
   ]
  },
  {
   "cell_type": "markdown",
   "id": "e7b827b0-5333-49bc-9238-7a8f4d59fa3e",
   "metadata": {},
   "source": [
    "**NOTE**:\n",
    "- `Recovery Seal Type`is `awskms`\n",
    "- `Initialized` is `false`\n",
    "- `Sealed` is true"
   ]
  },
  {
   "cell_type": "markdown",
   "id": "c203aab2-ff7c-4107-bad7-c3c38bee3aad",
   "metadata": {},
   "source": [
    "Sample Output\n",
    "```text\n",
    "Key                      Value\n",
    "---                      -----\n",
    "Recovery Seal Type       awskms\n",
    "Initialized              false\n",
    "Sealed                   true\n",
    "Total Recovery Shares    0\n",
    "Threshold                0\n",
    "Unseal Progress          0/0\n",
    "Unseal Nonce             n/a\n",
    "Version                  1.10.4\n",
    "Storage Type             file\n",
    "HA Enabled               false\n",
    "```"
   ]
  },
  {
   "cell_type": "markdown",
   "id": "7c1499c7-1758-4594-bb0b-010826eaa93d",
   "metadata": {},
   "source": [
    "Run the `vault operator init` command to initialize the Vault server."
   ]
  },
  {
   "cell_type": "code",
   "execution_count": null,
   "id": "0d348e58-4908-40f3-bb8a-d737f3da33cc",
   "metadata": {},
   "outputs": [],
   "source": [
    "vault operator init -format=json | tee /tmp/ssh/vault_init.txt"
   ]
  },
  {
   "cell_type": "markdown",
   "id": "1501acb8-076e-4439-9e7c-57c2c5f1b98b",
   "metadata": {},
   "source": [
    "<details><summary><b>Example output:</b></summary>\n",
    "\n",
    "```plaintext\n",
    "Recovery Key 1: rbzYWWvegCxiZWAGPwDJJAmg6GOnBBnW9QrgKTLLn/eE\n",
    "Recovery Key 2: +ipeyG4OmSCzl0zbriFuTYGhB1AP7fGkmzLkd5r6z3OA\n",
    "Recovery Key 3: jURIBlqENHG2FIWWl/JM8WEJxGPFuBrb4c8Ht1I3a1Ue\n",
    "Recovery Key 4: lvDSVfwvMcCWUL3kP92ypd3I1Ffaq0JP5Q80HFuBty5v\n",
    "Recovery Key 5: OImPCrj7H+lnwlyxdbZyNFjjCvjPfx+Xb77r+3HzDes/\n",
    "\n",
    "Initial Root Token: hvs.GhkPkNSOuvQ8WVcBE6qgtjTC\n",
    "\n",
    "Success! Vault is initialized\n",
    "\n",
    "Recovery key initialized with 5 key shares and a key threshold of 3. Please\n",
    "securely distribute the key shares printed above.\n",
    "```\n",
    "</details>"
   ]
  },
  {
   "cell_type": "markdown",
   "id": "c119ef8d-4092-4bac-874a-2c32d8e1f258",
   "metadata": {},
   "source": [
    "> **NOTE**\n",
    "> - The initialization generates **Recovery Keys** (instead of **Unseal\n",
    " Keys**) when using auto-unseal.\n",
    "> - Some of the Vault operations still require Shamir keys.\n",
    "    - For example, to [regenerate a root\n",
    " token](/tutorials/vault/policies), each key holder must enter their recovery\n",
    " key.\n",
    "> - Similar to unseal keys, you can specify the number of recovery keys and the threshold using the `-recovery-shares` and `-recovery-threshold` flags."
   ]
  },
  {
   "cell_type": "code",
   "execution_count": null,
   "id": "eae376ee-c465-4e75-945b-9ed41543a9e3",
   "metadata": {},
   "outputs": [],
   "source": [
    "for i in {0..2}; do\n",
    "export KEY_${i}=\"$(jq -r .recovery_keys_b64[${i}] /tmp/ssh/vault_init.txt)\"\n",
    "done\n",
    "export ROOT_TOKEN=$(jq -r .root_token /tmp/ssh/vault_init.txt)\n",
    "printf \"%s\\n\" \"$KEY_0\" \"$KEY_1\" \"$KEY_2\" \"$ROOT_TOKEN\""
   ]
  },
  {
   "cell_type": "markdown",
   "id": "7c65c31b-5659-431c-bd8d-9924da754a19",
   "metadata": {},
   "source": [
    "Once you initialized the Vault server, it is ready for operation."
   ]
  },
  {
   "cell_type": "markdown",
   "id": "6c85e815-ed80-44a3-b6e7-896284d01071",
   "metadata": {},
   "source": [
    "Check the Vault status to verify that it has been initialized and unsealed."
   ]
  },
  {
   "cell_type": "code",
   "execution_count": null,
   "id": "9be723bf-7e02-4b36-84a6-049387065b63",
   "metadata": {
    "tags": []
   },
   "outputs": [],
   "source": [
    "vault status"
   ]
  },
  {
   "cell_type": "markdown",
   "id": "5be5d3cf-dcfe-4d84-988c-8262492d2922",
   "metadata": {},
   "source": [
    "Sample Output\n",
    "\n",
    "```shell\n",
    "Key                      Value\n",
    "---                      -----\n",
    "Recovery Seal Type       shamir\n",
    "Initialized              true\n",
    "Sealed                   false\n",
    "Total Recovery Shares    5\n",
    "Threshold                3\n",
    "Version                  1.10.4\n",
    "Storage Type             file\n",
    "Cluster Name             vault-cluster-b1c45c4d\n",
    "Cluster ID               5f26df9c-e0fc-5399-2f7c-6d2613d432c9\n",
    "HA Enabled               false\n",
    "```\n",
    "\n",
    "**NOTE**\n",
    "- `Recovery Seal Type` is now `shamir`.\n",
    "  - Previously, it was `awskms`.\n",
    "- The Vault server is already unsealed (**Sealed** is `false`)."
   ]
  },
  {
   "cell_type": "markdown",
   "id": "19fca121-d5f3-4dd5-a4cf-d4d8c9e39ad2",
   "metadata": {},
   "source": [
    "Restart the Vault server to ensure that Vault server gets automatically unsealed:"
   ]
  },
  {
   "cell_type": "code",
   "execution_count": null,
   "id": "9573ab48-1172-47d9-b06d-c9945eaf68db",
   "metadata": {},
   "outputs": [],
   "source": [
    "docker restart vault_server"
   ]
  },
  {
   "cell_type": "markdown",
   "id": "8be1ffc2-724e-4cb9-b126-afc286c88540",
   "metadata": {},
   "source": [
    "Verify the Vault status."
   ]
  },
  {
   "cell_type": "code",
   "execution_count": null,
   "id": "f8f4c087-34c3-40a5-b1a7-10e37015daeb",
   "metadata": {
    "tags": []
   },
   "outputs": [],
   "source": [
    "vault status"
   ]
  },
  {
   "cell_type": "markdown",
   "id": "64dad656-5356-4b0e-b6ec-cd3e7f156643",
   "metadata": {},
   "source": [
    "**NOTE**: The server is unsealed without you having to enter in any keys."
   ]
  },
  {
   "cell_type": "markdown",
   "id": "ecbf732f-5205-4205-9bbe-8d7a69daac8a",
   "metadata": {},
   "source": [
    "Log into Vault. Enter the generated initial root token when prompted."
   ]
  },
  {
   "cell_type": "code",
   "execution_count": null,
   "id": "450bd541-9322-4756-82ed-db9b0ee22388",
   "metadata": {},
   "outputs": [],
   "source": [
    "vault login $ROOT_TOKEN"
   ]
  },
  {
   "cell_type": "markdown",
   "id": "0655ffdf-586f-46b9-ac25-942aa2168f18",
   "metadata": {},
   "source": [
    "**Example output:** \n",
    "\n",
    "```plaintext   \n",
    "Key                  Value\n",
    "---                  -----\n",
    "token                hvs.O4DWXANNAxpALpLmbYTM5Zfw\n",
    "token_accessor       bngdvrF09IXZG2a2doDbskXi\n",
    "token_duration       ∞\n",
    "token_renewable      false\n",
    "token_policies       [\"root\"]\n",
    "identity_policies    []\n",
    "policies             [\"root\"]\n",
    "```"
   ]
  },
  {
   "cell_type": "markdown",
   "id": "63587498-1bf7-44c0-bd9d-a9a3b7ff2843",
   "metadata": {},
   "source": [
    "Review the Vault configuration file (`/vault/config/vault.hcl`)."
   ]
  },
  {
   "cell_type": "code",
   "execution_count": null,
   "id": "b3870ce4-f0f3-4f19-bfcf-d954bbbbbc34",
   "metadata": {},
   "outputs": [],
   "source": [
    "docker exec -it vault_server cat /vault/config/vault.hcl"
   ]
  },
  {
   "cell_type": "markdown",
   "id": "ae35b90d-47a5-412e-8b2d-3ac47863935c",
   "metadata": {},
   "source": [
    "```shell\n",
    "storage \"file\" {\n",
    "  path = \"/vault/data\"\n",
    "}\n",
    "listener \"tcp\" {\n",
    "  address     = \"0.0.0.0:8200\"\n",
    "  tls_disable = \"true\"\n",
    "}\n",
    "seal \"awskms\" {\n",
    "  region = \"us-west-2\"\n",
    "  kms_key_id = \"b6ef3a34-f8db-4bfd-849a-86690711055e\"\n",
    "}\n",
    "ui=true\n",
    "```\n",
    "\n",
    "Notice the Vault configuration file defines the [`awskms`\n",
    "stanza](https://www.vaultproject.io/docs/configuration/seal/awskms) which\n",
    "sets the AWS KMS key ID to use for encryption and decryption.\n",
    "\n",
    "> Although the listener stanza disables TLS (`tls_disable = \"true\"`) for this\n",
    "tutorial, Vault should always be [used with\n",
    "TLS](https://www.vaultproject.io/docs/configuration/listener/tcp#tls_cert_file)\n",
    "in production to provide secure communication between clients and the Vault\n",
    "server. It requires a certificate file and key file on each Vault host.\n",
    "\n",
    "At this point, you should be able to launch the Vault Enterprise UI by going to the UI"
   ]
  },
  {
   "cell_type": "code",
   "execution_count": null,
   "id": "e596e452-c00b-4d65-b91f-e41b8c3b86a6",
   "metadata": {},
   "outputs": [],
   "source": [
    "echo http://$(hostname -I | awk '{print $1}'):8200"
   ]
  },
  {
   "cell_type": "markdown",
   "id": "f0736247-f57a-4cc4-9552-a8fa5f878c08",
   "metadata": {},
   "source": [
    "Log in with your initial root token."
   ]
  },
  {
   "cell_type": "code",
   "execution_count": null,
   "id": "ab1d4cef-2722-4866-9537-40a29324c944",
   "metadata": {},
   "outputs": [],
   "source": [
    "echo ROOT_TOKEN=$ROOT_TOKEN"
   ]
  },
  {
   "cell_type": "markdown",
   "id": "1d0988bf-30ed-4379-ade5-2013a7557a26",
   "metadata": {},
   "source": [
    "# Seal Migration"
   ]
  },
  {
   "cell_type": "markdown",
   "id": "45b5b307-cb79-4993-8618-e399ede9dbe9",
   "metadata": {},
   "source": [
    "## Migrate from Cloud Seal Type to Shamir Seal Type\n",
    "\n",
    "While not as common as the first case, but also handy for multiple migration paths, this example shows how one might migrate from an existing AWS KMS seal type to the Shamir seal type.\n",
    "\n",
    "1. Stop **ALL** Vault servers"
   ]
  },
  {
   "cell_type": "code",
   "execution_count": null,
   "id": "a229af52-1c7e-4573-ac03-353b5b677d63",
   "metadata": {},
   "outputs": [],
   "source": [
    "docker stop vault_server"
   ]
  },
  {
   "cell_type": "markdown",
   "id": "79d436e6-3d98-4fba-8eea-4f328149881d",
   "metadata": {},
   "source": [
    "2. Update the Vault server's configuration's [`seal` stanza](https://www.vaultproject.io/docs/configuration/seal/index.html) to include a `disable = \"true\"` option.\n",
    "    - **NOTE** - `true` is a string and must be quoted in this case. \n",
    "1. Updating this can be done in one of two ways:\n",
    "    1. If you use a single configuration file, you must update it and add the `disable = \"true\"` option to the `seal` stanza.\n",
    "    1. If your Vault configuration is modular / consists of multiple configuration files, edit the appropriate file and add `disabled = \"true\"` to the seal stanza to update it."
   ]
  },
  {
   "cell_type": "code",
   "execution_count": null,
   "id": "f3bfaea0-250f-449d-8118-8501d459259a",
   "metadata": {},
   "outputs": [],
   "source": [
    "tee /tmp/ssh/config/vault.hcl <<EOF\n",
    "storage \"file\" {\n",
    "  path = \"/vault/data\"\n",
    "}\n",
    "\n",
    "listener \"tcp\" {\n",
    "  address     = \"0.0.0.0:8200\"\n",
    "  tls_disable = \"true\"\n",
    "}\n",
    "\n",
    "seal \"awskms\" {\n",
    "  disabled   = \"true\"\n",
    "  region     = \"${AWS_REGION}\"\n",
    "  kms_key_id = \"$(terraform -chdir=/tmp/ssh/ output -raw vault_key_id)\"\n",
    "}\n",
    "\n",
    "ui=true\n",
    "log_level = \"DEBUG\"\n",
    "EOF"
   ]
  },
  {
   "cell_type": "markdown",
   "id": "5ce06782-5c5d-470f-badc-02de65a96b3a",
   "metadata": {},
   "source": [
    "**NOTE**:\n",
    "- I specified the AWS creds in the container environment instead on in the `seal` stanza.\n",
    "- The Vault configuration file defines the `awskms` stanza\n",
    "    - `kms_key_id` - sets the AWS KMS key ID to use for encryption and decryption."
   ]
  },
  {
   "cell_type": "markdown",
   "id": "4f06e025-0c3d-4842-906f-0815bc77d0db",
   "metadata": {},
   "source": [
    "4. Start a single Vault server"
   ]
  },
  {
   "cell_type": "code",
   "execution_count": null,
   "id": "0cfc7d07-627b-4842-8a2c-5175190ababb",
   "metadata": {
    "tags": []
   },
   "outputs": [],
   "source": [
    "docker start vault_server"
   ]
  },
  {
   "cell_type": "markdown",
   "id": "39afe2fd-8902-4b34-9662-74a74cd27087",
   "metadata": {},
   "source": [
    "Check vault server status."
   ]
  },
  {
   "cell_type": "code",
   "execution_count": null,
   "id": "32838c44-9f37-43e2-b222-bfd0fb1c9b25",
   "metadata": {},
   "outputs": [],
   "source": [
    "vault status"
   ]
  },
  {
   "cell_type": "markdown",
   "id": "a1ea89fe-3f15-43a9-b548-1e4e8e532638",
   "metadata": {},
   "source": [
    "**NOTE**: The vault server now requires manual unsealing."
   ]
  },
  {
   "cell_type": "markdown",
   "id": "c44a7d7a-aad4-4270-a2a8-1e1878811b51",
   "metadata": {},
   "source": [
    "5. Initiate an unseal using the command and enter the first recovery key: `vault operator unseal -migrate`"
   ]
  },
  {
   "cell_type": "code",
   "execution_count": null,
   "id": "e07997ba-8535-4f15-a07a-99ca588c3424",
   "metadata": {},
   "outputs": [],
   "source": [
    "vault operator unseal -migrate $KEY_0"
   ]
  },
  {
   "cell_type": "markdown",
   "id": "0d688eb5-c59d-44f8-a7ab-8eee8cd2f4fc",
   "metadata": {},
   "source": [
    "6. Enter all the remaining unseal keys; these keys must also be entered with the `-migrate` flag ensuring everyone involved in the migration is aware"
   ]
  },
  {
   "cell_type": "code",
   "execution_count": null,
   "id": "6715d8d8-96c3-4ee6-9406-46180bdad53d",
   "metadata": {},
   "outputs": [],
   "source": [
    "vault operator unseal -migrate $KEY_1\n",
    "vault operator unseal -migrate $KEY_2"
   ]
  },
  {
   "cell_type": "markdown",
   "id": "9bf25cff-cffc-431f-8da6-7a60f985ef82",
   "metadata": {},
   "source": [
    "7. Observe that the Vault server is functional with e.g. `vault status` and by login / secret retrieval, etc."
   ]
  },
  {
   "cell_type": "code",
   "execution_count": null,
   "id": "37785d8d-a454-40b4-857c-6a3ed8f5a83a",
   "metadata": {},
   "outputs": [],
   "source": [
    "vault status"
   ]
  },
  {
   "cell_type": "markdown",
   "id": "216e2031-1f20-4e23-b746-4a069b9a2a46",
   "metadata": {},
   "source": [
    "- `Seal Type` is `shamir` instead of `Recovery Seal Type` `shamir`"
   ]
  },
  {
   "cell_type": "code",
   "execution_count": null,
   "id": "ee22fd96-613a-4562-8951-1cac0c4883ae",
   "metadata": {},
   "outputs": [],
   "source": [
    "vault login $ROOT_TOKEN"
   ]
  },
  {
   "cell_type": "markdown",
   "id": "f40457e9-3f72-4e12-aaf0-b29bd9d6fbef",
   "metadata": {},
   "source": [
    "8. Provided that the Vault server appears operational, start and unseal remaining servers in the same way"
   ]
  },
  {
   "cell_type": "markdown",
   "id": "a95c0440-25a2-40fc-9b06-8eccb253d248",
   "metadata": {},
   "source": [
    "Once all recovery keys have been entered, the encryption key will be encrypted with the recovery key generated master key, the recovery key and stored Auto Unseal master key will be deleted, and Vault will again become unsealed.\n",
    "\n",
    "When disabling the seal, it will no longer be used to unseal Vault but the credentials will still be available for any migration that is issued."
   ]
  },
  {
   "cell_type": "markdown",
   "id": "bb069a1b-5249-4d6c-bb42-960ee9a8a4de",
   "metadata": {},
   "source": [
    "## Migrate from Shamir Type to Cloud Seal Type\n",
    "\n",
    "The most common case for migrate is to update a Shamir seal-based Vault to use a cloud seal with auto-unseal capabilities.\n",
    "\n",
    "In the following example the process is described for migrating from an existing Shamir seal type to GCP KMS seal type.\n",
    "\n",
    "1. Stop **ALL** Vault servers\n",
    "1. Update all of the Vault servers’ configuration to include the appropriate [`seal` stanza](https://www.vaultproject.io/docs/configuration/seal/index.html)\n",
    "    - see the seal Stanza and documentation for the seal you will use.\n",
    "1. In this case, we’d consult the [`awskms` Seal documentation](https://www.vaultproject.io/docs/configuration/seal/awskms); updating this can be done in one of two ways:\n",
    "    1. If you use a single configuration file, you must update it and add the `seal` stanza to the top-level configuration, not under `listener` or `storage`, for example\n",
    "    1. If your Vault configuration is modular / consists of multiple configuration files, consider adding a new file such as `seal.hcl` with the `seal` stanza contents instead\n"
   ]
  },
  {
   "cell_type": "code",
   "execution_count": null,
   "id": "e9c6b3d9-0168-4d64-b00c-9699a4e7ba46",
   "metadata": {},
   "outputs": [],
   "source": [
    "tee /tmp/ssh/config/vault.hcl <<EOF\n",
    "storage \"file\" {\n",
    "  path = \"/vault/data\"\n",
    "}\n",
    "listener \"tcp\" {\n",
    "  address     = \"0.0.0.0:8200\"\n",
    "  tls_disable = \"true\"\n",
    "}\n",
    "seal \"awskms\" {\n",
    "  region     = \"${AWS_REGION}\"\n",
    "  kms_key_id = \"$(terraform -chdir=/tmp/ssh/ output -raw vault_key_id)\"\n",
    "}\n",
    "ui=true\n",
    "log_level = \"DEBUG\"\n",
    "EOF"
   ]
  },
  {
   "cell_type": "markdown",
   "id": "432c2413-dfc3-43c5-90be-73fb9579a717",
   "metadata": {},
   "source": [
    "**NOTE**:\n",
    "- I specified the AWS creds in the container environment instead on in the `seal` stanza.\n",
    "- The Vault configuration file defines the `awskms` stanza\n",
    "    - `kms_key_id` - sets the AWS KMS key ID to use for encryption and decryption."
   ]
  },
  {
   "cell_type": "markdown",
   "id": "e3f5fae3-7573-477f-9389-48adcc8c253a",
   "metadata": {},
   "source": [
    "4. Start a single Vault server"
   ]
  },
  {
   "cell_type": "code",
   "execution_count": null,
   "id": "d1045e16-a789-466e-927c-cb1437d9f7d9",
   "metadata": {
    "tags": []
   },
   "outputs": [],
   "source": [
    "docker restart vault_server"
   ]
  },
  {
   "cell_type": "markdown",
   "id": "42a0d705-a543-4c4c-8d10-8662cbfd2aca",
   "metadata": {},
   "source": [
    "5. Unseal the server using the following command and enter the first recovery key: `vault operator unseal -migrate`"
   ]
  },
  {
   "cell_type": "code",
   "execution_count": null,
   "id": "67c230c8-1522-4d2f-a6f4-59bb052987e0",
   "metadata": {},
   "outputs": [],
   "source": [
    "vault operator unseal -migrate $KEY_0"
   ]
  },
  {
   "cell_type": "markdown",
   "id": "ae172379-ffab-49a9-a93c-2b8f1540bee0",
   "metadata": {},
   "source": [
    "6. Enter all the remaining unseal keys; these keys must also be entered with the `-migrate` flag ensuring everyone involved in the migration is aware"
   ]
  },
  {
   "cell_type": "code",
   "execution_count": null,
   "id": "2c6ef19d-c8a0-4876-9948-20288536360a",
   "metadata": {},
   "outputs": [],
   "source": [
    "vault operator unseal -migrate $KEY_1\n",
    "vault operator unseal -migrate $KEY_2"
   ]
  },
  {
   "cell_type": "markdown",
   "id": "98d56bae-fa72-42f2-be9e-f2181f39b455",
   "metadata": {},
   "source": [
    "7. Observe that the Vault server is functional with e.g. `vault status` and by login / secret retrieval, etc."
   ]
  },
  {
   "cell_type": "code",
   "execution_count": null,
   "id": "bd2fd07f-4483-42c5-a09e-ed09b929ce9d",
   "metadata": {},
   "outputs": [],
   "source": [
    "vault status"
   ]
  },
  {
   "cell_type": "markdown",
   "id": "76829fac-e549-4a16-ba9c-0f6d55c0538c",
   "metadata": {},
   "source": [
    "- `Recovery Seal Type` instead of `Seal Type`."
   ]
  },
  {
   "cell_type": "code",
   "execution_count": null,
   "id": "1046702b-71e5-48e2-963a-414c42c144eb",
   "metadata": {},
   "outputs": [],
   "source": [
    "vault login $ROOT_TOKEN"
   ]
  },
  {
   "cell_type": "markdown",
   "id": "ff0f664e-5ce1-498c-8a64-98b3925f6747",
   "metadata": {},
   "source": [
    "8. Provided that the Vault server appears operational, start and unseal remaining servers in the same way"
   ]
  },
  {
   "cell_type": "markdown",
   "id": "14567367-331b-4a67-88bd-dca54f5fd154",
   "metadata": {},
   "source": [
    "Once all unseal keys are provided, and the `migrate` flag is present, the current Shamir shares will become the Recovery Keys for the seal and a new master key will be generated, the encryption key will be encrypted with the new master key, and the master key will be encrypted with the seal and stored in the storage backend.\n",
    "\n",
    "Subsequent restarting of Vault servers going forward should then result in them automatically unsealing."
   ]
  },
  {
   "cell_type": "markdown",
   "id": "e2fe7ff7-09e3-4216-82d9-6fb1fd7b4b97",
   "metadata": {},
   "source": [
    "# Step 3: Clean up"
   ]
  },
  {
   "cell_type": "markdown",
   "id": "8e262b9f-9c5b-44f2-ad83-aeeda8e28958",
   "metadata": {},
   "source": [
    "Stop containers"
   ]
  },
  {
   "cell_type": "code",
   "execution_count": null,
   "id": "0ec19324-69cb-46ac-8c88-44b9769c4390",
   "metadata": {
    "tags": []
   },
   "outputs": [],
   "source": [
    "pushd /tmp/ssh/\n",
    "docker-compose down\n",
    "popd"
   ]
  },
  {
   "cell_type": "markdown",
   "id": "78f2f402-4649-4d90-886c-d839341df2c8",
   "metadata": {},
   "source": [
    "Delete the AWS cloud resources provisioned by the Terraform files."
   ]
  },
  {
   "cell_type": "code",
   "execution_count": null,
   "id": "5ba4290e-2e09-449e-b264-ee719fa585d2",
   "metadata": {},
   "outputs": [],
   "source": [
    "terraform -chdir=/tmp/ssh/ destroy -auto-approve"
   ]
  },
  {
   "cell_type": "markdown",
   "id": "40698ac6-6500-4ffe-b6ba-1c80fda42ab0",
   "metadata": {},
   "source": [
    "Delete the state files and SSH key generated by the Terraform."
   ]
  },
  {
   "cell_type": "code",
   "execution_count": null,
   "id": "2809ad57-c5f5-458d-b0e2-f72b0a0606db",
   "metadata": {},
   "outputs": [],
   "source": [
    "rm -rf /tmp/ssh/.terraform /tmp/ssh/terraform.tfstate* /tmp/ssh/main.tf\n",
    "rm -f /tmp/ssh/vault_init.txt"
   ]
  },
  {
   "cell_type": "markdown",
   "id": "38c12760-2b7b-4c1c-9e94-688ae2574f67",
   "metadata": {},
   "source": [
    "# Help and reference\n",
    "\n",
    "- [Vault 1.0: How to auto-unseal and other new features](https://youtu.be/x9s0Uk9d510)\n",
    "- [Seal Migration](https://www.vaultproject.io/docs/concepts/seal#seal-migration)\n",
    "- [Vault Enterprise Auto Unseal](https://www.vaultproject.io/docs/concepts/seal)\n",
    "- [Configuration: `awskms` Seal](https://www.vaultproject.io/docs/configuration/seal/awskms)\n",
    "- [CLI - operator unseal](https://www.vaultproject.io/docs/commands/operator/unseal)\n",
    "- Support KB - Seal Migration: https://support.hashicorp.com/hc/en-us/articles/360002040848-Seal-Migration\n",
    "- Support KB - How-to rekey vault (recovery-keys) when using auto-unseal: https://support.hashicorp.com/hc/en-us/articles/4404364271763-How-to-rekey-vault-recovery-keys-when-using-auto-unseal"
   ]
  }
 ],
 "metadata": {
  "kernelspec": {
   "display_name": "Bash",
   "language": "bash",
   "name": "bash"
  },
  "language_info": {
   "codemirror_mode": "shell",
   "file_extension": ".sh",
   "mimetype": "text/x-sh",
   "name": "bash"
  }
 },
 "nbformat": 4,
 "nbformat_minor": 5
}
