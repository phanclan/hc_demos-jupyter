{
 "cells": [
  {
   "cell_type": "markdown",
   "id": "5d7ef45a-8be7-4aed-aa69-3f46c6e36b89",
   "metadata": {},
   "source": [
    "# How to install Jupyter on Virtualbox with Vagrant"
   ]
  },
  {
   "cell_type": "markdown",
   "id": "063dc7d2-e7b9-4a5e-9bbe-0fa7b025836d",
   "metadata": {},
   "source": [
    "We are going to install Jupyter Lab on to a Virtualbox VM with Vagrant and Ansible.\n",
    "\n",
    "**WHY?**\n",
    "- Make it easy for someone to test out HashiCorp Solutions with Jupyter Notebooks.\n",
    "    - currently, you would need to install lots of prerequisites to get going with JupyterLab and Hashi products.\n",
    "    - the VM provisioned with Vagrant will come pre-loaded with these pre-requisites:\n",
    "        - consul, nomad, vault\n",
    "        - docker\n",
    "        - (soon) cloud cli's - aws, azure, etc\n",
    "\n",
    "**HOW?**\n",
    "1. We will bring up an Ubuntu 20 VM with Vagrant.\n",
    "1. We run an Ansible playbook to install:\n",
    "    - Basics: jq, tree, curl, etc\n",
    "    - Hashi: consul, nomad, vault\n",
    "    - JupyterLab\n",
    "    - Clone hc_demos-jupyter and hashistack-ansible\n",
    "    - (soon) cloud cli's, ansible, and more\n",
    "1. Vagrant will publish port 8888 on the VM.\n",
    "1. You connect to the VM's private address on that port to get to JupyterLab\n",
    "1. JupyterLab will come up with the notebook repo mounted."
   ]
  },
  {
   "cell_type": "markdown",
   "id": "19dd7fe9-137e-48a5-b3fb-111df94a6e14",
   "metadata": {},
   "source": [
    "## Pre-requisites"
   ]
  },
  {
   "cell_type": "markdown",
   "id": "b0afec7c-8226-4a33-add0-07c6d22552fe",
   "metadata": {},
   "source": [
    "- Software:\n",
    "    - Virtualbox\n",
    "    - Vagrant\n",
    "    - Ansible\n",
    "- These GitHub repos:\n",
    "    - `phanclan/hc_demos-jupyter`\n",
    "    - `phanclan/hashistack-ansible`"
   ]
  },
  {
   "cell_type": "markdown",
   "id": "9490978e-f97f-4ad8-9455-999bb2c274f4",
   "metadata": {},
   "source": [
    "### General Setup"
   ]
  },
  {
   "cell_type": "code",
   "execution_count": 1,
   "id": "c15d74eb-2b49-4f9e-b413-64cce9893a2e",
   "metadata": {},
   "outputs": [],
   "source": [
    "SCRIPTS_DIR=./Scripts"
   ]
  },
  {
   "cell_type": "code",
   "execution_count": null,
   "id": "4bc98408-79ef-4209-87c0-66965376457b",
   "metadata": {},
   "outputs": [],
   "source": [
    "#==> Seet baseline script.\n",
    "cat ${SCRIPTS_DIR}/baseline.sh"
   ]
  },
  {
   "cell_type": "code",
   "execution_count": 2,
   "id": "a1d8fc41-73c6-4580-9e38-269336aacfe2",
   "metadata": {},
   "outputs": [
    {
     "name": "stdout",
     "output_type": "stream",
     "text": [
      "\n",
      "#==> Set colors.\n",
      "\n",
      "\u001b[0;32m#==> Some commands may have sensitive information.\n",
      "#==> Prevent commands starting with a space to be saved to shell history.\u001b[0m\n"
     ]
    }
   ],
   "source": [
    "#==> Set shell customizations\n",
    "source ${SCRIPTS_DIR}/baseline.sh"
   ]
  },
  {
   "cell_type": "markdown",
   "id": "98a15511-5ed1-44e0-95fd-595b6292ea04",
   "metadata": {},
   "source": [
    "### Install Virtualbox"
   ]
  },
  {
   "cell_type": "markdown",
   "id": "994bb945-c38f-45da-8e93-e6fc6e7442b4",
   "metadata": {},
   "source": [
    "Install VirtualBox if you don't have it.\n",
    "- Download: https://www.virtualbox.org/wiki/Downloads\n",
    "- Installation Instructions: https://www.virtualbox.org/manual/UserManual.html#installation\n",
    "\n",
    "Here are a few methods to install on Linux."
   ]
  },
  {
   "cell_type": "markdown",
   "id": "36b4b5f7-e996-4258-a7db-9db10fcafc34",
   "metadata": {},
   "source": [
    "#### Install VirtualBox on Ubuntu 20.04\n",
    "\n",
    "This method is easiest for Linux but you get an older version of VirtualBox."
   ]
  },
  {
   "cell_type": "code",
   "execution_count": 12,
   "id": "ea326187-50e5-49d1-b315-0039918c20dd",
   "metadata": {
    "tags": []
   },
   "outputs": [],
   "source": [
    "DEBIAN_FRONTEND=noninteractive\n",
    "sudo apt-get -qq update > /dev/null\n",
    "sudo apt-get -qq install virtualbox\n",
    "# can't install virtualbox-ext-pack via Jupyter.\n",
    "# Need to run in separate terminal.\n",
    "# echo sudo apt-get -qq install virtualbox-ext-pack || true"
   ]
  },
  {
   "cell_type": "markdown",
   "id": "dcdcf385-525f-4401-8b63-caf54b674e92",
   "metadata": {},
   "source": [
    "The output shows that you have successfully installed \"Oracle VM VirtualBox Extension Pack\"."
   ]
  },
  {
   "cell_type": "markdown",
   "id": "32732c21-51e9-4576-9cc2-917cd91cffc7",
   "metadata": {},
   "source": [
    "#### Install VirtualBox from virtualbox.org on Ubuntu"
   ]
  },
  {
   "cell_type": "markdown",
   "id": "5dc18390-ae13-4c8e-8539-1501dcb9301c",
   "metadata": {},
   "source": [
    "This method adds Oracle's repository. You get the latest version and can update with system updates."
   ]
  },
  {
   "cell_type": "code",
   "execution_count": null,
   "id": "0c16c40c-b585-4c29-8944-1e255eef37e2",
   "metadata": {},
   "outputs": [],
   "source": [
    "#==> 1. Import and add the GPG repository keys to your system.\n",
    "wget -q https://www.virtualbox.org/download/oracle_vbox_2016.asc -O- | sudo apt-key add -"
   ]
  },
  {
   "cell_type": "code",
   "execution_count": null,
   "id": "f96e6098-5ddc-4142-ac99-82569375884a",
   "metadata": {},
   "outputs": [],
   "source": [
    "#==> 2. Add the VirtualBox APT repository.\n",
    "sudo add-apt-repository \"deb [arch=amd64] http://download.virtualbox.org/virtualbox/debian $(lsb_release -cs) contrib\""
   ]
  },
  {
   "cell_type": "code",
   "execution_count": null,
   "id": "41a11f0f-21a4-4a67-a231-9af70a28f0e9",
   "metadata": {},
   "outputs": [],
   "source": [
    "#==> 3. Update the APT packages cache repository.\n",
    "sudo apt-get update"
   ]
  },
  {
   "cell_type": "code",
   "execution_count": null,
   "id": "2dad5d0d-14ad-448c-942d-eaaaf9132801",
   "metadata": {},
   "outputs": [],
   "source": [
    "#==> 4. Install the latest version of VirtualBox.\n",
    "sudo apt-get -qq install virtualbox-6.1"
   ]
  },
  {
   "cell_type": "code",
   "execution_count": null,
   "id": "454b075f-3148-45ee-a729-4675c342e99e",
   "metadata": {},
   "outputs": [],
   "source": [
    "#==> 5. (optional) Install VirtualBox Extension Pack\n",
    "# curl -o /tmp/Oracle_VM_VirtualBox_Extension_Pack-6.1.30.vbox-extpack \\\n",
    "#     -L https://download.virtualbox.org/virtualbox/6.1.30/Oracle_VM_VirtualBox_Extension_Pack-6.1.30.vbox-extpack\n",
    "\n",
    "# yes | sudo VBoxManage extpack install \\\n",
    "#     --accept-license=33d7284dc4a0ece381196fda3cfe2ed0e1e8e7ed7f27b9a9ebc4ee22e24bd23c \\\n",
    "#     /tmp/Oracle_VM_VirtualBox_Extension_Pack-6.1.30.vbox-extpack"
   ]
  },
  {
   "cell_type": "markdown",
   "id": "a9f7e077-846f-4d72-bb87-cfca42e24be8",
   "metadata": {},
   "source": [
    "The above command works with sudo but the extensions only show up for sudo."
   ]
  },
  {
   "cell_type": "code",
   "execution_count": null,
   "id": "9ddd6706-f5cc-4046-8c44-43f237082dc3",
   "metadata": {},
   "outputs": [],
   "source": [
    "VBoxManage list extpacks"
   ]
  },
  {
   "cell_type": "code",
   "execution_count": null,
   "id": "4a741dfd-6334-40c5-a17f-89c9cb4e4de4",
   "metadata": {},
   "outputs": [],
   "source": [
    "sudo VBoxManage list extpacks"
   ]
  },
  {
   "cell_type": "markdown",
   "id": "b162534f-95d5-4b0c-95f3-dfbe6405e06d",
   "metadata": {},
   "source": [
    "### Install Vagrant"
   ]
  },
  {
   "cell_type": "markdown",
   "id": "13bee7cb-4dc6-4e23-8583-1bb82c670ec1",
   "metadata": {},
   "source": [
    "Install Vagrant if you don't have it.\n",
    "\n",
    "- Download and Instructions: https://www.vagrantup.com/downloads\n",
    "\n",
    "Here is an install method for Ubuntu."
   ]
  },
  {
   "cell_type": "markdown",
   "id": "4bb76c0a-fa8f-401a-8709-2d247180457a",
   "metadata": {},
   "source": [
    "#### Install Vagrant on Ubuntu"
   ]
  },
  {
   "cell_type": "markdown",
   "id": "e82b9b06-6e55-4824-8743-e0feb34cb172",
   "metadata": {},
   "source": [
    "The instructions below are for Ubuntu. For other distributions, go [here](https://www.vagrantup.com/downloads)."
   ]
  },
  {
   "cell_type": "code",
   "execution_count": null,
   "id": "8949436b-f9ec-4d62-847f-fa032ca20e7b",
   "metadata": {},
   "outputs": [],
   "source": [
    "curl -fsSL https://apt.releases.hashicorp.com/gpg | sudo apt-key add -\n",
    "sudo apt-add-repository \"deb [arch=amd64] https://apt.releases.hashicorp.com $(lsb_release -cs) main\"\n",
    "sudo apt-get update && sudo apt-get install vagrant"
   ]
  },
  {
   "cell_type": "markdown",
   "id": "7f0fe2b8-a6fd-4014-b53c-94df759fa0b3",
   "metadata": {},
   "source": [
    "### Install Ansible"
   ]
  },
  {
   "cell_type": "markdown",
   "id": "7d7f74f0-f41d-4316-8ccd-f595895ee073",
   "metadata": {},
   "source": [
    "We will use Ansible to provision the VM's that Vagrant creates. You will need `python` and `pip` for this."
   ]
  },
  {
   "cell_type": "code",
   "execution_count": null,
   "id": "e3d32266-2ac1-4beb-899c-5c7b54df6d8b",
   "metadata": {
    "tags": []
   },
   "outputs": [],
   "source": [
    "# mkdir -p ansible\n",
    "pip install ansible"
   ]
  },
  {
   "cell_type": "code",
   "execution_count": null,
   "id": "27b82b1c-d7c7-4cd2-ad18-e8ca41c3641c",
   "metadata": {
    "tags": []
   },
   "outputs": [],
   "source": [
    "printf \"${GREEN_REVERSE}#==> Confirm Install${NC}\\n\"\n",
    "ansible --version"
   ]
  },
  {
   "cell_type": "markdown",
   "id": "62128d6c-7fab-4d4e-958b-4511bb84f490",
   "metadata": {},
   "source": [
    "# Ansible"
   ]
  },
  {
   "cell_type": "code",
   "execution_count": null,
   "id": "167b5a0a-3610-4289-bed2-8e3f50aad433",
   "metadata": {},
   "outputs": [],
   "source": [
    "SCRIPTS_DIR=/media/code/hc_demos-jupyter/Scripts"
   ]
  },
  {
   "cell_type": "markdown",
   "id": "1521521c-8d16-4af0-a057-90f2ec7845be",
   "metadata": {},
   "source": [
    "## Clone Ansible Repo from phanclan"
   ]
  },
  {
   "cell_type": "markdown",
   "id": "9ec0928e-53d3-4fb7-86b1-321f6aecbc57",
   "metadata": {},
   "source": [
    "The `phanclan/hashistack-ansible` has a few handy Ansible roles that will configure your VM for you."
   ]
  },
  {
   "cell_type": "markdown",
   "id": "47c31182-945f-4b77-bbcb-789e5ec34f1d",
   "metadata": {},
   "source": [
    "1. Clone `planclan/hashistack-ansible`.\n",
    "1. Be sure to change the repo directory `hashistack_ansible_repo` to your own path.\n",
    "1. Make sure it is at the same directory level as `hc_demos-jupyter` directory."
   ]
  },
  {
   "cell_type": "code",
   "execution_count": 119,
   "id": "1ed2c3af-aef1-4d21-8182-5e0f8f381429",
   "metadata": {},
   "outputs": [],
   "source": [
    "hashistack_ansible_repo=/media/code/hashistack-ansible"
   ]
  },
  {
   "cell_type": "code",
   "execution_count": null,
   "id": "efee406e-2ca3-4dc6-9345-378e23a8fa43",
   "metadata": {},
   "outputs": [],
   "source": [
    "mkdir -p ${hashistack_ansible_repo}\n",
    "git clone https://github.com/phanclan/hashistack-ansible ${hashistack_ansible_repo} || true"
   ]
  },
  {
   "cell_type": "markdown",
   "id": "6b97375a-f1ea-4160-9278-bf24e54c57cf",
   "metadata": {},
   "source": [
    "## Create Ansible Playbook"
   ]
  },
  {
   "cell_type": "markdown",
   "id": "a0f6b783-87f6-48ef-b707-9e0062df257c",
   "metadata": {},
   "source": [
    "This playbook will run several roles and references a few variables files. We will create the variables files afterwards."
   ]
  },
  {
   "cell_type": "markdown",
   "id": "0f263559-38ed-41dc-8a2b-a5ffe3f63720",
   "metadata": {},
   "source": [
    "Make sure the ansible directory is in the expected location."
   ]
  },
  {
   "cell_type": "code",
   "execution_count": 116,
   "id": "f893354e-c65f-4a73-8cd2-07130b0c3ee0",
   "metadata": {
    "collapsed": true,
    "jupyter": {
     "outputs_hidden": true
    },
    "tags": []
   },
   "outputs": [
    {
     "name": "stdout",
     "output_type": "stream",
     "text": [
      "/media/code/hc_demos-jupyter\n",
      "total 100\n",
      "-rwx------ 1 pephan pephan  333 Mar 20  2021 \u001b[0m\u001b[01;32mansible.cfg\u001b[0m\n",
      "-rwx------ 1 pephan pephan  754 Dec 14 16:27 \u001b[01;32mDockerfile\u001b[0m\n",
      "-rwx------ 1 pephan pephan 2606 Apr 12  2021 \u001b[01;32mhosts\u001b[0m\n",
      "-rwx------ 1 pephan pephan  519 Mar 21  2021 \u001b[01;32mhosts.instruqt\u001b[0m\n",
      "-rwx------ 1 pephan pephan 2951 May 12  2021 \u001b[01;32mhosts_multipass\u001b[0m\n",
      "-rwx------ 1 pephan pephan 1205 May 12  2021 \u001b[01;32mplay-hashistack.yml\u001b[0m\n",
      "-rwx------ 1 pephan pephan 1242 Feb 15  2021 \u001b[01;32mplay-hashi-test.yml\u001b[0m\n",
      "-rwx------ 1 pephan pephan  359 Feb 15  2021 \u001b[01;32mplay-hashivault.yml\u001b[0m\n",
      "-rwx------ 1 pephan pephan  528 Mar 20  2021 \u001b[01;32mplay-hashi.yml\u001b[0m\n",
      "-rw-rw-r-- 1 pephan pephan 1318 May 27 16:11 play_install_jupyter.yml\n",
      "-rwx------ 1 pephan pephan  443 May 26 22:52 \u001b[01;32mplay_jupyter.yml\u001b[0m\n",
      "-rwx------ 1 pephan pephan  118 Feb 15  2021 \u001b[01;32mplay-multipass.yml\u001b[0m\n",
      "-rwx------ 1 pephan pephan  347 Feb 15  2021 \u001b[01;32mplay-nomad-instruqt.yml\u001b[0m\n",
      "-rwx------ 1 pephan pephan  335 Mar 18 08:11 \u001b[01;32mplay_playground.yml\u001b[0m\n",
      "-rwx------ 1 pephan pephan 5773 Dec 14 16:26 \u001b[01;32mplay-test.yml\u001b[0m\n",
      "-rwx------ 1 pephan pephan  339 Feb 15  2021 \u001b[01;32mplay-tfe-install.yml\u001b[0m\n",
      "-rwx------ 1 pephan pephan 1301 Mar 20  2021 \u001b[01;32mplay-vault-instruqt.yml\u001b[0m\n",
      "-rwx------ 1 pephan pephan  121 Mar 20  2021 \u001b[01;32mplay-vault.yml\u001b[0m\n",
      "-rwx------ 1 pephan pephan 2773 Mar 21  2021 \u001b[01;32mREADME.md\u001b[0m\n",
      "drwx------ 1 pephan pephan 4096 Dec 22 14:10 \u001b[01;34mroles\u001b[0m\n",
      "drwx------ 1 pephan pephan 4096 Dec 22 14:10 \u001b[01;34mscripts\u001b[0m\n",
      "drwx------ 1 pephan pephan 4096 Jan  3 19:59 \u001b[01;34mtemplates\u001b[0m\n",
      "drwx------ 1 pephan pephan 4096 Dec 27 14:05 \u001b[01;34mvars\u001b[0m\n",
      "-rwx------ 1 pephan pephan  896 May 12  2021 \u001b[01;32mvars-instruqt.yml\u001b[0m\n"
     ]
    }
   ],
   "source": [
    "pwd\n",
    "ls -l ../hashistack-ansible/ansible/"
   ]
  },
  {
   "cell_type": "markdown",
   "id": "9e9134bb-4cf8-48f6-82c9-f0e11979f1f7",
   "metadata": {},
   "source": [
    "Create ansible playbook `play_install_jupyter.yml`."
   ]
  },
  {
   "cell_type": "code",
   "execution_count": 154,
   "id": "e2eed9d3-9e4b-47ed-b3be-3fe696f11c75",
   "metadata": {},
   "outputs": [],
   "source": [
    "cat > ${hashistack_ansible_repo}/ansible/play_install_jupyter.yml <<\"EOF\"\n",
    "---\n",
    "- hosts: dc1-s-1 #Specify host/group.\n",
    "  become: true\n",
    "  vars_files:\n",
    "    - /tmp/vars_setup_ubuntu.yml\n",
    "    #- vars/vars_setup_consul.yml\n",
    "  roles:\n",
    "    - base\n",
    "    - docker\n",
    "    # - consul\n",
    "    # - nomad\n",
    "  tasks:\n",
    "    - name: Git checkout hc_demos-jupyter\n",
    "      become: false\n",
    "      ansible.builtin.git:\n",
    "        repo: 'https://github.com/phanclan/hc_demos-jupyter.git'\n",
    "        dest: /home/vagrant/hc_demos-jupyter\n",
    "        single_branch: yes\n",
    "    - name: Git checkout hashistack-ansible\n",
    "      become: false\n",
    "      ansible.builtin.git:\n",
    "        repo: 'https://github.com/phanclan/hashistack-ansible.git'\n",
    "        dest: /home/vagrant/hashistack-ansible\n",
    "        single_branch: yes\n",
    "    - name: Install JupyterLab\n",
    "      become: false\n",
    "      shell: |\n",
    "        pip install --upgrade jinja2 >> /tmp/ansible.out 2>&1\n",
    "        pip install jupyterlab >> /tmp/ansible.out 2>&1\n",
    "        pip install bash_kernel >> /tmp/ansible.out 2>&1\n",
    "        python3 -m bash_kernel.install >> /tmp/ansible.out 2>&1\n",
    "    - name: Start JupyterLab\n",
    "      become: false\n",
    "      shell: |\n",
    "        export PATH=\"$HOME/.local/bin:$PATH\"\n",
    "        nohup /home/vagrant/.local/bin/jupyter lab --ip=0.0.0.0 --port=8888 --no-browser --notebook-dir=/home/vagrant >> /tmp/jupyterlab.out 2>&1 &\n",
    "EOF"
   ]
  },
  {
   "cell_type": "markdown",
   "id": "ae03d503-d880-43c3-9db1-2c5f711b9922",
   "metadata": {},
   "source": [
    "Review the file"
   ]
  },
  {
   "cell_type": "code",
   "execution_count": 155,
   "id": "17badf28-ec58-41bf-8b4f-10a3dc05d897",
   "metadata": {
    "collapsed": true,
    "jupyter": {
     "outputs_hidden": true
    },
    "tags": []
   },
   "outputs": [
    {
     "name": "stdout",
     "output_type": "stream",
     "text": [
      "---\n",
      "- hosts: dc1-s-1 #Specify host/group.\n",
      "  become: true\n",
      "  vars_files:\n",
      "    - /tmp/vars_setup_ubuntu.yml\n",
      "    #- vars/vars_setup_consul.yml\n",
      "  roles:\n",
      "    - base\n",
      "    - docker\n",
      "    # - consul\n",
      "    # - nomad\n",
      "  tasks:\n",
      "    - name: Git checkout hc_demos-jupyter\n",
      "      become: false\n",
      "      ansible.builtin.git:\n",
      "        repo: 'https://github.com/phanclan/hc_demos-jupyter.git'\n",
      "        dest: /home/vagrant/hc_demos-jupyter\n",
      "        single_branch: yes\n",
      "    - name: Git checkout hashistack-ansible\n",
      "      become: false\n",
      "      ansible.builtin.git:\n",
      "        repo: 'https://github.com/phanclan/hashistack-ansible.git'\n",
      "        dest: /home/vagrant/hashistack-ansible\n",
      "        single_branch: yes\n",
      "    - name: Install JupyterLab\n",
      "      become: false\n",
      "      shell: |\n",
      "        pip install --upgrade jinja2 >> /tmp/ansible.out 2>&1\n",
      "        pip install jupyterlab >> /tmp/ansible.out 2>&1\n",
      "        pip install bash_kernel >> /tmp/ansible.out 2>&1\n",
      "        python3 -m bash_kernel.install >> /tmp/ansible.out 2>&1\n",
      "    - name: Start JupyterLab\n",
      "      become: false\n",
      "      shell: |\n",
      "        export PATH=\"$HOME/.local/bin:$PATH\"\n",
      "        nohup /home/vagrant/.local/bin/jupyter lab --ip=0.0.0.0 --port=8888 --no-browser --notebook-dir=/home/vagrant >> /tmp/jupyterlab.out 2>&1 &\n"
     ]
    }
   ],
   "source": [
    "cat ${hashistack_ansible_repo}/ansible/play_install_jupyter.yml"
   ]
  },
  {
   "cell_type": "markdown",
   "id": "8c618c23-a157-49ee-b274-deadd926841c",
   "metadata": {},
   "source": [
    "What is this playbook doing?\n",
    "* `hosts: all` apply tasks to `all` hosts in inventory file.\n",
    "* `vars/vars_setup_ubuntu.yml` - we will set generic variables here.\n",
    "* `vars/vars_setup_consul.yml` - we will set hashi specific variables here.\n",
    "* `roles` - specify the roles we want to apply.\n",
    "    * I comment some roles out when i want to test or reapply a subset.\n",
    "    * `base` - installs prerequisites and hashistack (consul, nomad, vault)\n",
    "    * `docker` - installs docker and docker-compose\n",
    "    * `consul` - configures consul basics\n",
    "    * `nomad` - configures nomad basics"
   ]
  },
  {
   "cell_type": "markdown",
   "id": "311c1885-18db-4343-8c4b-a4a2b15b97e1",
   "metadata": {},
   "source": [
    "## Create Ansible Variable Files"
   ]
  },
  {
   "cell_type": "markdown",
   "id": "f0e8c768-9d94-4aa4-8678-a8496b063c65",
   "metadata": {},
   "source": [
    "These variables are for the `base` and `docker` roles."
   ]
  },
  {
   "cell_type": "code",
   "execution_count": null,
   "id": "1382a8f1-f9e3-4cb7-ad2c-8f58f412babe",
   "metadata": {},
   "outputs": [],
   "source": [
    "consul_license_path=${HOME}/Downloads/consul_prem_20230111.hclic\n",
    "nomad_license_path=${HOME}/Downloads/nomad_prem_20230111.hclic"
   ]
  },
  {
   "cell_type": "markdown",
   "id": "533edfd4-fd1d-4c68-99ed-7fa926cda07c",
   "metadata": {},
   "source": [
    "### Base Variables vars_setup_ubuntu.yml"
   ]
  },
  {
   "cell_type": "markdown",
   "id": "f5135c37-47fe-4a4b-a9d6-9f714017f6b0",
   "metadata": {},
   "source": [
    "You can accept most defaults, but you must make sure the following is correct:\n",
    "* `os_interface`\n",
    "* `arch` - in case you are using **ARM** cpu\n",
    "* `user` - default os user"
   ]
  },
  {
   "cell_type": "code",
   "execution_count": 47,
   "id": "6064c024-7128-4f25-b287-d2f64229e0c8",
   "metadata": {},
   "outputs": [],
   "source": [
    "DOCKER_REGISTRY=192.168.17.170:5000\n",
    "# mkdir -p ../../../hashistack-ansible/ansible/vars\n",
    "cat > /tmp/vars_setup_ubuntu.yml <<EOF\n",
    "arch: amd64 # arm64, amd64\n",
    "create_user: pephan\n",
    "os_interface: enp0s8 #enp0s2, enp0s8:vagrant ubuntu public\n",
    "user: vagrant\n",
    "\n",
    "region_letter: a\n",
    "server_prefix: dc1-s-\n",
    "client_prefix: dc1-s- # i use the same prefix as server since my nodes do dual roles.\n",
    "\n",
    "# See vars-instruqt.yml for common variables.\n",
    "base_apps_list:\n",
    "  - jq\n",
    "  - git\n",
    "  - tree\n",
    "  - unzip\n",
    "  - wget\n",
    "  - curl\n",
    "  - net-tools\n",
    "  - python3-pip\n",
    "apps_hashi:\n",
    "  - consul-enterprise=1.9.1+ent\n",
    "  - nomad-enterprise=1.2.3+ent #1.0.15+ent\n",
    "  - vault-enterprise=1.7.8+ent\n",
    "copy_local_key: \"{{ lookup('file', lookup('env','HOME') + '/.ssh/id_rsa.pub') }}\"\n",
    "docker_registry: ${DOCKER_REGISTRY}\n",
    "\n",
    "create_containers: 3\n",
    "default_container_name: docker\n",
    "default_container_image: hashicorp/consul\n",
    "default_container_command: consul agent -dev\n",
    "\n",
    "host_file:\n",
    "  dc1-s-1:\n",
    "    ip: \"192.168.17.111\"\n",
    "  dc1-s-2:\n",
    "    ip: \"192.168.17.112\"\n",
    "  dc1-s-3:\n",
    "    ip: \"192.168.17.113\"\n",
    "  # server-b-1:\n",
    "  #   ip: 192.168.64.28\n",
    "  # server-b-2:\n",
    "  #   ip: 192.168.64.27\n",
    "  # server-b-3:\n",
    "  #   ip: 192.168.64.29\n",
    "  # client-a-1:\n",
    "  #   ip: 192.168.64.17\n",
    "  # client-a-2:\n",
    "  #   ip: 192.168.64.18\n",
    "  # client-a-3:\n",
    "  #   ip: 192.168.64.35\n",
    "EOF"
   ]
  },
  {
   "cell_type": "markdown",
   "id": "7cd215b4-efc1-4de9-89a0-bb64c8d60b0e",
   "metadata": {},
   "source": [
    "### Hashi Variables vars_setup_consul.yml"
   ]
  },
  {
   "cell_type": "code",
   "execution_count": null,
   "id": "d02b6616-9267-47f4-82c3-fa0ebf1e784b",
   "metadata": {},
   "outputs": [],
   "source": [
    "export CONSUL_DC_1=zone1 CONSUL_DC_2=zone2 CONSUL_DC_3=zone3"
   ]
  },
  {
   "cell_type": "code",
   "execution_count": 19,
   "id": "c6697b08-f620-4455-991f-c9dbdb203f15",
   "metadata": {},
   "outputs": [
    {
     "name": "stdout",
     "output_type": "stream",
     "text": [
      "mkdir: cannot create directory ‘../../../hashistack-ansible’: Permission denied\n",
      "consul_datacenter: \n",
      "consul_license_path: \n",
      "nomad_license_path: \n",
      "nomad_datacenter: \n",
      "consul_retry_join: ' [\"192.168.17.111\",\"192.168.17.112\",\"192.168.17.113\"]'\n"
     ]
    }
   ],
   "source": [
    "# mkdir -p ../../../hashistack-ansible/ansible/vars\n",
    "tee /tmp/vars_setup_consul.yml <<EOF\n",
    "consul_datacenter: ${CONSUL_DC_1}\n",
    "consul_license_path: ${consul_license_path}\n",
    "nomad_license_path: ${nomad_license_path}\n",
    "nomad_datacenter: ${CONSUL_DC_1}\n",
    "consul_retry_join: ' [\"192.168.17.111\",\"192.168.17.112\",\"192.168.17.113\"]'\n",
    "EOF"
   ]
  },
  {
   "cell_type": "markdown",
   "id": "f28bc39f-6915-4280-973c-4da2c059f4f0",
   "metadata": {},
   "source": [
    "# Vagrant"
   ]
  },
  {
   "cell_type": "markdown",
   "id": "37198c81-83e1-4154-84e0-7d92567a4c76",
   "metadata": {},
   "source": [
    "Go to `Vagrant/tmp` directory."
   ]
  },
  {
   "cell_type": "code",
   "execution_count": null,
   "id": "d037e274-c5a0-496d-8664-245c05cd4d0d",
   "metadata": {},
   "outputs": [],
   "source": [
    "cd ../Vagrant/tmp"
   ]
  },
  {
   "cell_type": "code",
   "execution_count": null,
   "id": "248c855c-359e-4776-8494-3ce7aef51dc3",
   "metadata": {},
   "outputs": [],
   "source": [
    "pwd; tree"
   ]
  },
  {
   "cell_type": "markdown",
   "id": "54b1d3b4-4576-4925-8b33-b8bcfa50ae8c",
   "metadata": {},
   "source": [
    "Expected Output\n",
    "```shell\n",
    "/media/code/hc_demos-jupyter/Vagrant/tmp\n",
    ".\n",
    "├── ansible\n",
    "│   ├── Pipfile\n",
    "│   └── Pipfile.lock\n",
    "├── ansible.cfg\n",
    "├── html\n",
    "│   └── index.html\n",
    "├── Pipfile\n",
    "├── playbook.yml\n",
    "├── Vagrantfile\n",
    "└── Vagrantfile.example\n",
    "\n",
    "2 directories, 8 files\n",
    "```"
   ]
  },
  {
   "cell_type": "markdown",
   "id": "d500fc39-3e5a-441f-a9d2-41f845586aa2",
   "metadata": {},
   "source": [
    "## Create Vagrantfile"
   ]
  },
  {
   "cell_type": "markdown",
   "id": "e8599c76-3423-47df-a0a8-a4b0df2626b6",
   "metadata": {},
   "source": [
    "Open `Vagrantfile` if already created."
   ]
  },
  {
   "cell_type": "code",
   "execution_count": null,
   "id": "e8d6ff06-ddca-4805-9bf8-56b225124f12",
   "metadata": {
    "tags": []
   },
   "outputs": [],
   "source": [
    "cat Vagrantfile"
   ]
  },
  {
   "cell_type": "code",
   "execution_count": 22,
   "id": "a5b4c6d2-e242-4c0b-b881-2f11f4f7a68d",
   "metadata": {},
   "outputs": [
    {
     "name": "stdout",
     "output_type": "stream",
     "text": [
      "./Scripts\n"
     ]
    }
   ],
   "source": [
    "echo $SCRIPTS_DIR"
   ]
  },
  {
   "cell_type": "markdown",
   "id": "2b560cde-5cf3-44ec-a277-9b7ac1368698",
   "metadata": {},
   "source": [
    "Need to make bridge interface a variable. `enp0s3` for ubuntu 20 vb vm."
   ]
  },
  {
   "cell_type": "code",
   "execution_count": 30,
   "id": "b2200318-fe45-43ef-9183-f118ba9adc31",
   "metadata": {
    "tags": []
   },
   "outputs": [],
   "source": [
    "OS_INTERFACE=enp0s3\n",
    "mkdir -p tmp"
   ]
  },
  {
   "cell_type": "code",
   "execution_count": 59,
   "id": "83228219-9089-4542-be6a-027878f1deec",
   "metadata": {},
   "outputs": [
    {
     "name": "stdout",
     "output_type": "stream",
     "text": [
      "---\n",
      "- hosts: localhost #all #Specify host/group.\n",
      "  become: true\n",
      "  vars_files:\n",
      "    - /tmp/vars_setup_ubuntu.yml\n",
      "    #- vars/vars_setup_consul.yml\n",
      "  roles:\n",
      "    - base\n",
      "    - docker\n",
      "    #- consul\n",
      "    #- nomad\n",
      "  tasks:\n",
      "    - name: test shell\n",
      "      shell: |\n",
      "        hostname\n",
      "  #   - name: Create docker daemon file\n",
      "  #     template:\n",
      "  #       src: daemon.json.j2\n",
      "  #       dest: /etc/docker/daemon.json\n",
      "  #   - name: Enable and start docker service\n",
      "  #     service:\n",
      "  #       name: docker\n",
      "  #       state: restarted\n"
     ]
    }
   ],
   "source": [
    "cat ../hashistack-ansible/ansible/play_install_jupyter.yml"
   ]
  },
  {
   "cell_type": "code",
   "execution_count": 87,
   "id": "56ae60ca-a43f-4bd5-b490-3b58a5c809d6",
   "metadata": {
    "tags": []
   },
   "outputs": [
    {
     "name": "stdout",
     "output_type": "stream",
     "text": [
      "SCRIPTS_DIR=\"./Scripts\"\n",
      "Vagrant.configure(\"2\") do |config|\n",
      "  #==> Configure VM resources\n",
      "  config.vm.box = \"ubuntu/focal64\"\n",
      "  config.vm.provider :virtualbox do |vb|\n",
      "    vb.cpus = 2\n",
      "    vb.memory = 4096\n",
      "  end\n",
      "\n",
      "  N=3\n",
      "  # How many nodes do we want?\n",
      "  #==> 3-node - DC1\n",
      "  (1..1).each do |node|\n",
      "    config.vm.define \"dc1-s-#{node}\" do |s|\n",
      "      s.vm.host_name = \"dc1-s-#{node}\"\n",
      "      \n",
      "      s.vm.network \"private_network\", type: \"dhcp\"\n",
      "      s.vm.network \"forwarded_port\", guest: 8888, host: 8888, auto_correct: true\n",
      "      \n",
      "      # s.vm.network \"public_network\", bridge: \"enp0s3\",\n",
      "      #   use_dhcp_assigned_default_route: true,\n",
      "      #   ip: \"192.168.17.#{node+110}\"\n",
      "      \n",
      "      # if node == 1\n",
      "      #   # Expose the nomad ports\n",
      "      #   n.vm.network \"forwarded_port\", guest: 4646, host: 4646, auto_correct: true\n",
      "      # end\n",
      "      #==> Ansible Start\n",
      "      if node == 1\n",
      "        s.vm.provision \"ansible\" do |ansible|\n",
      "          # Disable default limit to connect to all the machines\n",
      "          ansible.limit = \"all\"\n",
      "          # ansible.playbook = \"playbook.yml\"\n",
      "          ansible.playbook = \"../../hashistack-ansible/ansible/play_install_jupyter.yml\"\n",
      "          ansible.groups = {\n",
      "            \"dc1_clients\" => [\"dc1-c-[1:2]\"],\n",
      "            \"all:vars\" => {\"arch\" => \"amd64\",\n",
      "            }\n",
      "          }\n",
      "        end\n",
      "      end\n",
      "    end\n",
      "  end\n",
      "end\n"
     ]
    }
   ],
   "source": [
    "tee tmp/Vagrantfile <<EOF\n",
    "SCRIPTS_DIR=\"${SCRIPTS_DIR}\"\n",
    "Vagrant.configure(\"2\") do |config|\n",
    "  #==> Configure VM resources\n",
    "  config.vm.box = \"ubuntu/focal64\"\n",
    "  config.vm.provider :virtualbox do |vb|\n",
    "    vb.cpus = 2\n",
    "    vb.memory = 4096\n",
    "  end\n",
    "\n",
    "  N=3\n",
    "  # How many nodes do we want?\n",
    "  #==> 3-node - DC1\n",
    "  (1..1).each do |node|\n",
    "    config.vm.define \"dc1-s-#{node}\" do |s|\n",
    "      s.vm.host_name = \"dc1-s-#{node}\"\n",
    "      \n",
    "      s.vm.network \"private_network\", type: \"dhcp\"\n",
    "      s.vm.network \"forwarded_port\", guest: 8889, host: 8888, auto_correct: true\n",
    "      \n",
    "      # s.vm.network \"public_network\", bridge: \"${OS_INTERFACE}\",\n",
    "      #   use_dhcp_assigned_default_route: true,\n",
    "      #   ip: \"192.168.17.#{node+110}\"\n",
    "      \n",
    "      # if node == 1\n",
    "      #   # Expose the nomad ports\n",
    "      #   n.vm.network \"forwarded_port\", guest: 4646, host: 4646, auto_correct: true\n",
    "      # end\n",
    "      #==> Ansible Start\n",
    "      if node == 1\n",
    "        s.vm.provision \"ansible\" do |ansible|\n",
    "          # Disable default limit to connect to all the machines\n",
    "          ansible.limit = \"all\"\n",
    "          # ansible.playbook = \"playbook.yml\"\n",
    "          ansible.playbook = \"../../hashistack-ansible/ansible/play_install_jupyter.yml\"\n",
    "          ansible.groups = {\n",
    "            \"dc1_clients\" => [\"dc1-c-[1:2]\"],\n",
    "            \"all:vars\" => {\"arch\" => \"amd64\",\n",
    "            }\n",
    "          }\n",
    "        end\n",
    "      end\n",
    "    end\n",
    "  end\n",
    "end\n",
    "EOF"
   ]
  },
  {
   "cell_type": "markdown",
   "id": "4692de67-4cc7-4f85-9413-d0bb550ddd12",
   "metadata": {},
   "source": [
    "* `autostart: false` - Tells Vagrant to not start specific machines.\n",
    "    * In example above, we start DC1 clusters automatically with `up`.\n",
    "    * Clients and DC2 we can start explicitly."
   ]
  },
  {
   "cell_type": "markdown",
   "id": "323d687c-105c-4377-84ec-c7a2ba672d99",
   "metadata": {},
   "source": [
    "Options\n",
    "* `config.vm.network \"public_network\", bridge: \"eno1\"`"
   ]
  },
  {
   "cell_type": "markdown",
   "id": "07b7f52a-cddd-4f8e-8a92-5bcf5dabbcda",
   "metadata": {},
   "source": [
    "## Run vagrant up with Ansible playbook"
   ]
  },
  {
   "cell_type": "markdown",
   "id": "8f6d0cf9-e006-4e79-a27a-b395d5dec62e",
   "metadata": {},
   "source": [
    "Start the environment. `--provision` tells Vagrant to provision even if the VM's are already up."
   ]
  },
  {
   "cell_type": "code",
   "execution_count": 156,
   "id": "bef42bf7-9810-4c6e-b9ef-0907049089fa",
   "metadata": {
    "tags": []
   },
   "outputs": [
    {
     "name": "stdout",
     "output_type": "stream",
     "text": [
      "/media/code/hc_demos-jupyter/tmp /media/code/hc_demos-jupyter\n",
      "[1] 78921\n",
      "/media/code/hc_demos-jupyter\n"
     ]
    }
   ],
   "source": [
    "# vagrant halt\n",
    "pushd tmp\n",
    "time vagrant up --provision > /tmp/vagrant_up.out 2>&1 &\n",
    "popd"
   ]
  },
  {
   "cell_type": "markdown",
   "id": "0257e9e3-96e4-4d84-ae29-4d846d1e4b29",
   "metadata": {},
   "source": [
    "Check on progress of `vagrant up`. Takes about 5 minutes."
   ]
  },
  {
   "cell_type": "code",
   "execution_count": 176,
   "id": "0946dded-04d8-4d72-a8f5-631d2754611f",
   "metadata": {},
   "outputs": [
    {
     "name": "stdout",
     "output_type": "stream",
     "text": [
      "changed: [dc1-s-1]\n",
      "\n",
      "TASK [base : Install base apps] ************************************************\n",
      "changed: [dc1-s-1] => (item=jq)\n",
      "ok: [dc1-s-1] => (item=git)\n",
      "changed: [dc1-s-1] => (item=tree)\n",
      "changed: [dc1-s-1] => (item=unzip)\n",
      "ok: [dc1-s-1] => (item=wget)\n",
      "ok: [dc1-s-1] => (item=curl)\n",
      "changed: [dc1-s-1] => (item=net-tools)\n"
     ]
    }
   ],
   "source": [
    "tail /tmp/vagrant_up.out"
   ]
  },
  {
   "cell_type": "markdown",
   "id": "d6202ed1-63b4-48c0-9c55-a5ffe5cb70e5",
   "metadata": {},
   "source": [
    "You can tail the log file from a different terminal.\n",
    "```shell\n",
    "tail -f /tmp/vagrant_up.out\n",
    "```"
   ]
  },
  {
   "cell_type": "code",
   "execution_count": null,
   "id": "a2c463c5-56d2-488d-ba9b-645732bf5c7a",
   "metadata": {},
   "outputs": [],
   "source": [
    "vagrant status\n",
    "pwd"
   ]
  },
  {
   "cell_type": "markdown",
   "id": "df18e5fa-4621-4312-9f68-9b0cc4cec5b8",
   "metadata": {},
   "source": [
    "### Verify that the VM's from DC1 are up"
   ]
  },
  {
   "cell_type": "code",
   "execution_count": 40,
   "id": "b4306b23-d2c1-4593-bb16-42708485a34b",
   "metadata": {
    "tags": []
   },
   "outputs": [
    {
     "name": "stdout",
     "output_type": "stream",
     "text": [
      "/media/code/hc_demos-jupyter/tmp /media/code/hc_demos-jupyter\n",
      "\u001b[7;31mdc1-s-1\u001b[0m\n",
      "\u001b[7;32m#==> Show interfaces\u001b[0m\n",
      "1:lo:\n",
      "inet127.0.0.1/8\n",
      "2:enp0s3:\n",
      "inet10.0.2.15/24\n",
      "3:enp0s8:\n",
      "inet192.168.17.111/24\n",
      "\u001b[7;32m#==> Show Hashi Versions\u001b[0m\n",
      "bash: line 5: consul: command not found\n",
      "bash: line 5: nomad: command not found\n",
      "bash: line 5: vault: command not found\n",
      "\n",
      "/media/code/hc_demos-jupyter\n"
     ]
    }
   ],
   "source": [
    "pushd tmp\n",
    "for i in {1..1}; do\n",
    "vagrant ssh dc1-s-${i} -- bash <<\"EOF\"\n",
    "printf \"\\033[7;31m$(hostname)\\033[0m\\n\"\n",
    "printf \"\\033[7;32m#==> Show interfaces\\033[0m\\n\"\n",
    "ip a | grep -E \"UP|inet \" | awk '{print $1 $2}'\n",
    "printf \"\\033[7;32m#==> Show Hashi Versions\\033[0m\\n\"\n",
    "consul version | head -n 1; nomad version; vault version\n",
    "echo\n",
    "EOF\n",
    "done\n",
    "popd"
   ]
  },
  {
   "cell_type": "code",
   "execution_count": null,
   "id": "9509a198-ae59-4729-8c61-5111787b9da6",
   "metadata": {},
   "outputs": [],
   "source": [
    "for i in {1..3}; do\n",
    "vagrant ssh dc2-s-${i} -- bash <<EOF\n",
    "hostname\n",
    "ip a\n",
    "EOF\n",
    "done"
   ]
  },
  {
   "cell_type": "markdown",
   "id": "52f714ef-c28d-4abc-b49e-825edde4e297",
   "metadata": {},
   "source": [
    "## Auto-generated Ansible Inventory"
   ]
  },
  {
   "cell_type": "markdown",
   "id": "bf57cf64-d194-49b3-9d35-9e248190eb52",
   "metadata": {},
   "source": [
    "Vagrant generates an Ansible inventory file encompassing all of the virtual machines it manages and uses it for provisioning machines."
   ]
  },
  {
   "cell_type": "markdown",
   "id": "30e7a15f-8d37-4c5c-83a4-26e894bb1ad9",
   "metadata": {},
   "source": [
    "**Example with the ansible provisioner**\n",
    "\n",
    "```shell\n",
    "# Generated by Vagrant\n",
    "\n",
    "default ansible_host=127.0.0.1 ansible_port=2200 ansible_user='vagrant' ansible_ssh_private_key_file='/home/.../.vagrant/machines/default/virtualbox/private_key'\n",
    "```"
   ]
  },
  {
   "cell_type": "code",
   "execution_count": null,
   "id": "9c5877a6-d346-44da-b624-63039468f371",
   "metadata": {},
   "outputs": [],
   "source": [
    "cat .vagrant/provisioners/ansible/inventory/vagrant_ansible_inventory"
   ]
  },
  {
   "cell_type": "markdown",
   "id": "5c534f22-89bc-4f14-8d50-92117ec3fc53",
   "metadata": {},
   "source": [
    "NOTE: The generated inventory file is stored as part of your local Vagrant environment in `.vagrant/provisioners/ansible/inventory/vagrant_ansible_inventory`."
   ]
  },
  {
   "cell_type": "markdown",
   "id": "6b054a31-9aac-4fe3-ba15-a066aba91f7d",
   "metadata": {},
   "source": [
    "## Run Ansible manually"
   ]
  },
  {
   "cell_type": "markdown",
   "id": "7dd21b28-9373-4c65-afe8-e433a2a6d026",
   "metadata": {},
   "source": [
    "For testing, you could run Ansible separately from Vagrant. We will point to the inventory file created by Vagrant."
   ]
  },
  {
   "cell_type": "markdown",
   "id": "76655244-63aa-4c85-a497-89fe601acc45",
   "metadata": {},
   "source": [
    "Create Ansible configuration file that tells ansible not to SSH host key checking."
   ]
  },
  {
   "cell_type": "code",
   "execution_count": null,
   "id": "2f3772ee-3863-428d-8749-183aa48ac10f",
   "metadata": {},
   "outputs": [],
   "source": [
    "cat > ansible.cfg <<EOF\n",
    "[defaults]\n",
    "host_key_checking = no\n",
    "EOF"
   ]
  },
  {
   "cell_type": "markdown",
   "id": "cadc2fb2-fbbc-43ee-b615-de19eadc194e",
   "metadata": {},
   "source": [
    "### Perform a dry run of Ansible."
   ]
  },
  {
   "cell_type": "code",
   "execution_count": null,
   "id": "b31547d2-7f51-490a-9e8b-51d54839ccca",
   "metadata": {
    "tags": []
   },
   "outputs": [],
   "source": [
    "ansible-playbook -C \\\n",
    "  -i .vagrant/provisioners/ansible/inventory/vagrant_ansible_inventory \\\n",
    "  ../../../hashistack-ansible/ansible/play_jupyter.yml"
   ]
  },
  {
   "cell_type": "markdown",
   "id": "fcb31970-25c1-41f9-ad0a-1438027b0e4a",
   "metadata": {},
   "source": [
    "### Perform an actual run of Ansible."
   ]
  },
  {
   "cell_type": "code",
   "execution_count": 42,
   "id": "164b3fea-d01d-4028-a295-64b30cdcd123",
   "metadata": {},
   "outputs": [
    {
     "name": "stdout",
     "output_type": "stream",
     "text": [
      "total 364\n",
      "drwx------ 1 pephan pephan   4096 May 27 11:46 \u001b[0m\u001b[01;34m.\u001b[0m\n",
      "drwxr-xr-x 1 pephan pephan   4096 May 27  2022 \u001b[01;34m..\u001b[0m\n",
      "-rwx------ 1 pephan pephan    328 Jul  8  2021 \u001b[01;32madmin-1.token\u001b[0m\n",
      "drwx------ 1 pephan pephan   4096 Dec 22 14:12 \u001b[01;34mconfig\u001b[0m\n",
      "drwx------ 1 pephan pephan   4096 Dec 22 14:13 \u001b[01;34mis-terraform-aws-tfe-standalone-20210603\u001b[0m\n",
      "-rwx------ 1 pephan pephan 336218 Jun  3  2021 \u001b[01;32mis-terraform-aws-tfe-standalone-20210603.zip\u001b[0m\n",
      "-rwx------ 1 pephan pephan      0 Jul  8  2021 \u001b[01;32mrenewable-admin.token\u001b[0m\n",
      "drwxrwxr-x 1 pephan pephan   4096 May 27 12:20 \u001b[01;34m.vagrant\u001b[0m\n",
      "-rw-rw-r-- 1 pephan pephan   1166 May 27 12:20 Vagrantfile\n",
      "-rw-rw-r-- 1 pephan pephan   1128 May 27 11:36 vars_setup_ubuntu.yml\n"
     ]
    }
   ],
   "source": [
    "ls -al tmp/"
   ]
  },
  {
   "cell_type": "code",
   "execution_count": 110,
   "id": "16c397ef-8f3f-4750-94b1-6492a9105408",
   "metadata": {},
   "outputs": [
    {
     "name": "stdout",
     "output_type": "stream",
     "text": [
      "/media/code/hc_demos-jupyter\n",
      "total 12\n",
      "drwxrwxr-x 1 pephan pephan 4096 May 27 12:20 \u001b[0m\u001b[01;34m.\u001b[0m\n",
      "drwxrwxr-x 1 pephan pephan 4096 May 27 14:15 \u001b[01;34m..\u001b[0m\n",
      "drwxrwxr-x 1 pephan pephan 4096 May 27 12:20 \u001b[01;34mdc1-s-1\u001b[0m\n",
      "# Generated by Vagrant\n",
      "\n",
      "dc1-s-1 ansible_host=127.0.0.1 ansible_port=2222 ansible_user='vagrant' ansible_ssh_private_key_file='/media/code/hc_demos-jupyter/tmp/.vagrant/machines/dc1-s-1/virtualbox/private_key'\n",
      "\n",
      "[dc1_clients]\n",
      "dc1-c-[1:2]\n",
      "\n",
      "[all:vars]\n",
      "arch=amd64\n"
     ]
    }
   ],
   "source": [
    "pwd\n",
    "ls -al tmp/.vagrant/machines\n",
    "cat tmp/.vagrant/provisioners/ansible/inventory/vagrant_ansible_inventory"
   ]
  },
  {
   "cell_type": "code",
   "execution_count": 70,
   "id": "88d671a3-51d4-4a93-b646-2ef2d389ae2d",
   "metadata": {},
   "outputs": [],
   "source": [
    "cd ../hashistack-ansible/ansible/"
   ]
  },
  {
   "cell_type": "code",
   "execution_count": 69,
   "id": "69b8cae7-b64c-44d6-ae24-9904f74d8771",
   "metadata": {},
   "outputs": [
    {
     "name": "stdout",
     "output_type": "stream",
     "text": [
      "/media/code/hc_demos-jupyter\n"
     ]
    }
   ],
   "source": [
    "cd -"
   ]
  },
  {
   "cell_type": "code",
   "execution_count": 142,
   "id": "ac10e5f9-9bcc-4180-9093-ab7a57bd5499",
   "metadata": {
    "tags": []
   },
   "outputs": [
    {
     "name": "stdout",
     "output_type": "stream",
     "text": [
      "/media/code/hashistack-ansible/ansible /media/code/hc_demos-jupyter\n",
      "\u001b[0;34mUsing /media/code/hashistack-ansible/ansible/ansible.cfg as config file\u001b[0m\n",
      "\n",
      "PLAY [dc1-s-1] *****************************************************************\n",
      "\n",
      "TASK [Gathering Facts] *********************************************************\n",
      "\u001b[0;32mok: [dc1-s-1]\u001b[0m\n",
      "\n",
      "TASK [Start JupyterLab] ********************************************************\n",
      "\u001b[0;33mchanged: [dc1-s-1] => {\"changed\": true, \"cmd\": \"export PATH=\\\"$HOME/.local/bin:$PATH\\\"\\nnohup /home/vagrant/.local/bin/jupyter lab --ip=0.0.0.0 --port=8888 --no-browser --notebook-dir=/home/vagrant >> /tmp/jupyterlab.out 2>&1 &\\n\", \"delta\": \"0:00:00.048263\", \"end\": \"2022-05-28 01:30:42.830972\", \"msg\": \"\", \"rc\": 0, \"start\": \"2022-05-28 01:30:42.782709\", \"stderr\": \"\", \"stderr_lines\": [], \"stdout\": \"\", \"stdout_lines\": []}\u001b[0m\n",
      "\n",
      "PLAY RECAP *********************************************************************\n",
      "\u001b[0;33mdc1-s-1\u001b[0m                    : \u001b[0;32mok=2   \u001b[0m \u001b[0;33mchanged=1   \u001b[0m unreachable=0    failed=0    skipped=0    rescued=0    ignored=0   \n",
      "\n",
      "/media/code/hc_demos-jupyter\n"
     ]
    }
   ],
   "source": [
    "pushd ../hashistack-ansible/ansible\n",
    "ansible-playbook -v \\\n",
    "  -i /media/code/hc_demos-jupyter/tmp/.vagrant/provisioners/ansible/inventory/vagrant_ansible_inventory \\\n",
    "  play_install_jupyter.yml\n",
    "popd\n",
    "# ansible-playbook -v \\\n",
    "#   -i /media/code/hc_demos-jupyter/tmp/.vagrant/provisioners/ansible/inventory/vagrant_ansible_inventory \\\n",
    "#   /media/code/hashistack-ansible/ansible/play_install_jupyter.yml"
   ]
  },
  {
   "cell_type": "markdown",
   "id": "3132d889-15fe-4a16-a76a-d7d826a74431",
   "metadata": {},
   "source": [
    "View ansible logs."
   ]
  },
  {
   "cell_type": "code",
   "execution_count": null,
   "id": "75951011-9715-476e-9f0e-eda5fc94ceda",
   "metadata": {},
   "outputs": [],
   "source": [
    "tail -f /tmp/ansible.log"
   ]
  },
  {
   "cell_type": "code",
   "execution_count": 151,
   "id": "029a6cd8-9d7b-4cf7-9988-1a871eab5c53",
   "metadata": {},
   "outputs": [
    {
     "name": "stdout",
     "output_type": "stream",
     "text": [
      "/media/code/hc_demos-jupyter/tmp /media/code/hc_demos-jupyter\n",
      "\n",
      "\n",
      "#==> Grab the token from the following output.\n",
      "    Or copy and paste one of these URLs:\n",
      "        http://dc1-s-1:8888/lab?token=25a7e944d55cc2ee978a6d481e1c697ddc452b7d1fb49c3c\n",
      "     or http://127.0.0.1:8888/lab?token=25a7e944d55cc2ee978a6d481e1c697ddc452b7d1fb49c3c\n",
      "/media/code/hc_demos-jupyter\n"
     ]
    }
   ],
   "source": [
    "pushd tmp\n",
    "vagrant ssh dc1-s-1 -- sh <<EOF\n",
    "#tail /tmp/ansible.out\n",
    "printf \"\\n\\n#==> Grab the token from the following output.\\n\"\n",
    "tail /tmp/jupyterlab.out | grep -A2 URLs\n",
    "EOF\n",
    "popd"
   ]
  },
  {
   "cell_type": "markdown",
   "id": "7f39ec14-4464-42e0-8934-6a827a60d6a4",
   "metadata": {},
   "source": [
    "### Connect to JupyterLab"
   ]
  },
  {
   "cell_type": "markdown",
   "id": "c99b1ed9-cdae-41d1-a2eb-05f91bba4a38",
   "metadata": {},
   "source": [
    "Connect to http://localhost:8888/lab?token=<your_token\\>"
   ]
  },
  {
   "cell_type": "markdown",
   "id": "34b5cdfc-49d9-4a50-876c-a0bc47905873",
   "metadata": {},
   "source": [
    "# Clean Up"
   ]
  },
  {
   "cell_type": "markdown",
   "id": "a048bee9-2547-4659-8c24-07671e3827f9",
   "metadata": {},
   "source": [
    "Destroy all the Vagrant VM's without confirming."
   ]
  },
  {
   "cell_type": "code",
   "execution_count": 152,
   "id": "861b1706-d959-4b91-83eb-39327598c61b",
   "metadata": {},
   "outputs": [
    {
     "name": "stdout",
     "output_type": "stream",
     "text": [
      "/media/code/hc_demos-jupyter/tmp /media/code/hc_demos-jupyter\n",
      "\u001b[1m==> dc1-s-1: Forcing shutdown of VM...\u001b[0m\n",
      "\u001b[1m==> dc1-s-1: Destroying VM and associated drives...\u001b[0m\n",
      "/media/code/hc_demos-jupyter\n"
     ]
    }
   ],
   "source": [
    "pushd tmp\n",
    "vagrant destroy -f\n",
    "popd"
   ]
  },
  {
   "cell_type": "markdown",
   "id": "0af607c2-4bf3-4681-83cb-40c0cbdd7424",
   "metadata": {},
   "source": [
    "optional - Uninstall VirtualBox."
   ]
  },
  {
   "cell_type": "code",
   "execution_count": null,
   "id": "a4d4eaea-111b-470e-b9b3-02068c39421b",
   "metadata": {},
   "outputs": [],
   "source": [
    "sudo apt -y remove virtualbox virtualbox-*"
   ]
  },
  {
   "cell_type": "markdown",
   "id": "116656c1-a320-45a8-948c-b4f0f90eca71",
   "metadata": {},
   "source": [
    "# References"
   ]
  },
  {
   "cell_type": "markdown",
   "id": "e83e8aec-3f6d-4f0f-af11-814f29b9e452",
   "metadata": {},
   "source": [
    "* Ansible - https://www.vagrantup.com/docs/provisioning/ansible\n",
    "    * Ansible Local Provisioner https://www.vagrantup.com/docs/provisioning/ansible_local\n",
    "* [Building a HashiCorp Nomad Cluster Lab using Vagrant and VirtualBox](https://discoposse.com/2019/11/21/building-a-hashicorp-nomad-cluster-lab-using-vagrant-and-virtualbox/)\n",
    "* Nomad Vagrant Lab - https://github.com/discoposse/nomad-vagrant-lab\n",
    "* [DO Community - Ansible Playbooks](https://github.com/do-community/ansible-playbooks)\n"
   ]
  },
  {
   "cell_type": "markdown",
   "id": "e37399de-fbd6-4b04-9d70-291dd2a2e85e",
   "metadata": {},
   "source": [
    "## Time\n",
    "\n",
    "| task | time | comments |\n",
    "| --- | --- | --- |\n",
    "| install virtual box | minutes | on ubuntu vm\n",
    "| vagrant up | 5 minutes | from scratch"
   ]
  }
 ],
 "metadata": {
  "kernelspec": {
   "display_name": "Bash",
   "language": "bash",
   "name": "bash"
  },
  "language_info": {
   "codemirror_mode": "shell",
   "file_extension": ".sh",
   "mimetype": "text/x-sh",
   "name": "bash"
  }
 },
 "nbformat": 4,
 "nbformat_minor": 5
}
